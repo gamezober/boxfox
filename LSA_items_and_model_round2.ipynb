{
 "cells": [
  {
   "cell_type": "markdown",
   "metadata": {},
   "source": [
    "### LSA and Feature Engineering\n",
    "\n",
    "In this notebook, I really tried to do as much features extraction as possible. The \"processing and modeling\" notebook, is where I ran my first model. In this notebook I'm really trying to go back through my pipeline and focus on creating features that may or may not give me some kind of signal as to whether an order belongs to a returning customer or not. I also tried alittle bit of clustering at the end but realized that might need another project."
   ]
  },
  {
   "cell_type": "code",
   "execution_count": 1,
   "metadata": {
    "collapsed": true
   },
   "outputs": [],
   "source": [
    "import shopify\n",
    "import requests\n",
    "import re\n",
    "import json\n",
    "import pandas as pd\n",
    "from pandas.io.json import json_normalize\n",
    "import time\n",
    "import numpy as np\n",
    "import matplotlib.pyplot as plt\n",
    "import seaborn as sns\n",
    "import ast\n",
    "from urlparse import urlparse\n",
    "import datetime as dt\n",
    "from sklearn_pandas import DataFrameMapper, cross_val_score\n",
    "from sklearn.ensemble import GradientBoostingClassifier\n",
    "from sklearn.cross_validation import train_test_split\n",
    "from sklearn.pipeline import Pipeline\n",
    "from sklearn.naive_bayes import GaussianNB\n",
    "\n",
    "%matplotlib inline"
   ]
  },
  {
   "cell_type": "markdown",
   "metadata": {},
   "source": [
    "### Load Pre - Processed Data"
   ]
  },
  {
   "cell_type": "code",
   "execution_count": 2,
   "metadata": {
    "collapsed": false
   },
   "outputs": [
    {
     "name": "stderr",
     "output_type": "stream",
     "text": [
      "/Users/zober/anaconda2/lib/python2.7/site-packages/IPython/core/interactiveshell.py:2717: DtypeWarning: Columns (16,34,64,67,83,122,126) have mixed types. Specify dtype option on import or set low_memory=False.\n",
      "  interactivity=interactivity, compiler=compiler, result=result)\n"
     ]
    }
   ],
   "source": [
    "orders_df = pd.read_csv('orders_products.csv')\n",
    "orders_df.drop_duplicates(inplace=True)"
   ]
  },
  {
   "cell_type": "markdown",
   "metadata": {},
   "source": [
    "### Create New Target\n",
    "\n",
    "I was concerned that orders where the customer bought mutliple products their first time was helping the model cheat a little bit. So I redifine my targethere to only look at the minimum values of those products (e.g. minimum weight, minimum price)."
   ]
  },
  {
   "cell_type": "code",
   "execution_count": 4,
   "metadata": {
    "collapsed": false
   },
   "outputs": [
    {
     "data": {
      "text/html": [
       "<div>\n",
       "<table border=\"1\" class=\"dataframe\">\n",
       "  <thead>\n",
       "    <tr style=\"text-align: right;\">\n",
       "      <th></th>\n",
       "      <th>customer.id</th>\n",
       "      <th>min</th>\n",
       "      <th>nunique</th>\n",
       "      <th>target</th>\n",
       "    </tr>\n",
       "  </thead>\n",
       "  <tbody>\n",
       "    <tr>\n",
       "      <th>6182</th>\n",
       "      <td>5944946572</td>\n",
       "      <td>2017-03-20 22:59:24</td>\n",
       "      <td>1</td>\n",
       "      <td>False</td>\n",
       "    </tr>\n",
       "    <tr>\n",
       "      <th>6183</th>\n",
       "      <td>5945331724</td>\n",
       "      <td>2017-03-21 00:32:28</td>\n",
       "      <td>1</td>\n",
       "      <td>False</td>\n",
       "    </tr>\n",
       "    <tr>\n",
       "      <th>6184</th>\n",
       "      <td>5946224780</td>\n",
       "      <td>2017-03-21 03:39:14</td>\n",
       "      <td>1</td>\n",
       "      <td>False</td>\n",
       "    </tr>\n",
       "    <tr>\n",
       "      <th>6185</th>\n",
       "      <td>5953677900</td>\n",
       "      <td>2017-03-21 17:27:36</td>\n",
       "      <td>1</td>\n",
       "      <td>False</td>\n",
       "    </tr>\n",
       "    <tr>\n",
       "      <th>6186</th>\n",
       "      <td>5954703820</td>\n",
       "      <td>2017-03-21 17:53:59</td>\n",
       "      <td>1</td>\n",
       "      <td>False</td>\n",
       "    </tr>\n",
       "  </tbody>\n",
       "</table>\n",
       "</div>"
      ],
      "text/plain": [
       "      customer.id                 min  nunique target\n",
       "6182   5944946572 2017-03-20 22:59:24        1  False\n",
       "6183   5945331724 2017-03-21 00:32:28        1  False\n",
       "6184   5946224780 2017-03-21 03:39:14        1  False\n",
       "6185   5953677900 2017-03-21 17:27:36        1  False\n",
       "6186   5954703820 2017-03-21 17:53:59        1  False"
      ]
     },
     "execution_count": 4,
     "metadata": {},
     "output_type": "execute_result"
    }
   ],
   "source": [
    "\n",
    "\n",
    "orders_df['customer.id'] = orders_df['customer.id'].astype('int')\n",
    "orders_df['order_date'] = pd.to_datetime(orders_df['created_at'])\n",
    "target_df = orders_df.groupby(['customer.id']).agg({'order_date': ['min', 'nunique']}).reset_index()\n",
    "\n",
    "target_df['target'] = target_df['order_date']['nunique'] > 1\n",
    "target_df.columns = target_df.columns.get_level_values(1)\n",
    "target_df['customer.id'] = target_df.iloc[:,0]\n",
    "target_df['target'] = target_df.iloc[:,3]\n",
    "target_df = target_df[['customer.id', 'min', 'nunique', 'target']]\n",
    "target_df.tail()"
   ]
  },
  {
   "cell_type": "code",
   "execution_count": 5,
   "metadata": {
    "collapsed": false
   },
   "outputs": [
    {
     "data": {
      "text/plain": [
       "False    4659\n",
       "True     1528\n",
       "Name: target, dtype: int64"
      ]
     },
     "execution_count": 5,
     "metadata": {},
     "output_type": "execute_result"
    }
   ],
   "source": [
    "# Looking at the distribution of our target\n",
    "target_df.target.value_counts()"
   ]
  },
  {
   "cell_type": "code",
   "execution_count": 6,
   "metadata": {
    "collapsed": false
   },
   "outputs": [],
   "source": [
    "# Bring together features with newly defined target\n",
    "orders_products = pd.merge(orders_df, target_df, left_on=['customer.id', 'order_date'], right_on=['customer.id','min'])"
   ]
  },
  {
   "cell_type": "code",
   "execution_count": 9,
   "metadata": {
    "collapsed": false
   },
   "outputs": [
    {
     "data": {
      "text/plain": [
       "6875"
      ]
     },
     "execution_count": 9,
     "metadata": {},
     "output_type": "execute_result"
    }
   ],
   "source": [
    "len(orders_products)"
   ]
  },
  {
   "cell_type": "code",
   "execution_count": 11,
   "metadata": {
    "collapsed": false
   },
   "outputs": [],
   "source": [
    "from sklearn.feature_extraction.text import CountVectorizer\n",
    "from sklearn.feature_extraction.text import TfidfVectorizer\n",
    "from sklearn_pandas import DataFrameMapper\n",
    "from sklearn.preprocessing import LabelBinarizer\n",
    "from sklearn.preprocessing import StandardScaler\n",
    "from sklearn.decomposition import TruncatedSVD\n",
    "from sklearn.ensemble import RandomForestClassifier"
   ]
  },
  {
   "cell_type": "markdown",
   "metadata": {},
   "source": [
    "### Engineering Time related Features\n",
    "\n",
    "I used the customer-create date and product-create date, along with the month the Company was launched, to engineer some date features for my model. This includes the how long since the company started did they sign up, how long (in minutes) did it takeforthe customer to make their first purchase, and the month they purchased the order."
   ]
  },
  {
   "cell_type": "code",
   "execution_count": 13,
   "metadata": {
    "collapsed": true
   },
   "outputs": [],
   "source": [
    "orders_products['days_till_signup'] = (pd.to_datetime(orders_products['customer.created_at']) - pd.datetime(2014, 11, 01)).dt.days"
   ]
  },
  {
   "cell_type": "code",
   "execution_count": 14,
   "metadata": {
    "collapsed": true
   },
   "outputs": [],
   "source": [
    "orders_products['seconds_to_purchase'] = (pd.to_datetime(orders_products['processed_at']) - pd.to_datetime(orders_products['customer.created_at'])).dt.seconds"
   ]
  },
  {
   "cell_type": "code",
   "execution_count": 15,
   "metadata": {
    "collapsed": true
   },
   "outputs": [],
   "source": [
    "orders_products['month_of_purchase'] = pd.to_datetime(orders_products['processed_at']).dt.month"
   ]
  },
  {
   "cell_type": "markdown",
   "metadata": {},
   "source": [
    "Of all the 100 features from the three data sets, I now select the ones I want, plus the features I will later vectorize and use LSA on (items and message)."
   ]
  },
  {
   "cell_type": "code",
   "execution_count": 3,
   "metadata": {
    "collapsed": false
   },
   "outputs": [],
   "source": [
    "model_data = orders_products[['customer.id','buyer_accepts_marketing', 'payment_details.credit_card_company', 'referring_domain',\n",
    "                       'total_price', 'total_weight', 'discount_type', 'device', 'shipping_meth', 'items', 'message',\n",
    "                      'seconds_to_purchase', 'month_of_purchase', 'target']]\n",
    "\n",
    "model_data.drop_duplicates(inplace=True)"
   ]
  },
  {
   "cell_type": "code",
   "execution_count": 17,
   "metadata": {
    "collapsed": true
   },
   "outputs": [],
   "source": [
    "model_data = model_data.fillna({'customer.id': 0,\n",
    "                        'payment_details.credit_card_company': 'None',\n",
    "                        'discount_type': 'None',\n",
    "                        'referring_domain': 'None',\n",
    "                        'seconds_to_purchase': 0,\n",
    "                        'month_of_purchase': 0,\n",
    "                        'message': 'None',\n",
    "                        'items': 'None'\n",
    "               })\n",
    "\n",
    "model_data['shipping_meth'] = model_data['shipping_meth'].replace(['Free'], ['Other'])\n",
    "model_data['seconds_to_purchase'] = model_data['seconds_to_purchase']//60"
   ]
  },
  {
   "cell_type": "code",
   "execution_count": 21,
   "metadata": {
    "collapsed": false
   },
   "outputs": [
    {
     "data": {
      "text/html": [
       "<div>\n",
       "<table border=\"1\" class=\"dataframe\">\n",
       "  <thead>\n",
       "    <tr style=\"text-align: right;\">\n",
       "      <th></th>\n",
       "      <th>buyer_accepts_marketing</th>\n",
       "      <th>customer.id</th>\n",
       "      <th>device</th>\n",
       "      <th>discount_type</th>\n",
       "      <th>items</th>\n",
       "      <th>message</th>\n",
       "      <th>month_of_purchase</th>\n",
       "      <th>payment_details.credit_card_company</th>\n",
       "      <th>referring_domain</th>\n",
       "      <th>seconds_to_purchase</th>\n",
       "      <th>shipping_meth</th>\n",
       "      <th>target</th>\n",
       "      <th>total_price</th>\n",
       "      <th>total_weight</th>\n",
       "    </tr>\n",
       "  </thead>\n",
       "  <tbody>\n",
       "    <tr>\n",
       "      <th>0</th>\n",
       "      <td>False</td>\n",
       "      <td>5954703820</td>\n",
       "      <td>Mac</td>\n",
       "      <td>None</td>\n",
       "      <td>Bling Wipes ,  Compartes ,  Drybar ,  HAY ,  ...</td>\n",
       "      <td>Hi mama! I love you and hope you're recovering...</td>\n",
       "      <td>3</td>\n",
       "      <td>Visa</td>\n",
       "      <td>Google</td>\n",
       "      <td>5.0</td>\n",
       "      <td>Postmates</td>\n",
       "      <td>False</td>\n",
       "      <td>117.93</td>\n",
       "      <td>2268</td>\n",
       "    </tr>\n",
       "    <tr>\n",
       "      <th>1</th>\n",
       "      <td>False</td>\n",
       "      <td>5953677900</td>\n",
       "      <td>Mac</td>\n",
       "      <td>None</td>\n",
       "      <td>Compartes ,  Herbivore Botanicals ,  Rifle Pa...</td>\n",
       "      <td>Thank you Dr. DiNome for your expert hand and ...</td>\n",
       "      <td>3</td>\n",
       "      <td>Visa</td>\n",
       "      <td>Google</td>\n",
       "      <td>1.0</td>\n",
       "      <td>Postmates</td>\n",
       "      <td>False</td>\n",
       "      <td>96.73</td>\n",
       "      <td>2268</td>\n",
       "    </tr>\n",
       "    <tr>\n",
       "      <th>2</th>\n",
       "      <td>True</td>\n",
       "      <td>5946224780</td>\n",
       "      <td>Mac</td>\n",
       "      <td>None</td>\n",
       "      <td>BillyKirk ,  Everyman Jack ,  Izola ,  Rock C...</td>\n",
       "      <td>Two years down and forever to go. You are my f...</td>\n",
       "      <td>3</td>\n",
       "      <td>Mastercard</td>\n",
       "      <td>Google</td>\n",
       "      <td>2.0</td>\n",
       "      <td>USPS</td>\n",
       "      <td>False</td>\n",
       "      <td>113.00</td>\n",
       "      <td>2268</td>\n",
       "    </tr>\n",
       "    <tr>\n",
       "      <th>3</th>\n",
       "      <td>False</td>\n",
       "      <td>5945331724</td>\n",
       "      <td>PC</td>\n",
       "      <td>None</td>\n",
       "      <td>HAY ,  Mast Brothers ,  Voluspa</td>\n",
       "      <td>None</td>\n",
       "      <td>3</td>\n",
       "      <td>Visa</td>\n",
       "      <td>Google</td>\n",
       "      <td>10.0</td>\n",
       "      <td>USPS</td>\n",
       "      <td>False</td>\n",
       "      <td>41.00</td>\n",
       "      <td>2268</td>\n",
       "    </tr>\n",
       "    <tr>\n",
       "      <th>4</th>\n",
       "      <td>False</td>\n",
       "      <td>5941618124</td>\n",
       "      <td>Mac</td>\n",
       "      <td>None</td>\n",
       "      <td>Elizabeth W ,  HAY ,  Le Pens ,  Le Pens ,  R...</td>\n",
       "      <td>Happy Birthday Constance!\\n\\nWe love you and a...</td>\n",
       "      <td>3</td>\n",
       "      <td>American Express</td>\n",
       "      <td>Other</td>\n",
       "      <td>370.0</td>\n",
       "      <td>USPS</td>\n",
       "      <td>False</td>\n",
       "      <td>105.62</td>\n",
       "      <td>2268</td>\n",
       "    </tr>\n",
       "  </tbody>\n",
       "</table>\n",
       "</div>"
      ],
      "text/plain": [
       "  buyer_accepts_marketing  customer.id device discount_type  \\\n",
       "0                   False   5954703820    Mac          None   \n",
       "1                   False   5953677900    Mac          None   \n",
       "2                    True   5946224780    Mac          None   \n",
       "3                   False   5945331724     PC          None   \n",
       "4                   False   5941618124    Mac          None   \n",
       "\n",
       "                                               items  \\\n",
       "0   Bling Wipes ,  Compartes ,  Drybar ,  HAY ,  ...   \n",
       "1   Compartes ,  Herbivore Botanicals ,  Rifle Pa...   \n",
       "2   BillyKirk ,  Everyman Jack ,  Izola ,  Rock C...   \n",
       "3                   HAY ,  Mast Brothers ,  Voluspa    \n",
       "4   Elizabeth W ,  HAY ,  Le Pens ,  Le Pens ,  R...   \n",
       "\n",
       "                                             message  month_of_purchase  \\\n",
       "0  Hi mama! I love you and hope you're recovering...                  3   \n",
       "1  Thank you Dr. DiNome for your expert hand and ...                  3   \n",
       "2  Two years down and forever to go. You are my f...                  3   \n",
       "3                                               None                  3   \n",
       "4  Happy Birthday Constance!\\n\\nWe love you and a...                  3   \n",
       "\n",
       "  payment_details.credit_card_company referring_domain  seconds_to_purchase  \\\n",
       "0                                Visa           Google                  5.0   \n",
       "1                                Visa           Google                  1.0   \n",
       "2                          Mastercard           Google                  2.0   \n",
       "3                                Visa           Google                 10.0   \n",
       "4                    American Express            Other                370.0   \n",
       "\n",
       "  shipping_meth target  total_price  total_weight  \n",
       "0     Postmates  False       117.93          2268  \n",
       "1     Postmates  False        96.73          2268  \n",
       "2          USPS  False       113.00          2268  \n",
       "3          USPS  False        41.00          2268  \n",
       "4          USPS  False       105.62          2268  "
      ]
     },
     "execution_count": 21,
     "metadata": {},
     "output_type": "execute_result"
    }
   ],
   "source": [
    "multi_orders = list(model_data.groupby('customer.id').filter(lambda x: len(x) > 1)['customer.id'].unique())\n",
    "\n",
    "multiples = model_data[model_data['customer.id'].isin(multi_orders)]\n",
    "\n",
    "features_clean = model_data[~model_data['customer.id'].isin(multi_orders)]\n",
    "\n",
    "def row_concat(row):\n",
    "    return \"%s\" % ', '.join(row)\n",
    "\n",
    "multiples = multiples.groupby('customer.id', as_index=False).aggregate({'buyer_accepts_marketing': 'mean',\n",
    "                                            'payment_details.credit_card_company': lambda x: x.value_counts().index[0],\n",
    "                                            'referring_domain': lambda x: x.value_counts().index[0],\n",
    "                                            'total_price': 'min',\n",
    "                                            'total_weight': 'min',\n",
    "                                            'seconds_to_purchase': 'min',\n",
    "                                            'month_of_purchase': 'min',\n",
    "                                            'discount_type': lambda x: x.value_counts().index[0],\n",
    "                                            'device': lambda x: x.value_counts().index[0],\n",
    "                                            'shipping_meth': lambda x: x.value_counts().index[0],\n",
    "                                            'items': lambda x: row_concat(x),\n",
    "                                            'message': lambda x: row_concat(x),\n",
    "                                            'target': 'min'})\n",
    "\n",
    "model_data = pd.concat([features_clean, multiples]).reset_index(drop=True)\n",
    "model_data.head()"
   ]
  },
  {
   "cell_type": "code",
   "execution_count": 22,
   "metadata": {
    "collapsed": false
   },
   "outputs": [
    {
     "data": {
      "text/plain": [
       "<matplotlib.axes._subplots.AxesSubplot at 0x11cfb1e10>"
      ]
     },
     "execution_count": 22,
     "metadata": {},
     "output_type": "execute_result"
    },
    {
     "data": {
      "image/png": "[encoded data removed]",
      "text/plain": [
       "<matplotlib.figure.Figure at 0x11f8fc650>"
      ]
     },
     "metadata": {},
     "output_type": "display_data"
    }
   ],
   "source": [
    "model_data['seconds_to_purchase'].hist(range=(0,50))"
   ]
  },
  {
   "cell_type": "code",
   "execution_count": 842,
   "metadata": {
    "collapsed": false
   },
   "outputs": [
    {
     "data": {
      "text/plain": [
       "[<matplotlib.lines.Line2D at 0x196314c10>]"
      ]
     },
     "execution_count": 842,
     "metadata": {},
     "output_type": "execute_result"
    },
    {
     "data": {
      "image/png": "[encoded data removed]",
      "text/plain": [
       "<matplotlib.figure.Figure at 0x115e9c390>"
      ]
     },
     "metadata": {},
     "output_type": "display_data"
    }
   ],
   "source": [
    "plt.plot(lsa.explained_variance_ratio_, 'bo')"
   ]
  },
  {
   "cell_type": "code",
   "execution_count": 26,
   "metadata": {
    "collapsed": true
   },
   "outputs": [],
   "source": [
    "features = model_data[['customer.id','buyer_accepts_marketing', 'payment_details.credit_card_company', 'referring_domain',\n",
    "                       'total_price', 'total_weight', 'discount_type', 'device', 'shipping_meth', 'items', 'message',\n",
    "                      'seconds_to_purchase', 'month_of_purchase']]\n",
    "\n",
    "target = model_data['target']\n",
    "\n",
    "X_train, X_test, y_train, y_test = train_test_split(features, target, test_size = .3, random_state=42)"
   ]
  },
  {
   "cell_type": "code",
   "execution_count": null,
   "metadata": {
    "collapsed": true
   },
   "outputs": [],
   "source": [
    "def get_unique_items(series):\n",
    "    items = []\n",
    "    for row in series:\n",
    "        if pd.isnull(row) == True:\n",
    "            continue\n",
    "        else:\n",
    "            for r in row.split(','):\n",
    "                items.append(r)\n",
    "    return list(set(items))\n",
    "\n",
    "items = get_unique_items(features['items'])\n",
    "items = [i.strip(' ').lower() for i in items]\n",
    "items = list(set(items))"
   ]
  },
  {
   "cell_type": "code",
   "execution_count": 29,
   "metadata": {
    "collapsed": false
   },
   "outputs": [],
   "source": [
    "mapper = DataFrameMapper([\n",
    "        ('payment_details.credit_card_company', LabelBinarizer()),\n",
    "        ('buyer_accepts_marketing', LabelBinarizer()),\n",
    "        ('referring_domain', LabelBinarizer()),\n",
    "        ('discount_type', LabelBinarizer()),\n",
    "        ('device', LabelBinarizer()),\n",
    "        ('shipping_meth', LabelBinarizer()),\n",
    "        ('items', [TfidfVectorizer(vocabulary=items), TruncatedSVD(5)]),\n",
    "        ('message', [TfidfVectorizer(vocabulary=items), TruncatedSVD(10)]),\n",
    "        ('total_price', None),\n",
    "        ('total_weight', None),\n",
    "        ('seconds_to_purchase', None),\n",
    "        ('month_of_purchase', None)\n",
    "    ])\n",
    "\n",
    "mapper2 = DataFrameMapper([\n",
    "        ('payment_details.credit_card_company', LabelBinarizer()),\n",
    "        ('buyer_accepts_marketing', LabelBinarizer()),\n",
    "        ('referring_domain', LabelBinarizer()),\n",
    "        ('discount_type', LabelBinarizer()),\n",
    "        ('device', LabelBinarizer()),\n",
    "        ('shipping_meth', LabelBinarizer()),\n",
    "        ('items', [TfidfVectorizer(vocabulary=items), TruncatedSVD(5)]),\n",
    "        ('message', [TfidfVectorizer(vocabulary=items), TruncatedSVD(10)]),\n",
    "        ('total_price', None),\n",
    "        ('total_weight', None),\n",
    "        ('seconds_to_purchase', None),\n",
    "        ('month_of_purchase', None)\n",
    "    ], df_out=True)"
   ]
  },
  {
   "cell_type": "code",
   "execution_count": 30,
   "metadata": {
    "collapsed": false
   },
   "outputs": [],
   "source": [
    "mapper_df = mapper2.fit_transform(features)"
   ]
  },
  {
   "cell_type": "code",
   "execution_count": 31,
   "metadata": {
    "collapsed": true
   },
   "outputs": [],
   "source": [
    "pipe = Pipeline([\n",
    "    ('featurize', mapper),\n",
    "    ('rf', RandomForestClassifier(n_estimators=500, max_features='sqrt'))]\n",
    "    )"
   ]
  },
  {
   "cell_type": "code",
   "execution_count": 32,
   "metadata": {
    "collapsed": false
   },
   "outputs": [
    {
     "data": {
      "text/plain": [
       "Pipeline(steps=[('featurize', DataFrameMapper(default=False, df_out=False,\n",
       "        features=[('payment_details.credit_card_company', LabelBinarizer(neg_label=0, pos_label=1, sparse_output=False)), ('buyer_accepts_marketing', LabelBinarizer(neg_label=0, pos_label=1, sparse_output=False)), ('referring_domain',...n_jobs=1,\n",
       "            oob_score=False, random_state=None, verbose=0,\n",
       "            warm_start=False))])"
      ]
     },
     "execution_count": 32,
     "metadata": {},
     "output_type": "execute_result"
    }
   ],
   "source": [
    "pipe.fit(X_train, y_train.astype(int))"
   ]
  },
  {
   "cell_type": "code",
   "execution_count": 35,
   "metadata": {
    "collapsed": false
   },
   "outputs": [],
   "source": [
    "from sklearn.metrics import accuracy_score, precision_recall_curve, recall_score, precision_score, confusion_matrix"
   ]
  },
  {
   "cell_type": "code",
   "execution_count": 36,
   "metadata": {
    "collapsed": false
   },
   "outputs": [],
   "source": [
    "pred_prob = pipe.predict_proba(X_test)"
   ]
  },
  {
   "cell_type": "code",
   "execution_count": 37,
   "metadata": {
    "collapsed": false
   },
   "outputs": [],
   "source": [
    "prec, recall, thresh = precision_recall_curve(y_test, pred_prob[:,1])"
   ]
  },
  {
   "cell_type": "code",
   "execution_count": 38,
   "metadata": {
    "collapsed": false
   },
   "outputs": [
    {
     "data": {
      "text/plain": [
       "[<matplotlib.lines.Line2D at 0x12b6fbd50>]"
      ]
     },
     "execution_count": 38,
     "metadata": {},
     "output_type": "execute_result"
    },
    {
     "data": {
      "image/png": "[encoded data removed]",
      "text/plain": [
       "<matplotlib.figure.Figure at 0x1177f3bd0>"
      ]
     },
     "metadata": {},
     "output_type": "display_data"
    }
   ],
   "source": [
    "plt.plot(prec[0:-1], recall[0:-1])"
   ]
  },
  {
   "cell_type": "code",
   "execution_count": 567,
   "metadata": {
    "collapsed": false
   },
   "outputs": [],
   "source": [
    "API_KEY = \"\"\n",
    "PASSWORD = \"\"\n",
    "shop_url = \"https://%s:%s@boxfox.myshopify.com/admin/\" % (API_KEY, PASSWORD)\n",
    "shopify.ShopifyResource.set_site(shop_url)"
   ]
  },
  {
   "cell_type": "code",
   "execution_count": 147,
   "metadata": {
    "collapsed": true
   },
   "outputs": [],
   "source": [
    "import ml_insights as mli"
   ]
  },
  {
   "cell_type": "code",
   "execution_count": 851,
   "metadata": {
    "collapsed": false
   },
   "outputs": [
    {
     "data": {
      "text/plain": [
       "array([ 0.368,  0.116,  0.192, ...,  0.13 ,  0.288,  0.134])"
      ]
     },
     "execution_count": 851,
     "metadata": {},
     "output_type": "execute_result"
    }
   ],
   "source": [
    "pred_prob[:,1][np.where(pred_prob[:,1] < .4)]"
   ]
  },
  {
   "cell_type": "code",
   "execution_count": 39,
   "metadata": {
    "collapsed": false
   },
   "outputs": [
    {
     "data": {
      "text/plain": [
       "<matplotlib.text.Text at 0x1177864d0>"
      ]
     },
     "execution_count": 39,
     "metadata": {},
     "output_type": "execute_result"
    },
    {
     "data": {
      "image/png": "[encoded data removed]",
      "text/plain": [
       "<matplotlib.figure.Figure at 0x12b73bcd0>"
      ]
     },
     "metadata": {},
     "output_type": "display_data"
    }
   ],
   "source": [
    "plt.hist(pred_prob[:, 1], bins = 20, color= 'grey')\n",
    "plt.xlabel('Likelihood of Returning Customer')\n",
    "plt.ylabel('Customers')\n",
    "plt.ylim(0, 250)\n",
    "plt.title('Model Prediction Histogram')"
   ]
  },
  {
   "cell_type": "code",
   "execution_count": 852,
   "metadata": {
    "collapsed": false
   },
   "outputs": [],
   "source": [
    "\n",
    "more = X_test.iloc[np.where(pred_prob[:,1] >= .40)]\n",
    "less = X_test.iloc[np.where(pred_prob[:,1] < .10)]"
   ]
  },
  {
   "cell_type": "code",
   "execution_count": 143,
   "metadata": {
    "collapsed": false
   },
   "outputs": [
    {
     "data": {
      "text/plain": [
       "12    32.518337\n",
       "2     30.073350\n",
       "1     22.004890\n",
       "3     12.469438\n",
       "11     2.933985\n",
       "Name: month_of_purchase, dtype: float64"
      ]
     },
     "execution_count": 143,
     "metadata": {},
     "output_type": "execute_result"
    }
   ],
   "source": [
    "100 * less['month_of_purchase'].value_counts()/len(less['month_of_purchase'])"
   ]
  },
  {
   "cell_type": "code",
   "execution_count": 140,
   "metadata": {
    "collapsed": false
   },
   "outputs": [
    {
     "data": {
      "text/plain": [
       "74.95671140939594"
      ]
     },
     "execution_count": 140,
     "metadata": {},
     "output_type": "execute_result"
    }
   ],
   "source": [
    "more['total_price'].mean()"
   ]
  },
  {
   "cell_type": "code",
   "execution_count": 128,
   "metadata": {
    "collapsed": false
   },
   "outputs": [
    {
     "name": "stdout",
     "output_type": "stream",
     "text": [
      "88.1205623472\n",
      "74.9567114094\n",
      "80.9769258122\n"
     ]
    }
   ],
   "source": [
    "print(less['total_price'].mean())\n",
    "print(more['total_price'].mean())\n",
    "print(features['total_price'].mean())"
   ]
  },
  {
   "cell_type": "code",
   "execution_count": 297,
   "metadata": {
    "collapsed": false
   },
   "outputs": [
    {
     "data": {
      "text/plain": [
       "12    0.153796\n",
       "11    0.103403\n",
       "8     0.100785\n",
       "2     0.100131\n",
       "3     0.096204\n",
       "7     0.080497\n",
       "9     0.074607\n",
       "4     0.072644\n",
       "10    0.067408\n",
       "5     0.056283\n",
       "6     0.049738\n",
       "1     0.044503\n",
       "Name: month_of_purchase, dtype: float64"
      ]
     },
     "execution_count": 297,
     "metadata": {},
     "output_type": "execute_result"
    }
   ],
   "source": [
    "model_data.loc[model_data['target'] == 1,\n",
    "               'month_of_purchase'].value_counts() /model_data[model_data['target'] == 1].shape[0]"
   ]
  },
  {
   "cell_type": "code",
   "execution_count": 296,
   "metadata": {
    "collapsed": false
   },
   "outputs": [
    {
     "data": {
      "text/plain": [
       "12    0.156042\n",
       "2     0.142734\n",
       "3     0.101095\n",
       "11    0.092724\n",
       "1     0.091221\n",
       "8     0.085855\n",
       "9     0.076841\n",
       "10    0.074694\n",
       "4     0.055162\n",
       "5     0.048508\n",
       "7     0.047435\n",
       "6     0.027688\n",
       "Name: month_of_purchase, dtype: float64"
      ]
     },
     "execution_count": 296,
     "metadata": {},
     "output_type": "execute_result"
    }
   ],
   "source": [
    "model_data.loc[model_data['target'] == 0,\n",
    "               'month_of_purchase'].value_counts() / model_data[model_data['target'] == 0].shape[0]"
   ]
  },
  {
   "cell_type": "code",
   "execution_count": 290,
   "metadata": {
    "collapsed": false
   },
   "outputs": [
    {
     "data": {
      "text/plain": [
       "6187"
      ]
     },
     "execution_count": 290,
     "metadata": {},
     "output_type": "execute_result"
    }
   ],
   "source": [
    "len(features['month_of_purchase'])"
   ]
  },
  {
   "cell_type": "code",
   "execution_count": 293,
   "metadata": {
    "collapsed": false
   },
   "outputs": [
    {
     "data": {
      "text/plain": [
       "2     35.570470\n",
       "12    28.859060\n",
       "1     20.134228\n",
       "3     12.080537\n",
       "11     3.355705\n",
       "Name: month_of_purchase, dtype: float64"
      ]
     },
     "execution_count": 293,
     "metadata": {},
     "output_type": "execute_result"
    }
   ],
   "source": [
    "100 * more['month_of_purchase'].value_counts() / len(more['month_of_purchase'])"
   ]
  },
  {
   "cell_type": "code",
   "execution_count": 292,
   "metadata": {
    "collapsed": false
   },
   "outputs": [
    {
     "data": {
      "text/plain": [
       "12    15.548731\n",
       "2     13.221270\n",
       "3      9.988686\n",
       "11     9.536124\n",
       "8      8.954259\n",
       "1      7.968321\n",
       "9      7.628899\n",
       "10     7.289478\n",
       "4      5.947955\n",
       "7      5.560045\n",
       "5      5.042832\n",
       "6      3.313399\n",
       "Name: month_of_purchase, dtype: float64"
      ]
     },
     "execution_count": 292,
     "metadata": {},
     "output_type": "execute_result"
    }
   ],
   "source": [
    "100 * features['month_of_purchase'].value_counts() / len(features['month_of_purchase'])"
   ]
  },
  {
   "cell_type": "code",
   "execution_count": 787,
   "metadata": {
    "collapsed": false
   },
   "outputs": [
    {
     "data": {
      "text/html": [
       "<div>\n",
       "<table border=\"1\" class=\"dataframe\">\n",
       "  <thead>\n",
       "    <tr style=\"text-align: right;\">\n",
       "      <th></th>\n",
       "      <th>customer.id</th>\n",
       "      <th>buyer_accepts_marketing</th>\n",
       "      <th>payment_details.credit_card_company</th>\n",
       "      <th>referring_domain</th>\n",
       "      <th>total_price</th>\n",
       "      <th>total_weight</th>\n",
       "      <th>discount_type</th>\n",
       "      <th>device</th>\n",
       "      <th>shipping_meth</th>\n",
       "      <th>items</th>\n",
       "      <th>message</th>\n",
       "      <th>seconds_to_purchase</th>\n",
       "      <th>month_of_purchase</th>\n",
       "    </tr>\n",
       "  </thead>\n",
       "  <tbody>\n",
       "    <tr>\n",
       "      <th>5322</th>\n",
       "      <td>1506366403</td>\n",
       "      <td>False</td>\n",
       "      <td>Visa</td>\n",
       "      <td>Facebook</td>\n",
       "      <td>60.75</td>\n",
       "      <td>454</td>\n",
       "      <td>None</td>\n",
       "      <td>Mac</td>\n",
       "      <td>USPS</td>\n",
       "      <td>Bling Wipes,  Hammond's ,  Kate Spade ,  Le P...</td>\n",
       "      <td>Happy Birthday Mom, I made this box full of li...</td>\n",
       "      <td>2.0</td>\n",
       "      <td>10</td>\n",
       "    </tr>\n",
       "    <tr>\n",
       "      <th>926</th>\n",
       "      <td>5314869772</td>\n",
       "      <td>True</td>\n",
       "      <td>American Express</td>\n",
       "      <td>Google</td>\n",
       "      <td>70.50</td>\n",
       "      <td>454</td>\n",
       "      <td>percentage</td>\n",
       "      <td>PC</td>\n",
       "      <td>USPS</td>\n",
       "      <td>Bling Wipes,  Drybar ,  Le Pens ,  Rifle Pape...</td>\n",
       "      <td>Chelsie Belsie,\\n\\nHappy Happy Birthday, my si...</td>\n",
       "      <td>1179.0</td>\n",
       "      <td>1</td>\n",
       "    </tr>\n",
       "    <tr>\n",
       "      <th>893</th>\n",
       "      <td>5627233804</td>\n",
       "      <td>True</td>\n",
       "      <td>American Express</td>\n",
       "      <td>Other</td>\n",
       "      <td>40.00</td>\n",
       "      <td>454</td>\n",
       "      <td>shipping</td>\n",
       "      <td>Mac</td>\n",
       "      <td>USPS</td>\n",
       "      <td>None</td>\n",
       "      <td>None</td>\n",
       "      <td>2.0</td>\n",
       "      <td>1</td>\n",
       "    </tr>\n",
       "    <tr>\n",
       "      <th>5223</th>\n",
       "      <td>1715193411</td>\n",
       "      <td>False</td>\n",
       "      <td>Visa</td>\n",
       "      <td>BoxFox</td>\n",
       "      <td>61.15</td>\n",
       "      <td>454</td>\n",
       "      <td>None</td>\n",
       "      <td>PC</td>\n",
       "      <td>USPS</td>\n",
       "      <td>Hammond's ,  Rose Macaron Limoge Trinket Tray...</td>\n",
       "      <td>take the time to celebrate you and everything ...</td>\n",
       "      <td>0.0</td>\n",
       "      <td>10</td>\n",
       "    </tr>\n",
       "    <tr>\n",
       "      <th>4410</th>\n",
       "      <td>2632123526</td>\n",
       "      <td>False</td>\n",
       "      <td>Visa</td>\n",
       "      <td>BoxFox</td>\n",
       "      <td>48.60</td>\n",
       "      <td>454</td>\n",
       "      <td>None</td>\n",
       "      <td>Mac</td>\n",
       "      <td>USPS</td>\n",
       "      <td>Ginger Beer,  Striped Straws ,  Sugarfina ,  ...</td>\n",
       "      <td>Matt &amp; Erin,\\n\\nI must be living under a rock,...</td>\n",
       "      <td>1.0</td>\n",
       "      <td>3</td>\n",
       "    </tr>\n",
       "  </tbody>\n",
       "</table>\n",
       "</div>"
      ],
      "text/plain": [
       "      customer.id buyer_accepts_marketing payment_details.credit_card_company  \\\n",
       "5322   1506366403                   False                                Visa   \n",
       "926    5314869772                    True                    American Express   \n",
       "893    5627233804                    True                    American Express   \n",
       "5223   1715193411                   False                                Visa   \n",
       "4410   2632123526                   False                                Visa   \n",
       "\n",
       "     referring_domain  total_price  total_weight discount_type device  \\\n",
       "5322         Facebook        60.75           454          None    Mac   \n",
       "926            Google        70.50           454    percentage     PC   \n",
       "893             Other        40.00           454      shipping    Mac   \n",
       "5223           BoxFox        61.15           454          None     PC   \n",
       "4410           BoxFox        48.60           454          None    Mac   \n",
       "\n",
       "     shipping_meth                                              items  \\\n",
       "5322          USPS   Bling Wipes,  Hammond's ,  Kate Spade ,  Le P...   \n",
       "926           USPS   Bling Wipes,  Drybar ,  Le Pens ,  Rifle Pape...   \n",
       "893           USPS                                               None   \n",
       "5223          USPS   Hammond's ,  Rose Macaron Limoge Trinket Tray...   \n",
       "4410          USPS   Ginger Beer,  Striped Straws ,  Sugarfina ,  ...   \n",
       "\n",
       "                                                message  seconds_to_purchase  \\\n",
       "5322  Happy Birthday Mom, I made this box full of li...                  2.0   \n",
       "926   Chelsie Belsie,\\n\\nHappy Happy Birthday, my si...               1179.0   \n",
       "893                                                None                  2.0   \n",
       "5223  take the time to celebrate you and everything ...                  0.0   \n",
       "4410  Matt & Erin,\\n\\nI must be living under a rock,...                  1.0   \n",
       "\n",
       "      month_of_purchase  \n",
       "5322                 10  \n",
       "926                   1  \n",
       "893                   1  \n",
       "5223                 10  \n",
       "4410                  3  "
      ]
     },
     "execution_count": 787,
     "metadata": {},
     "output_type": "execute_result"
    }
   ],
   "source": [
    "X_test.head()"
   ]
  },
  {
   "cell_type": "markdown",
   "metadata": {},
   "source": [
    "### Probability Distribution\n",
    "\n",
    "Let's look at the likelihood distribution of my test set. Then I'll create two groups, the people above the threshold where I had high precision, and the people below half of my baseline likelihood of .25."
   ]
  },
  {
   "cell_type": "code",
   "execution_count": 78,
   "metadata": {
    "collapsed": false
   },
   "outputs": [
    {
     "data": {
      "text/plain": [
       "(0, 200)"
      ]
     },
     "execution_count": 78,
     "metadata": {},
     "output_type": "execute_result"
    },
    {
     "data": {
      "image/png": "[encoded data removed]",
      "text/plain": [
       "<matplotlib.figure.Figure at 0x12e139390>"
      ]
     },
     "metadata": {},
     "output_type": "display_data"
    }
   ],
   "source": [
    "plt.hist(pred_prob[:,1], bins = 23, color = 'grey')\n",
    "plt.ylim(0,200)"
   ]
  },
  {
   "cell_type": "code",
   "execution_count": 141,
   "metadata": {
    "collapsed": false
   },
   "outputs": [],
   "source": [
    "more = features.iloc[np.where(pred_prob[:,1] >= .486)[0]]\n",
    "less = features.iloc[np.where(pred_prob[:,1] < .125)[0]]"
   ]
  },
  {
   "cell_type": "markdown",
   "metadata": {},
   "source": [
    "My most important feature was \"Total Price\", so I wanted to see how the distribution of total price compared between customers labeled as returning, and customers labeled as one time in my training set."
   ]
  },
  {
   "cell_type": "code",
   "execution_count": 303,
   "metadata": {
    "collapsed": true
   },
   "outputs": [],
   "source": [
    "returning_cust = model_data['target'] == 1\n",
    "one_time_cust = model_data['target'] == 0"
   ]
  },
  {
   "cell_type": "code",
   "execution_count": 309,
   "metadata": {
    "collapsed": false
   },
   "outputs": [
    {
     "data": {
      "text/plain": [
       "83.63443717277393"
      ]
     },
     "execution_count": 309,
     "metadata": {},
     "output_type": "execute_result"
    }
   ],
   "source": [
    "model_data.loc[returning_cust, 'total_price'].mean()"
   ]
  },
  {
   "cell_type": "code",
   "execution_count": 310,
   "metadata": {
    "collapsed": false
   },
   "outputs": [
    {
     "data": {
      "text/plain": [
       "80.10534878729536"
      ]
     },
     "execution_count": 310,
     "metadata": {},
     "output_type": "execute_result"
    }
   ],
   "source": [
    "model_data.loc[one_time_cust, 'total_price'].mean()"
   ]
  },
  {
   "cell_type": "code",
   "execution_count": 308,
   "metadata": {
    "collapsed": false
   },
   "outputs": [
    {
     "data": {
      "image/png": "[encoded data removed]",
      "text/plain": [
       "<matplotlib.figure.Figure at 0x12e602110>"
      ]
     },
     "metadata": {},
     "output_type": "display_data"
    }
   ],
   "source": [
    "plt.hist(model_data.loc[returning_cust, 'total_price'], bins = 30, range = (0,250), alpha = .4,normed=True)\n",
    "plt.hist(model_data.loc[one_time_cust, 'total_price'], bins = 30, range = (0,250), alpha = .4, normed=True);"
   ]
  },
  {
   "cell_type": "code",
   "execution_count": 287,
   "metadata": {
    "collapsed": false
   },
   "outputs": [
    {
     "data": {
      "text/plain": [
       "(0, 200)"
      ]
     },
     "execution_count": 287,
     "metadata": {},
     "output_type": "execute_result"
    },
    {
     "data": {
      "image/png": "[encoded data removed]",
      "text/plain": [
       "<matplotlib.figure.Figure at 0x1239c1410>"
      ]
     },
     "metadata": {},
     "output_type": "display_data"
    }
   ],
   "source": [
    "plt.hist(pred_prob[:,1][np.where(pred_prob[:,1] < .125)], bins=3, color = '#ffa07a')\n",
    "plt.hist(pred_prob[:,1][np.where((pred_prob[:,1] < .486) & (pred_prob[:,1] >= .125))], bins=10, color='#FFFFCC')\n",
    "plt.hist(pred_prob[:,1][np.where(pred_prob[:,1] >= .486)],bins= 13, color = '#20D9D3')\n",
    "plt.ylim(0, 200)"
   ]
  },
  {
   "cell_type": "markdown",
   "metadata": {},
   "source": [
    "### Feature Importances\n",
    "\n",
    "Looking at which features had the most important impact on my model, I was pleasantly surprised to see the result of my LSA in the top 10 features."
   ]
  },
  {
   "cell_type": "code",
   "execution_count": 154,
   "metadata": {
    "collapsed": false
   },
   "outputs": [
    {
     "data": {
      "text/plain": [
       "total_price                                             0.199479\n",
       "seconds_to_purchase                                     0.150344\n",
       "month_of_purchase                                       0.121787\n",
       "items_4                                                 0.045686\n",
       "items_3                                                 0.041900\n",
       "items_2                                                 0.041442\n",
       "items_1                                                 0.040780\n",
       "items_0                                                 0.040776\n",
       "buyer_accepts_marketing                                 0.031970\n",
       "payment_details.credit_card_company_Visa                0.022560\n",
       "device_PC                                               0.020277\n",
       "device_Mac                                              0.019822\n",
       "referring_domain_Google                                 0.019761\n",
       "total_weight                                            0.018719\n",
       "referring_domain_Other                                  0.017871\n",
       "payment_details.credit_card_company_Mastercard          0.017783\n",
       "payment_details.credit_card_company_American Express    0.016993\n",
       "referring_domain_BoxFox                                 0.016463\n",
       "discount_type_None                                      0.016139\n",
       "discount_type_shipping                                  0.016014\n",
       "message_0                                               0.014558\n",
       "shipping_meth_USPS                                      0.013435\n",
       "shipping_meth_Other                                     0.011388\n",
       "referring_domain_mydomaine                              0.005709\n",
       "shipping_meth_FedEx                                     0.004562\n",
       "payment_details.credit_card_company_Discover            0.004429\n",
       "shipping_meth_Local Pick-up                             0.004005\n",
       "referring_domain_instagram                              0.003967\n",
       "discount_type_percentage                                0.003793\n",
       "device_Android                                          0.002807\n",
       "referring_domain_Bing                                   0.002381\n",
       "referring_domain_Facebook                               0.001534\n",
       "referring_domain_Pinterest                              0.001505\n",
       "referring_domain_Glitter Guide                          0.001463\n",
       "referring_domain_Yahoo                                  0.001417\n",
       "payment_details.credit_card_company_None                0.001274\n",
       "discount_type_fixed_amount                              0.001071\n",
       "shipping_meth_UPS                                       0.000863\n",
       "referring_domain_Refinery 29                            0.000821\n",
       "shipping_meth_Postmates                                 0.000607\n",
       "device_Other                                            0.000587\n",
       "message_4                                               0.000379\n",
       "message_3                                               0.000321\n",
       "message_2                                               0.000307\n",
       "message_1                                               0.000252\n",
       "message_9                                               0.000000\n",
       "message_5                                               0.000000\n",
       "message_6                                               0.000000\n",
       "message_8                                               0.000000\n",
       "message_7                                               0.000000\n",
       "dtype: float64"
      ]
     },
     "execution_count": 154,
     "metadata": {},
     "output_type": "execute_result"
    }
   ],
   "source": [
    "pd.Series(index=mapper_df.columns, data=pipe.steps[-1][1].feature_importances_).sort_values(ascending=False)"
   ]
  },
  {
   "cell_type": "markdown",
   "metadata": {},
   "source": [
    "### Choosing a Threshold"
   ]
  },
  {
   "cell_type": "code",
   "execution_count": 43,
   "metadata": {
    "collapsed": false
   },
   "outputs": [],
   "source": [
    "pr_df = pd.DataFrame({'threshhold': thresh, 'precision': prec[0:-1], 'recall': recall[0:-1]}).sort_values(by='precision',\n",
    "            ascending=False)"
   ]
  },
  {
   "cell_type": "code",
   "execution_count": 44,
   "metadata": {
    "collapsed": false
   },
   "outputs": [
    {
     "data": {
      "text/html": [
       "<div>\n",
       "<table border=\"1\" class=\"dataframe\">\n",
       "  <thead>\n",
       "    <tr style=\"text-align: right;\">\n",
       "      <th></th>\n",
       "      <th>precision</th>\n",
       "      <th>recall</th>\n",
       "      <th>threshhold</th>\n",
       "    </tr>\n",
       "  </thead>\n",
       "  <tbody>\n",
       "    <tr>\n",
       "      <th>382</th>\n",
       "      <td>1.000000</td>\n",
       "      <td>0.002137</td>\n",
       "      <td>0.870000</td>\n",
       "    </tr>\n",
       "    <tr>\n",
       "      <th>381</th>\n",
       "      <td>0.500000</td>\n",
       "      <td>0.002137</td>\n",
       "      <td>0.830000</td>\n",
       "    </tr>\n",
       "    <tr>\n",
       "      <th>367</th>\n",
       "      <td>0.500000</td>\n",
       "      <td>0.019231</td>\n",
       "      <td>0.666000</td>\n",
       "    </tr>\n",
       "    <tr>\n",
       "      <th>369</th>\n",
       "      <td>0.500000</td>\n",
       "      <td>0.017094</td>\n",
       "      <td>0.672000</td>\n",
       "    </tr>\n",
       "    <tr>\n",
       "      <th>371</th>\n",
       "      <td>0.500000</td>\n",
       "      <td>0.014957</td>\n",
       "      <td>0.678000</td>\n",
       "    </tr>\n",
       "    <tr>\n",
       "      <th>368</th>\n",
       "      <td>0.470588</td>\n",
       "      <td>0.017094</td>\n",
       "      <td>0.668000</td>\n",
       "    </tr>\n",
       "    <tr>\n",
       "      <th>370</th>\n",
       "      <td>0.466667</td>\n",
       "      <td>0.014957</td>\n",
       "      <td>0.676000</td>\n",
       "    </tr>\n",
       "    <tr>\n",
       "      <th>372</th>\n",
       "      <td>0.461538</td>\n",
       "      <td>0.012821</td>\n",
       "      <td>0.682000</td>\n",
       "    </tr>\n",
       "    <tr>\n",
       "      <th>366</th>\n",
       "      <td>0.450000</td>\n",
       "      <td>0.019231</td>\n",
       "      <td>0.664000</td>\n",
       "    </tr>\n",
       "    <tr>\n",
       "      <th>359</th>\n",
       "      <td>0.448276</td>\n",
       "      <td>0.027778</td>\n",
       "      <td>0.632000</td>\n",
       "    </tr>\n",
       "    <tr>\n",
       "      <th>375</th>\n",
       "      <td>0.444444</td>\n",
       "      <td>0.008547</td>\n",
       "      <td>0.704000</td>\n",
       "    </tr>\n",
       "    <tr>\n",
       "      <th>358</th>\n",
       "      <td>0.433333</td>\n",
       "      <td>0.027778</td>\n",
       "      <td>0.630000</td>\n",
       "    </tr>\n",
       "    <tr>\n",
       "      <th>365</th>\n",
       "      <td>0.428571</td>\n",
       "      <td>0.019231</td>\n",
       "      <td>0.662000</td>\n",
       "    </tr>\n",
       "    <tr>\n",
       "      <th>355</th>\n",
       "      <td>0.424242</td>\n",
       "      <td>0.029915</td>\n",
       "      <td>0.624000</td>\n",
       "    </tr>\n",
       "    <tr>\n",
       "      <th>324</th>\n",
       "      <td>0.423529</td>\n",
       "      <td>0.076923</td>\n",
       "      <td>0.545138</td>\n",
       "    </tr>\n",
       "    <tr>\n",
       "      <th>326</th>\n",
       "      <td>0.421687</td>\n",
       "      <td>0.074786</td>\n",
       "      <td>0.552000</td>\n",
       "    </tr>\n",
       "    <tr>\n",
       "      <th>327</th>\n",
       "      <td>0.419753</td>\n",
       "      <td>0.072650</td>\n",
       "      <td>0.552333</td>\n",
       "    </tr>\n",
       "    <tr>\n",
       "      <th>357</th>\n",
       "      <td>0.419355</td>\n",
       "      <td>0.027778</td>\n",
       "      <td>0.628000</td>\n",
       "    </tr>\n",
       "    <tr>\n",
       "      <th>323</th>\n",
       "      <td>0.418605</td>\n",
       "      <td>0.076923</td>\n",
       "      <td>0.544000</td>\n",
       "    </tr>\n",
       "    <tr>\n",
       "      <th>373</th>\n",
       "      <td>0.416667</td>\n",
       "      <td>0.010684</td>\n",
       "      <td>0.686000</td>\n",
       "    </tr>\n",
       "    <tr>\n",
       "      <th>325</th>\n",
       "      <td>0.416667</td>\n",
       "      <td>0.074786</td>\n",
       "      <td>0.546000</td>\n",
       "    </tr>\n",
       "    <tr>\n",
       "      <th>330</th>\n",
       "      <td>0.415584</td>\n",
       "      <td>0.068376</td>\n",
       "      <td>0.560000</td>\n",
       "    </tr>\n",
       "    <tr>\n",
       "      <th>321</th>\n",
       "      <td>0.413043</td>\n",
       "      <td>0.081197</td>\n",
       "      <td>0.540000</td>\n",
       "    </tr>\n",
       "    <tr>\n",
       "      <th>328</th>\n",
       "      <td>0.412500</td>\n",
       "      <td>0.070513</td>\n",
       "      <td>0.554000</td>\n",
       "    </tr>\n",
       "    <tr>\n",
       "      <th>329</th>\n",
       "      <td>0.410256</td>\n",
       "      <td>0.068376</td>\n",
       "      <td>0.558000</td>\n",
       "    </tr>\n",
       "    <tr>\n",
       "      <th>296</th>\n",
       "      <td>0.408805</td>\n",
       "      <td>0.138889</td>\n",
       "      <td>0.482000</td>\n",
       "    </tr>\n",
       "    <tr>\n",
       "      <th>360</th>\n",
       "      <td>0.407407</td>\n",
       "      <td>0.023504</td>\n",
       "      <td>0.634000</td>\n",
       "    </tr>\n",
       "    <tr>\n",
       "      <th>322</th>\n",
       "      <td>0.406593</td>\n",
       "      <td>0.079060</td>\n",
       "      <td>0.542000</td>\n",
       "    </tr>\n",
       "    <tr>\n",
       "      <th>356</th>\n",
       "      <td>0.406250</td>\n",
       "      <td>0.027778</td>\n",
       "      <td>0.626000</td>\n",
       "    </tr>\n",
       "    <tr>\n",
       "      <th>333</th>\n",
       "      <td>0.405797</td>\n",
       "      <td>0.059829</td>\n",
       "      <td>0.568000</td>\n",
       "    </tr>\n",
       "  </tbody>\n",
       "</table>\n",
       "</div>"
      ],
      "text/plain": [
       "     precision    recall  threshhold\n",
       "382   1.000000  0.002137    0.870000\n",
       "381   0.500000  0.002137    0.830000\n",
       "367   0.500000  0.019231    0.666000\n",
       "369   0.500000  0.017094    0.672000\n",
       "371   0.500000  0.014957    0.678000\n",
       "368   0.470588  0.017094    0.668000\n",
       "370   0.466667  0.014957    0.676000\n",
       "372   0.461538  0.012821    0.682000\n",
       "366   0.450000  0.019231    0.664000\n",
       "359   0.448276  0.027778    0.632000\n",
       "375   0.444444  0.008547    0.704000\n",
       "358   0.433333  0.027778    0.630000\n",
       "365   0.428571  0.019231    0.662000\n",
       "355   0.424242  0.029915    0.624000\n",
       "324   0.423529  0.076923    0.545138\n",
       "326   0.421687  0.074786    0.552000\n",
       "327   0.419753  0.072650    0.552333\n",
       "357   0.419355  0.027778    0.628000\n",
       "323   0.418605  0.076923    0.544000\n",
       "373   0.416667  0.010684    0.686000\n",
       "325   0.416667  0.074786    0.546000\n",
       "330   0.415584  0.068376    0.560000\n",
       "321   0.413043  0.081197    0.540000\n",
       "328   0.412500  0.070513    0.554000\n",
       "329   0.410256  0.068376    0.558000\n",
       "296   0.408805  0.138889    0.482000\n",
       "360   0.407407  0.023504    0.634000\n",
       "322   0.406593  0.079060    0.542000\n",
       "356   0.406250  0.027778    0.626000\n",
       "333   0.405797  0.059829    0.568000"
      ]
     },
     "execution_count": 44,
     "metadata": {},
     "output_type": "execute_result"
    }
   ],
   "source": [
    "pr_df[(pr_df['precision']>= .4)].head(30)"
   ]
  },
  {
   "cell_type": "code",
   "execution_count": 45,
   "metadata": {
    "collapsed": false
   },
   "outputs": [
    {
     "name": "stdout",
     "output_type": "stream",
     "text": [
      "0.132478632479\n",
      "0.402597402597\n",
      "0.73182552504\n"
     ]
    }
   ],
   "source": [
    "pred = np.greater( pred_prob[:,1], .482)\n",
    "\n",
    "print(recall_score(y_test, pred))\n",
    "print(precision_score(y_test, pred))\n",
    "print(accuracy_score(y_test, pred))"
   ]
  },
  {
   "cell_type": "code",
   "execution_count": 150,
   "metadata": {
    "collapsed": false
   },
   "outputs": [],
   "source": [
    "rfmod = pipe.steps[1][1]"
   ]
  },
  {
   "cell_type": "markdown",
   "metadata": {},
   "source": [
    "### LSA Results"
   ]
  },
  {
   "cell_type": "code",
   "execution_count": 151,
   "metadata": {
    "collapsed": false
   },
   "outputs": [],
   "source": [
    "lsa = pipe.steps[0][1].features[6][1].steps[1][1]\n",
    "\n",
    "tf = pipe.steps[0][1].features[6][1].steps[0][1]"
   ]
  },
  {
   "cell_type": "code",
   "execution_count": 273,
   "metadata": {
    "collapsed": false,
    "scrolled": true
   },
   "outputs": [
    {
     "data": {
      "text/plain": [
       "none                                             9.857006e-01\n",
       "fuji                                             1.774869e-04\n",
       "                                                 4.762404e-18\n",
       "boss keychain                                    3.891315e-19\n",
       "kate spade dot spiral notebook                   2.160320e-22\n",
       "b. toffee                                        9.162323e-23\n",
       "canvas home                                      7.823937e-23\n",
       "on writing by stephen king                       4.270271e-27\n",
       "le pens                                          0.000000e+00\n",
       "nostrum                                          0.000000e+00\n",
       "the beach people                                 0.000000e+00\n",
       "hella slingshots                                 0.000000e+00\n",
       "six depot roastery                               0.000000e+00\n",
       "mast borthers                                    0.000000e+00\n",
       "white & kalman                                   0.000000e+00\n",
       "rustic bakery                                    0.000000e+00\n",
       "rifle paper co.                                  0.000000e+00\n",
       "consider the wldflowers                          0.000000e+00\n",
       "pinch provisions                                 0.000000e+00\n",
       "the elements of style (illustrated) by strunk    0.000000e+00\n",
       "bees knees                                       0.000000e+00\n",
       "sea foam mug                                     0.000000e+00\n",
       "dry shampoo                                      0.000000e+00\n",
       "fashion mamas x boxfox                           0.000000e+00\n",
       "earth + element                                  0.000000e+00\n",
       "carry on cocktail kit                            0.000000e+00\n",
       "garden-in-a-bag basil                            0.000000e+00\n",
       "herban essentials                                0.000000e+00\n",
       "bee raw                                          0.000000e+00\n",
       "well kept wipes                                  0.000000e+00\n",
       "                                                     ...     \n",
       "bushwick kitchen                                -5.487287e-24\n",
       "olivine atelier                                 -5.510141e-24\n",
       "hangover kit                                    -1.229766e-20\n",
       "jellycat                                        -3.643979e-05\n",
       "wondermade                                      -5.353421e-05\n",
       "nawrap                                          -7.515670e-05\n",
       "izola                                           -7.797821e-05\n",
       "baggu                                           -8.045676e-05\n",
       "mixedmade                                       -8.885249e-05\n",
       "bkr                                             -1.797065e-04\n",
       "citix60                                         -1.800920e-04\n",
       "billykirk                                       -2.294632e-04\n",
       "dominoes                                        -2.442231e-04\n",
       "skeem                                           -4.887054e-04\n",
       "mug                                             -5.164717e-04\n",
       "cereal                                          -5.999538e-04\n",
       "poketo                                          -6.140660e-04\n",
       "hay                                             -6.292354e-04\n",
       "stance                                          -7.057995e-04\n",
       "sprinkles                                       -1.342265e-03\n",
       "kikkerland                                      -2.327324e-03\n",
       "vitruvi                                         -2.365516e-03\n",
       "mast                                            -4.467276e-03\n",
       "odeme                                           -5.015439e-03\n",
       "viski                                           -5.056208e-03\n",
       "tocca                                           -7.701070e-03\n",
       "drybar                                          -1.133494e-02\n",
       "compartes                                       -2.743951e-02\n",
       "sugarfina                                       -8.290912e-02\n",
       "voluspa                                         -1.431566e-01\n",
       "Name: topic_1, dtype: float64"
      ]
     },
     "execution_count": 273,
     "metadata": {},
     "output_type": "execute_result"
    }
   ],
   "source": [
    "pd.DataFrame(lsa.components_, index=['topic_0','topic_1', 'topic_2', 'topic_3', 'topic_4'], columns = items).iloc[1,:].sort_values(ascending=False)"
   ]
  },
  {
   "cell_type": "code",
   "execution_count": 248,
   "metadata": {
    "collapsed": false
   },
   "outputs": [
    {
     "data": {
      "text/plain": [
       "[<matplotlib.lines.Line2D at 0x12cac0e90>]"
      ]
     },
     "execution_count": 248,
     "metadata": {},
     "output_type": "execute_result"
    },
    {
     "data": {
      "image/png": "[encoded data removed]",
      "text/plain": [
       "<matplotlib.figure.Figure at 0x12e2c18d0>"
      ]
     },
     "metadata": {},
     "output_type": "display_data"
    }
   ],
   "source": [
    "plt.plot(lsa.explained_variance_ratio_, 'g*')"
   ]
  },
  {
   "cell_type": "code",
   "execution_count": 152,
   "metadata": {
    "collapsed": false
   },
   "outputs": [],
   "source": [
    "words = np.array(tf.get_feature_names())\n",
    "set_array = []\n",
    "for row in lsa.components_:\n",
    "    item_indices = np.argsort(row)[-50:]\n",
    "    set_array.append(words[item_indices])"
   ]
  },
  {
   "cell_type": "code",
   "execution_count": 195,
   "metadata": {
    "collapsed": false
   },
   "outputs": [],
   "source": [
    "topics = []\n",
    "for set_ in set_array:\n",
    "    topics.append(set_[:10])"
   ]
  },
  {
   "cell_type": "code",
   "execution_count": 196,
   "metadata": {
    "collapsed": false
   },
   "outputs": [
    {
     "data": {
      "text/plain": [
       "array(['shorty olive oil', 'the beach people'], \n",
       "      dtype='|S45')"
      ]
     },
     "execution_count": 196,
     "metadata": {},
     "output_type": "execute_result"
    }
   ],
   "source": [
    "np.setdiff1d(topics[4], [topics[3], topics[2], topics[1], topics[0]])"
   ]
  },
  {
   "cell_type": "code",
   "execution_count": 179,
   "metadata": {
    "collapsed": false
   },
   "outputs": [
    {
     "data": {
      "text/plain": [
       "[array([\"mast brother's\", 'earth + element', 'consider the wldflowers',\n",
       "        'fashion mamas x boxfox', 'dry shampoo',\n",
       "        'native union smart charger', 'carry on cocktail kit',\n",
       "        'garden-in-a-bag basil', 'sea foam mug', 'reindeer bottle stopper'], \n",
       "       dtype='|S45'),\n",
       " array(['the social type', 'tea towel', 'yellow macaron trinket box',\n",
       "        'rose macaron limoge trinket tray', \"mast brother's\", 'sleep mask',\n",
       "        'love style life by garance dore',\n",
       "        'white macaron limoge trinket box', 'native union',\n",
       "        'crux supply co.'], \n",
       "       dtype='|S45'),\n",
       " array(['rose macaron limoge trinket tray', \"mast brother's\", 'sleep mask',\n",
       "        'love style life by garance dore',\n",
       "        'white macaron limoge trinket box', 'native union',\n",
       "        'crux supply co.', 'deuce brand', 'hella slingshots',\n",
       "        'six depot roastery'], \n",
       "       dtype='|S45'),\n",
       " array(['native union', \"mast brother's\", 'sleep mask', 'mast borthers',\n",
       "        'white & kalman', 'six depot roastery', 'nostrum',\n",
       "        'native union smart charger', 'garden-in-a-bag basil',\n",
       "        'carry on cocktail kit'], \n",
       "       dtype='|S45')]"
      ]
     },
     "execution_count": 179,
     "metadata": {},
     "output_type": "execute_result"
    }
   ],
   "source": [
    "topics[:4]"
   ]
  },
  {
   "cell_type": "markdown",
   "metadata": {},
   "source": [
    "### Clustering Orders of Customers\n",
    "\n",
    "I tried clustering my customers, but it looks like I need more information in order to really find groups."
   ]
  },
  {
   "cell_type": "code",
   "execution_count": 73,
   "metadata": {
    "collapsed": true
   },
   "outputs": [],
   "source": [
    "from sklearn.cluster import KMeans\n",
    "from sklearn.preprocessing import Normalizer"
   ]
  },
  {
   "cell_type": "code",
   "execution_count": 50,
   "metadata": {
    "collapsed": true
   },
   "outputs": [],
   "source": [
    "Kmod = KMeans()"
   ]
  },
  {
   "cell_type": "code",
   "execution_count": 94,
   "metadata": {
    "collapsed": true
   },
   "outputs": [],
   "source": [
    "norm = Normalizer()\n",
    "scale = StandardScaler()"
   ]
  },
  {
   "cell_type": "code",
   "execution_count": 1,
   "metadata": {
    "collapsed": false
   },
   "outputs": [],
   "source": [
    "norm.transform(features['month_of_purchase'])"
   ]
  },
  {
   "cell_type": "code",
   "execution_count": 2,
   "metadata": {
    "collapsed": false
   },
   "outputs": [],
   "source": [
    "clust_mapper = DataFrameMapper([\n",
    "        ('payment_details.credit_card_company', LabelBinarizer()),\n",
    "        ('buyer_accepts_marketing', LabelBinarizer()),\n",
    "        ('referring_domain', LabelBinarizer()),\n",
    "        ('discount_type', LabelBinarizer()),\n",
    "        ('device', LabelBinarizer()),\n",
    "        ('shipping_meth', LabelBinarizer()),\n",
    "        ('items', [TfidfVectorizer(vocabulary=items), TruncatedSVD(10)]),\n",
    "        ('message', [TfidfVectorizer(vocabulary=items), TruncatedSVD(5)]),\n",
    "        ('total_price', StandardScaler()),\n",
    "        ('total_weight', StandardScaler()),\n",
    "        ('seconds_to_purchase',  StandardScaler()),\n",
    "        ('month_of_purchase', StandardScaler())\n",
    "    ], df_out=True)\n",
    "\n",
    "clust_mapper.fit_transform(features)"
   ]
  },
  {
   "cell_type": "code",
   "execution_count": 137,
   "metadata": {
    "collapsed": false
   },
   "outputs": [],
   "source": [
    "pipe2 = Pipeline([\n",
    "    ('featurize', clust_mapper),\n",
    "    ('km', KMeans(n_clusters=3))]\n",
    "    )"
   ]
  },
  {
   "cell_type": "code",
   "execution_count": 138,
   "metadata": {
    "collapsed": false
   },
   "outputs": [
    {
     "data": {
      "text/plain": [
       "sklearn.preprocessing.data.Normalizer"
      ]
     },
     "execution_count": 138,
     "metadata": {},
     "output_type": "execute_result"
    }
   ],
   "source": [
    "Normalizer"
   ]
  },
  {
   "cell_type": "code",
   "execution_count": 3,
   "metadata": {
    "collapsed": false
   },
   "outputs": [],
   "source": [
    "features = features.fillna({'customer.id': 0,\n",
    "                        'payment_details.credit_card_company': 'None',\n",
    "                        'discount_type': 'None',\n",
    "                        'referring_domain': 'None',\n",
    "                        'seconds_to_purchase': 0,\n",
    "                        'month_of_purchase': 0,\n",
    "                        'message': 'None',\n",
    "                        'items': 'None'\n",
    "               })\n",
    "\n",
    "pipe2.fit(features)"
   ]
  },
  {
   "cell_type": "code",
   "execution_count": 140,
   "metadata": {
    "collapsed": false
   },
   "outputs": [],
   "source": [
    "clust_1 = features[pipe2.steps[1][1].labels_==0]\n",
    "clust_2 = features[pipe2.steps[1][1].labels_==1]\n",
    "clust_3 = features[pipe2.steps[1][1].labels_==2]"
   ]
  },
  {
   "cell_type": "code",
   "execution_count": 62,
   "metadata": {
    "collapsed": false
   },
   "outputs": [
    {
     "data": {
      "text/plain": [
       "<matplotlib.collections.PathCollection at 0x1225ebd50>"
      ]
     },
     "execution_count": 62,
     "metadata": {},
     "output_type": "execute_result"
    },
    {
     "data": {
      "image/png": "[encoded data removed]",
      "text/plain": [
       "<matplotlib.figure.Figure at 0x11f96bb10>"
      ]
     },
     "metadata": {},
     "output_type": "display_data"
    }
   ],
   "source": [
    "plt.scatter(clust_1.total_weight, clust_1.total_price, color = 'r')\n",
    "plt.scatter(clust_2.total_weight, clust_2.total_price, color = 'g')\n",
    "plt.scatter(clust_3.total_weight, clust_3.total_price, color = 'b')"
   ]
  },
  {
   "cell_type": "code",
   "execution_count": 64,
   "metadata": {
    "collapsed": false
   },
   "outputs": [
    {
     "data": {
      "text/plain": [
       "buyer_accepts_marketing      0.550388\n",
       "total_price                 81.723434\n",
       "total_weight               706.470172\n",
       "seconds_to_purchase        128.483654\n",
       "month_of_purchase            2.893832\n",
       "dtype: float64"
      ]
     },
     "execution_count": 64,
     "metadata": {},
     "output_type": "execute_result"
    }
   ],
   "source": [
    "clust_1.mean()"
   ]
  },
  {
   "cell_type": "code",
   "execution_count": 66,
   "metadata": {
    "collapsed": false
   },
   "outputs": [
    {
     "data": {
      "text/plain": [
       "buyer_accepts_marketing      0.507902\n",
       "total_price                 86.197346\n",
       "total_weight               573.322343\n",
       "seconds_to_purchase        131.272207\n",
       "month_of_purchase            9.986649\n",
       "dtype: float64"
      ]
     },
     "execution_count": 66,
     "metadata": {},
     "output_type": "execute_result"
    }
   ],
   "source": [
    "clust_2.mean()"
   ]
  },
  {
   "cell_type": "code",
   "execution_count": 67,
   "metadata": {
    "collapsed": false
   },
   "outputs": [
    {
     "data": {
      "text/plain": [
       "buyer_accepts_marketing       0.563025\n",
       "total_price                 579.580840\n",
       "total_weight               4932.399160\n",
       "seconds_to_purchase         198.092437\n",
       "month_of_purchase             8.042017\n",
       "dtype: float64"
      ]
     },
     "execution_count": 67,
     "metadata": {},
     "output_type": "execute_result"
    }
   ],
   "source": [
    "clust_3.mean()"
   ]
  }
 ],
 "metadata": {
  "anaconda-cloud": {},
  "kernelspec": {
   "display_name": "Python [conda root]",
   "language": "python",
   "name": "conda-root-py"
  },
  "language_info": {
   "codemirror_mode": {
    "name": "ipython",
    "version": 2
   },
   "file_extension": ".py",
   "mimetype": "text/x-python",
   "name": "python",
   "nbconvert_exporter": "python",
   "pygments_lexer": "ipython2",
   "version": "2.7.12"
  }
 },
 "nbformat": 4,
 "nbformat_minor": 1
}
