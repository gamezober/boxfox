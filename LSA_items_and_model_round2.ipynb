{
 "cells": [
  {
   "cell_type": "markdown",
   "metadata": {},
   "source": [
    "### LSA and Feature Engineering\n",
    "\n",
    "In this notebook, I really tried to do as much features extraction as possible. The \"processing and modeling\" notebook, is where I ran my first model. In this notebook I'm really trying to go back through my pipeline and focus on creating features that may or may not give me some kind of signal as to whether an order belongs to a returning customer or not. I also tried alittle bit of clustering at the end but realized that might need another project."
   ]
  },
  {
   "cell_type": "code",
   "execution_count": 1,
   "metadata": {
    "collapsed": true
   },
   "outputs": [],
   "source": [
    "import shopify\n",
    "import requests\n",
    "import re\n",
    "import json\n",
    "import pandas as pd\n",
    "from pandas.io.json import json_normalize\n",
    "import time\n",
    "import numpy as np\n",
    "import matplotlib.pyplot as plt\n",
    "import seaborn as sns\n",
    "import ast\n",
    "from urlparse import urlparse\n",
    "import datetime as dt\n",
    "from sklearn_pandas import DataFrameMapper, cross_val_score\n",
    "from sklearn.ensemble import GradientBoostingClassifier\n",
    "from sklearn.cross_validation import train_test_split\n",
    "from sklearn.pipeline import Pipeline\n",
    "from sklearn.naive_bayes import GaussianNB\n",
    "\n",
    "%matplotlib inline"
   ]
  },
  {
   "cell_type": "markdown",
   "metadata": {},
   "source": [
    "### Load Pre - Processed Data"
   ]
  },
  {
   "cell_type": "code",
   "execution_count": 2,
   "metadata": {
    "collapsed": false
   },
   "outputs": [
    {
     "name": "stderr",
     "output_type": "stream",
     "text": [
      "/Users/zober/anaconda2/lib/python2.7/site-packages/IPython/core/interactiveshell.py:2717: DtypeWarning: Columns (16,34,64,67,83,122,126) have mixed types. Specify dtype option on import or set low_memory=False.\n",
      "  interactivity=interactivity, compiler=compiler, result=result)\n"
     ]
    }
   ],
   "source": [
    "orders_df = pd.read_csv('orders_products.csv')\n",
    "orders_df.drop_duplicates(inplace=True)"
   ]
  },
  {
   "cell_type": "markdown",
   "metadata": {},
   "source": [
    "### Create New Target\n",
    "\n",
    "I was concerned that orders where the customer bought mutliple products their first time was helping the model cheat a little bit. So I redifine my targethere to only look at the minimum values of those products (e.g. minimum weight, minimum price)."
   ]
  },
  {
   "cell_type": "code",
   "execution_count": 4,
   "metadata": {
    "collapsed": false
   },
   "outputs": [
    {
     "data": {
      "text/html": [
       "<div>\n",
       "<table border=\"1\" class=\"dataframe\">\n",
       "  <thead>\n",
       "    <tr style=\"text-align: right;\">\n",
       "      <th></th>\n",
       "      <th>customer.id</th>\n",
       "      <th>min</th>\n",
       "      <th>nunique</th>\n",
       "      <th>target</th>\n",
       "    </tr>\n",
       "  </thead>\n",
       "  <tbody>\n",
       "    <tr>\n",
       "      <th>6182</th>\n",
       "      <td>5944946572</td>\n",
       "      <td>2017-03-20 22:59:24</td>\n",
       "      <td>1</td>\n",
       "      <td>False</td>\n",
       "    </tr>\n",
       "    <tr>\n",
       "      <th>6183</th>\n",
       "      <td>5945331724</td>\n",
       "      <td>2017-03-21 00:32:28</td>\n",
       "      <td>1</td>\n",
       "      <td>False</td>\n",
       "    </tr>\n",
       "    <tr>\n",
       "      <th>6184</th>\n",
       "      <td>5946224780</td>\n",
       "      <td>2017-03-21 03:39:14</td>\n",
       "      <td>1</td>\n",
       "      <td>False</td>\n",
       "    </tr>\n",
       "    <tr>\n",
       "      <th>6185</th>\n",
       "      <td>5953677900</td>\n",
       "      <td>2017-03-21 17:27:36</td>\n",
       "      <td>1</td>\n",
       "      <td>False</td>\n",
       "    </tr>\n",
       "    <tr>\n",
       "      <th>6186</th>\n",
       "      <td>5954703820</td>\n",
       "      <td>2017-03-21 17:53:59</td>\n",
       "      <td>1</td>\n",
       "      <td>False</td>\n",
       "    </tr>\n",
       "  </tbody>\n",
       "</table>\n",
       "</div>"
      ],
      "text/plain": [
       "      customer.id                 min  nunique target\n",
       "6182   5944946572 2017-03-20 22:59:24        1  False\n",
       "6183   5945331724 2017-03-21 00:32:28        1  False\n",
       "6184   5946224780 2017-03-21 03:39:14        1  False\n",
       "6185   5953677900 2017-03-21 17:27:36        1  False\n",
       "6186   5954703820 2017-03-21 17:53:59        1  False"
      ]
     },
     "execution_count": 4,
     "metadata": {},
     "output_type": "execute_result"
    }
   ],
   "source": [
    "\n",
    "\n",
    "orders_df['customer.id'] = orders_df['customer.id'].astype('int')\n",
    "orders_df['order_date'] = pd.to_datetime(orders_df['created_at'])\n",
    "target_df = orders_df.groupby(['customer.id']).agg({'order_date': ['min', 'nunique']}).reset_index()\n",
    "\n",
    "target_df['target'] = target_df['order_date']['nunique'] > 1\n",
    "target_df.columns = target_df.columns.get_level_values(1)\n",
    "target_df['customer.id'] = target_df.iloc[:,0]\n",
    "target_df['target'] = target_df.iloc[:,3]\n",
    "target_df = target_df[['customer.id', 'min', 'nunique', 'target']]\n",
    "target_df.tail()"
   ]
  },
  {
   "cell_type": "code",
   "execution_count": 5,
   "metadata": {
    "collapsed": false
   },
   "outputs": [
    {
     "data": {
      "text/plain": [
       "False    4659\n",
       "True     1528\n",
       "Name: target, dtype: int64"
      ]
     },
     "execution_count": 5,
     "metadata": {},
     "output_type": "execute_result"
    }
   ],
   "source": [
    "# Looking at the distribution of our target\n",
    "target_df.target.value_counts()"
   ]
  },
  {
   "cell_type": "code",
   "execution_count": 6,
   "metadata": {
    "collapsed": false
   },
   "outputs": [],
   "source": [
    "# Bring together features with newly defined target\n",
    "orders_products = pd.merge(orders_df, target_df, left_on=['customer.id', 'order_date'], right_on=['customer.id','min'])"
   ]
  },
  {
   "cell_type": "code",
   "execution_count": 9,
   "metadata": {
    "collapsed": false
   },
   "outputs": [
    {
     "data": {
      "text/plain": [
       "6875"
      ]
     },
     "execution_count": 9,
     "metadata": {},
     "output_type": "execute_result"
    }
   ],
   "source": [
    "len(orders_products)"
   ]
  },
  {
   "cell_type": "code",
   "execution_count": 11,
   "metadata": {
    "collapsed": false
   },
   "outputs": [],
   "source": [
    "from sklearn.feature_extraction.text import CountVectorizer\n",
    "from sklearn.feature_extraction.text import TfidfVectorizer\n",
    "from sklearn_pandas import DataFrameMapper\n",
    "from sklearn.preprocessing import LabelBinarizer\n",
    "from sklearn.preprocessing import StandardScaler\n",
    "from sklearn.decomposition import TruncatedSVD\n",
    "from sklearn.ensemble import RandomForestClassifier"
   ]
  },
  {
   "cell_type": "markdown",
   "metadata": {},
   "source": [
    "### Engineering Time related Features\n",
    "\n",
    "I used the customer-create date and product-create date, along with the month the Company was launched, to engineer some date features for my model. This includes the how long since the company started did they sign up, how long (in minutes) did it takeforthe customer to make their first purchase, and the month they purchased the order."
   ]
  },
  {
   "cell_type": "code",
   "execution_count": 13,
   "metadata": {
    "collapsed": true
   },
   "outputs": [],
   "source": [
    "orders_products['days_till_signup'] = (pd.to_datetime(orders_products['customer.created_at']) - pd.datetime(2014, 11, 01)).dt.days"
   ]
  },
  {
   "cell_type": "code",
   "execution_count": 14,
   "metadata": {
    "collapsed": true
   },
   "outputs": [],
   "source": [
    "orders_products['seconds_to_purchase'] = (pd.to_datetime(orders_products['processed_at']) - pd.to_datetime(orders_products['customer.created_at'])).dt.seconds"
   ]
  },
  {
   "cell_type": "code",
   "execution_count": 15,
   "metadata": {
    "collapsed": true
   },
   "outputs": [],
   "source": [
    "orders_products['month_of_purchase'] = pd.to_datetime(orders_products['processed_at']).dt.month"
   ]
  },
  {
   "cell_type": "markdown",
   "metadata": {},
   "source": [
    "Of all the 100 features from the three data sets, I now select the ones I want, plus the features I will later vectorize and use LSA on (items and message)."
   ]
  },
  {
   "cell_type": "code",
   "execution_count": 3,
   "metadata": {
    "collapsed": false
   },
   "outputs": [],
   "source": [
    "model_data = orders_products[['customer.id','buyer_accepts_marketing', 'payment_details.credit_card_company', 'referring_domain',\n",
    "                       'total_price', 'total_weight', 'discount_type', 'device', 'shipping_meth', 'items', 'message',\n",
    "                      'seconds_to_purchase', 'month_of_purchase', 'target']]\n",
    "\n",
    "model_data.drop_duplicates(inplace=True)"
   ]
  },
  {
   "cell_type": "code",
   "execution_count": 17,
   "metadata": {
    "collapsed": true
   },
   "outputs": [],
   "source": [
    "model_data = model_data.fillna({'customer.id': 0,\n",
    "                        'payment_details.credit_card_company': 'None',\n",
    "                        'discount_type': 'None',\n",
    "                        'referring_domain': 'None',\n",
    "                        'seconds_to_purchase': 0,\n",
    "                        'month_of_purchase': 0,\n",
    "                        'message': 'None',\n",
    "                        'items': 'None'\n",
    "               })\n",
    "\n",
    "model_data['shipping_meth'] = model_data['shipping_meth'].replace(['Free'], ['Other'])\n",
    "model_data['seconds_to_purchase'] = model_data['seconds_to_purchase']//60"
   ]
  },
  {
   "cell_type": "code",
   "execution_count": 21,
   "metadata": {
    "collapsed": false
   },
   "outputs": [
    {
     "data": {
      "text/html": [
       "<div>\n",
       "<table border=\"1\" class=\"dataframe\">\n",
       "  <thead>\n",
       "    <tr style=\"text-align: right;\">\n",
       "      <th></th>\n",
       "      <th>buyer_accepts_marketing</th>\n",
       "      <th>customer.id</th>\n",
       "      <th>device</th>\n",
       "      <th>discount_type</th>\n",
       "      <th>items</th>\n",
       "      <th>message</th>\n",
       "      <th>month_of_purchase</th>\n",
       "      <th>payment_details.credit_card_company</th>\n",
       "      <th>referring_domain</th>\n",
       "      <th>seconds_to_purchase</th>\n",
       "      <th>shipping_meth</th>\n",
       "      <th>target</th>\n",
       "      <th>total_price</th>\n",
       "      <th>total_weight</th>\n",
       "    </tr>\n",
       "  </thead>\n",
       "  <tbody>\n",
       "    <tr>\n",
       "      <th>0</th>\n",
       "      <td>False</td>\n",
       "      <td>5954703820</td>\n",
       "      <td>Mac</td>\n",
       "      <td>None</td>\n",
       "      <td>Bling Wipes ,  Compartes ,  Drybar ,  HAY ,  ...</td>\n",
       "      <td>Hi mama! I love you and hope you're recovering...</td>\n",
       "      <td>3</td>\n",
       "      <td>Visa</td>\n",
       "      <td>Google</td>\n",
       "      <td>5.0</td>\n",
       "      <td>Postmates</td>\n",
       "      <td>False</td>\n",
       "      <td>117.93</td>\n",
       "      <td>2268</td>\n",
       "    </tr>\n",
       "    <tr>\n",
       "      <th>1</th>\n",
       "      <td>False</td>\n",
       "      <td>5953677900</td>\n",
       "      <td>Mac</td>\n",
       "      <td>None</td>\n",
       "      <td>Compartes ,  Herbivore Botanicals ,  Rifle Pa...</td>\n",
       "      <td>Thank you Dr. DiNome for your expert hand and ...</td>\n",
       "      <td>3</td>\n",
       "      <td>Visa</td>\n",
       "      <td>Google</td>\n",
       "      <td>1.0</td>\n",
       "      <td>Postmates</td>\n",
       "      <td>False</td>\n",
       "      <td>96.73</td>\n",
       "      <td>2268</td>\n",
       "    </tr>\n",
       "    <tr>\n",
       "      <th>2</th>\n",
       "      <td>True</td>\n",
       "      <td>5946224780</td>\n",
       "      <td>Mac</td>\n",
       "      <td>None</td>\n",
       "      <td>BillyKirk ,  Everyman Jack ,  Izola ,  Rock C...</td>\n",
       "      <td>Two years down and forever to go. You are my f...</td>\n",
       "      <td>3</td>\n",
       "      <td>Mastercard</td>\n",
       "      <td>Google</td>\n",
       "      <td>2.0</td>\n",
       "      <td>USPS</td>\n",
       "      <td>False</td>\n",
       "      <td>113.00</td>\n",
       "      <td>2268</td>\n",
       "    </tr>\n",
       "    <tr>\n",
       "      <th>3</th>\n",
       "      <td>False</td>\n",
       "      <td>5945331724</td>\n",
       "      <td>PC</td>\n",
       "      <td>None</td>\n",
       "      <td>HAY ,  Mast Brothers ,  Voluspa</td>\n",
       "      <td>None</td>\n",
       "      <td>3</td>\n",
       "      <td>Visa</td>\n",
       "      <td>Google</td>\n",
       "      <td>10.0</td>\n",
       "      <td>USPS</td>\n",
       "      <td>False</td>\n",
       "      <td>41.00</td>\n",
       "      <td>2268</td>\n",
       "    </tr>\n",
       "    <tr>\n",
       "      <th>4</th>\n",
       "      <td>False</td>\n",
       "      <td>5941618124</td>\n",
       "      <td>Mac</td>\n",
       "      <td>None</td>\n",
       "      <td>Elizabeth W ,  HAY ,  Le Pens ,  Le Pens ,  R...</td>\n",
       "      <td>Happy Birthday Constance!\\n\\nWe love you and a...</td>\n",
       "      <td>3</td>\n",
       "      <td>American Express</td>\n",
       "      <td>Other</td>\n",
       "      <td>370.0</td>\n",
       "      <td>USPS</td>\n",
       "      <td>False</td>\n",
       "      <td>105.62</td>\n",
       "      <td>2268</td>\n",
       "    </tr>\n",
       "  </tbody>\n",
       "</table>\n",
       "</div>"
      ],
      "text/plain": [
       "  buyer_accepts_marketing  customer.id device discount_type  \\\n",
       "0                   False   5954703820    Mac          None   \n",
       "1                   False   5953677900    Mac          None   \n",
       "2                    True   5946224780    Mac          None   \n",
       "3                   False   5945331724     PC          None   \n",
       "4                   False   5941618124    Mac          None   \n",
       "\n",
       "                                               items  \\\n",
       "0   Bling Wipes ,  Compartes ,  Drybar ,  HAY ,  ...   \n",
       "1   Compartes ,  Herbivore Botanicals ,  Rifle Pa...   \n",
       "2   BillyKirk ,  Everyman Jack ,  Izola ,  Rock C...   \n",
       "3                   HAY ,  Mast Brothers ,  Voluspa    \n",
       "4   Elizabeth W ,  HAY ,  Le Pens ,  Le Pens ,  R...   \n",
       "\n",
       "                                             message  month_of_purchase  \\\n",
       "0  Hi mama! I love you and hope you're recovering...                  3   \n",
       "1  Thank you Dr. DiNome for your expert hand and ...                  3   \n",
       "2  Two years down and forever to go. You are my f...                  3   \n",
       "3                                               None                  3   \n",
       "4  Happy Birthday Constance!\\n\\nWe love you and a...                  3   \n",
       "\n",
       "  payment_details.credit_card_company referring_domain  seconds_to_purchase  \\\n",
       "0                                Visa           Google                  5.0   \n",
       "1                                Visa           Google                  1.0   \n",
       "2                          Mastercard           Google                  2.0   \n",
       "3                                Visa           Google                 10.0   \n",
       "4                    American Express            Other                370.0   \n",
       "\n",
       "  shipping_meth target  total_price  total_weight  \n",
       "0     Postmates  False       117.93          2268  \n",
       "1     Postmates  False        96.73          2268  \n",
       "2          USPS  False       113.00          2268  \n",
       "3          USPS  False        41.00          2268  \n",
       "4          USPS  False       105.62          2268  "
      ]
     },
     "execution_count": 21,
     "metadata": {},
     "output_type": "execute_result"
    }
   ],
   "source": [
    "multi_orders = list(model_data.groupby('customer.id').filter(lambda x: len(x) > 1)['customer.id'].unique())\n",
    "\n",
    "multiples = model_data[model_data['customer.id'].isin(multi_orders)]\n",
    "\n",
    "features_clean = model_data[~model_data['customer.id'].isin(multi_orders)]\n",
    "\n",
    "def row_concat(row):\n",
    "    return \"%s\" % ', '.join(row)\n",
    "\n",
    "multiples = multiples.groupby('customer.id', as_index=False).aggregate({'buyer_accepts_marketing': 'mean',\n",
    "                                            'payment_details.credit_card_company': lambda x: x.value_counts().index[0],\n",
    "                                            'referring_domain': lambda x: x.value_counts().index[0],\n",
    "                                            'total_price': 'min',\n",
    "                                            'total_weight': 'min',\n",
    "                                            'seconds_to_purchase': 'min',\n",
    "                                            'month_of_purchase': 'min',\n",
    "                                            'discount_type': lambda x: x.value_counts().index[0],\n",
    "                                            'device': lambda x: x.value_counts().index[0],\n",
    "                                            'shipping_meth': lambda x: x.value_counts().index[0],\n",
    "                                            'items': lambda x: row_concat(x),\n",
    "                                            'message': lambda x: row_concat(x),\n",
    "                                            'target': 'min'})\n",
    "\n",
    "model_data = pd.concat([features_clean, multiples]).reset_index(drop=True)\n",
    "model_data.head()"
   ]
  },
  {
   "cell_type": "code",
   "execution_count": 22,
   "metadata": {
    "collapsed": false
   },
   "outputs": [
    {
     "data": {
      "text/plain": [
       "<matplotlib.axes._subplots.AxesSubplot at 0x11cfb1e10>"
      ]
     },
     "execution_count": 22,
     "metadata": {},
     "output_type": "execute_result"
    },
    {
     "data": {
      "image/png": "[encoded data removed]",
      "text/plain": [
       "<matplotlib.figure.Figure at 0x11f8fc650>"
      ]
     },
     "metadata": {},
     "output_type": "display_data"
    }
   ],
   "source": [
    "model_data['seconds_to_purchase'].hist(range=(0,50))"
   ]
  },
  {
   "cell_type": "code",
   "execution_count": 842,
   "metadata": {
    "collapsed": false
   },
   "outputs": [
    {
     "data": {
      "text/plain": [
       "[<matplotlib.lines.Line2D at 0x196314c10>]"
      ]
     },
     "execution_count": 842,
     "metadata": {},
     "output_type": "execute_result"
    },
    {
     "data": {
      "image/png": "[encoded data removed]",
      "text/plain": [
       "<matplotlib.figure.Figure at 0x115e9c390>"
      ]
     },
     "metadata": {},
     "output_type": "display_data"
    }
   ],
   "source": [
    "plt.plot(lsa.explained_variance_ratio_, 'bo')"
   ]
  },
  {
   "cell_type": "code",
   "execution_count": 26,
   "metadata": {
    "collapsed": true
   },
   "outputs": [],
   "source": [
    "features = model_data[['customer.id','buyer_accepts_marketing', 'payment_details.credit_card_company', 'referring_domain',\n",
    "                       'total_price', 'total_weight', 'discount_type', 'device', 'shipping_meth', 'items', 'message',\n",
    "                      'seconds_to_purchase', 'month_of_purchase']]\n",
    "\n",
    "target = model_data['target']\n",
    "\n",
    "X_train, X_test, y_train, y_test = train_test_split(features, target, test_size = .3, random_state=42)"
   ]
  },
  {
   "cell_type": "code",
   "execution_count": null,
   "metadata": {
    "collapsed": true
   },
   "outputs": [],
   "source": [
    "def get_unique_items(series):\n",
    "    items = []\n",
    "    for row in series:\n",
    "        if pd.isnull(row) == True:\n",
    "            continue\n",
    "        else:\n",
    "            for r in row.split(','):\n",
    "                items.append(r)\n",
    "    return list(set(items))\n",
    "\n",
    "items = get_unique_items(features['items'])\n",
    "items = [i.strip(' ').lower() for i in items]\n",
    "items = list(set(items))"
   ]
  },
  {
   "cell_type": "code",
   "execution_count": 29,
   "metadata": {
    "collapsed": false
   },
   "outputs": [],
   "source": [
    "mapper = DataFrameMapper([\n",
    "        ('payment_details.credit_card_company', LabelBinarizer()),\n",
    "        ('buyer_accepts_marketing', LabelBinarizer()),\n",
    "        ('referring_domain', LabelBinarizer()),\n",
    "        ('discount_type', LabelBinarizer()),\n",
    "        ('device', LabelBinarizer()),\n",
    "        ('shipping_meth', LabelBinarizer()),\n",
    "        ('items', [TfidfVectorizer(vocabulary=items), TruncatedSVD(5)]),\n",
    "        ('message', [TfidfVectorizer(vocabulary=items), TruncatedSVD(10)]),\n",
    "        ('total_price', None),\n",
    "        ('total_weight', None),\n",
    "        ('seconds_to_purchase', None),\n",
    "        ('month_of_purchase', None)\n",
    "    ])\n",
    "\n",
    "mapper2 = DataFrameMapper([\n",
    "        ('payment_details.credit_card_company', LabelBinarizer()),\n",
    "        ('buyer_accepts_marketing', LabelBinarizer()),\n",
    "        ('referring_domain', LabelBinarizer()),\n",
    "        ('discount_type', LabelBinarizer()),\n",
    "        ('device', LabelBinarizer()),\n",
    "        ('shipping_meth', LabelBinarizer()),\n",
    "        ('items', [TfidfVectorizer(vocabulary=items), TruncatedSVD(5)]),\n",
    "        ('message', [TfidfVectorizer(vocabulary=items), TruncatedSVD(10)]),\n",
    "        ('total_price', None),\n",
    "        ('total_weight', None),\n",
    "        ('seconds_to_purchase', None),\n",
    "        ('month_of_purchase', None)\n",
    "    ], df_out=True)"
   ]
  },
  {
   "cell_type": "code",
   "execution_count": 30,
   "metadata": {
    "collapsed": false
   },
   "outputs": [],
   "source": [
    "mapper_df = mapper2.fit_transform(features)"
   ]
  },
  {
   "cell_type": "code",
   "execution_count": 31,
   "metadata": {
    "collapsed": true
   },
   "outputs": [],
   "source": [
    "pipe = Pipeline([\n",
    "    ('featurize', mapper),\n",
    "    ('rf', RandomForestClassifier(n_estimators=500, max_features='sqrt'))]\n",
    "    )"
   ]
  },
  {
   "cell_type": "code",
   "execution_count": 32,
   "metadata": {
    "collapsed": false
   },
   "outputs": [
    {
     "data": {
      "text/plain": [
       "Pipeline(steps=[('featurize', DataFrameMapper(default=False, df_out=False,\n",
       "        features=[('payment_details.credit_card_company', LabelBinarizer(neg_label=0, pos_label=1, sparse_output=False)), ('buyer_accepts_marketing', LabelBinarizer(neg_label=0, pos_label=1, sparse_output=False)), ('referring_domain',...n_jobs=1,\n",
       "            oob_score=False, random_state=None, verbose=0,\n",
       "            warm_start=False))])"
      ]
     },
     "execution_count": 32,
     "metadata": {},
     "output_type": "execute_result"
    }
   ],
   "source": [
    "pipe.fit(X_train, y_train.astype(int))"
   ]
  },
  {
   "cell_type": "code",
   "execution_count": 35,
   "metadata": {
    "collapsed": false
   },
   "outputs": [],
   "source": [
    "from sklearn.metrics import accuracy_score, precision_recall_curve, recall_score, precision_score, confusion_matrix"
   ]
  },
  {
   "cell_type": "code",
   "execution_count": 36,
   "metadata": {
    "collapsed": false
   },
   "outputs": [],
   "source": [
    "pred_prob = pipe.predict_proba(X_test)"
   ]
  },
  {
   "cell_type": "code",
   "execution_count": 37,
   "metadata": {
    "collapsed": false
   },
   "outputs": [],
   "source": [
    "prec, recall, thresh = precision_recall_curve(y_test, pred_prob[:,1])"
   ]
  },
  {
   "cell_type": "code",
   "execution_count": 38,
   "metadata": {
    "collapsed": false
   },
   "outputs": [
    {
     "data": {
      "text/plain": [
       "[<matplotlib.lines.Line2D at 0x12b6fbd50>]"
      ]
     },
     "execution_count": 38,
     "metadata": {},
     "output_type": "execute_result"
    },
    {
     "data": {
      "image/png": "[encoded data removed]",
      "text/plain": [
       "<matplotlib.figure.Figure at 0x1177f3bd0>"
      ]
     },
     "metadata": {},
     "output_type": "display_data"
    }
   ],
   "source": [
    "plt.plot(prec[0:-1], recall[0:-1])"
   ]
  },
  {
   "cell_type": "code",
   "execution_count": 567,
   "metadata": {
    "collapsed": false
   },
   "outputs": [],
   "source": [
    "API_KEY = \"\"\n",
    "PASSWORD = \"\"\n",
    "shop_url = \"https://%s:%s@boxfox.myshopify.com/admin/\" % (API_KEY, PASSWORD)\n",
    "shopify.ShopifyResource.set_site(shop_url)"
   ]
  },
  {
   "cell_type": "code",
   "execution_count": 147,
   "metadata": {
    "collapsed": true
   },
   "outputs": [],
   "source": [
    "import ml_insights as mli"
   ]
  },
  {
   "cell_type": "code",
   "execution_count": 851,
   "metadata": {
    "collapsed": false
   },
   "outputs": [
    {
     "data": {
      "text/plain": [
       "array([ 0.368,  0.116,  0.192, ...,  0.13 ,  0.288,  0.134])"
      ]
     },
     "execution_count": 851,
     "metadata": {},
     "output_type": "execute_result"
    }
   ],
   "source": [
    "pred_prob[:,1][np.where(pred_prob[:,1] < .4)]"
   ]
  },
  {
   "cell_type": "code",
   "execution_count": 39,
   "metadata": {
    "collapsed": false
   },
   "outputs": [
    {
     "data": {
      "text/plain": [
       "<matplotlib.text.Text at 0x1177864d0>"
      ]
     },
     "execution_count": 39,
     "metadata": {},
     "output_type": "execute_result"
    },
    {
     "data": {
      "image/png": "[encoded data removed]",
      "text/plain": [
       "<matplotlib.figure.Figure at 0x12b73bcd0>"
      ]
     },
     "metadata": {},
     "output_type": "display_data"
    }
   ],
   "source": [
    "plt.hist(pred_prob[:, 1], bins = 20, color= 'grey')\n",
    "plt.xlabel('Likelihood of Returning Customer')\n",
    "plt.ylabel('Customers')\n",
    "plt.ylim(0, 250)\n",
    "plt.title('Model Prediction Histogram')"
   ]
  },
  {
   "cell_type": "code",
   "execution_count": 852,
   "metadata": {
    "collapsed": false
   },
   "outputs": [],
   "source": [
    "\n",
    "more = X_test.iloc[np.where(pred_prob[:,1] >= .40)]\n",
    "less = X_test.iloc[np.where(pred_prob[:,1] < .10)]"
   ]
  },
  {
   "cell_type": "code",
   "execution_count": 143,
   "metadata": {
    "collapsed": false
   },
   "outputs": [
    {
     "data": {
      "text/plain": [
       "12    32.518337\n",
       "2     30.073350\n",
       "1     22.004890\n",
       "3     12.469438\n",
       "11     2.933985\n",
       "Name: month_of_purchase, dtype: float64"
      ]
     },
     "execution_count": 143,
     "metadata": {},
     "output_type": "execute_result"
    }
   ],
   "source": [
    "100 * less['month_of_purchase'].value_counts()/len(less['month_of_purchase'])"
   ]
  },
  {
   "cell_type": "code",
   "execution_count": 140,
   "metadata": {
    "collapsed": false
   },
   "outputs": [
    {
     "data": {
      "text/plain": [
       "74.95671140939594"
      ]
     },
     "execution_count": 140,
     "metadata": {},
     "output_type": "execute_result"
    }
   ],
   "source": [
    "more['total_price'].mean()"
   ]
  },
  {
   "cell_type": "code",
   "execution_count": 128,
   "metadata": {
    "collapsed": false
   },
   "outputs": [
    {
     "name": "stdout",
     "output_type": "stream",
     "text": [
      "88.1205623472\n",
      "74.9567114094\n",
      "80.9769258122\n"
     ]
    }
   ],
   "source": [
    "print(less['total_price'].mean())\n",
    "print(more['total_price'].mean())\n",
    "print(features['total_price'].mean())"
   ]
  },
  {
   "cell_type": "code",
   "execution_count": 297,
   "metadata": {
    "collapsed": false
   },
   "outputs": [
    {
     "data": {
      "text/plain": [
       "12    0.153796\n",
       "11    0.103403\n",
       "8     0.100785\n",
       "2     0.100131\n",
       "3     0.096204\n",
       "7     0.080497\n",
       "9     0.074607\n",
       "4     0.072644\n",
       "10    0.067408\n",
       "5     0.056283\n",
       "6     0.049738\n",
       "1     0.044503\n",
       "Name: month_of_purchase, dtype: float64"
      ]
     },
     "execution_count": 297,
     "metadata": {},
     "output_type": "execute_result"
    }
   ],
   "source": [
    "model_data.loc[model_data['target'] == 1,\n",
    "               'month_of_purchase'].value_counts() /model_data[model_data['target'] == 1].shape[0]"
   ]
  },
  {
   "cell_type": "code",
   "execution_count": 296,
   "metadata": {
    "collapsed": false
   },
   "outputs": [
    {
     "data": {
      "text/plain": [
       "12    0.156042\n",
       "2     0.142734\n",
       "3     0.101095\n",
       "11    0.092724\n",
       "1     0.091221\n",
       "8     0.085855\n",
       "9     0.076841\n",
       "10    0.074694\n",
       "4     0.055162\n",
       "5     0.048508\n",
       "7     0.047435\n",
       "6     0.027688\n",
       "Name: month_of_purchase, dtype: float64"
      ]
     },
     "execution_count": 296,
     "metadata": {},
     "output_type": "execute_result"
    }
   ],
   "source": [
    "model_data.loc[model_data['target'] == 0,\n",
    "               'month_of_purchase'].value_counts() / model_data[model_data['target'] == 0].shape[0]"
   ]
  },
  {
   "cell_type": "code",
   "execution_count": 290,
   "metadata": {
    "collapsed": false
   },
   "outputs": [
    {
     "data": {
      "text/plain": [
       "6187"
      ]
     },
     "execution_count": 290,
     "metadata": {},
     "output_type": "execute_result"
    }
   ],
   "source": [
    "len(features['month_of_purchase'])"
   ]
  },
  {
   "cell_type": "code",
   "execution_count": 293,
   "metadata": {
    "collapsed": false
   },
   "outputs": [
    {
     "data": {
      "text/plain": [
       "2     35.570470\n",
       "12    28.859060\n",
       "1     20.134228\n",
       "3     12.080537\n",
       "11     3.355705\n",
       "Name: month_of_purchase, dtype: float64"
      ]
     },
     "execution_count": 293,
     "metadata": {},
     "output_type": "execute_result"
    }
   ],
   "source": [
    "100 * more['month_of_purchase'].value_counts() / len(more['month_of_purchase'])"
   ]
  },
  {
   "cell_type": "code",
   "execution_count": 292,
   "metadata": {
    "collapsed": false
   },
   "outputs": [
    {
     "data": {
      "text/plain": [
       "12    15.548731\n",
       "2     13.221270\n",
       "3      9.988686\n",
       "11     9.536124\n",
       "8      8.954259\n",
       "1      7.968321\n",
       "9      7.628899\n",
       "10     7.289478\n",
       "4      5.947955\n",
       "7      5.560045\n",
       "5      5.042832\n",
       "6      3.313399\n",
       "Name: month_of_purchase, dtype: float64"
      ]
     },
     "execution_count": 292,
     "metadata": {},
     "output_type": "execute_result"
    }
   ],
   "source": [
    "100 * features['month_of_purchase'].value_counts() / len(features['month_of_purchase'])"
   ]
  },
  {
   "cell_type": "code",
   "execution_count": 787,
   "metadata": {
    "collapsed": false
   },
   "outputs": [
    {
     "data": {
      "text/html": [
       "<div>\n",
       "<table border=\"1\" class=\"dataframe\">\n",
       "  <thead>\n",
       "    <tr style=\"text-align: right;\">\n",
       "      <th></th>\n",
       "      <th>customer.id</th>\n",
       "      <th>buyer_accepts_marketing</th>\n",
       "      <th>payment_details.credit_card_company</th>\n",
       "      <th>referring_domain</th>\n",
       "      <th>total_price</th>\n",
       "      <th>total_weight</th>\n",
       "      <th>discount_type</th>\n",
       "      <th>device</th>\n",
       "      <th>shipping_meth</th>\n",
       "      <th>items</th>\n",
       "      <th>message</th>\n",
       "      <th>seconds_to_purchase</th>\n",
       "      <th>month_of_purchase</th>\n",
       "    </tr>\n",
       "  </thead>\n",
       "  <tbody>\n",
       "    <tr>\n",
       "      <th>5322</th>\n",
       "      <td>1506366403</td>\n",
       "      <td>False</td>\n",
       "      <td>Visa</td>\n",
       "      <td>Facebook</td>\n",
       "      <td>60.75</td>\n",
       "      <td>454</td>\n",
       "      <td>None</td>\n",
       "      <td>Mac</td>\n",
       "      <td>USPS</td>\n",
       "      <td>Bling Wipes,  Hammond's ,  Kate Spade ,  Le P...</td>\n",
       "      <td>Happy Birthday Mom, I made this box full of li...</td>\n",
       "      <td>2.0</td>\n",
       "      <td>10</td>\n",
       "    </tr>\n",
       "    <tr>\n",
       "      <th>926</th>\n",
       "      <td>5314869772</td>\n",
       "      <td>True</td>\n",
       "      <td>American Express</td>\n",
       "      <td>Google</td>\n",
       "      <td>70.50</td>\n",
       "      <td>454</td>\n",
       "      <td>percentage</td>\n",
       "      <td>PC</td>\n",
       "      <td>USPS</td>\n",
       "      <td>Bling Wipes,  Drybar ,  Le Pens ,  Rifle Pape...</td>\n",
       "      <td>Chelsie Belsie,\\n\\nHappy Happy Birthday, my si...</td>\n",
       "      <td>1179.0</td>\n",
       "      <td>1</td>\n",
       "    </tr>\n",
       "    <tr>\n",
       "      <th>893</th>\n",
       "      <td>5627233804</td>\n",
       "      <td>True</td>\n",
       "      <td>American Express</td>\n",
       "      <td>Other</td>\n",
       "      <td>40.00</td>\n",
       "      <td>454</td>\n",
       "      <td>shipping</td>\n",
       "      <td>Mac</td>\n",
       "      <td>USPS</td>\n",
       "      <td>None</td>\n",
       "      <td>None</td>\n",
       "      <td>2.0</td>\n",
       "      <td>1</td>\n",
       "    </tr>\n",
       "    <tr>\n",
       "      <th>5223</th>\n",
       "      <td>1715193411</td>\n",
       "      <td>False</td>\n",
       "      <td>Visa</td>\n",
       "      <td>BoxFox</td>\n",
       "      <td>61.15</td>\n",
       "      <td>454</td>\n",
       "      <td>None</td>\n",
       "      <td>PC</td>\n",
       "      <td>USPS</td>\n",
       "      <td>Hammond's ,  Rose Macaron Limoge Trinket Tray...</td>\n",
       "      <td>take the time to celebrate you and everything ...</td>\n",
       "      <td>0.0</td>\n",
       "      <td>10</td>\n",
       "    </tr>\n",
       "    <tr>\n",
       "      <th>4410</th>\n",
       "      <td>2632123526</td>\n",
       "      <td>False</td>\n",
       "      <td>Visa</td>\n",
       "      <td>BoxFox</td>\n",
       "      <td>48.60</td>\n",
       "      <td>454</td>\n",
       "      <td>None</td>\n",
       "      <td>Mac</td>\n",
       "      <td>USPS</td>\n",
       "      <td>Ginger Beer,  Striped Straws ,  Sugarfina ,  ...</td>\n",
       "      <td>Matt &amp; Erin,\\n\\nI must be living under a rock,...</td>\n",
       "      <td>1.0</td>\n",
       "      <td>3</td>\n",
       "    </tr>\n",
       "  </tbody>\n",
       "</table>\n",
       "</div>"
      ],
      "text/plain": [
       "      customer.id buyer_accepts_marketing payment_details.credit_card_company  \\\n",
       "5322   1506366403                   False                                Visa   \n",
       "926    5314869772                    True                    American Express   \n",
       "893    5627233804                    True                    American Express   \n",
       "5223   1715193411                   False                                Visa   \n",
       "4410   2632123526                   False                                Visa   \n",
       "\n",
       "     referring_domain  total_price  total_weight discount_type device  \\\n",
       "5322         Facebook        60.75           454          None    Mac   \n",
       "926            Google        70.50           454    percentage     PC   \n",
       "893             Other        40.00           454      shipping    Mac   \n",
       "5223           BoxFox        61.15           454          None     PC   \n",
       "4410           BoxFox        48.60           454          None    Mac   \n",
       "\n",
       "     shipping_meth                                              items  \\\n",
       "5322          USPS   Bling Wipes,  Hammond's ,  Kate Spade ,  Le P...   \n",
       "926           USPS   Bling Wipes,  Drybar ,  Le Pens ,  Rifle Pape...   \n",
       "893           USPS                                               None   \n",
       "5223          USPS   Hammond's ,  Rose Macaron Limoge Trinket Tray...   \n",
       "4410          USPS   Ginger Beer,  Striped Straws ,  Sugarfina ,  ...   \n",
       "\n",
       "                                                message  seconds_to_purchase  \\\n",
       "5322  Happy Birthday Mom, I made this box full of li...                  2.0   \n",
       "926   Chelsie Belsie,\\n\\nHappy Happy Birthday, my si...               1179.0   \n",
       "893                                                None                  2.0   \n",
       "5223  take the time to celebrate you and everything ...                  0.0   \n",
       "4410  Matt & Erin,\\n\\nI must be living under a rock,...                  1.0   \n",
       "\n",
       "      month_of_purchase  \n",
       "5322                 10  \n",
       "926                   1  \n",
       "893                   1  \n",
       "5223                 10  \n",
       "4410                  3  "
      ]
     },
     "execution_count": 787,
     "metadata": {},
     "output_type": "execute_result"
    }
   ],
   "source": [
    "X_test.head()"
   ]
  },
  {
   "cell_type": "code",
   "execution_count": 78,
   "metadata": {
    "collapsed": false
   },
   "outputs": [
    {
     "data": {
      "text/plain": [
       "(0, 200)"
      ]
     },
     "execution_count": 78,
     "metadata": {},
     "output_type": "execute_result"
    },
    {
     "data": {
      "image/png": "[encoded data removed]",
      "text/plain": [
       "<matplotlib.figure.Figure at 0x12e139390>"
      ]
     },
     "metadata": {},
     "output_type": "display_data"
    }
   ],
   "source": [
    "plt.hist(pred_prob[:,1], bins = 23, color = 'grey')\n",
    "plt.ylim(0,200)"
   ]
  },
  {
   "cell_type": "code",
   "execution_count": 141,
   "metadata": {
    "collapsed": false
   },
   "outputs": [],
   "source": [
    "more = features.iloc[np.where(pred_prob[:,1] >= .486)[0]]\n",
    "less = features.iloc[np.where(pred_prob[:,1] < .125)[0]]"
   ]
  },
  {
   "cell_type": "code",
   "execution_count": 303,
   "metadata": {
    "collapsed": true
   },
   "outputs": [],
   "source": [
    "returning_cust = model_data['target'] == 1\n",
    "one_time_cust = model_data['target'] == 0"
   ]
  },
  {
   "cell_type": "code",
   "execution_count": 309,
   "metadata": {
    "collapsed": false
   },
   "outputs": [
    {
     "data": {
      "text/plain": [
       "83.63443717277393"
      ]
     },
     "execution_count": 309,
     "metadata": {},
     "output_type": "execute_result"
    }
   ],
   "source": [
    "model_data.loc[returning_cust, 'total_price'].mean()"
   ]
  },
  {
   "cell_type": "code",
   "execution_count": 310,
   "metadata": {
    "collapsed": false
   },
   "outputs": [
    {
     "data": {
      "text/plain": [
       "80.10534878729536"
      ]
     },
     "execution_count": 310,
     "metadata": {},
     "output_type": "execute_result"
    }
   ],
   "source": [
    "model_data.loc[one_time_cust, 'total_price'].mean()"
   ]
  },
  {
   "cell_type": "code",
   "execution_count": 308,
   "metadata": {
    "collapsed": false
   },
   "outputs": [
    {
     "data": {
      "image/png": "[encoded data removed]",
      "text/plain": [
       "<matplotlib.figure.Figure at 0x12e602110>"
      ]
     },
     "metadata": {},
     "output_type": "display_data"
    }
   ],
   "source": [
    "plt.hist(model_data.loc[returning_cust, 'total_price'], bins = 30, range = (0,250), alpha = .4,normed=True)\n",
    "plt.hist(model_data.loc[one_time_cust, 'total_price'], bins = 30, range = (0,250), alpha = .4, normed=True);"
   ]
  },
  {
   "cell_type": "code",
   "execution_count": 142,
   "metadata": {
    "collapsed": false
   },
   "outputs": [
    {
     "data": {
      "text/plain": [
       "74.95671140939594"
      ]
     },
     "execution_count": 142,
     "metadata": {},
     "output_type": "execute_result"
    }
   ],
   "source": [
    "more['total_price'].mean()"
   ]
  },
  {
   "cell_type": "code",
   "execution_count": 287,
   "metadata": {
    "collapsed": false
   },
   "outputs": [
    {
     "data": {
      "text/plain": [
       "(0, 200)"
      ]
     },
     "execution_count": 287,
     "metadata": {},
     "output_type": "execute_result"
    },
    {
     "data": {
      "image/png": "[encoded data removed]",
      "text/plain": [
       "<matplotlib.figure.Figure at 0x1239c1410>"
      ]
     },
     "metadata": {},
     "output_type": "display_data"
    }
   ],
   "source": [
    "plt.hist(pred_prob[:,1][np.where(pred_prob[:,1] < .125)], bins=3, color = '#ffa07a')\n",
    "plt.hist(pred_prob[:,1][np.where((pred_prob[:,1] < .486) & (pred_prob[:,1] >= .125))], bins=10, color='#FFFFCC')\n",
    "plt.hist(pred_prob[:,1][np.where(pred_prob[:,1] >= .486)],bins= 13, color = '#20D9D3')\n",
    "plt.ylim(0, 200)"
   ]
  },
  {
   "cell_type": "code",
   "execution_count": 68,
   "metadata": {
    "collapsed": false
   },
   "outputs": [
    {
     "data": {
      "text/plain": [
       "92.057081313947236"
      ]
     },
     "execution_count": 68,
     "metadata": {},
     "output_type": "execute_result"
    }
   ],
   "source": [
    "from scipy.stats import percentileofscore\n",
    "percentileofscore(pred_prob[:,1],  .486)"
   ]
  },
  {
   "cell_type": "code",
   "execution_count": 627,
   "metadata": {
    "collapsed": false
   },
   "outputs": [],
   "source": [
    "mxr = mli.ModelXRay(rfmod, mapper_df.sample(50), columns = ['referring_domain_Google', 'payment_details.credit_card_company_Visa', 'discount_type_None'])"
   ]
  },
  {
   "cell_type": "code",
   "execution_count": 628,
   "metadata": {
    "collapsed": false
   },
   "outputs": [
    {
     "data": {
      "image/png": "[encoded data removed]",
      "text/plain": [
       "<matplotlib.figure.Figure at 0x125f438d0>"
      ]
     },
     "metadata": {},
     "output_type": "display_data"
    }
   ],
   "source": [
    "indices = mxr.feature_dependence_plots()"
   ]
  },
  {
   "cell_type": "code",
   "execution_count": 264,
   "metadata": {
    "collapsed": false
   },
   "outputs": [
    {
     "data": {
      "text/plain": [
       "array([ 1, 56, 90, 57, 84])"
      ]
     },
     "execution_count": 264,
     "metadata": {},
     "output_type": "execute_result"
    }
   ],
   "source": [
    "indices"
   ]
  },
  {
   "cell_type": "code",
   "execution_count": 629,
   "metadata": {
    "collapsed": false
   },
   "outputs": [
    {
     "data": {
      "text/plain": [
       "Index([u'customer.id', u'buyer_accepts_marketing',\n",
       "       u'payment_details.credit_card_company', u'referring_domain',\n",
       "       u'total_price', u'total_weight', u'discount_type', u'device',\n",
       "       u'shipping_meth', u'items', u'message', u'seconds_to_purchase',\n",
       "       u'month_of_purchase'],\n",
       "      dtype='object')"
      ]
     },
     "execution_count": 629,
     "metadata": {},
     "output_type": "execute_result"
    }
   ],
   "source": [
    "features.columns"
   ]
  },
  {
   "cell_type": "code",
   "execution_count": 263,
   "metadata": {
    "collapsed": false
   },
   "outputs": [
    {
     "data": {
      "text/html": [
       "<div>\n",
       "<table border=\"1\" class=\"dataframe\">\n",
       "  <thead>\n",
       "    <tr style=\"text-align: right;\">\n",
       "      <th></th>\n",
       "      <th>payment_details.credit_card_company_American Express</th>\n",
       "      <th>payment_details.credit_card_company_Discover</th>\n",
       "      <th>payment_details.credit_card_company_Mastercard</th>\n",
       "      <th>payment_details.credit_card_company_None</th>\n",
       "      <th>payment_details.credit_card_company_Visa</th>\n",
       "      <th>buyer_accepts_marketing</th>\n",
       "      <th>referring_domain_Bing</th>\n",
       "      <th>referring_domain_BoxFox</th>\n",
       "      <th>referring_domain_Facebook</th>\n",
       "      <th>referring_domain_Glitter Guide</th>\n",
       "      <th>...</th>\n",
       "      <th>items_9</th>\n",
       "      <th>message_0</th>\n",
       "      <th>message_1</th>\n",
       "      <th>message_2</th>\n",
       "      <th>message_3</th>\n",
       "      <th>message_4</th>\n",
       "      <th>total_price</th>\n",
       "      <th>total_weight</th>\n",
       "      <th>seconds_to_purchase</th>\n",
       "      <th>month_of_purchase</th>\n",
       "    </tr>\n",
       "  </thead>\n",
       "  <tbody>\n",
       "    <tr>\n",
       "      <th>1</th>\n",
       "      <td>0.0</td>\n",
       "      <td>0.0</td>\n",
       "      <td>0.0</td>\n",
       "      <td>0.0</td>\n",
       "      <td>1.0</td>\n",
       "      <td>0.0</td>\n",
       "      <td>0.0</td>\n",
       "      <td>0.0</td>\n",
       "      <td>0.0</td>\n",
       "      <td>0.0</td>\n",
       "      <td>...</td>\n",
       "      <td>0.530276</td>\n",
       "      <td>0.0</td>\n",
       "      <td>0.0</td>\n",
       "      <td>0.0</td>\n",
       "      <td>0.0</td>\n",
       "      <td>0.0</td>\n",
       "      <td>0.139507</td>\n",
       "      <td>1.173888</td>\n",
       "      <td>-0.381177</td>\n",
       "      <td>-0.987272</td>\n",
       "    </tr>\n",
       "    <tr>\n",
       "      <th>56</th>\n",
       "      <td>0.0</td>\n",
       "      <td>0.0</td>\n",
       "      <td>0.0</td>\n",
       "      <td>0.0</td>\n",
       "      <td>1.0</td>\n",
       "      <td>1.0</td>\n",
       "      <td>0.0</td>\n",
       "      <td>0.0</td>\n",
       "      <td>0.0</td>\n",
       "      <td>0.0</td>\n",
       "      <td>...</td>\n",
       "      <td>-0.156156</td>\n",
       "      <td>0.0</td>\n",
       "      <td>0.0</td>\n",
       "      <td>0.0</td>\n",
       "      <td>0.0</td>\n",
       "      <td>0.0</td>\n",
       "      <td>-0.154340</td>\n",
       "      <td>1.173888</td>\n",
       "      <td>-0.390154</td>\n",
       "      <td>-0.987272</td>\n",
       "    </tr>\n",
       "    <tr>\n",
       "      <th>90</th>\n",
       "      <td>0.0</td>\n",
       "      <td>0.0</td>\n",
       "      <td>0.0</td>\n",
       "      <td>0.0</td>\n",
       "      <td>1.0</td>\n",
       "      <td>1.0</td>\n",
       "      <td>0.0</td>\n",
       "      <td>0.0</td>\n",
       "      <td>0.0</td>\n",
       "      <td>0.0</td>\n",
       "      <td>...</td>\n",
       "      <td>0.000000</td>\n",
       "      <td>0.0</td>\n",
       "      <td>0.0</td>\n",
       "      <td>0.0</td>\n",
       "      <td>0.0</td>\n",
       "      <td>0.0</td>\n",
       "      <td>-0.213228</td>\n",
       "      <td>1.173888</td>\n",
       "      <td>3.871016</td>\n",
       "      <td>-0.987272</td>\n",
       "    </tr>\n",
       "    <tr>\n",
       "      <th>57</th>\n",
       "      <td>0.0</td>\n",
       "      <td>0.0</td>\n",
       "      <td>0.0</td>\n",
       "      <td>0.0</td>\n",
       "      <td>1.0</td>\n",
       "      <td>1.0</td>\n",
       "      <td>0.0</td>\n",
       "      <td>0.0</td>\n",
       "      <td>0.0</td>\n",
       "      <td>0.0</td>\n",
       "      <td>...</td>\n",
       "      <td>-0.156156</td>\n",
       "      <td>0.0</td>\n",
       "      <td>0.0</td>\n",
       "      <td>0.0</td>\n",
       "      <td>0.0</td>\n",
       "      <td>0.0</td>\n",
       "      <td>-0.154340</td>\n",
       "      <td>1.173888</td>\n",
       "      <td>-0.390154</td>\n",
       "      <td>-0.987272</td>\n",
       "    </tr>\n",
       "    <tr>\n",
       "      <th>84</th>\n",
       "      <td>0.0</td>\n",
       "      <td>0.0</td>\n",
       "      <td>0.0</td>\n",
       "      <td>0.0</td>\n",
       "      <td>1.0</td>\n",
       "      <td>1.0</td>\n",
       "      <td>0.0</td>\n",
       "      <td>0.0</td>\n",
       "      <td>0.0</td>\n",
       "      <td>0.0</td>\n",
       "      <td>...</td>\n",
       "      <td>-0.010946</td>\n",
       "      <td>0.0</td>\n",
       "      <td>0.0</td>\n",
       "      <td>0.0</td>\n",
       "      <td>0.0</td>\n",
       "      <td>0.0</td>\n",
       "      <td>-0.402509</td>\n",
       "      <td>1.173888</td>\n",
       "      <td>1.016271</td>\n",
       "      <td>-0.987272</td>\n",
       "    </tr>\n",
       "  </tbody>\n",
       "</table>\n",
       "<p>5 rows × 50 columns</p>\n",
       "</div>"
      ],
      "text/plain": [
       "    payment_details.credit_card_company_American Express  \\\n",
       "1                                                 0.0      \n",
       "56                                                0.0      \n",
       "90                                                0.0      \n",
       "57                                                0.0      \n",
       "84                                                0.0      \n",
       "\n",
       "    payment_details.credit_card_company_Discover  \\\n",
       "1                                            0.0   \n",
       "56                                           0.0   \n",
       "90                                           0.0   \n",
       "57                                           0.0   \n",
       "84                                           0.0   \n",
       "\n",
       "    payment_details.credit_card_company_Mastercard  \\\n",
       "1                                              0.0   \n",
       "56                                             0.0   \n",
       "90                                             0.0   \n",
       "57                                             0.0   \n",
       "84                                             0.0   \n",
       "\n",
       "    payment_details.credit_card_company_None  \\\n",
       "1                                        0.0   \n",
       "56                                       0.0   \n",
       "90                                       0.0   \n",
       "57                                       0.0   \n",
       "84                                       0.0   \n",
       "\n",
       "    payment_details.credit_card_company_Visa  buyer_accepts_marketing  \\\n",
       "1                                        1.0                      0.0   \n",
       "56                                       1.0                      1.0   \n",
       "90                                       1.0                      1.0   \n",
       "57                                       1.0                      1.0   \n",
       "84                                       1.0                      1.0   \n",
       "\n",
       "    referring_domain_Bing  referring_domain_BoxFox  referring_domain_Facebook  \\\n",
       "1                     0.0                      0.0                        0.0   \n",
       "56                    0.0                      0.0                        0.0   \n",
       "90                    0.0                      0.0                        0.0   \n",
       "57                    0.0                      0.0                        0.0   \n",
       "84                    0.0                      0.0                        0.0   \n",
       "\n",
       "    referring_domain_Glitter Guide        ...           items_9  message_0  \\\n",
       "1                              0.0        ...          0.530276        0.0   \n",
       "56                             0.0        ...         -0.156156        0.0   \n",
       "90                             0.0        ...          0.000000        0.0   \n",
       "57                             0.0        ...         -0.156156        0.0   \n",
       "84                             0.0        ...         -0.010946        0.0   \n",
       "\n",
       "    message_1  message_2  message_3  message_4  total_price  total_weight  \\\n",
       "1         0.0        0.0        0.0        0.0     0.139507      1.173888   \n",
       "56        0.0        0.0        0.0        0.0    -0.154340      1.173888   \n",
       "90        0.0        0.0        0.0        0.0    -0.213228      1.173888   \n",
       "57        0.0        0.0        0.0        0.0    -0.154340      1.173888   \n",
       "84        0.0        0.0        0.0        0.0    -0.402509      1.173888   \n",
       "\n",
       "    seconds_to_purchase  month_of_purchase  \n",
       "1             -0.381177          -0.987272  \n",
       "56            -0.390154          -0.987272  \n",
       "90             3.871016          -0.987272  \n",
       "57            -0.390154          -0.987272  \n",
       "84             1.016271          -0.987272  \n",
       "\n",
       "[5 rows x 50 columns]"
      ]
     },
     "execution_count": 263,
     "metadata": {},
     "output_type": "execute_result"
    }
   ],
   "source": [
    "mapper_df.loc[indices,:]"
   ]
  },
  {
   "cell_type": "code",
   "execution_count": 154,
   "metadata": {
    "collapsed": false
   },
   "outputs": [
    {
     "data": {
      "text/plain": [
       "total_price                                             0.199479\n",
       "seconds_to_purchase                                     0.150344\n",
       "month_of_purchase                                       0.121787\n",
       "items_4                                                 0.045686\n",
       "items_3                                                 0.041900\n",
       "items_2                                                 0.041442\n",
       "items_1                                                 0.040780\n",
       "items_0                                                 0.040776\n",
       "buyer_accepts_marketing                                 0.031970\n",
       "payment_details.credit_card_company_Visa                0.022560\n",
       "device_PC                                               0.020277\n",
       "device_Mac                                              0.019822\n",
       "referring_domain_Google                                 0.019761\n",
       "total_weight                                            0.018719\n",
       "referring_domain_Other                                  0.017871\n",
       "payment_details.credit_card_company_Mastercard          0.017783\n",
       "payment_details.credit_card_company_American Express    0.016993\n",
       "referring_domain_BoxFox                                 0.016463\n",
       "discount_type_None                                      0.016139\n",
       "discount_type_shipping                                  0.016014\n",
       "message_0                                               0.014558\n",
       "shipping_meth_USPS                                      0.013435\n",
       "shipping_meth_Other                                     0.011388\n",
       "referring_domain_mydomaine                              0.005709\n",
       "shipping_meth_FedEx                                     0.004562\n",
       "payment_details.credit_card_company_Discover            0.004429\n",
       "shipping_meth_Local Pick-up                             0.004005\n",
       "referring_domain_instagram                              0.003967\n",
       "discount_type_percentage                                0.003793\n",
       "device_Android                                          0.002807\n",
       "referring_domain_Bing                                   0.002381\n",
       "referring_domain_Facebook                               0.001534\n",
       "referring_domain_Pinterest                              0.001505\n",
       "referring_domain_Glitter Guide                          0.001463\n",
       "referring_domain_Yahoo                                  0.001417\n",
       "payment_details.credit_card_company_None                0.001274\n",
       "discount_type_fixed_amount                              0.001071\n",
       "shipping_meth_UPS                                       0.000863\n",
       "referring_domain_Refinery 29                            0.000821\n",
       "shipping_meth_Postmates                                 0.000607\n",
       "device_Other                                            0.000587\n",
       "message_4                                               0.000379\n",
       "message_3                                               0.000321\n",
       "message_2                                               0.000307\n",
       "message_1                                               0.000252\n",
       "message_9                                               0.000000\n",
       "message_5                                               0.000000\n",
       "message_6                                               0.000000\n",
       "message_8                                               0.000000\n",
       "message_7                                               0.000000\n",
       "dtype: float64"
      ]
     },
     "execution_count": 154,
     "metadata": {},
     "output_type": "execute_result"
    }
   ],
   "source": [
    "pd.Series(index=mapper_df.columns, data=pipe.steps[-1][1].feature_importances_).sort_values(ascending=False)"
   ]
  },
  {
   "cell_type": "code",
   "execution_count": 87,
   "metadata": {
    "collapsed": false
   },
   "outputs": [
    {
     "data": {
      "text/plain": [
       "Mac        70.534993\n",
       "PC         28.042670\n",
       "Android     1.099079\n",
       "Other       0.323258\n",
       "Name: device, dtype: float64"
      ]
     },
     "execution_count": 87,
     "metadata": {},
     "output_type": "execute_result"
    }
   ],
   "source": [
    "100 * features['device'].value_counts()/len(features['device'])"
   ]
  },
  {
   "cell_type": "code",
   "execution_count": 43,
   "metadata": {
    "collapsed": false
   },
   "outputs": [],
   "source": [
    "pr_df = pd.DataFrame({'threshhold': thresh, 'precision': prec[0:-1], 'recall': recall[0:-1]}).sort_values(by='precision',\n",
    "            ascending=False)"
   ]
  },
  {
   "cell_type": "code",
   "execution_count": 44,
   "metadata": {
    "collapsed": false
   },
   "outputs": [
    {
     "data": {
      "text/html": [
       "<div>\n",
       "<table border=\"1\" class=\"dataframe\">\n",
       "  <thead>\n",
       "    <tr style=\"text-align: right;\">\n",
       "      <th></th>\n",
       "      <th>precision</th>\n",
       "      <th>recall</th>\n",
       "      <th>threshhold</th>\n",
       "    </tr>\n",
       "  </thead>\n",
       "  <tbody>\n",
       "    <tr>\n",
       "      <th>382</th>\n",
       "      <td>1.000000</td>\n",
       "      <td>0.002137</td>\n",
       "      <td>0.870000</td>\n",
       "    </tr>\n",
       "    <tr>\n",
       "      <th>381</th>\n",
       "      <td>0.500000</td>\n",
       "      <td>0.002137</td>\n",
       "      <td>0.830000</td>\n",
       "    </tr>\n",
       "    <tr>\n",
       "      <th>367</th>\n",
       "      <td>0.500000</td>\n",
       "      <td>0.019231</td>\n",
       "      <td>0.666000</td>\n",
       "    </tr>\n",
       "    <tr>\n",
       "      <th>369</th>\n",
       "      <td>0.500000</td>\n",
       "      <td>0.017094</td>\n",
       "      <td>0.672000</td>\n",
       "    </tr>\n",
       "    <tr>\n",
       "      <th>371</th>\n",
       "      <td>0.500000</td>\n",
       "      <td>0.014957</td>\n",
       "      <td>0.678000</td>\n",
       "    </tr>\n",
       "    <tr>\n",
       "      <th>368</th>\n",
       "      <td>0.470588</td>\n",
       "      <td>0.017094</td>\n",
       "      <td>0.668000</td>\n",
       "    </tr>\n",
       "    <tr>\n",
       "      <th>370</th>\n",
       "      <td>0.466667</td>\n",
       "      <td>0.014957</td>\n",
       "      <td>0.676000</td>\n",
       "    </tr>\n",
       "    <tr>\n",
       "      <th>372</th>\n",
       "      <td>0.461538</td>\n",
       "      <td>0.012821</td>\n",
       "      <td>0.682000</td>\n",
       "    </tr>\n",
       "    <tr>\n",
       "      <th>366</th>\n",
       "      <td>0.450000</td>\n",
       "      <td>0.019231</td>\n",
       "      <td>0.664000</td>\n",
       "    </tr>\n",
       "    <tr>\n",
       "      <th>359</th>\n",
       "      <td>0.448276</td>\n",
       "      <td>0.027778</td>\n",
       "      <td>0.632000</td>\n",
       "    </tr>\n",
       "    <tr>\n",
       "      <th>375</th>\n",
       "      <td>0.444444</td>\n",
       "      <td>0.008547</td>\n",
       "      <td>0.704000</td>\n",
       "    </tr>\n",
       "    <tr>\n",
       "      <th>358</th>\n",
       "      <td>0.433333</td>\n",
       "      <td>0.027778</td>\n",
       "      <td>0.630000</td>\n",
       "    </tr>\n",
       "    <tr>\n",
       "      <th>365</th>\n",
       "      <td>0.428571</td>\n",
       "      <td>0.019231</td>\n",
       "      <td>0.662000</td>\n",
       "    </tr>\n",
       "    <tr>\n",
       "      <th>355</th>\n",
       "      <td>0.424242</td>\n",
       "      <td>0.029915</td>\n",
       "      <td>0.624000</td>\n",
       "    </tr>\n",
       "    <tr>\n",
       "      <th>324</th>\n",
       "      <td>0.423529</td>\n",
       "      <td>0.076923</td>\n",
       "      <td>0.545138</td>\n",
       "    </tr>\n",
       "    <tr>\n",
       "      <th>326</th>\n",
       "      <td>0.421687</td>\n",
       "      <td>0.074786</td>\n",
       "      <td>0.552000</td>\n",
       "    </tr>\n",
       "    <tr>\n",
       "      <th>327</th>\n",
       "      <td>0.419753</td>\n",
       "      <td>0.072650</td>\n",
       "      <td>0.552333</td>\n",
       "    </tr>\n",
       "    <tr>\n",
       "      <th>357</th>\n",
       "      <td>0.419355</td>\n",
       "      <td>0.027778</td>\n",
       "      <td>0.628000</td>\n",
       "    </tr>\n",
       "    <tr>\n",
       "      <th>323</th>\n",
       "      <td>0.418605</td>\n",
       "      <td>0.076923</td>\n",
       "      <td>0.544000</td>\n",
       "    </tr>\n",
       "    <tr>\n",
       "      <th>373</th>\n",
       "      <td>0.416667</td>\n",
       "      <td>0.010684</td>\n",
       "      <td>0.686000</td>\n",
       "    </tr>\n",
       "    <tr>\n",
       "      <th>325</th>\n",
       "      <td>0.416667</td>\n",
       "      <td>0.074786</td>\n",
       "      <td>0.546000</td>\n",
       "    </tr>\n",
       "    <tr>\n",
       "      <th>330</th>\n",
       "      <td>0.415584</td>\n",
       "      <td>0.068376</td>\n",
       "      <td>0.560000</td>\n",
       "    </tr>\n",
       "    <tr>\n",
       "      <th>321</th>\n",
       "      <td>0.413043</td>\n",
       "      <td>0.081197</td>\n",
       "      <td>0.540000</td>\n",
       "    </tr>\n",
       "    <tr>\n",
       "      <th>328</th>\n",
       "      <td>0.412500</td>\n",
       "      <td>0.070513</td>\n",
       "      <td>0.554000</td>\n",
       "    </tr>\n",
       "    <tr>\n",
       "      <th>329</th>\n",
       "      <td>0.410256</td>\n",
       "      <td>0.068376</td>\n",
       "      <td>0.558000</td>\n",
       "    </tr>\n",
       "    <tr>\n",
       "      <th>296</th>\n",
       "      <td>0.408805</td>\n",
       "      <td>0.138889</td>\n",
       "      <td>0.482000</td>\n",
       "    </tr>\n",
       "    <tr>\n",
       "      <th>360</th>\n",
       "      <td>0.407407</td>\n",
       "      <td>0.023504</td>\n",
       "      <td>0.634000</td>\n",
       "    </tr>\n",
       "    <tr>\n",
       "      <th>322</th>\n",
       "      <td>0.406593</td>\n",
       "      <td>0.079060</td>\n",
       "      <td>0.542000</td>\n",
       "    </tr>\n",
       "    <tr>\n",
       "      <th>356</th>\n",
       "      <td>0.406250</td>\n",
       "      <td>0.027778</td>\n",
       "      <td>0.626000</td>\n",
       "    </tr>\n",
       "    <tr>\n",
       "      <th>333</th>\n",
       "      <td>0.405797</td>\n",
       "      <td>0.059829</td>\n",
       "      <td>0.568000</td>\n",
       "    </tr>\n",
       "  </tbody>\n",
       "</table>\n",
       "</div>"
      ],
      "text/plain": [
       "     precision    recall  threshhold\n",
       "382   1.000000  0.002137    0.870000\n",
       "381   0.500000  0.002137    0.830000\n",
       "367   0.500000  0.019231    0.666000\n",
       "369   0.500000  0.017094    0.672000\n",
       "371   0.500000  0.014957    0.678000\n",
       "368   0.470588  0.017094    0.668000\n",
       "370   0.466667  0.014957    0.676000\n",
       "372   0.461538  0.012821    0.682000\n",
       "366   0.450000  0.019231    0.664000\n",
       "359   0.448276  0.027778    0.632000\n",
       "375   0.444444  0.008547    0.704000\n",
       "358   0.433333  0.027778    0.630000\n",
       "365   0.428571  0.019231    0.662000\n",
       "355   0.424242  0.029915    0.624000\n",
       "324   0.423529  0.076923    0.545138\n",
       "326   0.421687  0.074786    0.552000\n",
       "327   0.419753  0.072650    0.552333\n",
       "357   0.419355  0.027778    0.628000\n",
       "323   0.418605  0.076923    0.544000\n",
       "373   0.416667  0.010684    0.686000\n",
       "325   0.416667  0.074786    0.546000\n",
       "330   0.415584  0.068376    0.560000\n",
       "321   0.413043  0.081197    0.540000\n",
       "328   0.412500  0.070513    0.554000\n",
       "329   0.410256  0.068376    0.558000\n",
       "296   0.408805  0.138889    0.482000\n",
       "360   0.407407  0.023504    0.634000\n",
       "322   0.406593  0.079060    0.542000\n",
       "356   0.406250  0.027778    0.626000\n",
       "333   0.405797  0.059829    0.568000"
      ]
     },
     "execution_count": 44,
     "metadata": {},
     "output_type": "execute_result"
    }
   ],
   "source": [
    "pr_df[(pr_df['precision']>= .4)].head(30)"
   ]
  },
  {
   "cell_type": "code",
   "execution_count": 47,
   "metadata": {
    "collapsed": false
   },
   "outputs": [
    {
     "data": {
      "text/plain": [
       "(array([291, 292, 295, 296, 297, 302, 303, 319, 320, 321, 322, 323, 324,\n",
       "        325, 326, 327, 328, 329, 330, 331, 333, 355, 356, 357, 358, 359,\n",
       "        360, 365, 366, 367, 368, 369, 370, 371, 372, 373, 374, 375, 379,\n",
       "        381, 382, 383]),)"
      ]
     },
     "execution_count": 47,
     "metadata": {},
     "output_type": "execute_result"
    }
   ],
   "source": []
  },
  {
   "cell_type": "code",
   "execution_count": 45,
   "metadata": {
    "collapsed": false
   },
   "outputs": [
    {
     "name": "stdout",
     "output_type": "stream",
     "text": [
      "0.132478632479\n",
      "0.402597402597\n",
      "0.73182552504\n"
     ]
    }
   ],
   "source": [
    "pred = np.greater( pred_prob[:,1], .482)\n",
    "\n",
    "print(recall_score(y_test, pred))\n",
    "print(precision_score(y_test, pred))\n",
    "print(accuracy_score(y_test, pred))"
   ]
  },
  {
   "cell_type": "code",
   "execution_count": 134,
   "metadata": {
    "collapsed": false
   },
   "outputs": [
    {
     "data": {
      "text/plain": [
       "(2063, 12)"
      ]
     },
     "execution_count": 134,
     "metadata": {},
     "output_type": "execute_result"
    }
   ],
   "source": [
    "X_test.shape"
   ]
  },
  {
   "cell_type": "code",
   "execution_count": 46,
   "metadata": {
    "collapsed": false
   },
   "outputs": [],
   "source": [
    "confusion_matrix(pred)"
   ]
  },
  {
   "cell_type": "code",
   "execution_count": 678,
   "metadata": {
    "collapsed": false
   },
   "outputs": [
    {
     "data": {
      "text/plain": [
       "False    1389\n",
       "True      468\n",
       "Name: target, dtype: int64"
      ]
     },
     "execution_count": 678,
     "metadata": {},
     "output_type": "execute_result"
    }
   ],
   "source": [
    "y_test.value_counts()"
   ]
  },
  {
   "cell_type": "code",
   "execution_count": 680,
   "metadata": {
    "collapsed": false
   },
   "outputs": [
    {
     "data": {
      "text/plain": [
       "0.2520193861066236"
      ]
     },
     "execution_count": 680,
     "metadata": {},
     "output_type": "execute_result"
    }
   ],
   "source": [
    "468.0/(1389+468)"
   ]
  },
  {
   "cell_type": "code",
   "execution_count": 150,
   "metadata": {
    "collapsed": false
   },
   "outputs": [],
   "source": [
    "rfmod = pipe.steps[1][1]"
   ]
  },
  {
   "cell_type": "code",
   "execution_count": 151,
   "metadata": {
    "collapsed": false
   },
   "outputs": [],
   "source": [
    "lsa = pipe.steps[0][1].features[6][1].steps[1][1]\n",
    "\n",
    "tf = pipe.steps[0][1].features[6][1].steps[0][1]"
   ]
  },
  {
   "cell_type": "code",
   "execution_count": null,
   "metadata": {
    "collapsed": true
   },
   "outputs": [],
   "source": [
    "TOPIC 0 = candles, treats\n",
    "TOPIC 1 = writing, pens, stationary, pics\n",
    "TOPIC 2 = 0 and 1 "
   ]
  },
  {
   "cell_type": "code",
   "execution_count": 273,
   "metadata": {
    "collapsed": false,
    "scrolled": true
   },
   "outputs": [
    {
     "data": {
      "text/plain": [
       "none                                             9.857006e-01\n",
       "fuji                                             1.774869e-04\n",
       "                                                 4.762404e-18\n",
       "boss keychain                                    3.891315e-19\n",
       "kate spade dot spiral notebook                   2.160320e-22\n",
       "b. toffee                                        9.162323e-23\n",
       "canvas home                                      7.823937e-23\n",
       "on writing by stephen king                       4.270271e-27\n",
       "le pens                                          0.000000e+00\n",
       "nostrum                                          0.000000e+00\n",
       "the beach people                                 0.000000e+00\n",
       "hella slingshots                                 0.000000e+00\n",
       "six depot roastery                               0.000000e+00\n",
       "mast borthers                                    0.000000e+00\n",
       "white & kalman                                   0.000000e+00\n",
       "rustic bakery                                    0.000000e+00\n",
       "rifle paper co.                                  0.000000e+00\n",
       "consider the wldflowers                          0.000000e+00\n",
       "pinch provisions                                 0.000000e+00\n",
       "the elements of style (illustrated) by strunk    0.000000e+00\n",
       "bees knees                                       0.000000e+00\n",
       "sea foam mug                                     0.000000e+00\n",
       "dry shampoo                                      0.000000e+00\n",
       "fashion mamas x boxfox                           0.000000e+00\n",
       "earth + element                                  0.000000e+00\n",
       "carry on cocktail kit                            0.000000e+00\n",
       "garden-in-a-bag basil                            0.000000e+00\n",
       "herban essentials                                0.000000e+00\n",
       "bee raw                                          0.000000e+00\n",
       "well kept wipes                                  0.000000e+00\n",
       "                                                     ...     \n",
       "bushwick kitchen                                -5.487287e-24\n",
       "olivine atelier                                 -5.510141e-24\n",
       "hangover kit                                    -1.229766e-20\n",
       "jellycat                                        -3.643979e-05\n",
       "wondermade                                      -5.353421e-05\n",
       "nawrap                                          -7.515670e-05\n",
       "izola                                           -7.797821e-05\n",
       "baggu                                           -8.045676e-05\n",
       "mixedmade                                       -8.885249e-05\n",
       "bkr                                             -1.797065e-04\n",
       "citix60                                         -1.800920e-04\n",
       "billykirk                                       -2.294632e-04\n",
       "dominoes                                        -2.442231e-04\n",
       "skeem                                           -4.887054e-04\n",
       "mug                                             -5.164717e-04\n",
       "cereal                                          -5.999538e-04\n",
       "poketo                                          -6.140660e-04\n",
       "hay                                             -6.292354e-04\n",
       "stance                                          -7.057995e-04\n",
       "sprinkles                                       -1.342265e-03\n",
       "kikkerland                                      -2.327324e-03\n",
       "vitruvi                                         -2.365516e-03\n",
       "mast                                            -4.467276e-03\n",
       "odeme                                           -5.015439e-03\n",
       "viski                                           -5.056208e-03\n",
       "tocca                                           -7.701070e-03\n",
       "drybar                                          -1.133494e-02\n",
       "compartes                                       -2.743951e-02\n",
       "sugarfina                                       -8.290912e-02\n",
       "voluspa                                         -1.431566e-01\n",
       "Name: topic_1, dtype: float64"
      ]
     },
     "execution_count": 273,
     "metadata": {},
     "output_type": "execute_result"
    }
   ],
   "source": [
    "\n",
    "\n",
    "pd.DataFrame(lsa.components_, index=['topic_0','topic_1', 'topic_2', 'topic_3', 'topic_4'], columns = items).iloc[1,:].sort_values(ascending=False)"
   ]
  },
  {
   "cell_type": "code",
   "execution_count": 248,
   "metadata": {
    "collapsed": false
   },
   "outputs": [
    {
     "data": {
      "text/plain": [
       "[<matplotlib.lines.Line2D at 0x12cac0e90>]"
      ]
     },
     "execution_count": 248,
     "metadata": {},
     "output_type": "execute_result"
    },
    {
     "data": {
      "image/png": "[encoded data removed]",
      "text/plain": [
       "<matplotlib.figure.Figure at 0x12e2c18d0>"
      ]
     },
     "metadata": {},
     "output_type": "display_data"
    }
   ],
   "source": [
    "plt.plot(lsa.explained_variance_ratio_, 'g*')"
   ]
  },
  {
   "cell_type": "code",
   "execution_count": 152,
   "metadata": {
    "collapsed": false
   },
   "outputs": [],
   "source": [
    "words = np.array(tf.get_feature_names())\n",
    "set_array = []\n",
    "for row in lsa.components_:\n",
    "    item_indices = np.argsort(row)[-50:]\n",
    "    set_array.append(words[item_indices])"
   ]
  },
  {
   "cell_type": "code",
   "execution_count": 195,
   "metadata": {
    "collapsed": false
   },
   "outputs": [],
   "source": [
    "topics = []\n",
    "for set_ in set_array:\n",
    "    topics.append(set_[:10])"
   ]
  },
  {
   "cell_type": "code",
   "execution_count": 196,
   "metadata": {
    "collapsed": false
   },
   "outputs": [
    {
     "data": {
      "text/plain": [
       "array(['shorty olive oil', 'the beach people'], \n",
       "      dtype='|S45')"
      ]
     },
     "execution_count": 196,
     "metadata": {},
     "output_type": "execute_result"
    }
   ],
   "source": [
    "np.setdiff1d(topics[4], [topics[3], topics[2], topics[1], topics[0]])"
   ]
  },
  {
   "cell_type": "code",
   "execution_count": 179,
   "metadata": {
    "collapsed": false
   },
   "outputs": [
    {
     "data": {
      "text/plain": [
       "[array([\"mast brother's\", 'earth + element', 'consider the wldflowers',\n",
       "        'fashion mamas x boxfox', 'dry shampoo',\n",
       "        'native union smart charger', 'carry on cocktail kit',\n",
       "        'garden-in-a-bag basil', 'sea foam mug', 'reindeer bottle stopper'], \n",
       "       dtype='|S45'),\n",
       " array(['the social type', 'tea towel', 'yellow macaron trinket box',\n",
       "        'rose macaron limoge trinket tray', \"mast brother's\", 'sleep mask',\n",
       "        'love style life by garance dore',\n",
       "        'white macaron limoge trinket box', 'native union',\n",
       "        'crux supply co.'], \n",
       "       dtype='|S45'),\n",
       " array(['rose macaron limoge trinket tray', \"mast brother's\", 'sleep mask',\n",
       "        'love style life by garance dore',\n",
       "        'white macaron limoge trinket box', 'native union',\n",
       "        'crux supply co.', 'deuce brand', 'hella slingshots',\n",
       "        'six depot roastery'], \n",
       "       dtype='|S45'),\n",
       " array(['native union', \"mast brother's\", 'sleep mask', 'mast borthers',\n",
       "        'white & kalman', 'six depot roastery', 'nostrum',\n",
       "        'native union smart charger', 'garden-in-a-bag basil',\n",
       "        'carry on cocktail kit'], \n",
       "       dtype='|S45')]"
      ]
     },
     "execution_count": 179,
     "metadata": {},
     "output_type": "execute_result"
    }
   ],
   "source": [
    "topics[:4]"
   ]
  },
  {
   "cell_type": "code",
   "execution_count": 73,
   "metadata": {
    "collapsed": true
   },
   "outputs": [],
   "source": [
    "from sklearn.cluster import KMeans\n",
    "from sklearn.preprocessing import Normalizer"
   ]
  },
  {
   "cell_type": "code",
   "execution_count": 50,
   "metadata": {
    "collapsed": true
   },
   "outputs": [],
   "source": [
    "Kmod = KMeans()"
   ]
  },
  {
   "cell_type": "code",
   "execution_count": 94,
   "metadata": {
    "collapsed": true
   },
   "outputs": [],
   "source": [
    "norm = Normalizer()\n",
    "scale = StandardScaler()"
   ]
  },
  {
   "cell_type": "code",
   "execution_count": 100,
   "metadata": {
    "collapsed": false
   },
   "outputs": [
    {
     "name": "stderr",
     "output_type": "stream",
     "text": [
      "/Users/zober/anaconda2/lib/python2.7/site-packages/sklearn/utils/validation.py:386: DeprecationWarning: Passing 1d arrays as data is deprecated in 0.17 and willraise ValueError in 0.19. Reshape your data either using X.reshape(-1, 1) if your data has a single feature or X.reshape(1, -1) if it contains a single sample.\n",
      "  DeprecationWarning)\n",
      "/Users/zober/anaconda2/lib/python2.7/site-packages/sklearn/utils/validation.py:420: DataConversionWarning: Data with input dtype int64 was converted to float64 by the normalize function.\n",
      "  warnings.warn(msg, DataConversionWarning)\n"
     ]
    },
    {
     "data": {
      "text/plain": [
       "array([[ 0.0045836 ,  0.0045836 ,  0.0045836 , ...,  0.01833442,\n",
       "         0.01680655,  0.01680655]])"
      ]
     },
     "execution_count": 100,
     "metadata": {},
     "output_type": "execute_result"
    }
   ],
   "source": [
    "norm.transform(features['month_of_purchase'])"
   ]
  },
  {
   "cell_type": "code",
   "execution_count": 135,
   "metadata": {
    "collapsed": false
   },
   "outputs": [
    {
     "name": "stderr",
     "output_type": "stream",
     "text": [
      "/Users/zober/anaconda2/lib/python2.7/site-packages/sklearn/preprocessing/data.py:583: DeprecationWarning: Passing 1d arrays as data is deprecated in 0.17 and will raise ValueError in 0.19. Reshape your data either using X.reshape(-1, 1) if your data has a single feature or X.reshape(1, -1) if it contains a single sample.\n",
      "  warnings.warn(DEPRECATION_MSG_1D, DeprecationWarning)\n",
      "/Users/zober/anaconda2/lib/python2.7/site-packages/sklearn/utils/validation.py:420: DataConversionWarning: Data with input dtype int64 was converted to float64 by StandardScaler.\n",
      "  warnings.warn(msg, DataConversionWarning)\n",
      "/Users/zober/anaconda2/lib/python2.7/site-packages/sklearn/preprocessing/data.py:583: DeprecationWarning: Passing 1d arrays as data is deprecated in 0.17 and will raise ValueError in 0.19. Reshape your data either using X.reshape(-1, 1) if your data has a single feature or X.reshape(1, -1) if it contains a single sample.\n",
      "  warnings.warn(DEPRECATION_MSG_1D, DeprecationWarning)\n",
      "/Users/zober/anaconda2/lib/python2.7/site-packages/sklearn/preprocessing/data.py:583: DeprecationWarning: Passing 1d arrays as data is deprecated in 0.17 and will raise ValueError in 0.19. Reshape your data either using X.reshape(-1, 1) if your data has a single feature or X.reshape(1, -1) if it contains a single sample.\n",
      "  warnings.warn(DEPRECATION_MSG_1D, DeprecationWarning)\n",
      "/Users/zober/anaconda2/lib/python2.7/site-packages/sklearn/utils/validation.py:420: DataConversionWarning: Data with input dtype int64 was converted to float64 by StandardScaler.\n",
      "  warnings.warn(msg, DataConversionWarning)\n",
      "/Users/zober/anaconda2/lib/python2.7/site-packages/sklearn/preprocessing/data.py:583: DeprecationWarning: Passing 1d arrays as data is deprecated in 0.17 and will raise ValueError in 0.19. Reshape your data either using X.reshape(-1, 1) if your data has a single feature or X.reshape(1, -1) if it contains a single sample.\n",
      "  warnings.warn(DEPRECATION_MSG_1D, DeprecationWarning)\n",
      "/Users/zober/anaconda2/lib/python2.7/site-packages/sklearn/preprocessing/data.py:646: DeprecationWarning: Passing 1d arrays as data is deprecated in 0.17 and will raise ValueError in 0.19. Reshape your data either using X.reshape(-1, 1) if your data has a single feature or X.reshape(1, -1) if it contains a single sample.\n",
      "  warnings.warn(DEPRECATION_MSG_1D, DeprecationWarning)\n",
      "/Users/zober/anaconda2/lib/python2.7/site-packages/sklearn/utils/validation.py:420: DataConversionWarning: Data with input dtype int64 was converted to float64 by StandardScaler.\n",
      "  warnings.warn(msg, DataConversionWarning)\n",
      "/Users/zober/anaconda2/lib/python2.7/site-packages/sklearn/preprocessing/data.py:646: DeprecationWarning: Passing 1d arrays as data is deprecated in 0.17 and will raise ValueError in 0.19. Reshape your data either using X.reshape(-1, 1) if your data has a single feature or X.reshape(1, -1) if it contains a single sample.\n",
      "  warnings.warn(DEPRECATION_MSG_1D, DeprecationWarning)\n",
      "/Users/zober/anaconda2/lib/python2.7/site-packages/sklearn/preprocessing/data.py:646: DeprecationWarning: Passing 1d arrays as data is deprecated in 0.17 and will raise ValueError in 0.19. Reshape your data either using X.reshape(-1, 1) if your data has a single feature or X.reshape(1, -1) if it contains a single sample.\n",
      "  warnings.warn(DEPRECATION_MSG_1D, DeprecationWarning)\n",
      "/Users/zober/anaconda2/lib/python2.7/site-packages/sklearn/utils/validation.py:420: DataConversionWarning: Data with input dtype int64 was converted to float64 by StandardScaler.\n",
      "  warnings.warn(msg, DataConversionWarning)\n",
      "/Users/zober/anaconda2/lib/python2.7/site-packages/sklearn/preprocessing/data.py:646: DeprecationWarning: Passing 1d arrays as data is deprecated in 0.17 and will raise ValueError in 0.19. Reshape your data either using X.reshape(-1, 1) if your data has a single feature or X.reshape(1, -1) if it contains a single sample.\n",
      "  warnings.warn(DEPRECATION_MSG_1D, DeprecationWarning)\n"
     ]
    },
    {
     "data": {
      "text/html": [
       "<div>\n",
       "<table border=\"1\" class=\"dataframe\">\n",
       "  <thead>\n",
       "    <tr style=\"text-align: right;\">\n",
       "      <th></th>\n",
       "      <th>payment_details.credit_card_company_American Express</th>\n",
       "      <th>payment_details.credit_card_company_Discover</th>\n",
       "      <th>payment_details.credit_card_company_Mastercard</th>\n",
       "      <th>payment_details.credit_card_company_None</th>\n",
       "      <th>payment_details.credit_card_company_Visa</th>\n",
       "      <th>buyer_accepts_marketing</th>\n",
       "      <th>referring_domain_Bing</th>\n",
       "      <th>referring_domain_BoxFox</th>\n",
       "      <th>referring_domain_Facebook</th>\n",
       "      <th>referring_domain_Glitter Guide</th>\n",
       "      <th>...</th>\n",
       "      <th>items_9</th>\n",
       "      <th>message_0</th>\n",
       "      <th>message_1</th>\n",
       "      <th>message_2</th>\n",
       "      <th>message_3</th>\n",
       "      <th>message_4</th>\n",
       "      <th>total_price</th>\n",
       "      <th>total_weight</th>\n",
       "      <th>seconds_to_purchase</th>\n",
       "      <th>month_of_purchase</th>\n",
       "    </tr>\n",
       "  </thead>\n",
       "  <tbody>\n",
       "    <tr>\n",
       "      <th>0</th>\n",
       "      <td>0.0</td>\n",
       "      <td>0.0</td>\n",
       "      <td>0.0</td>\n",
       "      <td>0.0</td>\n",
       "      <td>1.0</td>\n",
       "      <td>0.0</td>\n",
       "      <td>0.0</td>\n",
       "      <td>0.0</td>\n",
       "      <td>0.0</td>\n",
       "      <td>0.0</td>\n",
       "      <td>...</td>\n",
       "      <td>7.175320e-02</td>\n",
       "      <td>0.0</td>\n",
       "      <td>0.000000e+00</td>\n",
       "      <td>0.000000e+00</td>\n",
       "      <td>0.000000e+00</td>\n",
       "      <td>0.000000e+00</td>\n",
       "      <td>0.139507</td>\n",
       "      <td>1.173888</td>\n",
       "      <td>-0.381177</td>\n",
       "      <td>-0.987272</td>\n",
       "    </tr>\n",
       "    <tr>\n",
       "      <th>1</th>\n",
       "      <td>0.0</td>\n",
       "      <td>0.0</td>\n",
       "      <td>0.0</td>\n",
       "      <td>0.0</td>\n",
       "      <td>1.0</td>\n",
       "      <td>0.0</td>\n",
       "      <td>0.0</td>\n",
       "      <td>0.0</td>\n",
       "      <td>0.0</td>\n",
       "      <td>0.0</td>\n",
       "      <td>...</td>\n",
       "      <td>7.175320e-02</td>\n",
       "      <td>0.0</td>\n",
       "      <td>0.000000e+00</td>\n",
       "      <td>0.000000e+00</td>\n",
       "      <td>0.000000e+00</td>\n",
       "      <td>0.000000e+00</td>\n",
       "      <td>0.139507</td>\n",
       "      <td>1.173888</td>\n",
       "      <td>-0.381177</td>\n",
       "      <td>-0.987272</td>\n",
       "    </tr>\n",
       "    <tr>\n",
       "      <th>2</th>\n",
       "      <td>0.0</td>\n",
       "      <td>0.0</td>\n",
       "      <td>0.0</td>\n",
       "      <td>0.0</td>\n",
       "      <td>1.0</td>\n",
       "      <td>0.0</td>\n",
       "      <td>0.0</td>\n",
       "      <td>0.0</td>\n",
       "      <td>0.0</td>\n",
       "      <td>0.0</td>\n",
       "      <td>...</td>\n",
       "      <td>-2.370823e-02</td>\n",
       "      <td>0.0</td>\n",
       "      <td>0.000000e+00</td>\n",
       "      <td>0.000000e+00</td>\n",
       "      <td>0.000000e+00</td>\n",
       "      <td>0.000000e+00</td>\n",
       "      <td>-0.038837</td>\n",
       "      <td>1.173888</td>\n",
       "      <td>-0.393147</td>\n",
       "      <td>-0.987272</td>\n",
       "    </tr>\n",
       "    <tr>\n",
       "      <th>3</th>\n",
       "      <td>0.0</td>\n",
       "      <td>0.0</td>\n",
       "      <td>0.0</td>\n",
       "      <td>0.0</td>\n",
       "      <td>1.0</td>\n",
       "      <td>0.0</td>\n",
       "      <td>0.0</td>\n",
       "      <td>0.0</td>\n",
       "      <td>0.0</td>\n",
       "      <td>0.0</td>\n",
       "      <td>...</td>\n",
       "      <td>-2.370823e-02</td>\n",
       "      <td>0.0</td>\n",
       "      <td>0.000000e+00</td>\n",
       "      <td>0.000000e+00</td>\n",
       "      <td>0.000000e+00</td>\n",
       "      <td>0.000000e+00</td>\n",
       "      <td>-0.038837</td>\n",
       "      <td>1.173888</td>\n",
       "      <td>-0.393147</td>\n",
       "      <td>-0.987272</td>\n",
       "    </tr>\n",
       "    <tr>\n",
       "      <th>4</th>\n",
       "      <td>0.0</td>\n",
       "      <td>0.0</td>\n",
       "      <td>1.0</td>\n",
       "      <td>0.0</td>\n",
       "      <td>0.0</td>\n",
       "      <td>1.0</td>\n",
       "      <td>0.0</td>\n",
       "      <td>0.0</td>\n",
       "      <td>0.0</td>\n",
       "      <td>0.0</td>\n",
       "      <td>...</td>\n",
       "      <td>2.107890e-02</td>\n",
       "      <td>0.0</td>\n",
       "      <td>0.000000e+00</td>\n",
       "      <td>0.000000e+00</td>\n",
       "      <td>0.000000e+00</td>\n",
       "      <td>0.000000e+00</td>\n",
       "      <td>0.098034</td>\n",
       "      <td>1.173888</td>\n",
       "      <td>-0.390154</td>\n",
       "      <td>-0.987272</td>\n",
       "    </tr>\n",
       "    <tr>\n",
       "      <th>5</th>\n",
       "      <td>0.0</td>\n",
       "      <td>0.0</td>\n",
       "      <td>1.0</td>\n",
       "      <td>0.0</td>\n",
       "      <td>0.0</td>\n",
       "      <td>1.0</td>\n",
       "      <td>0.0</td>\n",
       "      <td>0.0</td>\n",
       "      <td>0.0</td>\n",
       "      <td>0.0</td>\n",
       "      <td>...</td>\n",
       "      <td>2.107890e-02</td>\n",
       "      <td>0.0</td>\n",
       "      <td>0.000000e+00</td>\n",
       "      <td>0.000000e+00</td>\n",
       "      <td>0.000000e+00</td>\n",
       "      <td>0.000000e+00</td>\n",
       "      <td>0.098034</td>\n",
       "      <td>1.173888</td>\n",
       "      <td>-0.390154</td>\n",
       "      <td>-0.987272</td>\n",
       "    </tr>\n",
       "    <tr>\n",
       "      <th>6</th>\n",
       "      <td>0.0</td>\n",
       "      <td>0.0</td>\n",
       "      <td>0.0</td>\n",
       "      <td>0.0</td>\n",
       "      <td>1.0</td>\n",
       "      <td>0.0</td>\n",
       "      <td>0.0</td>\n",
       "      <td>0.0</td>\n",
       "      <td>0.0</td>\n",
       "      <td>0.0</td>\n",
       "      <td>...</td>\n",
       "      <td>-3.371229e-02</td>\n",
       "      <td>1.0</td>\n",
       "      <td>-1.073669e-17</td>\n",
       "      <td>-1.261514e-18</td>\n",
       "      <td>2.338048e-19</td>\n",
       "      <td>-4.086858e-21</td>\n",
       "      <td>-0.507665</td>\n",
       "      <td>1.173888</td>\n",
       "      <td>-0.366215</td>\n",
       "      <td>-0.987272</td>\n",
       "    </tr>\n",
       "    <tr>\n",
       "      <th>7</th>\n",
       "      <td>0.0</td>\n",
       "      <td>0.0</td>\n",
       "      <td>0.0</td>\n",
       "      <td>0.0</td>\n",
       "      <td>1.0</td>\n",
       "      <td>0.0</td>\n",
       "      <td>0.0</td>\n",
       "      <td>0.0</td>\n",
       "      <td>0.0</td>\n",
       "      <td>0.0</td>\n",
       "      <td>...</td>\n",
       "      <td>-3.371229e-02</td>\n",
       "      <td>1.0</td>\n",
       "      <td>-1.073669e-17</td>\n",
       "      <td>-1.261514e-18</td>\n",
       "      <td>2.338048e-19</td>\n",
       "      <td>-4.086858e-21</td>\n",
       "      <td>-0.507665</td>\n",
       "      <td>1.173888</td>\n",
       "      <td>-0.366215</td>\n",
       "      <td>-0.987272</td>\n",
       "    </tr>\n",
       "    <tr>\n",
       "      <th>8</th>\n",
       "      <td>1.0</td>\n",
       "      <td>0.0</td>\n",
       "      <td>0.0</td>\n",
       "      <td>0.0</td>\n",
       "      <td>0.0</td>\n",
       "      <td>0.0</td>\n",
       "      <td>0.0</td>\n",
       "      <td>0.0</td>\n",
       "      <td>0.0</td>\n",
       "      <td>0.0</td>\n",
       "      <td>...</td>\n",
       "      <td>6.545437e-01</td>\n",
       "      <td>0.0</td>\n",
       "      <td>0.000000e+00</td>\n",
       "      <td>0.000000e+00</td>\n",
       "      <td>0.000000e+00</td>\n",
       "      <td>0.000000e+00</td>\n",
       "      <td>0.035950</td>\n",
       "      <td>1.173888</td>\n",
       "      <td>0.711047</td>\n",
       "      <td>-0.987272</td>\n",
       "    </tr>\n",
       "    <tr>\n",
       "      <th>9</th>\n",
       "      <td>1.0</td>\n",
       "      <td>0.0</td>\n",
       "      <td>0.0</td>\n",
       "      <td>0.0</td>\n",
       "      <td>0.0</td>\n",
       "      <td>0.0</td>\n",
       "      <td>0.0</td>\n",
       "      <td>0.0</td>\n",
       "      <td>0.0</td>\n",
       "      <td>0.0</td>\n",
       "      <td>...</td>\n",
       "      <td>6.545437e-01</td>\n",
       "      <td>0.0</td>\n",
       "      <td>0.000000e+00</td>\n",
       "      <td>0.000000e+00</td>\n",
       "      <td>0.000000e+00</td>\n",
       "      <td>0.000000e+00</td>\n",
       "      <td>0.035950</td>\n",
       "      <td>1.173888</td>\n",
       "      <td>0.711047</td>\n",
       "      <td>-0.987272</td>\n",
       "    </tr>\n",
       "    <tr>\n",
       "      <th>10</th>\n",
       "      <td>0.0</td>\n",
       "      <td>0.0</td>\n",
       "      <td>0.0</td>\n",
       "      <td>0.0</td>\n",
       "      <td>1.0</td>\n",
       "      <td>0.0</td>\n",
       "      <td>0.0</td>\n",
       "      <td>0.0</td>\n",
       "      <td>0.0</td>\n",
       "      <td>0.0</td>\n",
       "      <td>...</td>\n",
       "      <td>-9.945284e-02</td>\n",
       "      <td>0.0</td>\n",
       "      <td>0.000000e+00</td>\n",
       "      <td>0.000000e+00</td>\n",
       "      <td>0.000000e+00</td>\n",
       "      <td>0.000000e+00</td>\n",
       "      <td>-0.474015</td>\n",
       "      <td>1.173888</td>\n",
       "      <td>-0.387162</td>\n",
       "      <td>-0.987272</td>\n",
       "    </tr>\n",
       "    <tr>\n",
       "      <th>11</th>\n",
       "      <td>0.0</td>\n",
       "      <td>0.0</td>\n",
       "      <td>0.0</td>\n",
       "      <td>0.0</td>\n",
       "      <td>1.0</td>\n",
       "      <td>0.0</td>\n",
       "      <td>0.0</td>\n",
       "      <td>0.0</td>\n",
       "      <td>0.0</td>\n",
       "      <td>0.0</td>\n",
       "      <td>...</td>\n",
       "      <td>-9.945284e-02</td>\n",
       "      <td>0.0</td>\n",
       "      <td>0.000000e+00</td>\n",
       "      <td>0.000000e+00</td>\n",
       "      <td>0.000000e+00</td>\n",
       "      <td>0.000000e+00</td>\n",
       "      <td>-0.474015</td>\n",
       "      <td>1.173888</td>\n",
       "      <td>-0.387162</td>\n",
       "      <td>-0.987272</td>\n",
       "    </tr>\n",
       "    <tr>\n",
       "      <th>12</th>\n",
       "      <td>0.0</td>\n",
       "      <td>0.0</td>\n",
       "      <td>0.0</td>\n",
       "      <td>0.0</td>\n",
       "      <td>1.0</td>\n",
       "      <td>0.0</td>\n",
       "      <td>0.0</td>\n",
       "      <td>0.0</td>\n",
       "      <td>0.0</td>\n",
       "      <td>0.0</td>\n",
       "      <td>...</td>\n",
       "      <td>-1.049779e-01</td>\n",
       "      <td>0.0</td>\n",
       "      <td>0.000000e+00</td>\n",
       "      <td>0.000000e+00</td>\n",
       "      <td>0.000000e+00</td>\n",
       "      <td>0.000000e+00</td>\n",
       "      <td>-0.675914</td>\n",
       "      <td>1.173888</td>\n",
       "      <td>-0.360230</td>\n",
       "      <td>-0.987272</td>\n",
       "    </tr>\n",
       "    <tr>\n",
       "      <th>13</th>\n",
       "      <td>0.0</td>\n",
       "      <td>0.0</td>\n",
       "      <td>0.0</td>\n",
       "      <td>0.0</td>\n",
       "      <td>1.0</td>\n",
       "      <td>0.0</td>\n",
       "      <td>0.0</td>\n",
       "      <td>0.0</td>\n",
       "      <td>0.0</td>\n",
       "      <td>0.0</td>\n",
       "      <td>...</td>\n",
       "      <td>-1.049779e-01</td>\n",
       "      <td>0.0</td>\n",
       "      <td>0.000000e+00</td>\n",
       "      <td>0.000000e+00</td>\n",
       "      <td>0.000000e+00</td>\n",
       "      <td>0.000000e+00</td>\n",
       "      <td>-0.675914</td>\n",
       "      <td>1.173888</td>\n",
       "      <td>-0.360230</td>\n",
       "      <td>-0.987272</td>\n",
       "    </tr>\n",
       "    <tr>\n",
       "      <th>14</th>\n",
       "      <td>0.0</td>\n",
       "      <td>0.0</td>\n",
       "      <td>0.0</td>\n",
       "      <td>0.0</td>\n",
       "      <td>1.0</td>\n",
       "      <td>1.0</td>\n",
       "      <td>0.0</td>\n",
       "      <td>0.0</td>\n",
       "      <td>0.0</td>\n",
       "      <td>0.0</td>\n",
       "      <td>...</td>\n",
       "      <td>-9.945284e-02</td>\n",
       "      <td>0.0</td>\n",
       "      <td>0.000000e+00</td>\n",
       "      <td>0.000000e+00</td>\n",
       "      <td>0.000000e+00</td>\n",
       "      <td>0.000000e+00</td>\n",
       "      <td>-0.356240</td>\n",
       "      <td>1.173888</td>\n",
       "      <td>-0.390154</td>\n",
       "      <td>-0.987272</td>\n",
       "    </tr>\n",
       "    <tr>\n",
       "      <th>15</th>\n",
       "      <td>0.0</td>\n",
       "      <td>0.0</td>\n",
       "      <td>0.0</td>\n",
       "      <td>0.0</td>\n",
       "      <td>1.0</td>\n",
       "      <td>1.0</td>\n",
       "      <td>0.0</td>\n",
       "      <td>0.0</td>\n",
       "      <td>0.0</td>\n",
       "      <td>0.0</td>\n",
       "      <td>...</td>\n",
       "      <td>-9.945284e-02</td>\n",
       "      <td>0.0</td>\n",
       "      <td>0.000000e+00</td>\n",
       "      <td>0.000000e+00</td>\n",
       "      <td>0.000000e+00</td>\n",
       "      <td>0.000000e+00</td>\n",
       "      <td>-0.356240</td>\n",
       "      <td>1.173888</td>\n",
       "      <td>-0.390154</td>\n",
       "      <td>-0.987272</td>\n",
       "    </tr>\n",
       "    <tr>\n",
       "      <th>16</th>\n",
       "      <td>0.0</td>\n",
       "      <td>0.0</td>\n",
       "      <td>0.0</td>\n",
       "      <td>0.0</td>\n",
       "      <td>1.0</td>\n",
       "      <td>0.0</td>\n",
       "      <td>0.0</td>\n",
       "      <td>0.0</td>\n",
       "      <td>0.0</td>\n",
       "      <td>0.0</td>\n",
       "      <td>...</td>\n",
       "      <td>-2.414438e-02</td>\n",
       "      <td>0.0</td>\n",
       "      <td>0.000000e+00</td>\n",
       "      <td>0.000000e+00</td>\n",
       "      <td>0.000000e+00</td>\n",
       "      <td>0.000000e+00</td>\n",
       "      <td>2.193583</td>\n",
       "      <td>10.130210</td>\n",
       "      <td>-0.165725</td>\n",
       "      <td>-0.987272</td>\n",
       "    </tr>\n",
       "    <tr>\n",
       "      <th>17</th>\n",
       "      <td>0.0</td>\n",
       "      <td>0.0</td>\n",
       "      <td>0.0</td>\n",
       "      <td>0.0</td>\n",
       "      <td>1.0</td>\n",
       "      <td>0.0</td>\n",
       "      <td>0.0</td>\n",
       "      <td>0.0</td>\n",
       "      <td>0.0</td>\n",
       "      <td>0.0</td>\n",
       "      <td>...</td>\n",
       "      <td>-2.414438e-02</td>\n",
       "      <td>0.0</td>\n",
       "      <td>0.000000e+00</td>\n",
       "      <td>0.000000e+00</td>\n",
       "      <td>0.000000e+00</td>\n",
       "      <td>0.000000e+00</td>\n",
       "      <td>2.193583</td>\n",
       "      <td>10.130210</td>\n",
       "      <td>-0.165725</td>\n",
       "      <td>-0.987272</td>\n",
       "    </tr>\n",
       "    <tr>\n",
       "      <th>18</th>\n",
       "      <td>0.0</td>\n",
       "      <td>0.0</td>\n",
       "      <td>0.0</td>\n",
       "      <td>0.0</td>\n",
       "      <td>1.0</td>\n",
       "      <td>1.0</td>\n",
       "      <td>0.0</td>\n",
       "      <td>0.0</td>\n",
       "      <td>0.0</td>\n",
       "      <td>0.0</td>\n",
       "      <td>...</td>\n",
       "      <td>-1.682376e-02</td>\n",
       "      <td>0.0</td>\n",
       "      <td>0.000000e+00</td>\n",
       "      <td>0.000000e+00</td>\n",
       "      <td>0.000000e+00</td>\n",
       "      <td>0.000000e+00</td>\n",
       "      <td>-0.234511</td>\n",
       "      <td>1.173888</td>\n",
       "      <td>-0.357238</td>\n",
       "      <td>-0.987272</td>\n",
       "    </tr>\n",
       "    <tr>\n",
       "      <th>19</th>\n",
       "      <td>0.0</td>\n",
       "      <td>0.0</td>\n",
       "      <td>0.0</td>\n",
       "      <td>0.0</td>\n",
       "      <td>1.0</td>\n",
       "      <td>1.0</td>\n",
       "      <td>0.0</td>\n",
       "      <td>0.0</td>\n",
       "      <td>0.0</td>\n",
       "      <td>0.0</td>\n",
       "      <td>...</td>\n",
       "      <td>-1.682376e-02</td>\n",
       "      <td>0.0</td>\n",
       "      <td>0.000000e+00</td>\n",
       "      <td>0.000000e+00</td>\n",
       "      <td>0.000000e+00</td>\n",
       "      <td>0.000000e+00</td>\n",
       "      <td>-0.234511</td>\n",
       "      <td>1.173888</td>\n",
       "      <td>-0.357238</td>\n",
       "      <td>-0.987272</td>\n",
       "    </tr>\n",
       "    <tr>\n",
       "      <th>20</th>\n",
       "      <td>1.0</td>\n",
       "      <td>0.0</td>\n",
       "      <td>0.0</td>\n",
       "      <td>0.0</td>\n",
       "      <td>0.0</td>\n",
       "      <td>0.0</td>\n",
       "      <td>0.0</td>\n",
       "      <td>0.0</td>\n",
       "      <td>0.0</td>\n",
       "      <td>0.0</td>\n",
       "      <td>...</td>\n",
       "      <td>6.213271e-17</td>\n",
       "      <td>1.0</td>\n",
       "      <td>-1.073669e-17</td>\n",
       "      <td>-1.261514e-18</td>\n",
       "      <td>2.338048e-19</td>\n",
       "      <td>-4.086858e-21</td>\n",
       "      <td>0.006843</td>\n",
       "      <td>0.815320</td>\n",
       "      <td>-0.390154</td>\n",
       "      <td>-0.987272</td>\n",
       "    </tr>\n",
       "    <tr>\n",
       "      <th>21</th>\n",
       "      <td>1.0</td>\n",
       "      <td>0.0</td>\n",
       "      <td>0.0</td>\n",
       "      <td>0.0</td>\n",
       "      <td>0.0</td>\n",
       "      <td>0.0</td>\n",
       "      <td>0.0</td>\n",
       "      <td>0.0</td>\n",
       "      <td>0.0</td>\n",
       "      <td>0.0</td>\n",
       "      <td>...</td>\n",
       "      <td>6.213271e-17</td>\n",
       "      <td>1.0</td>\n",
       "      <td>-1.073669e-17</td>\n",
       "      <td>-1.261514e-18</td>\n",
       "      <td>2.338048e-19</td>\n",
       "      <td>-4.086858e-21</td>\n",
       "      <td>0.006843</td>\n",
       "      <td>0.815320</td>\n",
       "      <td>-0.390154</td>\n",
       "      <td>-0.987272</td>\n",
       "    </tr>\n",
       "    <tr>\n",
       "      <th>22</th>\n",
       "      <td>0.0</td>\n",
       "      <td>0.0</td>\n",
       "      <td>0.0</td>\n",
       "      <td>0.0</td>\n",
       "      <td>1.0</td>\n",
       "      <td>1.0</td>\n",
       "      <td>0.0</td>\n",
       "      <td>0.0</td>\n",
       "      <td>0.0</td>\n",
       "      <td>0.0</td>\n",
       "      <td>...</td>\n",
       "      <td>-9.945284e-02</td>\n",
       "      <td>1.0</td>\n",
       "      <td>-1.073669e-17</td>\n",
       "      <td>-1.261514e-18</td>\n",
       "      <td>2.338048e-19</td>\n",
       "      <td>-4.086858e-21</td>\n",
       "      <td>-0.566552</td>\n",
       "      <td>1.173888</td>\n",
       "      <td>-0.378185</td>\n",
       "      <td>-0.987272</td>\n",
       "    </tr>\n",
       "    <tr>\n",
       "      <th>23</th>\n",
       "      <td>0.0</td>\n",
       "      <td>0.0</td>\n",
       "      <td>0.0</td>\n",
       "      <td>0.0</td>\n",
       "      <td>1.0</td>\n",
       "      <td>1.0</td>\n",
       "      <td>0.0</td>\n",
       "      <td>0.0</td>\n",
       "      <td>0.0</td>\n",
       "      <td>0.0</td>\n",
       "      <td>...</td>\n",
       "      <td>-9.945284e-02</td>\n",
       "      <td>1.0</td>\n",
       "      <td>-1.073669e-17</td>\n",
       "      <td>-1.261514e-18</td>\n",
       "      <td>2.338048e-19</td>\n",
       "      <td>-4.086858e-21</td>\n",
       "      <td>-0.566552</td>\n",
       "      <td>1.173888</td>\n",
       "      <td>-0.378185</td>\n",
       "      <td>-0.987272</td>\n",
       "    </tr>\n",
       "    <tr>\n",
       "      <th>24</th>\n",
       "      <td>0.0</td>\n",
       "      <td>0.0</td>\n",
       "      <td>1.0</td>\n",
       "      <td>0.0</td>\n",
       "      <td>0.0</td>\n",
       "      <td>0.0</td>\n",
       "      <td>0.0</td>\n",
       "      <td>0.0</td>\n",
       "      <td>0.0</td>\n",
       "      <td>0.0</td>\n",
       "      <td>...</td>\n",
       "      <td>-4.380726e-02</td>\n",
       "      <td>0.0</td>\n",
       "      <td>0.000000e+00</td>\n",
       "      <td>0.000000e+00</td>\n",
       "      <td>0.000000e+00</td>\n",
       "      <td>0.000000e+00</td>\n",
       "      <td>-0.263703</td>\n",
       "      <td>1.173888</td>\n",
       "      <td>-0.393147</td>\n",
       "      <td>-0.987272</td>\n",
       "    </tr>\n",
       "    <tr>\n",
       "      <th>25</th>\n",
       "      <td>0.0</td>\n",
       "      <td>0.0</td>\n",
       "      <td>1.0</td>\n",
       "      <td>0.0</td>\n",
       "      <td>0.0</td>\n",
       "      <td>0.0</td>\n",
       "      <td>0.0</td>\n",
       "      <td>0.0</td>\n",
       "      <td>0.0</td>\n",
       "      <td>0.0</td>\n",
       "      <td>...</td>\n",
       "      <td>-4.380726e-02</td>\n",
       "      <td>0.0</td>\n",
       "      <td>0.000000e+00</td>\n",
       "      <td>0.000000e+00</td>\n",
       "      <td>0.000000e+00</td>\n",
       "      <td>0.000000e+00</td>\n",
       "      <td>-0.263703</td>\n",
       "      <td>1.173888</td>\n",
       "      <td>-0.393147</td>\n",
       "      <td>-0.987272</td>\n",
       "    </tr>\n",
       "    <tr>\n",
       "      <th>26</th>\n",
       "      <td>0.0</td>\n",
       "      <td>0.0</td>\n",
       "      <td>0.0</td>\n",
       "      <td>0.0</td>\n",
       "      <td>1.0</td>\n",
       "      <td>1.0</td>\n",
       "      <td>0.0</td>\n",
       "      <td>0.0</td>\n",
       "      <td>0.0</td>\n",
       "      <td>0.0</td>\n",
       "      <td>...</td>\n",
       "      <td>6.213271e-17</td>\n",
       "      <td>1.0</td>\n",
       "      <td>-1.073669e-17</td>\n",
       "      <td>-1.261514e-18</td>\n",
       "      <td>2.338048e-19</td>\n",
       "      <td>-4.086858e-21</td>\n",
       "      <td>-0.044978</td>\n",
       "      <td>0.815320</td>\n",
       "      <td>-0.396139</td>\n",
       "      <td>-0.987272</td>\n",
       "    </tr>\n",
       "    <tr>\n",
       "      <th>27</th>\n",
       "      <td>0.0</td>\n",
       "      <td>0.0</td>\n",
       "      <td>0.0</td>\n",
       "      <td>0.0</td>\n",
       "      <td>1.0</td>\n",
       "      <td>1.0</td>\n",
       "      <td>0.0</td>\n",
       "      <td>0.0</td>\n",
       "      <td>0.0</td>\n",
       "      <td>0.0</td>\n",
       "      <td>...</td>\n",
       "      <td>6.213271e-17</td>\n",
       "      <td>1.0</td>\n",
       "      <td>-1.073669e-17</td>\n",
       "      <td>-1.261514e-18</td>\n",
       "      <td>2.338048e-19</td>\n",
       "      <td>-4.086858e-21</td>\n",
       "      <td>-0.044978</td>\n",
       "      <td>0.815320</td>\n",
       "      <td>-0.396139</td>\n",
       "      <td>-0.987272</td>\n",
       "    </tr>\n",
       "    <tr>\n",
       "      <th>28</th>\n",
       "      <td>0.0</td>\n",
       "      <td>0.0</td>\n",
       "      <td>0.0</td>\n",
       "      <td>0.0</td>\n",
       "      <td>1.0</td>\n",
       "      <td>1.0</td>\n",
       "      <td>0.0</td>\n",
       "      <td>0.0</td>\n",
       "      <td>0.0</td>\n",
       "      <td>0.0</td>\n",
       "      <td>...</td>\n",
       "      <td>6.213271e-17</td>\n",
       "      <td>1.0</td>\n",
       "      <td>-1.073669e-17</td>\n",
       "      <td>-1.261514e-18</td>\n",
       "      <td>2.338048e-19</td>\n",
       "      <td>-4.086858e-21</td>\n",
       "      <td>-0.044978</td>\n",
       "      <td>-0.258807</td>\n",
       "      <td>-0.375192</td>\n",
       "      <td>-0.987272</td>\n",
       "    </tr>\n",
       "    <tr>\n",
       "      <th>29</th>\n",
       "      <td>0.0</td>\n",
       "      <td>0.0</td>\n",
       "      <td>0.0</td>\n",
       "      <td>0.0</td>\n",
       "      <td>1.0</td>\n",
       "      <td>1.0</td>\n",
       "      <td>0.0</td>\n",
       "      <td>0.0</td>\n",
       "      <td>0.0</td>\n",
       "      <td>0.0</td>\n",
       "      <td>...</td>\n",
       "      <td>6.213271e-17</td>\n",
       "      <td>1.0</td>\n",
       "      <td>-1.073669e-17</td>\n",
       "      <td>-1.261514e-18</td>\n",
       "      <td>2.338048e-19</td>\n",
       "      <td>-4.086858e-21</td>\n",
       "      <td>-0.044978</td>\n",
       "      <td>-0.258807</td>\n",
       "      <td>-0.375192</td>\n",
       "      <td>-0.987272</td>\n",
       "    </tr>\n",
       "    <tr>\n",
       "      <th>...</th>\n",
       "      <td>...</td>\n",
       "      <td>...</td>\n",
       "      <td>...</td>\n",
       "      <td>...</td>\n",
       "      <td>...</td>\n",
       "      <td>...</td>\n",
       "      <td>...</td>\n",
       "      <td>...</td>\n",
       "      <td>...</td>\n",
       "      <td>...</td>\n",
       "      <td>...</td>\n",
       "      <td>...</td>\n",
       "      <td>...</td>\n",
       "      <td>...</td>\n",
       "      <td>...</td>\n",
       "      <td>...</td>\n",
       "      <td>...</td>\n",
       "      <td>...</td>\n",
       "      <td>...</td>\n",
       "      <td>...</td>\n",
       "      <td>...</td>\n",
       "    </tr>\n",
       "    <tr>\n",
       "      <th>6845</th>\n",
       "      <td>0.0</td>\n",
       "      <td>0.0</td>\n",
       "      <td>0.0</td>\n",
       "      <td>0.0</td>\n",
       "      <td>1.0</td>\n",
       "      <td>1.0</td>\n",
       "      <td>0.0</td>\n",
       "      <td>1.0</td>\n",
       "      <td>0.0</td>\n",
       "      <td>0.0</td>\n",
       "      <td>...</td>\n",
       "      <td>6.213271e-17</td>\n",
       "      <td>1.0</td>\n",
       "      <td>-1.073669e-17</td>\n",
       "      <td>-1.261514e-18</td>\n",
       "      <td>2.338048e-19</td>\n",
       "      <td>-4.086858e-21</td>\n",
       "      <td>-0.263787</td>\n",
       "      <td>-0.258807</td>\n",
       "      <td>-0.384170</td>\n",
       "      <td>-1.499033</td>\n",
       "    </tr>\n",
       "    <tr>\n",
       "      <th>6846</th>\n",
       "      <td>0.0</td>\n",
       "      <td>0.0</td>\n",
       "      <td>0.0</td>\n",
       "      <td>0.0</td>\n",
       "      <td>1.0</td>\n",
       "      <td>1.0</td>\n",
       "      <td>0.0</td>\n",
       "      <td>0.0</td>\n",
       "      <td>0.0</td>\n",
       "      <td>0.0</td>\n",
       "      <td>...</td>\n",
       "      <td>6.213271e-17</td>\n",
       "      <td>1.0</td>\n",
       "      <td>-1.073669e-17</td>\n",
       "      <td>-1.261514e-18</td>\n",
       "      <td>2.338048e-19</td>\n",
       "      <td>-4.086858e-21</td>\n",
       "      <td>0.745711</td>\n",
       "      <td>0.457541</td>\n",
       "      <td>-0.396139</td>\n",
       "      <td>-1.499033</td>\n",
       "    </tr>\n",
       "    <tr>\n",
       "      <th>6847</th>\n",
       "      <td>0.0</td>\n",
       "      <td>0.0</td>\n",
       "      <td>0.0</td>\n",
       "      <td>0.0</td>\n",
       "      <td>1.0</td>\n",
       "      <td>1.0</td>\n",
       "      <td>0.0</td>\n",
       "      <td>0.0</td>\n",
       "      <td>0.0</td>\n",
       "      <td>0.0</td>\n",
       "      <td>...</td>\n",
       "      <td>6.213271e-17</td>\n",
       "      <td>1.0</td>\n",
       "      <td>-1.073669e-17</td>\n",
       "      <td>-1.261514e-18</td>\n",
       "      <td>2.338048e-19</td>\n",
       "      <td>-4.086858e-21</td>\n",
       "      <td>0.745711</td>\n",
       "      <td>0.457541</td>\n",
       "      <td>-0.396139</td>\n",
       "      <td>-1.499033</td>\n",
       "    </tr>\n",
       "    <tr>\n",
       "      <th>6848</th>\n",
       "      <td>1.0</td>\n",
       "      <td>0.0</td>\n",
       "      <td>0.0</td>\n",
       "      <td>0.0</td>\n",
       "      <td>0.0</td>\n",
       "      <td>1.0</td>\n",
       "      <td>0.0</td>\n",
       "      <td>1.0</td>\n",
       "      <td>0.0</td>\n",
       "      <td>0.0</td>\n",
       "      <td>...</td>\n",
       "      <td>6.213271e-17</td>\n",
       "      <td>1.0</td>\n",
       "      <td>-1.073669e-17</td>\n",
       "      <td>-1.261514e-18</td>\n",
       "      <td>2.338048e-19</td>\n",
       "      <td>-4.086858e-21</td>\n",
       "      <td>0.095090</td>\n",
       "      <td>0.098972</td>\n",
       "      <td>1.040211</td>\n",
       "      <td>-1.499033</td>\n",
       "    </tr>\n",
       "    <tr>\n",
       "      <th>6849</th>\n",
       "      <td>1.0</td>\n",
       "      <td>0.0</td>\n",
       "      <td>0.0</td>\n",
       "      <td>0.0</td>\n",
       "      <td>0.0</td>\n",
       "      <td>1.0</td>\n",
       "      <td>0.0</td>\n",
       "      <td>1.0</td>\n",
       "      <td>0.0</td>\n",
       "      <td>0.0</td>\n",
       "      <td>...</td>\n",
       "      <td>6.213271e-17</td>\n",
       "      <td>1.0</td>\n",
       "      <td>-1.073669e-17</td>\n",
       "      <td>-1.261514e-18</td>\n",
       "      <td>2.338048e-19</td>\n",
       "      <td>-4.086858e-21</td>\n",
       "      <td>0.095090</td>\n",
       "      <td>0.098972</td>\n",
       "      <td>1.040211</td>\n",
       "      <td>-1.499033</td>\n",
       "    </tr>\n",
       "    <tr>\n",
       "      <th>6850</th>\n",
       "      <td>0.0</td>\n",
       "      <td>0.0</td>\n",
       "      <td>0.0</td>\n",
       "      <td>0.0</td>\n",
       "      <td>1.0</td>\n",
       "      <td>1.0</td>\n",
       "      <td>0.0</td>\n",
       "      <td>0.0</td>\n",
       "      <td>0.0</td>\n",
       "      <td>0.0</td>\n",
       "      <td>...</td>\n",
       "      <td>6.213271e-17</td>\n",
       "      <td>1.0</td>\n",
       "      <td>-1.073669e-17</td>\n",
       "      <td>-1.261514e-18</td>\n",
       "      <td>2.338048e-19</td>\n",
       "      <td>-4.086858e-21</td>\n",
       "      <td>-0.263787</td>\n",
       "      <td>-0.258807</td>\n",
       "      <td>-0.396139</td>\n",
       "      <td>-1.499033</td>\n",
       "    </tr>\n",
       "    <tr>\n",
       "      <th>6851</th>\n",
       "      <td>0.0</td>\n",
       "      <td>0.0</td>\n",
       "      <td>0.0</td>\n",
       "      <td>0.0</td>\n",
       "      <td>1.0</td>\n",
       "      <td>0.0</td>\n",
       "      <td>0.0</td>\n",
       "      <td>0.0</td>\n",
       "      <td>1.0</td>\n",
       "      <td>0.0</td>\n",
       "      <td>...</td>\n",
       "      <td>6.213271e-17</td>\n",
       "      <td>1.0</td>\n",
       "      <td>-1.073669e-17</td>\n",
       "      <td>-1.261514e-18</td>\n",
       "      <td>2.338048e-19</td>\n",
       "      <td>-4.086858e-21</td>\n",
       "      <td>-0.401752</td>\n",
       "      <td>-0.258807</td>\n",
       "      <td>-0.393147</td>\n",
       "      <td>-1.499033</td>\n",
       "    </tr>\n",
       "    <tr>\n",
       "      <th>6852</th>\n",
       "      <td>0.0</td>\n",
       "      <td>0.0</td>\n",
       "      <td>0.0</td>\n",
       "      <td>0.0</td>\n",
       "      <td>1.0</td>\n",
       "      <td>0.0</td>\n",
       "      <td>0.0</td>\n",
       "      <td>0.0</td>\n",
       "      <td>0.0</td>\n",
       "      <td>0.0</td>\n",
       "      <td>...</td>\n",
       "      <td>6.213271e-17</td>\n",
       "      <td>1.0</td>\n",
       "      <td>-1.073669e-17</td>\n",
       "      <td>-1.261514e-18</td>\n",
       "      <td>2.338048e-19</td>\n",
       "      <td>-4.086858e-21</td>\n",
       "      <td>-0.406799</td>\n",
       "      <td>-0.258807</td>\n",
       "      <td>-0.396139</td>\n",
       "      <td>1.315655</td>\n",
       "    </tr>\n",
       "    <tr>\n",
       "      <th>6853</th>\n",
       "      <td>0.0</td>\n",
       "      <td>0.0</td>\n",
       "      <td>0.0</td>\n",
       "      <td>1.0</td>\n",
       "      <td>0.0</td>\n",
       "      <td>1.0</td>\n",
       "      <td>0.0</td>\n",
       "      <td>0.0</td>\n",
       "      <td>0.0</td>\n",
       "      <td>0.0</td>\n",
       "      <td>...</td>\n",
       "      <td>6.213271e-17</td>\n",
       "      <td>1.0</td>\n",
       "      <td>-1.073669e-17</td>\n",
       "      <td>-1.261514e-18</td>\n",
       "      <td>2.338048e-19</td>\n",
       "      <td>-4.086858e-21</td>\n",
       "      <td>-0.218359</td>\n",
       "      <td>-0.258807</td>\n",
       "      <td>0.633245</td>\n",
       "      <td>1.315655</td>\n",
       "    </tr>\n",
       "    <tr>\n",
       "      <th>6854</th>\n",
       "      <td>0.0</td>\n",
       "      <td>0.0</td>\n",
       "      <td>0.0</td>\n",
       "      <td>0.0</td>\n",
       "      <td>1.0</td>\n",
       "      <td>0.0</td>\n",
       "      <td>0.0</td>\n",
       "      <td>1.0</td>\n",
       "      <td>0.0</td>\n",
       "      <td>0.0</td>\n",
       "      <td>...</td>\n",
       "      <td>6.213271e-17</td>\n",
       "      <td>1.0</td>\n",
       "      <td>-1.073669e-17</td>\n",
       "      <td>-1.261514e-18</td>\n",
       "      <td>2.338048e-19</td>\n",
       "      <td>-4.086858e-21</td>\n",
       "      <td>-0.432036</td>\n",
       "      <td>-0.258807</td>\n",
       "      <td>0.375899</td>\n",
       "      <td>1.315655</td>\n",
       "    </tr>\n",
       "    <tr>\n",
       "      <th>6855</th>\n",
       "      <td>0.0</td>\n",
       "      <td>0.0</td>\n",
       "      <td>0.0</td>\n",
       "      <td>1.0</td>\n",
       "      <td>0.0</td>\n",
       "      <td>1.0</td>\n",
       "      <td>0.0</td>\n",
       "      <td>1.0</td>\n",
       "      <td>0.0</td>\n",
       "      <td>0.0</td>\n",
       "      <td>...</td>\n",
       "      <td>6.213271e-17</td>\n",
       "      <td>1.0</td>\n",
       "      <td>-1.073669e-17</td>\n",
       "      <td>-1.261514e-18</td>\n",
       "      <td>2.338048e-19</td>\n",
       "      <td>-4.086858e-21</td>\n",
       "      <td>0.981344</td>\n",
       "      <td>0.815320</td>\n",
       "      <td>-0.393147</td>\n",
       "      <td>1.315655</td>\n",
       "    </tr>\n",
       "    <tr>\n",
       "      <th>6856</th>\n",
       "      <td>0.0</td>\n",
       "      <td>0.0</td>\n",
       "      <td>0.0</td>\n",
       "      <td>0.0</td>\n",
       "      <td>1.0</td>\n",
       "      <td>1.0</td>\n",
       "      <td>0.0</td>\n",
       "      <td>0.0</td>\n",
       "      <td>0.0</td>\n",
       "      <td>0.0</td>\n",
       "      <td>...</td>\n",
       "      <td>6.213271e-17</td>\n",
       "      <td>1.0</td>\n",
       "      <td>-1.073669e-17</td>\n",
       "      <td>-1.261514e-18</td>\n",
       "      <td>2.338048e-19</td>\n",
       "      <td>-4.086858e-21</td>\n",
       "      <td>0.232634</td>\n",
       "      <td>0.098972</td>\n",
       "      <td>2.856594</td>\n",
       "      <td>1.315655</td>\n",
       "    </tr>\n",
       "    <tr>\n",
       "      <th>6857</th>\n",
       "      <td>0.0</td>\n",
       "      <td>0.0</td>\n",
       "      <td>0.0</td>\n",
       "      <td>0.0</td>\n",
       "      <td>1.0</td>\n",
       "      <td>1.0</td>\n",
       "      <td>0.0</td>\n",
       "      <td>0.0</td>\n",
       "      <td>0.0</td>\n",
       "      <td>0.0</td>\n",
       "      <td>...</td>\n",
       "      <td>6.213271e-17</td>\n",
       "      <td>1.0</td>\n",
       "      <td>-1.073669e-17</td>\n",
       "      <td>-1.261514e-18</td>\n",
       "      <td>2.338048e-19</td>\n",
       "      <td>-4.086858e-21</td>\n",
       "      <td>0.775239</td>\n",
       "      <td>0.457541</td>\n",
       "      <td>-0.384170</td>\n",
       "      <td>1.315655</td>\n",
       "    </tr>\n",
       "    <tr>\n",
       "      <th>6858</th>\n",
       "      <td>0.0</td>\n",
       "      <td>0.0</td>\n",
       "      <td>0.0</td>\n",
       "      <td>0.0</td>\n",
       "      <td>1.0</td>\n",
       "      <td>1.0</td>\n",
       "      <td>0.0</td>\n",
       "      <td>0.0</td>\n",
       "      <td>0.0</td>\n",
       "      <td>0.0</td>\n",
       "      <td>...</td>\n",
       "      <td>6.213271e-17</td>\n",
       "      <td>1.0</td>\n",
       "      <td>-1.073669e-17</td>\n",
       "      <td>-1.261514e-18</td>\n",
       "      <td>2.338048e-19</td>\n",
       "      <td>-4.086858e-21</td>\n",
       "      <td>0.775239</td>\n",
       "      <td>0.457541</td>\n",
       "      <td>-0.384170</td>\n",
       "      <td>1.315655</td>\n",
       "    </tr>\n",
       "    <tr>\n",
       "      <th>6859</th>\n",
       "      <td>0.0</td>\n",
       "      <td>0.0</td>\n",
       "      <td>0.0</td>\n",
       "      <td>0.0</td>\n",
       "      <td>1.0</td>\n",
       "      <td>0.0</td>\n",
       "      <td>0.0</td>\n",
       "      <td>1.0</td>\n",
       "      <td>0.0</td>\n",
       "      <td>0.0</td>\n",
       "      <td>...</td>\n",
       "      <td>6.213271e-17</td>\n",
       "      <td>1.0</td>\n",
       "      <td>-1.073669e-17</td>\n",
       "      <td>-1.261514e-18</td>\n",
       "      <td>2.338048e-19</td>\n",
       "      <td>-4.086858e-21</td>\n",
       "      <td>-0.263787</td>\n",
       "      <td>-0.258807</td>\n",
       "      <td>-0.381177</td>\n",
       "      <td>1.315655</td>\n",
       "    </tr>\n",
       "    <tr>\n",
       "      <th>6860</th>\n",
       "      <td>1.0</td>\n",
       "      <td>0.0</td>\n",
       "      <td>0.0</td>\n",
       "      <td>0.0</td>\n",
       "      <td>0.0</td>\n",
       "      <td>0.0</td>\n",
       "      <td>0.0</td>\n",
       "      <td>0.0</td>\n",
       "      <td>0.0</td>\n",
       "      <td>0.0</td>\n",
       "      <td>...</td>\n",
       "      <td>6.213271e-17</td>\n",
       "      <td>1.0</td>\n",
       "      <td>-1.073669e-17</td>\n",
       "      <td>-1.261514e-18</td>\n",
       "      <td>2.338048e-19</td>\n",
       "      <td>-4.086858e-21</td>\n",
       "      <td>-0.307363</td>\n",
       "      <td>-0.258807</td>\n",
       "      <td>-0.390154</td>\n",
       "      <td>1.315655</td>\n",
       "    </tr>\n",
       "    <tr>\n",
       "      <th>6861</th>\n",
       "      <td>0.0</td>\n",
       "      <td>0.0</td>\n",
       "      <td>0.0</td>\n",
       "      <td>0.0</td>\n",
       "      <td>1.0</td>\n",
       "      <td>0.0</td>\n",
       "      <td>0.0</td>\n",
       "      <td>0.0</td>\n",
       "      <td>0.0</td>\n",
       "      <td>0.0</td>\n",
       "      <td>...</td>\n",
       "      <td>6.213271e-17</td>\n",
       "      <td>1.0</td>\n",
       "      <td>-1.073669e-17</td>\n",
       "      <td>-1.261514e-18</td>\n",
       "      <td>2.338048e-19</td>\n",
       "      <td>-4.086858e-21</td>\n",
       "      <td>-0.263787</td>\n",
       "      <td>-0.258807</td>\n",
       "      <td>-0.396139</td>\n",
       "      <td>1.315655</td>\n",
       "    </tr>\n",
       "    <tr>\n",
       "      <th>6862</th>\n",
       "      <td>0.0</td>\n",
       "      <td>0.0</td>\n",
       "      <td>0.0</td>\n",
       "      <td>1.0</td>\n",
       "      <td>0.0</td>\n",
       "      <td>1.0</td>\n",
       "      <td>0.0</td>\n",
       "      <td>0.0</td>\n",
       "      <td>0.0</td>\n",
       "      <td>0.0</td>\n",
       "      <td>...</td>\n",
       "      <td>6.213271e-17</td>\n",
       "      <td>1.0</td>\n",
       "      <td>-1.073669e-17</td>\n",
       "      <td>-1.261514e-18</td>\n",
       "      <td>2.338048e-19</td>\n",
       "      <td>-4.086858e-21</td>\n",
       "      <td>-0.307363</td>\n",
       "      <td>-0.258807</td>\n",
       "      <td>0.872636</td>\n",
       "      <td>1.315655</td>\n",
       "    </tr>\n",
       "    <tr>\n",
       "      <th>6863</th>\n",
       "      <td>0.0</td>\n",
       "      <td>0.0</td>\n",
       "      <td>0.0</td>\n",
       "      <td>1.0</td>\n",
       "      <td>0.0</td>\n",
       "      <td>1.0</td>\n",
       "      <td>0.0</td>\n",
       "      <td>0.0</td>\n",
       "      <td>0.0</td>\n",
       "      <td>0.0</td>\n",
       "      <td>...</td>\n",
       "      <td>6.213271e-17</td>\n",
       "      <td>1.0</td>\n",
       "      <td>-1.073669e-17</td>\n",
       "      <td>-1.261514e-18</td>\n",
       "      <td>2.338048e-19</td>\n",
       "      <td>-4.086858e-21</td>\n",
       "      <td>0.577461</td>\n",
       "      <td>0.457541</td>\n",
       "      <td>-0.315344</td>\n",
       "      <td>1.315655</td>\n",
       "    </tr>\n",
       "    <tr>\n",
       "      <th>6864</th>\n",
       "      <td>0.0</td>\n",
       "      <td>0.0</td>\n",
       "      <td>0.0</td>\n",
       "      <td>1.0</td>\n",
       "      <td>0.0</td>\n",
       "      <td>0.0</td>\n",
       "      <td>0.0</td>\n",
       "      <td>1.0</td>\n",
       "      <td>0.0</td>\n",
       "      <td>0.0</td>\n",
       "      <td>...</td>\n",
       "      <td>6.213271e-17</td>\n",
       "      <td>1.0</td>\n",
       "      <td>-1.073669e-17</td>\n",
       "      <td>-1.261514e-18</td>\n",
       "      <td>2.338048e-19</td>\n",
       "      <td>-4.086858e-21</td>\n",
       "      <td>-0.339499</td>\n",
       "      <td>-0.258807</td>\n",
       "      <td>-0.345268</td>\n",
       "      <td>1.315655</td>\n",
       "    </tr>\n",
       "    <tr>\n",
       "      <th>6865</th>\n",
       "      <td>0.0</td>\n",
       "      <td>0.0</td>\n",
       "      <td>0.0</td>\n",
       "      <td>1.0</td>\n",
       "      <td>0.0</td>\n",
       "      <td>1.0</td>\n",
       "      <td>0.0</td>\n",
       "      <td>1.0</td>\n",
       "      <td>0.0</td>\n",
       "      <td>0.0</td>\n",
       "      <td>...</td>\n",
       "      <td>6.213271e-17</td>\n",
       "      <td>1.0</td>\n",
       "      <td>-1.073669e-17</td>\n",
       "      <td>-1.261514e-18</td>\n",
       "      <td>2.338048e-19</td>\n",
       "      <td>-4.086858e-21</td>\n",
       "      <td>-0.309971</td>\n",
       "      <td>-0.258807</td>\n",
       "      <td>-0.378185</td>\n",
       "      <td>1.315655</td>\n",
       "    </tr>\n",
       "    <tr>\n",
       "      <th>6866</th>\n",
       "      <td>0.0</td>\n",
       "      <td>0.0</td>\n",
       "      <td>1.0</td>\n",
       "      <td>0.0</td>\n",
       "      <td>0.0</td>\n",
       "      <td>1.0</td>\n",
       "      <td>0.0</td>\n",
       "      <td>0.0</td>\n",
       "      <td>0.0</td>\n",
       "      <td>0.0</td>\n",
       "      <td>...</td>\n",
       "      <td>6.213271e-17</td>\n",
       "      <td>1.0</td>\n",
       "      <td>-1.073669e-17</td>\n",
       "      <td>-1.261514e-18</td>\n",
       "      <td>2.338048e-19</td>\n",
       "      <td>-4.086858e-21</td>\n",
       "      <td>0.232634</td>\n",
       "      <td>0.098972</td>\n",
       "      <td>-0.390154</td>\n",
       "      <td>1.315655</td>\n",
       "    </tr>\n",
       "    <tr>\n",
       "      <th>6867</th>\n",
       "      <td>0.0</td>\n",
       "      <td>0.0</td>\n",
       "      <td>1.0</td>\n",
       "      <td>0.0</td>\n",
       "      <td>0.0</td>\n",
       "      <td>1.0</td>\n",
       "      <td>0.0</td>\n",
       "      <td>0.0</td>\n",
       "      <td>0.0</td>\n",
       "      <td>0.0</td>\n",
       "      <td>...</td>\n",
       "      <td>6.213271e-17</td>\n",
       "      <td>1.0</td>\n",
       "      <td>-1.073669e-17</td>\n",
       "      <td>-1.261514e-18</td>\n",
       "      <td>2.338048e-19</td>\n",
       "      <td>-4.086858e-21</td>\n",
       "      <td>0.232634</td>\n",
       "      <td>0.098972</td>\n",
       "      <td>-0.390154</td>\n",
       "      <td>1.315655</td>\n",
       "    </tr>\n",
       "    <tr>\n",
       "      <th>6868</th>\n",
       "      <td>0.0</td>\n",
       "      <td>0.0</td>\n",
       "      <td>1.0</td>\n",
       "      <td>0.0</td>\n",
       "      <td>0.0</td>\n",
       "      <td>0.0</td>\n",
       "      <td>0.0</td>\n",
       "      <td>1.0</td>\n",
       "      <td>0.0</td>\n",
       "      <td>0.0</td>\n",
       "      <td>...</td>\n",
       "      <td>6.213271e-17</td>\n",
       "      <td>1.0</td>\n",
       "      <td>-1.073669e-17</td>\n",
       "      <td>-1.261514e-18</td>\n",
       "      <td>2.338048e-19</td>\n",
       "      <td>-4.086858e-21</td>\n",
       "      <td>0.219931</td>\n",
       "      <td>0.098972</td>\n",
       "      <td>-0.393147</td>\n",
       "      <td>1.315655</td>\n",
       "    </tr>\n",
       "    <tr>\n",
       "      <th>6869</th>\n",
       "      <td>0.0</td>\n",
       "      <td>0.0</td>\n",
       "      <td>0.0</td>\n",
       "      <td>0.0</td>\n",
       "      <td>1.0</td>\n",
       "      <td>0.0</td>\n",
       "      <td>0.0</td>\n",
       "      <td>1.0</td>\n",
       "      <td>0.0</td>\n",
       "      <td>0.0</td>\n",
       "      <td>...</td>\n",
       "      <td>6.213271e-17</td>\n",
       "      <td>1.0</td>\n",
       "      <td>-1.073669e-17</td>\n",
       "      <td>-1.261514e-18</td>\n",
       "      <td>2.338048e-19</td>\n",
       "      <td>-4.086858e-21</td>\n",
       "      <td>-0.300970</td>\n",
       "      <td>-0.258807</td>\n",
       "      <td>-0.387162</td>\n",
       "      <td>1.315655</td>\n",
       "    </tr>\n",
       "    <tr>\n",
       "      <th>6870</th>\n",
       "      <td>0.0</td>\n",
       "      <td>0.0</td>\n",
       "      <td>0.0</td>\n",
       "      <td>0.0</td>\n",
       "      <td>1.0</td>\n",
       "      <td>1.0</td>\n",
       "      <td>0.0</td>\n",
       "      <td>0.0</td>\n",
       "      <td>0.0</td>\n",
       "      <td>0.0</td>\n",
       "      <td>...</td>\n",
       "      <td>6.213271e-17</td>\n",
       "      <td>1.0</td>\n",
       "      <td>-1.073669e-17</td>\n",
       "      <td>-1.261514e-18</td>\n",
       "      <td>2.338048e-19</td>\n",
       "      <td>-4.086858e-21</td>\n",
       "      <td>-0.309971</td>\n",
       "      <td>-0.258807</td>\n",
       "      <td>0.561427</td>\n",
       "      <td>1.315655</td>\n",
       "    </tr>\n",
       "    <tr>\n",
       "      <th>6871</th>\n",
       "      <td>0.0</td>\n",
       "      <td>0.0</td>\n",
       "      <td>0.0</td>\n",
       "      <td>0.0</td>\n",
       "      <td>1.0</td>\n",
       "      <td>0.0</td>\n",
       "      <td>0.0</td>\n",
       "      <td>0.0</td>\n",
       "      <td>0.0</td>\n",
       "      <td>0.0</td>\n",
       "      <td>...</td>\n",
       "      <td>6.213271e-17</td>\n",
       "      <td>1.0</td>\n",
       "      <td>-1.073669e-17</td>\n",
       "      <td>-1.261514e-18</td>\n",
       "      <td>2.338048e-19</td>\n",
       "      <td>-4.086858e-21</td>\n",
       "      <td>-0.225931</td>\n",
       "      <td>-0.258807</td>\n",
       "      <td>-0.393147</td>\n",
       "      <td>1.315655</td>\n",
       "    </tr>\n",
       "    <tr>\n",
       "      <th>6872</th>\n",
       "      <td>0.0</td>\n",
       "      <td>0.0</td>\n",
       "      <td>0.0</td>\n",
       "      <td>0.0</td>\n",
       "      <td>1.0</td>\n",
       "      <td>0.0</td>\n",
       "      <td>0.0</td>\n",
       "      <td>1.0</td>\n",
       "      <td>0.0</td>\n",
       "      <td>0.0</td>\n",
       "      <td>...</td>\n",
       "      <td>6.213271e-17</td>\n",
       "      <td>1.0</td>\n",
       "      <td>-1.073669e-17</td>\n",
       "      <td>-1.261514e-18</td>\n",
       "      <td>2.338048e-19</td>\n",
       "      <td>-4.086858e-21</td>\n",
       "      <td>-0.302400</td>\n",
       "      <td>-0.258807</td>\n",
       "      <td>-0.396139</td>\n",
       "      <td>1.315655</td>\n",
       "    </tr>\n",
       "    <tr>\n",
       "      <th>6873</th>\n",
       "      <td>0.0</td>\n",
       "      <td>0.0</td>\n",
       "      <td>0.0</td>\n",
       "      <td>1.0</td>\n",
       "      <td>0.0</td>\n",
       "      <td>1.0</td>\n",
       "      <td>0.0</td>\n",
       "      <td>1.0</td>\n",
       "      <td>0.0</td>\n",
       "      <td>0.0</td>\n",
       "      <td>...</td>\n",
       "      <td>6.213271e-17</td>\n",
       "      <td>1.0</td>\n",
       "      <td>-1.073669e-17</td>\n",
       "      <td>-1.261514e-18</td>\n",
       "      <td>2.338048e-19</td>\n",
       "      <td>-4.086858e-21</td>\n",
       "      <td>-0.263787</td>\n",
       "      <td>-0.258807</td>\n",
       "      <td>-0.393147</td>\n",
       "      <td>1.059774</td>\n",
       "    </tr>\n",
       "    <tr>\n",
       "      <th>6874</th>\n",
       "      <td>1.0</td>\n",
       "      <td>0.0</td>\n",
       "      <td>0.0</td>\n",
       "      <td>0.0</td>\n",
       "      <td>0.0</td>\n",
       "      <td>1.0</td>\n",
       "      <td>0.0</td>\n",
       "      <td>0.0</td>\n",
       "      <td>0.0</td>\n",
       "      <td>0.0</td>\n",
       "      <td>...</td>\n",
       "      <td>6.213271e-17</td>\n",
       "      <td>1.0</td>\n",
       "      <td>-1.073669e-17</td>\n",
       "      <td>-1.261514e-18</td>\n",
       "      <td>2.338048e-19</td>\n",
       "      <td>-4.086858e-21</td>\n",
       "      <td>-0.263787</td>\n",
       "      <td>-0.258807</td>\n",
       "      <td>-0.393147</td>\n",
       "      <td>1.059774</td>\n",
       "    </tr>\n",
       "  </tbody>\n",
       "</table>\n",
       "<p>6875 rows × 50 columns</p>\n",
       "</div>"
      ],
      "text/plain": [
       "      payment_details.credit_card_company_American Express  \\\n",
       "0                                                   0.0      \n",
       "1                                                   0.0      \n",
       "2                                                   0.0      \n",
       "3                                                   0.0      \n",
       "4                                                   0.0      \n",
       "5                                                   0.0      \n",
       "6                                                   0.0      \n",
       "7                                                   0.0      \n",
       "8                                                   1.0      \n",
       "9                                                   1.0      \n",
       "10                                                  0.0      \n",
       "11                                                  0.0      \n",
       "12                                                  0.0      \n",
       "13                                                  0.0      \n",
       "14                                                  0.0      \n",
       "15                                                  0.0      \n",
       "16                                                  0.0      \n",
       "17                                                  0.0      \n",
       "18                                                  0.0      \n",
       "19                                                  0.0      \n",
       "20                                                  1.0      \n",
       "21                                                  1.0      \n",
       "22                                                  0.0      \n",
       "23                                                  0.0      \n",
       "24                                                  0.0      \n",
       "25                                                  0.0      \n",
       "26                                                  0.0      \n",
       "27                                                  0.0      \n",
       "28                                                  0.0      \n",
       "29                                                  0.0      \n",
       "...                                                 ...      \n",
       "6845                                                0.0      \n",
       "6846                                                0.0      \n",
       "6847                                                0.0      \n",
       "6848                                                1.0      \n",
       "6849                                                1.0      \n",
       "6850                                                0.0      \n",
       "6851                                                0.0      \n",
       "6852                                                0.0      \n",
       "6853                                                0.0      \n",
       "6854                                                0.0      \n",
       "6855                                                0.0      \n",
       "6856                                                0.0      \n",
       "6857                                                0.0      \n",
       "6858                                                0.0      \n",
       "6859                                                0.0      \n",
       "6860                                                1.0      \n",
       "6861                                                0.0      \n",
       "6862                                                0.0      \n",
       "6863                                                0.0      \n",
       "6864                                                0.0      \n",
       "6865                                                0.0      \n",
       "6866                                                0.0      \n",
       "6867                                                0.0      \n",
       "6868                                                0.0      \n",
       "6869                                                0.0      \n",
       "6870                                                0.0      \n",
       "6871                                                0.0      \n",
       "6872                                                0.0      \n",
       "6873                                                0.0      \n",
       "6874                                                1.0      \n",
       "\n",
       "      payment_details.credit_card_company_Discover  \\\n",
       "0                                              0.0   \n",
       "1                                              0.0   \n",
       "2                                              0.0   \n",
       "3                                              0.0   \n",
       "4                                              0.0   \n",
       "5                                              0.0   \n",
       "6                                              0.0   \n",
       "7                                              0.0   \n",
       "8                                              0.0   \n",
       "9                                              0.0   \n",
       "10                                             0.0   \n",
       "11                                             0.0   \n",
       "12                                             0.0   \n",
       "13                                             0.0   \n",
       "14                                             0.0   \n",
       "15                                             0.0   \n",
       "16                                             0.0   \n",
       "17                                             0.0   \n",
       "18                                             0.0   \n",
       "19                                             0.0   \n",
       "20                                             0.0   \n",
       "21                                             0.0   \n",
       "22                                             0.0   \n",
       "23                                             0.0   \n",
       "24                                             0.0   \n",
       "25                                             0.0   \n",
       "26                                             0.0   \n",
       "27                                             0.0   \n",
       "28                                             0.0   \n",
       "29                                             0.0   \n",
       "...                                            ...   \n",
       "6845                                           0.0   \n",
       "6846                                           0.0   \n",
       "6847                                           0.0   \n",
       "6848                                           0.0   \n",
       "6849                                           0.0   \n",
       "6850                                           0.0   \n",
       "6851                                           0.0   \n",
       "6852                                           0.0   \n",
       "6853                                           0.0   \n",
       "6854                                           0.0   \n",
       "6855                                           0.0   \n",
       "6856                                           0.0   \n",
       "6857                                           0.0   \n",
       "6858                                           0.0   \n",
       "6859                                           0.0   \n",
       "6860                                           0.0   \n",
       "6861                                           0.0   \n",
       "6862                                           0.0   \n",
       "6863                                           0.0   \n",
       "6864                                           0.0   \n",
       "6865                                           0.0   \n",
       "6866                                           0.0   \n",
       "6867                                           0.0   \n",
       "6868                                           0.0   \n",
       "6869                                           0.0   \n",
       "6870                                           0.0   \n",
       "6871                                           0.0   \n",
       "6872                                           0.0   \n",
       "6873                                           0.0   \n",
       "6874                                           0.0   \n",
       "\n",
       "      payment_details.credit_card_company_Mastercard  \\\n",
       "0                                                0.0   \n",
       "1                                                0.0   \n",
       "2                                                0.0   \n",
       "3                                                0.0   \n",
       "4                                                1.0   \n",
       "5                                                1.0   \n",
       "6                                                0.0   \n",
       "7                                                0.0   \n",
       "8                                                0.0   \n",
       "9                                                0.0   \n",
       "10                                               0.0   \n",
       "11                                               0.0   \n",
       "12                                               0.0   \n",
       "13                                               0.0   \n",
       "14                                               0.0   \n",
       "15                                               0.0   \n",
       "16                                               0.0   \n",
       "17                                               0.0   \n",
       "18                                               0.0   \n",
       "19                                               0.0   \n",
       "20                                               0.0   \n",
       "21                                               0.0   \n",
       "22                                               0.0   \n",
       "23                                               0.0   \n",
       "24                                               1.0   \n",
       "25                                               1.0   \n",
       "26                                               0.0   \n",
       "27                                               0.0   \n",
       "28                                               0.0   \n",
       "29                                               0.0   \n",
       "...                                              ...   \n",
       "6845                                             0.0   \n",
       "6846                                             0.0   \n",
       "6847                                             0.0   \n",
       "6848                                             0.0   \n",
       "6849                                             0.0   \n",
       "6850                                             0.0   \n",
       "6851                                             0.0   \n",
       "6852                                             0.0   \n",
       "6853                                             0.0   \n",
       "6854                                             0.0   \n",
       "6855                                             0.0   \n",
       "6856                                             0.0   \n",
       "6857                                             0.0   \n",
       "6858                                             0.0   \n",
       "6859                                             0.0   \n",
       "6860                                             0.0   \n",
       "6861                                             0.0   \n",
       "6862                                             0.0   \n",
       "6863                                             0.0   \n",
       "6864                                             0.0   \n",
       "6865                                             0.0   \n",
       "6866                                             1.0   \n",
       "6867                                             1.0   \n",
       "6868                                             1.0   \n",
       "6869                                             0.0   \n",
       "6870                                             0.0   \n",
       "6871                                             0.0   \n",
       "6872                                             0.0   \n",
       "6873                                             0.0   \n",
       "6874                                             0.0   \n",
       "\n",
       "      payment_details.credit_card_company_None  \\\n",
       "0                                          0.0   \n",
       "1                                          0.0   \n",
       "2                                          0.0   \n",
       "3                                          0.0   \n",
       "4                                          0.0   \n",
       "5                                          0.0   \n",
       "6                                          0.0   \n",
       "7                                          0.0   \n",
       "8                                          0.0   \n",
       "9                                          0.0   \n",
       "10                                         0.0   \n",
       "11                                         0.0   \n",
       "12                                         0.0   \n",
       "13                                         0.0   \n",
       "14                                         0.0   \n",
       "15                                         0.0   \n",
       "16                                         0.0   \n",
       "17                                         0.0   \n",
       "18                                         0.0   \n",
       "19                                         0.0   \n",
       "20                                         0.0   \n",
       "21                                         0.0   \n",
       "22                                         0.0   \n",
       "23                                         0.0   \n",
       "24                                         0.0   \n",
       "25                                         0.0   \n",
       "26                                         0.0   \n",
       "27                                         0.0   \n",
       "28                                         0.0   \n",
       "29                                         0.0   \n",
       "...                                        ...   \n",
       "6845                                       0.0   \n",
       "6846                                       0.0   \n",
       "6847                                       0.0   \n",
       "6848                                       0.0   \n",
       "6849                                       0.0   \n",
       "6850                                       0.0   \n",
       "6851                                       0.0   \n",
       "6852                                       0.0   \n",
       "6853                                       1.0   \n",
       "6854                                       0.0   \n",
       "6855                                       1.0   \n",
       "6856                                       0.0   \n",
       "6857                                       0.0   \n",
       "6858                                       0.0   \n",
       "6859                                       0.0   \n",
       "6860                                       0.0   \n",
       "6861                                       0.0   \n",
       "6862                                       1.0   \n",
       "6863                                       1.0   \n",
       "6864                                       1.0   \n",
       "6865                                       1.0   \n",
       "6866                                       0.0   \n",
       "6867                                       0.0   \n",
       "6868                                       0.0   \n",
       "6869                                       0.0   \n",
       "6870                                       0.0   \n",
       "6871                                       0.0   \n",
       "6872                                       0.0   \n",
       "6873                                       1.0   \n",
       "6874                                       0.0   \n",
       "\n",
       "      payment_details.credit_card_company_Visa  buyer_accepts_marketing  \\\n",
       "0                                          1.0                      0.0   \n",
       "1                                          1.0                      0.0   \n",
       "2                                          1.0                      0.0   \n",
       "3                                          1.0                      0.0   \n",
       "4                                          0.0                      1.0   \n",
       "5                                          0.0                      1.0   \n",
       "6                                          1.0                      0.0   \n",
       "7                                          1.0                      0.0   \n",
       "8                                          0.0                      0.0   \n",
       "9                                          0.0                      0.0   \n",
       "10                                         1.0                      0.0   \n",
       "11                                         1.0                      0.0   \n",
       "12                                         1.0                      0.0   \n",
       "13                                         1.0                      0.0   \n",
       "14                                         1.0                      1.0   \n",
       "15                                         1.0                      1.0   \n",
       "16                                         1.0                      0.0   \n",
       "17                                         1.0                      0.0   \n",
       "18                                         1.0                      1.0   \n",
       "19                                         1.0                      1.0   \n",
       "20                                         0.0                      0.0   \n",
       "21                                         0.0                      0.0   \n",
       "22                                         1.0                      1.0   \n",
       "23                                         1.0                      1.0   \n",
       "24                                         0.0                      0.0   \n",
       "25                                         0.0                      0.0   \n",
       "26                                         1.0                      1.0   \n",
       "27                                         1.0                      1.0   \n",
       "28                                         1.0                      1.0   \n",
       "29                                         1.0                      1.0   \n",
       "...                                        ...                      ...   \n",
       "6845                                       1.0                      1.0   \n",
       "6846                                       1.0                      1.0   \n",
       "6847                                       1.0                      1.0   \n",
       "6848                                       0.0                      1.0   \n",
       "6849                                       0.0                      1.0   \n",
       "6850                                       1.0                      1.0   \n",
       "6851                                       1.0                      0.0   \n",
       "6852                                       1.0                      0.0   \n",
       "6853                                       0.0                      1.0   \n",
       "6854                                       1.0                      0.0   \n",
       "6855                                       0.0                      1.0   \n",
       "6856                                       1.0                      1.0   \n",
       "6857                                       1.0                      1.0   \n",
       "6858                                       1.0                      1.0   \n",
       "6859                                       1.0                      0.0   \n",
       "6860                                       0.0                      0.0   \n",
       "6861                                       1.0                      0.0   \n",
       "6862                                       0.0                      1.0   \n",
       "6863                                       0.0                      1.0   \n",
       "6864                                       0.0                      0.0   \n",
       "6865                                       0.0                      1.0   \n",
       "6866                                       0.0                      1.0   \n",
       "6867                                       0.0                      1.0   \n",
       "6868                                       0.0                      0.0   \n",
       "6869                                       1.0                      0.0   \n",
       "6870                                       1.0                      1.0   \n",
       "6871                                       1.0                      0.0   \n",
       "6872                                       1.0                      0.0   \n",
       "6873                                       0.0                      1.0   \n",
       "6874                                       0.0                      1.0   \n",
       "\n",
       "      referring_domain_Bing  referring_domain_BoxFox  \\\n",
       "0                       0.0                      0.0   \n",
       "1                       0.0                      0.0   \n",
       "2                       0.0                      0.0   \n",
       "3                       0.0                      0.0   \n",
       "4                       0.0                      0.0   \n",
       "5                       0.0                      0.0   \n",
       "6                       0.0                      0.0   \n",
       "7                       0.0                      0.0   \n",
       "8                       0.0                      0.0   \n",
       "9                       0.0                      0.0   \n",
       "10                      0.0                      0.0   \n",
       "11                      0.0                      0.0   \n",
       "12                      0.0                      0.0   \n",
       "13                      0.0                      0.0   \n",
       "14                      0.0                      0.0   \n",
       "15                      0.0                      0.0   \n",
       "16                      0.0                      0.0   \n",
       "17                      0.0                      0.0   \n",
       "18                      0.0                      0.0   \n",
       "19                      0.0                      0.0   \n",
       "20                      0.0                      0.0   \n",
       "21                      0.0                      0.0   \n",
       "22                      0.0                      0.0   \n",
       "23                      0.0                      0.0   \n",
       "24                      0.0                      0.0   \n",
       "25                      0.0                      0.0   \n",
       "26                      0.0                      0.0   \n",
       "27                      0.0                      0.0   \n",
       "28                      0.0                      0.0   \n",
       "29                      0.0                      0.0   \n",
       "...                     ...                      ...   \n",
       "6845                    0.0                      1.0   \n",
       "6846                    0.0                      0.0   \n",
       "6847                    0.0                      0.0   \n",
       "6848                    0.0                      1.0   \n",
       "6849                    0.0                      1.0   \n",
       "6850                    0.0                      0.0   \n",
       "6851                    0.0                      0.0   \n",
       "6852                    0.0                      0.0   \n",
       "6853                    0.0                      0.0   \n",
       "6854                    0.0                      1.0   \n",
       "6855                    0.0                      1.0   \n",
       "6856                    0.0                      0.0   \n",
       "6857                    0.0                      0.0   \n",
       "6858                    0.0                      0.0   \n",
       "6859                    0.0                      1.0   \n",
       "6860                    0.0                      0.0   \n",
       "6861                    0.0                      0.0   \n",
       "6862                    0.0                      0.0   \n",
       "6863                    0.0                      0.0   \n",
       "6864                    0.0                      1.0   \n",
       "6865                    0.0                      1.0   \n",
       "6866                    0.0                      0.0   \n",
       "6867                    0.0                      0.0   \n",
       "6868                    0.0                      1.0   \n",
       "6869                    0.0                      1.0   \n",
       "6870                    0.0                      0.0   \n",
       "6871                    0.0                      0.0   \n",
       "6872                    0.0                      1.0   \n",
       "6873                    0.0                      1.0   \n",
       "6874                    0.0                      0.0   \n",
       "\n",
       "      referring_domain_Facebook  referring_domain_Glitter Guide  \\\n",
       "0                           0.0                             0.0   \n",
       "1                           0.0                             0.0   \n",
       "2                           0.0                             0.0   \n",
       "3                           0.0                             0.0   \n",
       "4                           0.0                             0.0   \n",
       "5                           0.0                             0.0   \n",
       "6                           0.0                             0.0   \n",
       "7                           0.0                             0.0   \n",
       "8                           0.0                             0.0   \n",
       "9                           0.0                             0.0   \n",
       "10                          0.0                             0.0   \n",
       "11                          0.0                             0.0   \n",
       "12                          0.0                             0.0   \n",
       "13                          0.0                             0.0   \n",
       "14                          0.0                             0.0   \n",
       "15                          0.0                             0.0   \n",
       "16                          0.0                             0.0   \n",
       "17                          0.0                             0.0   \n",
       "18                          0.0                             0.0   \n",
       "19                          0.0                             0.0   \n",
       "20                          0.0                             0.0   \n",
       "21                          0.0                             0.0   \n",
       "22                          0.0                             0.0   \n",
       "23                          0.0                             0.0   \n",
       "24                          0.0                             0.0   \n",
       "25                          0.0                             0.0   \n",
       "26                          0.0                             0.0   \n",
       "27                          0.0                             0.0   \n",
       "28                          0.0                             0.0   \n",
       "29                          0.0                             0.0   \n",
       "...                         ...                             ...   \n",
       "6845                        0.0                             0.0   \n",
       "6846                        0.0                             0.0   \n",
       "6847                        0.0                             0.0   \n",
       "6848                        0.0                             0.0   \n",
       "6849                        0.0                             0.0   \n",
       "6850                        0.0                             0.0   \n",
       "6851                        1.0                             0.0   \n",
       "6852                        0.0                             0.0   \n",
       "6853                        0.0                             0.0   \n",
       "6854                        0.0                             0.0   \n",
       "6855                        0.0                             0.0   \n",
       "6856                        0.0                             0.0   \n",
       "6857                        0.0                             0.0   \n",
       "6858                        0.0                             0.0   \n",
       "6859                        0.0                             0.0   \n",
       "6860                        0.0                             0.0   \n",
       "6861                        0.0                             0.0   \n",
       "6862                        0.0                             0.0   \n",
       "6863                        0.0                             0.0   \n",
       "6864                        0.0                             0.0   \n",
       "6865                        0.0                             0.0   \n",
       "6866                        0.0                             0.0   \n",
       "6867                        0.0                             0.0   \n",
       "6868                        0.0                             0.0   \n",
       "6869                        0.0                             0.0   \n",
       "6870                        0.0                             0.0   \n",
       "6871                        0.0                             0.0   \n",
       "6872                        0.0                             0.0   \n",
       "6873                        0.0                             0.0   \n",
       "6874                        0.0                             0.0   \n",
       "\n",
       "            ...               items_9  message_0     message_1     message_2  \\\n",
       "0           ...          7.175320e-02        0.0  0.000000e+00  0.000000e+00   \n",
       "1           ...          7.175320e-02        0.0  0.000000e+00  0.000000e+00   \n",
       "2           ...         -2.370823e-02        0.0  0.000000e+00  0.000000e+00   \n",
       "3           ...         -2.370823e-02        0.0  0.000000e+00  0.000000e+00   \n",
       "4           ...          2.107890e-02        0.0  0.000000e+00  0.000000e+00   \n",
       "5           ...          2.107890e-02        0.0  0.000000e+00  0.000000e+00   \n",
       "6           ...         -3.371229e-02        1.0 -1.073669e-17 -1.261514e-18   \n",
       "7           ...         -3.371229e-02        1.0 -1.073669e-17 -1.261514e-18   \n",
       "8           ...          6.545437e-01        0.0  0.000000e+00  0.000000e+00   \n",
       "9           ...          6.545437e-01        0.0  0.000000e+00  0.000000e+00   \n",
       "10          ...         -9.945284e-02        0.0  0.000000e+00  0.000000e+00   \n",
       "11          ...         -9.945284e-02        0.0  0.000000e+00  0.000000e+00   \n",
       "12          ...         -1.049779e-01        0.0  0.000000e+00  0.000000e+00   \n",
       "13          ...         -1.049779e-01        0.0  0.000000e+00  0.000000e+00   \n",
       "14          ...         -9.945284e-02        0.0  0.000000e+00  0.000000e+00   \n",
       "15          ...         -9.945284e-02        0.0  0.000000e+00  0.000000e+00   \n",
       "16          ...         -2.414438e-02        0.0  0.000000e+00  0.000000e+00   \n",
       "17          ...         -2.414438e-02        0.0  0.000000e+00  0.000000e+00   \n",
       "18          ...         -1.682376e-02        0.0  0.000000e+00  0.000000e+00   \n",
       "19          ...         -1.682376e-02        0.0  0.000000e+00  0.000000e+00   \n",
       "20          ...          6.213271e-17        1.0 -1.073669e-17 -1.261514e-18   \n",
       "21          ...          6.213271e-17        1.0 -1.073669e-17 -1.261514e-18   \n",
       "22          ...         -9.945284e-02        1.0 -1.073669e-17 -1.261514e-18   \n",
       "23          ...         -9.945284e-02        1.0 -1.073669e-17 -1.261514e-18   \n",
       "24          ...         -4.380726e-02        0.0  0.000000e+00  0.000000e+00   \n",
       "25          ...         -4.380726e-02        0.0  0.000000e+00  0.000000e+00   \n",
       "26          ...          6.213271e-17        1.0 -1.073669e-17 -1.261514e-18   \n",
       "27          ...          6.213271e-17        1.0 -1.073669e-17 -1.261514e-18   \n",
       "28          ...          6.213271e-17        1.0 -1.073669e-17 -1.261514e-18   \n",
       "29          ...          6.213271e-17        1.0 -1.073669e-17 -1.261514e-18   \n",
       "...         ...                   ...        ...           ...           ...   \n",
       "6845        ...          6.213271e-17        1.0 -1.073669e-17 -1.261514e-18   \n",
       "6846        ...          6.213271e-17        1.0 -1.073669e-17 -1.261514e-18   \n",
       "6847        ...          6.213271e-17        1.0 -1.073669e-17 -1.261514e-18   \n",
       "6848        ...          6.213271e-17        1.0 -1.073669e-17 -1.261514e-18   \n",
       "6849        ...          6.213271e-17        1.0 -1.073669e-17 -1.261514e-18   \n",
       "6850        ...          6.213271e-17        1.0 -1.073669e-17 -1.261514e-18   \n",
       "6851        ...          6.213271e-17        1.0 -1.073669e-17 -1.261514e-18   \n",
       "6852        ...          6.213271e-17        1.0 -1.073669e-17 -1.261514e-18   \n",
       "6853        ...          6.213271e-17        1.0 -1.073669e-17 -1.261514e-18   \n",
       "6854        ...          6.213271e-17        1.0 -1.073669e-17 -1.261514e-18   \n",
       "6855        ...          6.213271e-17        1.0 -1.073669e-17 -1.261514e-18   \n",
       "6856        ...          6.213271e-17        1.0 -1.073669e-17 -1.261514e-18   \n",
       "6857        ...          6.213271e-17        1.0 -1.073669e-17 -1.261514e-18   \n",
       "6858        ...          6.213271e-17        1.0 -1.073669e-17 -1.261514e-18   \n",
       "6859        ...          6.213271e-17        1.0 -1.073669e-17 -1.261514e-18   \n",
       "6860        ...          6.213271e-17        1.0 -1.073669e-17 -1.261514e-18   \n",
       "6861        ...          6.213271e-17        1.0 -1.073669e-17 -1.261514e-18   \n",
       "6862        ...          6.213271e-17        1.0 -1.073669e-17 -1.261514e-18   \n",
       "6863        ...          6.213271e-17        1.0 -1.073669e-17 -1.261514e-18   \n",
       "6864        ...          6.213271e-17        1.0 -1.073669e-17 -1.261514e-18   \n",
       "6865        ...          6.213271e-17        1.0 -1.073669e-17 -1.261514e-18   \n",
       "6866        ...          6.213271e-17        1.0 -1.073669e-17 -1.261514e-18   \n",
       "6867        ...          6.213271e-17        1.0 -1.073669e-17 -1.261514e-18   \n",
       "6868        ...          6.213271e-17        1.0 -1.073669e-17 -1.261514e-18   \n",
       "6869        ...          6.213271e-17        1.0 -1.073669e-17 -1.261514e-18   \n",
       "6870        ...          6.213271e-17        1.0 -1.073669e-17 -1.261514e-18   \n",
       "6871        ...          6.213271e-17        1.0 -1.073669e-17 -1.261514e-18   \n",
       "6872        ...          6.213271e-17        1.0 -1.073669e-17 -1.261514e-18   \n",
       "6873        ...          6.213271e-17        1.0 -1.073669e-17 -1.261514e-18   \n",
       "6874        ...          6.213271e-17        1.0 -1.073669e-17 -1.261514e-18   \n",
       "\n",
       "         message_3     message_4  total_price  total_weight  \\\n",
       "0     0.000000e+00  0.000000e+00     0.139507      1.173888   \n",
       "1     0.000000e+00  0.000000e+00     0.139507      1.173888   \n",
       "2     0.000000e+00  0.000000e+00    -0.038837      1.173888   \n",
       "3     0.000000e+00  0.000000e+00    -0.038837      1.173888   \n",
       "4     0.000000e+00  0.000000e+00     0.098034      1.173888   \n",
       "5     0.000000e+00  0.000000e+00     0.098034      1.173888   \n",
       "6     2.338048e-19 -4.086858e-21    -0.507665      1.173888   \n",
       "7     2.338048e-19 -4.086858e-21    -0.507665      1.173888   \n",
       "8     0.000000e+00  0.000000e+00     0.035950      1.173888   \n",
       "9     0.000000e+00  0.000000e+00     0.035950      1.173888   \n",
       "10    0.000000e+00  0.000000e+00    -0.474015      1.173888   \n",
       "11    0.000000e+00  0.000000e+00    -0.474015      1.173888   \n",
       "12    0.000000e+00  0.000000e+00    -0.675914      1.173888   \n",
       "13    0.000000e+00  0.000000e+00    -0.675914      1.173888   \n",
       "14    0.000000e+00  0.000000e+00    -0.356240      1.173888   \n",
       "15    0.000000e+00  0.000000e+00    -0.356240      1.173888   \n",
       "16    0.000000e+00  0.000000e+00     2.193583     10.130210   \n",
       "17    0.000000e+00  0.000000e+00     2.193583     10.130210   \n",
       "18    0.000000e+00  0.000000e+00    -0.234511      1.173888   \n",
       "19    0.000000e+00  0.000000e+00    -0.234511      1.173888   \n",
       "20    2.338048e-19 -4.086858e-21     0.006843      0.815320   \n",
       "21    2.338048e-19 -4.086858e-21     0.006843      0.815320   \n",
       "22    2.338048e-19 -4.086858e-21    -0.566552      1.173888   \n",
       "23    2.338048e-19 -4.086858e-21    -0.566552      1.173888   \n",
       "24    0.000000e+00  0.000000e+00    -0.263703      1.173888   \n",
       "25    0.000000e+00  0.000000e+00    -0.263703      1.173888   \n",
       "26    2.338048e-19 -4.086858e-21    -0.044978      0.815320   \n",
       "27    2.338048e-19 -4.086858e-21    -0.044978      0.815320   \n",
       "28    2.338048e-19 -4.086858e-21    -0.044978     -0.258807   \n",
       "29    2.338048e-19 -4.086858e-21    -0.044978     -0.258807   \n",
       "...            ...           ...          ...           ...   \n",
       "6845  2.338048e-19 -4.086858e-21    -0.263787     -0.258807   \n",
       "6846  2.338048e-19 -4.086858e-21     0.745711      0.457541   \n",
       "6847  2.338048e-19 -4.086858e-21     0.745711      0.457541   \n",
       "6848  2.338048e-19 -4.086858e-21     0.095090      0.098972   \n",
       "6849  2.338048e-19 -4.086858e-21     0.095090      0.098972   \n",
       "6850  2.338048e-19 -4.086858e-21    -0.263787     -0.258807   \n",
       "6851  2.338048e-19 -4.086858e-21    -0.401752     -0.258807   \n",
       "6852  2.338048e-19 -4.086858e-21    -0.406799     -0.258807   \n",
       "6853  2.338048e-19 -4.086858e-21    -0.218359     -0.258807   \n",
       "6854  2.338048e-19 -4.086858e-21    -0.432036     -0.258807   \n",
       "6855  2.338048e-19 -4.086858e-21     0.981344      0.815320   \n",
       "6856  2.338048e-19 -4.086858e-21     0.232634      0.098972   \n",
       "6857  2.338048e-19 -4.086858e-21     0.775239      0.457541   \n",
       "6858  2.338048e-19 -4.086858e-21     0.775239      0.457541   \n",
       "6859  2.338048e-19 -4.086858e-21    -0.263787     -0.258807   \n",
       "6860  2.338048e-19 -4.086858e-21    -0.307363     -0.258807   \n",
       "6861  2.338048e-19 -4.086858e-21    -0.263787     -0.258807   \n",
       "6862  2.338048e-19 -4.086858e-21    -0.307363     -0.258807   \n",
       "6863  2.338048e-19 -4.086858e-21     0.577461      0.457541   \n",
       "6864  2.338048e-19 -4.086858e-21    -0.339499     -0.258807   \n",
       "6865  2.338048e-19 -4.086858e-21    -0.309971     -0.258807   \n",
       "6866  2.338048e-19 -4.086858e-21     0.232634      0.098972   \n",
       "6867  2.338048e-19 -4.086858e-21     0.232634      0.098972   \n",
       "6868  2.338048e-19 -4.086858e-21     0.219931      0.098972   \n",
       "6869  2.338048e-19 -4.086858e-21    -0.300970     -0.258807   \n",
       "6870  2.338048e-19 -4.086858e-21    -0.309971     -0.258807   \n",
       "6871  2.338048e-19 -4.086858e-21    -0.225931     -0.258807   \n",
       "6872  2.338048e-19 -4.086858e-21    -0.302400     -0.258807   \n",
       "6873  2.338048e-19 -4.086858e-21    -0.263787     -0.258807   \n",
       "6874  2.338048e-19 -4.086858e-21    -0.263787     -0.258807   \n",
       "\n",
       "      seconds_to_purchase  month_of_purchase  \n",
       "0               -0.381177          -0.987272  \n",
       "1               -0.381177          -0.987272  \n",
       "2               -0.393147          -0.987272  \n",
       "3               -0.393147          -0.987272  \n",
       "4               -0.390154          -0.987272  \n",
       "5               -0.390154          -0.987272  \n",
       "6               -0.366215          -0.987272  \n",
       "7               -0.366215          -0.987272  \n",
       "8                0.711047          -0.987272  \n",
       "9                0.711047          -0.987272  \n",
       "10              -0.387162          -0.987272  \n",
       "11              -0.387162          -0.987272  \n",
       "12              -0.360230          -0.987272  \n",
       "13              -0.360230          -0.987272  \n",
       "14              -0.390154          -0.987272  \n",
       "15              -0.390154          -0.987272  \n",
       "16              -0.165725          -0.987272  \n",
       "17              -0.165725          -0.987272  \n",
       "18              -0.357238          -0.987272  \n",
       "19              -0.357238          -0.987272  \n",
       "20              -0.390154          -0.987272  \n",
       "21              -0.390154          -0.987272  \n",
       "22              -0.378185          -0.987272  \n",
       "23              -0.378185          -0.987272  \n",
       "24              -0.393147          -0.987272  \n",
       "25              -0.393147          -0.987272  \n",
       "26              -0.396139          -0.987272  \n",
       "27              -0.396139          -0.987272  \n",
       "28              -0.375192          -0.987272  \n",
       "29              -0.375192          -0.987272  \n",
       "...                   ...                ...  \n",
       "6845            -0.384170          -1.499033  \n",
       "6846            -0.396139          -1.499033  \n",
       "6847            -0.396139          -1.499033  \n",
       "6848             1.040211          -1.499033  \n",
       "6849             1.040211          -1.499033  \n",
       "6850            -0.396139          -1.499033  \n",
       "6851            -0.393147          -1.499033  \n",
       "6852            -0.396139           1.315655  \n",
       "6853             0.633245           1.315655  \n",
       "6854             0.375899           1.315655  \n",
       "6855            -0.393147           1.315655  \n",
       "6856             2.856594           1.315655  \n",
       "6857            -0.384170           1.315655  \n",
       "6858            -0.384170           1.315655  \n",
       "6859            -0.381177           1.315655  \n",
       "6860            -0.390154           1.315655  \n",
       "6861            -0.396139           1.315655  \n",
       "6862             0.872636           1.315655  \n",
       "6863            -0.315344           1.315655  \n",
       "6864            -0.345268           1.315655  \n",
       "6865            -0.378185           1.315655  \n",
       "6866            -0.390154           1.315655  \n",
       "6867            -0.390154           1.315655  \n",
       "6868            -0.393147           1.315655  \n",
       "6869            -0.387162           1.315655  \n",
       "6870             0.561427           1.315655  \n",
       "6871            -0.393147           1.315655  \n",
       "6872            -0.396139           1.315655  \n",
       "6873            -0.393147           1.059774  \n",
       "6874            -0.393147           1.059774  \n",
       "\n",
       "[6875 rows x 50 columns]"
      ]
     },
     "execution_count": 135,
     "metadata": {},
     "output_type": "execute_result"
    }
   ],
   "source": [
    "clust_mapper = DataFrameMapper([\n",
    "        ('payment_details.credit_card_company', LabelBinarizer()),\n",
    "        ('buyer_accepts_marketing', LabelBinarizer()),\n",
    "        ('referring_domain', LabelBinarizer()),\n",
    "        ('discount_type', LabelBinarizer()),\n",
    "        ('device', LabelBinarizer()),\n",
    "        ('shipping_meth', LabelBinarizer()),\n",
    "        ('items', [TfidfVectorizer(vocabulary=items), TruncatedSVD(10)]),\n",
    "        ('message', [TfidfVectorizer(vocabulary=items), TruncatedSVD(5)]),\n",
    "        ('total_price', StandardScaler()),\n",
    "        ('total_weight', StandardScaler()),\n",
    "        ('seconds_to_purchase',  StandardScaler()),\n",
    "        ('month_of_purchase', StandardScaler())\n",
    "    ], df_out=True)\n",
    "\n",
    "clust_mapper.fit_transform(features)"
   ]
  },
  {
   "cell_type": "code",
   "execution_count": 200,
   "metadata": {
    "collapsed": false
   },
   "outputs": [
    {
     "ename": "PandasError",
     "evalue": "DataFrame constructor not properly called!",
     "output_type": "error",
     "traceback": [
      "\u001b[0;31m---------------------------------------------------------------------------\u001b[0m",
      "\u001b[0;31mPandasError\u001b[0m                               Traceback (most recent call last)",
      "\u001b[0;32m<ipython-input-200-3edd60b1dfa2>\u001b[0m in \u001b[0;36m<module>\u001b[0;34m()\u001b[0m\n\u001b[0;32m----> 1\u001b[0;31m \u001b[0mpd\u001b[0m\u001b[0;34m.\u001b[0m\u001b[0mDataFrame\u001b[0m\u001b[0;34m(\u001b[0m\u001b[0mlsa\u001b[0m\u001b[0;34m,\u001b[0m \u001b[0mcolumns\u001b[0m \u001b[0;34m=\u001b[0m \u001b[0;34m[\u001b[0m\u001b[0;34m\"component_1\"\u001b[0m\u001b[0;34m,\u001b[0m\u001b[0;34m\"component_2\"\u001b[0m \u001b[0;34m]\u001b[0m\u001b[0;34m)\u001b[0m\u001b[0;34m\u001b[0m\u001b[0m\n\u001b[0m",
      "\u001b[0;32m/Users/zober/anaconda2/lib/python2.7/site-packages/pandas/core/frame.pyc\u001b[0m in \u001b[0;36m__init__\u001b[0;34m(self, data, index, columns, dtype, copy)\u001b[0m\n\u001b[1;32m    301\u001b[0m                                          copy=False)\n\u001b[1;32m    302\u001b[0m             \u001b[0;32melse\u001b[0m\u001b[0;34m:\u001b[0m\u001b[0;34m\u001b[0m\u001b[0m\n\u001b[0;32m--> 303\u001b[0;31m                 \u001b[0;32mraise\u001b[0m \u001b[0mPandasError\u001b[0m\u001b[0;34m(\u001b[0m\u001b[0;34m'DataFrame constructor not properly called!'\u001b[0m\u001b[0;34m)\u001b[0m\u001b[0;34m\u001b[0m\u001b[0m\n\u001b[0m\u001b[1;32m    304\u001b[0m \u001b[0;34m\u001b[0m\u001b[0m\n\u001b[1;32m    305\u001b[0m         \u001b[0mNDFrame\u001b[0m\u001b[0;34m.\u001b[0m\u001b[0m__init__\u001b[0m\u001b[0;34m(\u001b[0m\u001b[0mself\u001b[0m\u001b[0;34m,\u001b[0m \u001b[0mmgr\u001b[0m\u001b[0;34m,\u001b[0m \u001b[0mfastpath\u001b[0m\u001b[0;34m=\u001b[0m\u001b[0mTrue\u001b[0m\u001b[0;34m)\u001b[0m\u001b[0;34m\u001b[0m\u001b[0m\n",
      "\u001b[0;31mPandasError\u001b[0m: DataFrame constructor not properly called!"
     ]
    }
   ],
   "source": [
    "lsa"
   ]
  },
  {
   "cell_type": "code",
   "execution_count": 137,
   "metadata": {
    "collapsed": false
   },
   "outputs": [],
   "source": [
    "pipe2 = Pipeline([\n",
    "    ('featurize', clust_mapper),\n",
    "    ('km', KMeans(n_clusters=3))]\n",
    "    )"
   ]
  },
  {
   "cell_type": "code",
   "execution_count": 138,
   "metadata": {
    "collapsed": false
   },
   "outputs": [
    {
     "data": {
      "text/plain": [
       "sklearn.preprocessing.data.Normalizer"
      ]
     },
     "execution_count": 138,
     "metadata": {},
     "output_type": "execute_result"
    }
   ],
   "source": [
    "Normalizer"
   ]
  },
  {
   "cell_type": "code",
   "execution_count": 139,
   "metadata": {
    "collapsed": false
   },
   "outputs": [
    {
     "name": "stderr",
     "output_type": "stream",
     "text": [
      "/Users/zober/anaconda2/lib/python2.7/site-packages/sklearn/preprocessing/data.py:583: DeprecationWarning: Passing 1d arrays as data is deprecated in 0.17 and will raise ValueError in 0.19. Reshape your data either using X.reshape(-1, 1) if your data has a single feature or X.reshape(1, -1) if it contains a single sample.\n",
      "  warnings.warn(DEPRECATION_MSG_1D, DeprecationWarning)\n",
      "/Users/zober/anaconda2/lib/python2.7/site-packages/sklearn/utils/validation.py:420: DataConversionWarning: Data with input dtype int64 was converted to float64 by StandardScaler.\n",
      "  warnings.warn(msg, DataConversionWarning)\n",
      "/Users/zober/anaconda2/lib/python2.7/site-packages/sklearn/preprocessing/data.py:583: DeprecationWarning: Passing 1d arrays as data is deprecated in 0.17 and will raise ValueError in 0.19. Reshape your data either using X.reshape(-1, 1) if your data has a single feature or X.reshape(1, -1) if it contains a single sample.\n",
      "  warnings.warn(DEPRECATION_MSG_1D, DeprecationWarning)\n",
      "/Users/zober/anaconda2/lib/python2.7/site-packages/sklearn/preprocessing/data.py:583: DeprecationWarning: Passing 1d arrays as data is deprecated in 0.17 and will raise ValueError in 0.19. Reshape your data either using X.reshape(-1, 1) if your data has a single feature or X.reshape(1, -1) if it contains a single sample.\n",
      "  warnings.warn(DEPRECATION_MSG_1D, DeprecationWarning)\n",
      "/Users/zober/anaconda2/lib/python2.7/site-packages/sklearn/utils/validation.py:420: DataConversionWarning: Data with input dtype int64 was converted to float64 by StandardScaler.\n",
      "  warnings.warn(msg, DataConversionWarning)\n",
      "/Users/zober/anaconda2/lib/python2.7/site-packages/sklearn/preprocessing/data.py:583: DeprecationWarning: Passing 1d arrays as data is deprecated in 0.17 and will raise ValueError in 0.19. Reshape your data either using X.reshape(-1, 1) if your data has a single feature or X.reshape(1, -1) if it contains a single sample.\n",
      "  warnings.warn(DEPRECATION_MSG_1D, DeprecationWarning)\n",
      "/Users/zober/anaconda2/lib/python2.7/site-packages/sklearn/preprocessing/data.py:646: DeprecationWarning: Passing 1d arrays as data is deprecated in 0.17 and will raise ValueError in 0.19. Reshape your data either using X.reshape(-1, 1) if your data has a single feature or X.reshape(1, -1) if it contains a single sample.\n",
      "  warnings.warn(DEPRECATION_MSG_1D, DeprecationWarning)\n",
      "/Users/zober/anaconda2/lib/python2.7/site-packages/sklearn/utils/validation.py:420: DataConversionWarning: Data with input dtype int64 was converted to float64 by StandardScaler.\n",
      "  warnings.warn(msg, DataConversionWarning)\n",
      "/Users/zober/anaconda2/lib/python2.7/site-packages/sklearn/preprocessing/data.py:646: DeprecationWarning: Passing 1d arrays as data is deprecated in 0.17 and will raise ValueError in 0.19. Reshape your data either using X.reshape(-1, 1) if your data has a single feature or X.reshape(1, -1) if it contains a single sample.\n",
      "  warnings.warn(DEPRECATION_MSG_1D, DeprecationWarning)\n",
      "/Users/zober/anaconda2/lib/python2.7/site-packages/sklearn/preprocessing/data.py:646: DeprecationWarning: Passing 1d arrays as data is deprecated in 0.17 and will raise ValueError in 0.19. Reshape your data either using X.reshape(-1, 1) if your data has a single feature or X.reshape(1, -1) if it contains a single sample.\n",
      "  warnings.warn(DEPRECATION_MSG_1D, DeprecationWarning)\n",
      "/Users/zober/anaconda2/lib/python2.7/site-packages/sklearn/utils/validation.py:420: DataConversionWarning: Data with input dtype int64 was converted to float64 by StandardScaler.\n",
      "  warnings.warn(msg, DataConversionWarning)\n",
      "/Users/zober/anaconda2/lib/python2.7/site-packages/sklearn/preprocessing/data.py:646: DeprecationWarning: Passing 1d arrays as data is deprecated in 0.17 and will raise ValueError in 0.19. Reshape your data either using X.reshape(-1, 1) if your data has a single feature or X.reshape(1, -1) if it contains a single sample.\n",
      "  warnings.warn(DEPRECATION_MSG_1D, DeprecationWarning)\n"
     ]
    },
    {
     "data": {
      "text/plain": [
       "Pipeline(steps=[('featurize', DataFrameMapper(default=False, df_out=True,\n",
       "        features=[('payment_details.credit_card_company', LabelBinarizer(neg_label=0, pos_label=1, sparse_output=False)), ('buyer_accepts_marketing', LabelBinarizer(neg_label=0, pos_label=1, sparse_output=False)), ('referring_domain', ..._init=10,\n",
       "    n_jobs=1, precompute_distances='auto', random_state=None, tol=0.0001,\n",
       "    verbose=0))])"
      ]
     },
     "execution_count": 139,
     "metadata": {},
     "output_type": "execute_result"
    }
   ],
   "source": [
    "features = features.fillna({'customer.id': 0,\n",
    "                        'payment_details.credit_card_company': 'None',\n",
    "                        'discount_type': 'None',\n",
    "                        'referring_domain': 'None',\n",
    "                        'seconds_to_purchase': 0,\n",
    "                        'month_of_purchase': 0,\n",
    "                        'message': 'None',\n",
    "                        'items': 'None'\n",
    "               })\n",
    "\n",
    "pipe2.fit(features)"
   ]
  },
  {
   "cell_type": "code",
   "execution_count": 140,
   "metadata": {
    "collapsed": false
   },
   "outputs": [],
   "source": [
    "clust_1 = features[pipe2.steps[1][1].labels_==0]\n",
    "clust_2 = features[pipe2.steps[1][1].labels_==1]\n",
    "clust_3 = features[pipe2.steps[1][1].labels_==2]"
   ]
  },
  {
   "cell_type": "code",
   "execution_count": 62,
   "metadata": {
    "collapsed": false
   },
   "outputs": [
    {
     "data": {
      "text/plain": [
       "<matplotlib.collections.PathCollection at 0x1225ebd50>"
      ]
     },
     "execution_count": 62,
     "metadata": {},
     "output_type": "execute_result"
    },
    {
     "data": {
      "image/png": "[encoded data removed]",
      "text/plain": [
       "<matplotlib.figure.Figure at 0x11f96bb10>"
      ]
     },
     "metadata": {},
     "output_type": "display_data"
    }
   ],
   "source": [
    "plt.scatter(clust_1.total_weight, clust_1.total_price, color = 'r')\n",
    "plt.scatter(clust_2.total_weight, clust_2.total_price, color = 'g')\n",
    "plt.scatter(clust_3.total_weight, clust_3.total_price, color = 'b')"
   ]
  },
  {
   "cell_type": "code",
   "execution_count": 64,
   "metadata": {
    "collapsed": false
   },
   "outputs": [
    {
     "data": {
      "text/plain": [
       "buyer_accepts_marketing      0.550388\n",
       "total_price                 81.723434\n",
       "total_weight               706.470172\n",
       "seconds_to_purchase        128.483654\n",
       "month_of_purchase            2.893832\n",
       "dtype: float64"
      ]
     },
     "execution_count": 64,
     "metadata": {},
     "output_type": "execute_result"
    }
   ],
   "source": [
    "clust_1.mean()"
   ]
  },
  {
   "cell_type": "code",
   "execution_count": 66,
   "metadata": {
    "collapsed": false
   },
   "outputs": [
    {
     "data": {
      "text/plain": [
       "buyer_accepts_marketing      0.507902\n",
       "total_price                 86.197346\n",
       "total_weight               573.322343\n",
       "seconds_to_purchase        131.272207\n",
       "month_of_purchase            9.986649\n",
       "dtype: float64"
      ]
     },
     "execution_count": 66,
     "metadata": {},
     "output_type": "execute_result"
    }
   ],
   "source": [
    "clust_2.mean()"
   ]
  },
  {
   "cell_type": "code",
   "execution_count": 67,
   "metadata": {
    "collapsed": false
   },
   "outputs": [
    {
     "data": {
      "text/plain": [
       "buyer_accepts_marketing       0.563025\n",
       "total_price                 579.580840\n",
       "total_weight               4932.399160\n",
       "seconds_to_purchase         198.092437\n",
       "month_of_purchase             8.042017\n",
       "dtype: float64"
      ]
     },
     "execution_count": 67,
     "metadata": {},
     "output_type": "execute_result"
    }
   ],
   "source": [
    "clust_3.mean()"
   ]
  },
  {
   "cell_type": "code",
   "execution_count": 72,
   "metadata": {
    "collapsed": false
   },
   "outputs": [
    {
     "data": {
      "text/plain": [
       "39446.514860287374"
      ]
     },
     "execution_count": 72,
     "metadata": {},
     "output_type": "execute_result"
    }
   ],
   "source": [
    "pipe2.steps[1][1].sill`"
   ]
  },
  {
   "cell_type": "code",
   "execution_count": 141,
   "metadata": {
    "collapsed": true
   },
   "outputs": [],
   "source": [
    "from sklearn.metrics import silhouette_score"
   ]
  },
  {
   "cell_type": "code",
   "execution_count": null,
   "metadata": {
    "collapsed": true
   },
   "outputs": [],
   "source": [
    "silhouette_score()"
   ]
  },
  {
   "cell_type": "code",
   "execution_count": null,
   "metadata": {
    "collapsed": true
   },
   "outputs": [],
   "source": []
  }
 ],
 "metadata": {
  "anaconda-cloud": {},
  "kernelspec": {
   "display_name": "Python [conda root]",
   "language": "python",
   "name": "conda-root-py"
  },
  "language_info": {
   "codemirror_mode": {
    "name": "ipython",
    "version": 2
   },
   "file_extension": ".py",
   "mimetype": "text/x-python",
   "name": "python",
   "nbconvert_exporter": "python",
   "pygments_lexer": "ipython2",
   "version": "2.7.12"
  }
 },
 "nbformat": 4,
 "nbformat_minor": 1
}
