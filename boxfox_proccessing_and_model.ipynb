{
 "cells": [
  {
   "cell_type": "code",
   "execution_count": 1,
   "metadata": {
    "collapsed": true
   },
   "outputs": [],
   "source": [
    "import shopify\n",
    "import requests\n",
    "import re\n",
    "import json\n",
    "import pandas as pd\n",
    "from pandas.io.json import json_normalize\n",
    "import time\n",
    "import numpy as np\n",
    "import matplotlib.pyplot as plt\n",
    "import seaborn as sns\n",
    "import ast\n",
    "from urlparse import urlparse\n",
    "import datetime as dt\n",
    "from sklearn_pandas import DataFrameMapper, cross_val_score\n",
    "\n",
    "\n",
    "%matplotlib inline"
   ]
  },
  {
   "cell_type": "code",
   "execution_count": 2,
   "metadata": {
    "collapsed": true
   },
   "outputs": [],
   "source": [
    "products = pd.read_csv('products.csv', index_col=0)"
   ]
  },
  {
   "cell_type": "code",
   "execution_count": 3,
   "metadata": {
    "collapsed": false
   },
   "outputs": [
    {
     "data": {
      "text/html": [
       "<div>\n",
       "<table border=\"1\" class=\"dataframe\">\n",
       "  <thead>\n",
       "    <tr style=\"text-align: right;\">\n",
       "      <th></th>\n",
       "      <th>date_created</th>\n",
       "      <th>desc</th>\n",
       "      <th>fulfillment</th>\n",
       "      <th>inv_qty</th>\n",
       "      <th>old_inv_qty</th>\n",
       "      <th>price</th>\n",
       "      <th>prod_id</th>\n",
       "      <th>prod_type</th>\n",
       "      <th>title</th>\n",
       "      <th>vendor</th>\n",
       "    </tr>\n",
       "  </thead>\n",
       "  <tbody>\n",
       "    <tr>\n",
       "      <th>0</th>\n",
       "      <td>2016-12-16T09:58:46-08:00</td>\n",
       "      <td>&lt;meta charset=\"utf-8\"&gt;The City of Angels is fl...</td>\n",
       "      <td>manual</td>\n",
       "      <td>0</td>\n",
       "      <td>0</td>\n",
       "      <td>18.0</td>\n",
       "      <td>9211737484</td>\n",
       "      <td>Book</td>\n",
       "      <td>36 Hours in Los Angeles and Beyond // Taschen</td>\n",
       "      <td>The Library</td>\n",
       "    </tr>\n",
       "    <tr>\n",
       "      <th>1</th>\n",
       "      <td>2016-12-16T09:56:05-08:00</td>\n",
       "      <td>&lt;meta charset=\"utf-8\"&gt;\\n&lt;p&gt;\"New York remains o...</td>\n",
       "      <td>manual</td>\n",
       "      <td>0</td>\n",
       "      <td>0</td>\n",
       "      <td>18.0</td>\n",
       "      <td>9211725708</td>\n",
       "      <td>Book</td>\n",
       "      <td>36 Hours In New York and Beyond // Taschen</td>\n",
       "      <td>The Library</td>\n",
       "    </tr>\n",
       "  </tbody>\n",
       "</table>\n",
       "</div>"
      ],
      "text/plain": [
       "                date_created  \\\n",
       "0  2016-12-16T09:58:46-08:00   \n",
       "1  2016-12-16T09:56:05-08:00   \n",
       "\n",
       "                                                desc fulfillment  inv_qty  \\\n",
       "0  <meta charset=\"utf-8\">The City of Angels is fl...      manual        0   \n",
       "1  <meta charset=\"utf-8\">\\n<p>\"New York remains o...      manual        0   \n",
       "\n",
       "   old_inv_qty  price     prod_id prod_type  \\\n",
       "0            0   18.0  9211737484      Book   \n",
       "1            0   18.0  9211725708      Book   \n",
       "\n",
       "                                           title       vendor  \n",
       "0  36 Hours in Los Angeles and Beyond // Taschen  The Library  \n",
       "1     36 Hours In New York and Beyond // Taschen  The Library  "
      ]
     },
     "execution_count": 3,
     "metadata": {},
     "output_type": "execute_result"
    }
   ],
   "source": [
    "products.head(2)"
   ]
  },
  {
   "cell_type": "code",
   "execution_count": 4,
   "metadata": {
    "collapsed": true
   },
   "outputs": [],
   "source": [
    "customers = pd.read_csv('customers.csv', index_col=0)"
   ]
  },
  {
   "cell_type": "code",
   "execution_count": 5,
   "metadata": {
    "collapsed": false
   },
   "outputs": [
    {
     "data": {
      "text/html": [
       "<div>\n",
       "<table border=\"1\" class=\"dataframe\">\n",
       "  <thead>\n",
       "    <tr style=\"text-align: right;\">\n",
       "      <th></th>\n",
       "      <th>accepts_marketing</th>\n",
       "      <th>cust_id</th>\n",
       "      <th>state</th>\n",
       "      <th>total_orders</th>\n",
       "      <th>total_spent</th>\n",
       "      <th>user_since</th>\n",
       "      <th>zip</th>\n",
       "    </tr>\n",
       "  </thead>\n",
       "  <tbody>\n",
       "    <tr>\n",
       "      <th>0</th>\n",
       "      <td>False</td>\n",
       "      <td>5945331724</td>\n",
       "      <td>MI</td>\n",
       "      <td>1</td>\n",
       "      <td>41.0</td>\n",
       "      <td>False</td>\n",
       "      <td>48092</td>\n",
       "    </tr>\n",
       "    <tr>\n",
       "      <th>1</th>\n",
       "      <td>False</td>\n",
       "      <td>5944946572</td>\n",
       "      <td>TN</td>\n",
       "      <td>1</td>\n",
       "      <td>45.0</td>\n",
       "      <td>False</td>\n",
       "      <td>37043</td>\n",
       "    </tr>\n",
       "  </tbody>\n",
       "</table>\n",
       "</div>"
      ],
      "text/plain": [
       "  accepts_marketing     cust_id state  total_orders  total_spent user_since  \\\n",
       "0             False  5945331724    MI             1         41.0      False   \n",
       "1             False  5944946572    TN             1         45.0      False   \n",
       "\n",
       "     zip  \n",
       "0  48092  \n",
       "1  37043  "
      ]
     },
     "execution_count": 5,
     "metadata": {},
     "output_type": "execute_result"
    }
   ],
   "source": [
    "customers.head(2)"
   ]
  },
  {
   "cell_type": "code",
   "execution_count": 6,
   "metadata": {
    "collapsed": false
   },
   "outputs": [
    {
     "name": "stderr",
     "output_type": "stream",
     "text": [
      "/Users/zober/anaconda2/lib/python2.7/site-packages/IPython/core/interactiveshell.py:2717: DtypeWarning: Columns (16,34,64,67,77,113,117) have mixed types. Specify dtype option on import or set low_memory=False.\n",
      "  interactivity=interactivity, compiler=compiler, result=result)\n"
     ]
    }
   ],
   "source": [
    "orders = pd.read_csv('orders.csv', index_col=0)"
   ]
  },
  {
   "cell_type": "code",
   "execution_count": 7,
   "metadata": {
    "collapsed": false
   },
   "outputs": [
    {
     "data": {
      "text/html": [
       "<div>\n",
       "<table border=\"1\" class=\"dataframe\">\n",
       "  <thead>\n",
       "    <tr style=\"text-align: right;\">\n",
       "      <th></th>\n",
       "      <th>billing_address.address1</th>\n",
       "      <th>billing_address.address2</th>\n",
       "      <th>billing_address.city</th>\n",
       "      <th>billing_address.company</th>\n",
       "      <th>billing_address.country</th>\n",
       "      <th>billing_address.country_code</th>\n",
       "      <th>billing_address.first_name</th>\n",
       "      <th>billing_address.last_name</th>\n",
       "      <th>billing_address.latitude</th>\n",
       "      <th>billing_address.longitude</th>\n",
       "      <th>...</th>\n",
       "      <th>test</th>\n",
       "      <th>token</th>\n",
       "      <th>total_discounts</th>\n",
       "      <th>total_line_items_price</th>\n",
       "      <th>total_price</th>\n",
       "      <th>total_price_usd</th>\n",
       "      <th>total_tax</th>\n",
       "      <th>total_weight</th>\n",
       "      <th>updated_at</th>\n",
       "      <th>user_id</th>\n",
       "    </tr>\n",
       "  </thead>\n",
       "  <tbody>\n",
       "    <tr>\n",
       "      <th>0</th>\n",
       "      <td>620 Magnolia Ave.</td>\n",
       "      <td>NaN</td>\n",
       "      <td>Pasadena</td>\n",
       "      <td>Chateau de Pilmer</td>\n",
       "      <td>United States</td>\n",
       "      <td>US</td>\n",
       "      <td>Susie</td>\n",
       "      <td>Pilmer</td>\n",
       "      <td>34.135228</td>\n",
       "      <td>-118.143905</td>\n",
       "      <td>...</td>\n",
       "      <td>False</td>\n",
       "      <td>af8a143ff88c77a90a58b447d4f62429</td>\n",
       "      <td>0.0</td>\n",
       "      <td>89.5</td>\n",
       "      <td>117.93</td>\n",
       "      <td>117.93</td>\n",
       "      <td>7.83</td>\n",
       "      <td>2268</td>\n",
       "      <td>2017-03-21T11:20:07-07:00</td>\n",
       "      <td>NaN</td>\n",
       "    </tr>\n",
       "    <tr>\n",
       "      <th>0</th>\n",
       "      <td>2580 Armacost Ave</td>\n",
       "      <td>NaN</td>\n",
       "      <td>Los Angeles</td>\n",
       "      <td>NaN</td>\n",
       "      <td>United States</td>\n",
       "      <td>US</td>\n",
       "      <td>Gina</td>\n",
       "      <td>Binder</td>\n",
       "      <td>34.025735</td>\n",
       "      <td>-118.445775</td>\n",
       "      <td>...</td>\n",
       "      <td>False</td>\n",
       "      <td>00bd07f118aa4dc8b26544e1e88fe6de</td>\n",
       "      <td>0.0</td>\n",
       "      <td>70.0</td>\n",
       "      <td>96.73</td>\n",
       "      <td>96.73</td>\n",
       "      <td>6.13</td>\n",
       "      <td>2268</td>\n",
       "      <td>2017-03-21T11:17:44-07:00</td>\n",
       "      <td>NaN</td>\n",
       "    </tr>\n",
       "  </tbody>\n",
       "</table>\n",
       "<p>2 rows × 129 columns</p>\n",
       "</div>"
      ],
      "text/plain": [
       "  billing_address.address1 billing_address.address2 billing_address.city  \\\n",
       "0       620 Magnolia Ave.                       NaN            Pasadena    \n",
       "0        2580 Armacost Ave                      NaN          Los Angeles   \n",
       "\n",
       "  billing_address.company billing_address.country  \\\n",
       "0       Chateau de Pilmer           United States   \n",
       "0                     NaN           United States   \n",
       "\n",
       "  billing_address.country_code billing_address.first_name  \\\n",
       "0                           US                     Susie    \n",
       "0                           US                       Gina   \n",
       "\n",
       "  billing_address.last_name  billing_address.latitude  \\\n",
       "0                    Pilmer                 34.135228   \n",
       "0                    Binder                 34.025735   \n",
       "\n",
       "   billing_address.longitude   ...     test                             token  \\\n",
       "0                -118.143905   ...    False  af8a143ff88c77a90a58b447d4f62429   \n",
       "0                -118.445775   ...    False  00bd07f118aa4dc8b26544e1e88fe6de   \n",
       "\n",
       "  total_discounts total_line_items_price total_price total_price_usd  \\\n",
       "0             0.0                   89.5      117.93          117.93   \n",
       "0             0.0                   70.0       96.73           96.73   \n",
       "\n",
       "  total_tax  total_weight                 updated_at user_id  \n",
       "0      7.83          2268  2017-03-21T11:20:07-07:00     NaN  \n",
       "0      6.13          2268  2017-03-21T11:17:44-07:00     NaN  \n",
       "\n",
       "[2 rows x 129 columns]"
      ]
     },
     "execution_count": 7,
     "metadata": {},
     "output_type": "execute_result"
    }
   ],
   "source": [
    "orders.head(2)"
   ]
  },
  {
   "cell_type": "markdown",
   "metadata": {},
   "source": [
    "### Feature Selection"
   ]
  },
  {
   "cell_type": "code",
   "execution_count": 22,
   "metadata": {
    "collapsed": false
   },
   "outputs": [
    {
     "name": "stdout",
     "output_type": "stream",
     "text": [
      "billing_address.address1\n",
      "billing_address.address2\n",
      "billing_address.city\n",
      "billing_address.company\n",
      "billing_address.country\n",
      "billing_address.country_code\n",
      "billing_address.first_name\n",
      "billing_address.last_name\n",
      "billing_address.latitude\n",
      "billing_address.longitude\n",
      "billing_address.name\n",
      "billing_address.phone\n",
      "billing_address.province\n",
      "billing_address.province_code\n",
      "billing_address.zip\n",
      "browser_ip\n",
      "buyer_accepts_marketing\n",
      "cancel_reason\n",
      "cancelled_at\n",
      "cart_token\n",
      "checkout_id\n",
      "checkout_token\n",
      "client_details.accept_language\n",
      "client_details.browser_height\n",
      "client_details.browser_ip\n",
      "client_details.browser_width\n",
      "client_details.session_hash\n",
      "client_details.user_agent\n",
      "closed_at\n",
      "confirmed\n",
      "contact_email\n",
      "created_at\n",
      "currency\n",
      "customer.accepts_marketing\n",
      "customer.created_at\n",
      "customer.default_address.address1\n",
      "customer.default_address.address2\n",
      "customer.default_address.city\n",
      "customer.default_address.company\n",
      "customer.default_address.country\n",
      "customer.default_address.country_code\n",
      "customer.default_address.country_name\n",
      "customer.default_address.default\n",
      "customer.default_address.first_name\n",
      "customer.default_address.id\n",
      "customer.default_address.last_name\n",
      "customer.default_address.name\n",
      "customer.default_address.phone\n",
      "customer.default_address.province\n",
      "customer.default_address.province_code\n",
      "customer.default_address.zip\n",
      "customer.email\n",
      "customer.first_name\n",
      "customer.id\n",
      "customer.last_name\n",
      "customer.last_order_id\n",
      "customer.last_order_name\n",
      "customer.multipass_identifier\n",
      "customer.note\n",
      "customer.orders_count\n",
      "customer.phone\n",
      "customer.state\n",
      "customer.tags\n",
      "customer.tax_exempt\n",
      "customer.total_spent\n",
      "customer.updated_at\n",
      "customer.verified_email\n",
      "device_id\n",
      "discount_codes\n",
      "email\n",
      "financial_status\n",
      "fulfillment_status\n",
      "fulfillments\n",
      "gateway\n",
      "id\n",
      "landing_site\n",
      "landing_site_ref\n",
      "line_items\n",
      "location_id\n",
      "name\n",
      "note\n",
      "note_attributes\n",
      "number\n",
      "order_number\n",
      "order_status_url\n",
      "payment_details.avs_result_code\n",
      "payment_details.credit_card_bin\n",
      "payment_details.credit_card_company\n",
      "payment_details.credit_card_number\n",
      "payment_details.cvv_result_code\n",
      "payment_gateway_names\n",
      "processed_at\n",
      "processing_method\n",
      "reference\n",
      "referring_site\n",
      "refunds\n",
      "shipping_address.address1\n",
      "shipping_address.address2\n",
      "shipping_address.city\n",
      "shipping_address.company\n",
      "shipping_address.country\n",
      "shipping_address.country_code\n",
      "shipping_address.first_name\n",
      "shipping_address.last_name\n",
      "shipping_address.latitude\n",
      "shipping_address.longitude\n",
      "shipping_address.name\n",
      "shipping_address.phone\n",
      "shipping_address.province\n",
      "shipping_address.province_code\n",
      "shipping_address.zip\n",
      "shipping_lines\n",
      "source_identifier\n",
      "source_name\n",
      "source_url\n",
      "subtotal_price\n",
      "tags\n",
      "tax_lines\n",
      "taxes_included\n",
      "test\n",
      "token\n",
      "total_discounts\n",
      "total_line_items_price\n",
      "total_price\n",
      "total_price_usd\n",
      "total_tax\n",
      "total_weight\n",
      "updated_at\n",
      "user_id\n"
     ]
    }
   ],
   "source": [
    "for c in orders.columns:\n",
    "    print c"
   ]
  },
  {
   "cell_type": "code",
   "execution_count": 8,
   "metadata": {
    "collapsed": false
   },
   "outputs": [
    {
     "data": {
      "text/plain": [
       "(array([ 1603.,  6679.,  1406.,   327.,   119.]),\n",
       " array([   0.,   40.,   80.,  120.,  160.,  200.]),\n",
       " <a list of 5 Patch objects>)"
      ]
     },
     "execution_count": 8,
     "metadata": {},
     "output_type": "execute_result"
    },
    {
     "data": {
      "image/png": "[encoded data removed]",
      "text/plain": [
       "<matplotlib.figure.Figure at 0x1156b8d10>"
      ]
     },
     "metadata": {},
     "output_type": "display_data"
    }
   ],
   "source": [
    "plt.hist(orders['subtotal_price'], bins = 5, range = (0, 200))"
   ]
  },
  {
   "cell_type": "code",
   "execution_count": 9,
   "metadata": {
    "collapsed": false
   },
   "outputs": [],
   "source": [
    "#get host name from referring site\n",
    "\n",
    "def get_host(row):\n",
    "    if row != np.nan:\n",
    "        url = urlparse(row)\n",
    "        host = url.hostname\n",
    "        if host != None:\n",
    "            host = host.strip('www.')\n",
    "            host = host.strip('.com')\n",
    "            host = host.strip('l.')\n",
    "            host = host.strip('r.')\n",
    "\n",
    "            return host\n",
    "        else:\n",
    "            return row\n",
    "    else:\n",
    "        return row\n",
    "\n",
    "orders['referring_domain'] = orders['referring_site'].astype('string').apply(get_host)"
   ]
  },
  {
   "cell_type": "code",
   "execution_count": 10,
   "metadata": {
    "collapsed": false
   },
   "outputs": [],
   "source": [
    "#extract discount data from discount attribute\n",
    "\n",
    "def get_dict_value(row, val):\n",
    "    try:\n",
    "        if row == \"[]\":\n",
    "            return np.nan\n",
    "        else:\n",
    "            row = row.strip('[]')\n",
    "            row_dict = ast.literal_eval(row)\n",
    "            return row_dict[val]\n",
    "    except:\n",
    "        return np.nan\n",
    "\n",
    "orders['discount_amount'] = orders['discount_codes'].apply(lambda x: get_dict_value(x, val='amount'))\n",
    "orders['discount_code'] = orders['discount_codes'].apply(lambda x: get_dict_value(x, val='code'))\n",
    "orders['discount_type'] = orders['discount_codes'].apply(lambda x: get_dict_value(x, val='type'))"
   ]
  },
  {
   "cell_type": "code",
   "execution_count": 11,
   "metadata": {
    "collapsed": false
   },
   "outputs": [
    {
     "data": {
      "text/plain": [
       "<matplotlib.axes._subplots.AxesSubplot at 0x1157fc250>"
      ]
     },
     "execution_count": 11,
     "metadata": {},
     "output_type": "execute_result"
    },
    {
     "data": {
      "image/png": "[encoded data removed]",
      "text/plain": [
       "<matplotlib.figure.Figure at 0x1157c7310>"
      ]
     },
     "metadata": {},
     "output_type": "display_data"
    }
   ],
   "source": [
    "#extract email host from user email\n",
    "\n",
    "def get_email(row):\n",
    "    if '@' in row:\n",
    "        return row.split('@')[1]\n",
    "    else:\n",
    "        return np.nan\n",
    "    \n",
    "def get_email_host(row):\n",
    "    if 'gmail' in row.lower():\n",
    "        return 'gmail'\n",
    "    elif 'yah' in row.lower():\n",
    "        return 'yahoo'\n",
    "    elif 'hotmail' in row.lower():\n",
    "        return 'hotmail'\n",
    "    elif 'aol' in row.lower():\n",
    "        return 'aol'\n",
    "    elif 'icloud' in row.lower():\n",
    "        return 'icloud'\n",
    "    else:\n",
    "        return 'Other'\n",
    "        \n",
    "\n",
    "orders['email_host'] = orders['email'].astype('string').apply(get_email_host)\n",
    "orders['email_host'].value_counts().plot(kind='bar')"
   ]
  },
  {
   "cell_type": "code",
   "execution_count": 12,
   "metadata": {
    "collapsed": false
   },
   "outputs": [],
   "source": [
    "orders['shipping_detail'] = orders['shipping_lines'].apply(lambda x: get_dict_value(x, val='title'))"
   ]
  },
  {
   "cell_type": "code",
   "execution_count": 13,
   "metadata": {
    "collapsed": false
   },
   "outputs": [
    {
     "data": {
      "text/plain": [
       "array([u'Postmates (same-day delivery)',\n",
       "       u'Standard Shipping (2-6 business days)',\n",
       "       u'UPS Ground / 2 boxes (2-6 business days)',\n",
       "       u'UPS Three-Day Select',\n",
       "       u'UPS Ground / 6 boxes (2-6 business days)',\n",
       "       u'UPS Next Day Air Early A.M.',\n",
       "       u'UPS Ground / 12 boxes (2-6 business days)',\n",
       "       u'UPS Ground / 3 orders (2-6 business days)',\n",
       "       u'UPS Ground / 7 boxes (2-6 business days)',\n",
       "       u'UPS Ground / 5 boxes (2-6 business days)', u'UPS Next Day Air',\n",
       "       u'UPS Second Day Air', u'UPS Ground / 4 boxes (2-6 business days)',\n",
       "       u'UPS Ground / 8 boxes (2-6 business days)',\n",
       "       u'Standard Shipping / 2 boxes (2-6 business days)',\n",
       "       u'UPS Ground / 10 boxes (2-6 business days)',\n",
       "       u'UPS Ground / 9 boxes (2-6 business days)', u'1 BOXFOX',\n",
       "       u'USPS - ONE ORDER', u'FedEx - THREE ORDERS', u'USPS - TWO ORDERS',\n",
       "       u'3 BOXFOX', u'FedEx - FOUR ORDERS', u'4 BOXFOX',\n",
       "       u'FedEx - SIX ORDERS', u'FIVE BOXES', u'2 BOXFOX', u'SIX BOXES',\n",
       "       u'FIVE ORDERS', u'FedEx - SEVEN ORDERS', u'United States - Zone 3',\n",
       "       u'BASIC', u'NINE BOXES', u'FedEx - EIGHT ORDERS',\n",
       "       u'FedEx - NINE ORDERS', u'TEN BOXES', nan, u'EIGHT BOXES',\n",
       "       u'FREE SHIPPING', u'SEVEN BOXES', u'FedEx - TEN ORDERS',\n",
       "       u'Los Angeles Local - Self pick-up', u'United Kingdom - 1 Box',\n",
       "       u'USPS First-Class Package International Service',\n",
       "       u'FedEx - TWO ORDERS', u'USPS Priority Mail 1-Day',\n",
       "       u'FedEx - ONE ORDER', u'FEDEX - FIVE ORDERS'], dtype=object)"
      ]
     },
     "execution_count": 13,
     "metadata": {},
     "output_type": "execute_result"
    }
   ],
   "source": [
    "orders['shipping_detail'].unique()"
   ]
  },
  {
   "cell_type": "code",
   "execution_count": 14,
   "metadata": {
    "collapsed": false
   },
   "outputs": [
    {
     "data": {
      "text/plain": [
       "<matplotlib.axes._subplots.AxesSubplot at 0x116feaa50>"
      ]
     },
     "execution_count": 14,
     "metadata": {},
     "output_type": "execute_result"
    },
    {
     "data": {
      "image/png": "[encoded data removed]",
      "text/plain": [
       "<matplotlib.figure.Figure at 0x116fea310>"
      ]
     },
     "metadata": {},
     "output_type": "display_data"
    }
   ],
   "source": [
    "#Extract Shipping Features\n",
    "\n",
    "def get_ship_meth(row):\n",
    "    if pd.isnull(row) == True:\n",
    "        return 'Other'\n",
    "    if 'ups' in row.lower():\n",
    "        return 'UPS'\n",
    "    elif 'fedex' in row.lower():\n",
    "        return 'FedEx'\n",
    "    elif 'usps' in row.lower():\n",
    "        return 'USPS'\n",
    "    elif 'standard' in row.lower():\n",
    "        return 'USPS'\n",
    "    elif 'free' in row.lower():\n",
    "        return 'Free'\n",
    "    elif 'local' in row.lower():\n",
    "        return 'Local Pick-up'\n",
    "    elif 'postmates' in row.lower():\n",
    "        return 'Postmates'\n",
    "    else:\n",
    "        return 'Other'\n",
    "    \n",
    "orders['shipping_meth'] = orders['shipping_detail'].apply(get_ship_meth)\n",
    "orders['shipping_meth'].value_counts().plot(kind='bar')"
   ]
  },
  {
   "cell_type": "code",
   "execution_count": 15,
   "metadata": {
    "collapsed": false
   },
   "outputs": [
    {
     "data": {
      "text/plain": [
       "<matplotlib.axes._subplots.AxesSubplot at 0x1170981d0>"
      ]
     },
     "execution_count": 15,
     "metadata": {},
     "output_type": "execute_result"
    },
    {
     "data": {
      "image/png": "[encoded data removed]",
      "text/plain": [
       "<matplotlib.figure.Figure at 0x11db806d0>"
      ]
     },
     "metadata": {},
     "output_type": "display_data"
    }
   ],
   "source": [
    "#Extract User Agent Features\n",
    "#get client details\n",
    "def get_device(row):\n",
    "    if pd.isnull(row) == True:\n",
    "        return 'Other'\n",
    "    elif 'mac' in row.lower():\n",
    "        return 'Mac'\n",
    "    elif 'windows' in row.lower():\n",
    "        return 'PC'\n",
    "    elif 'iphone' in row.lower():\n",
    "        return 'iPhone'\n",
    "    elif 'ipad' in row.lower():\n",
    "        return 'iPad'\n",
    "    elif 'android' in row.lower():\n",
    "        return 'Android'\n",
    "    else:\n",
    "        return 'Other'\n",
    "\n",
    "\n",
    "orders['device'] = orders['client_details.user_agent'].apply(get_device)\n",
    "orders['device'].value_counts().plot(kind='bar')"
   ]
  },
  {
   "cell_type": "code",
   "execution_count": 16,
   "metadata": {
    "collapsed": false
   },
   "outputs": [
    {
     "data": {
      "text/plain": [
       "<matplotlib.axes._subplots.AxesSubplot at 0x116fe6950>"
      ]
     },
     "execution_count": 16,
     "metadata": {},
     "output_type": "execute_result"
    },
    {
     "data": {
      "image/png": "[encoded data removed]",
      "text/plain": [
       "<matplotlib.figure.Figure at 0x1157fc5d0>"
      ]
     },
     "metadata": {},
     "output_type": "display_data"
    }
   ],
   "source": [
    "def get_refer(row):\n",
    "    if pd.isnull(row) == True:\n",
    "        return 'Other'\n",
    "    elif 'google' in row.lower():\n",
    "        return 'Google'\n",
    "    elif 'theglitterguide' in row.lower():\n",
    "        return 'Glitter Guide'\n",
    "    elif 'insta' in row.lower():\n",
    "        return 'instagram'\n",
    "    elif 'mydomaine' in row.lower():\n",
    "        return 'mydomaine'\n",
    "    elif 'boxfox' in row.lower():\n",
    "        return 'BoxFox'\n",
    "    elif 'refinery' in row.lower():\n",
    "        return 'Refinery 29'\n",
    "    elif 'pinterest' in row.lower():\n",
    "        return 'Pinterest'\n",
    "    elif 'facebook' in row.lower():\n",
    "        return 'Facebook'\n",
    "    elif 'yahoo' in row.lower():\n",
    "        return 'Yahoo'\n",
    "    elif 'bing' in row.lower():\n",
    "        return 'Bing'\n",
    "    else:\n",
    "        return 'Other'\n",
    "    \n",
    "orders['referring_domain'] = orders['referring_site'].apply(get_refer)\n",
    "orders['referring_domain'].value_counts().plot(kind=\"bar\")"
   ]
  },
  {
   "cell_type": "code",
   "execution_count": 208,
   "metadata": {
    "collapsed": false
   },
   "outputs": [],
   "source": [
    "orders['days_till_signup'] = (pd.to_datetime(orders['customer.created_at']) - pd.datetime(2014, 11, 01)).dt.days"
   ]
  },
  {
   "cell_type": "code",
   "execution_count": 213,
   "metadata": {
    "collapsed": false
   },
   "outputs": [],
   "source": [
    "orders['seconds_to_purchase'] = (pd.to_datetime(orders['processed_at']) - pd.to_datetime(orders['customer.created_at'])).dt.seconds"
   ]
  },
  {
   "cell_type": "code",
   "execution_count": 216,
   "metadata": {
    "collapsed": false
   },
   "outputs": [],
   "source": [
    "orders['month_of_purchase'] = pd.to_datetime(orders['processed_at']).dt.month"
   ]
  },
  {
   "cell_type": "code",
   "execution_count": 217,
   "metadata": {
    "collapsed": false
   },
   "outputs": [],
   "source": [
    "orders = orders.fillna({'customer.id': 0,\n",
    "                        'payment_details.credit_card_company': 'None',\n",
    "                        'discount_type': 'None',\n",
    "                        'referring_domain': 'None',\n",
    "                        'days_till_signup': 0,\n",
    "                        'seconds_to_purchase': 0,\n",
    "                        'month_of_purchase': 0\n",
    "               })"
   ]
  },
  {
   "cell_type": "markdown",
   "metadata": {},
   "source": [
    "### Create Target"
   ]
  },
  {
   "cell_type": "code",
   "execution_count": 218,
   "metadata": {
    "collapsed": false
   },
   "outputs": [
    {
     "data": {
      "text/html": [
       "<div>\n",
       "<table border=\"1\" class=\"dataframe\">\n",
       "  <thead>\n",
       "    <tr style=\"text-align: right;\">\n",
       "      <th></th>\n",
       "      <th>customer.id</th>\n",
       "      <th>min</th>\n",
       "      <th>count</th>\n",
       "      <th>target</th>\n",
       "    </tr>\n",
       "  </thead>\n",
       "  <tbody>\n",
       "    <tr>\n",
       "      <th>0</th>\n",
       "      <td>0</td>\n",
       "      <td>2016-11-15 22:47:56</td>\n",
       "      <td>3</td>\n",
       "      <td>True</td>\n",
       "    </tr>\n",
       "    <tr>\n",
       "      <th>1</th>\n",
       "      <td>253362255</td>\n",
       "      <td>2015-06-23 04:23:57</td>\n",
       "      <td>18</td>\n",
       "      <td>True</td>\n",
       "    </tr>\n",
       "    <tr>\n",
       "      <th>2</th>\n",
       "      <td>322055183</td>\n",
       "      <td>2016-03-17 23:37:12</td>\n",
       "      <td>1</td>\n",
       "      <td>False</td>\n",
       "    </tr>\n",
       "    <tr>\n",
       "      <th>3</th>\n",
       "      <td>322057979</td>\n",
       "      <td>2015-08-24 06:06:29</td>\n",
       "      <td>2</td>\n",
       "      <td>True</td>\n",
       "    </tr>\n",
       "    <tr>\n",
       "      <th>4</th>\n",
       "      <td>322058215</td>\n",
       "      <td>2017-02-01 16:45:21</td>\n",
       "      <td>4</td>\n",
       "      <td>True</td>\n",
       "    </tr>\n",
       "  </tbody>\n",
       "</table>\n",
       "</div>"
      ],
      "text/plain": [
       "   customer.id                 min  count target\n",
       "0            0 2016-11-15 22:47:56      3   True\n",
       "1    253362255 2015-06-23 04:23:57     18   True\n",
       "2    322055183 2016-03-17 23:37:12      1  False\n",
       "3    322057979 2015-08-24 06:06:29      2   True\n",
       "4    322058215 2017-02-01 16:45:21      4   True"
      ]
     },
     "execution_count": 218,
     "metadata": {},
     "output_type": "execute_result"
    }
   ],
   "source": [
    "orders['customer.id'] = orders['customer.id'].astype('int')\n",
    "orders['order_date'] = pd.to_datetime(orders['created_at'])\n",
    "target_df = orders.groupby(['customer.id']).agg({'order_date': ['min', 'count']}).reset_index()\n",
    "\n",
    "target_df['target'] = target_df['order_date']['count'] > 1\n",
    "target_df.columns = target_df.columns.get_level_values(1)\n",
    "target_df['customer.id'] = target_df.iloc[:,0]\n",
    "target_df['target'] = target_df.iloc[:,3]\n",
    "target_df = target_df[['customer.id', 'min', 'count', 'target']]\n",
    "target_df.head()"
   ]
  },
  {
   "cell_type": "code",
   "execution_count": 220,
   "metadata": {
    "collapsed": false
   },
   "outputs": [],
   "source": [
    "model_data = pd.merge(orders, target_df, left_on=['customer.id', 'order_date'], right_on=['customer.id','min'])"
   ]
  },
  {
   "cell_type": "code",
   "execution_count": 225,
   "metadata": {
    "collapsed": false
   },
   "outputs": [
    {
     "data": {
      "text/plain": [
       "<matplotlib.axes._subplots.AxesSubplot at 0x124e75910>"
      ]
     },
     "execution_count": 225,
     "metadata": {},
     "output_type": "execute_result"
    },
    {
     "data": {
      "image/png": "[encoded data removed]",
      "text/plain": [
       "<matplotlib.figure.Figure at 0x1289b2090>"
      ]
     },
     "metadata": {},
     "output_type": "display_data"
    }
   ],
   "source": [
    "model_data.days_till_signup.hist()"
   ]
  },
  {
   "cell_type": "code",
   "execution_count": 237,
   "metadata": {
    "collapsed": false
   },
   "outputs": [
    {
     "data": {
      "text/plain": [
       "<matplotlib.axes._subplots.AxesSubplot at 0x128ec7110>"
      ]
     },
     "execution_count": 237,
     "metadata": {},
     "output_type": "execute_result"
    },
    {
     "data": {
      "image/png": "[encoded data removed]",
      "text/plain": [
       "<matplotlib.figure.Figure at 0x128bfc590>"
      ]
     },
     "metadata": {},
     "output_type": "display_data"
    }
   ],
   "source": [
    "model_data.seconds_to_purchase.hist(range=(0,500))"
   ]
  },
  {
   "cell_type": "code",
   "execution_count": 229,
   "metadata": {
    "collapsed": false
   },
   "outputs": [
    {
     "data": {
      "text/plain": [
       "<matplotlib.axes._subplots.AxesSubplot at 0x1201ff3d0>"
      ]
     },
     "execution_count": 229,
     "metadata": {},
     "output_type": "execute_result"
    },
    {
     "data": {
      "image/png": "[encoded data removed]",
      "text/plain": [
       "<matplotlib.figure.Figure at 0x128f68fd0>"
      ]
     },
     "metadata": {},
     "output_type": "display_data"
    }
   ],
   "source": [
    "orders.month_of_purchase.value_counts().plot(kind='bar')"
   ]
  },
  {
   "cell_type": "code",
   "execution_count": 231,
   "metadata": {
    "collapsed": false
   },
   "outputs": [],
   "source": [
    "features = model_data[['buyer_accepts_marketing', 'payment_details.credit_card_company', 'referring_domain',\n",
    "                       'total_price', 'total_weight', 'discount_type', 'device', 'shipping_meth',\n",
    "                      'seconds_to_purchase', 'month_of_purchase', 'days_till_signup']]\n",
    "\n",
    "target = model_data['target']"
   ]
  },
  {
   "cell_type": "code",
   "execution_count": 233,
   "metadata": {
    "collapsed": false
   },
   "outputs": [
    {
     "data": {
      "text/plain": [
       "False    4918\n",
       "True     1874\n",
       "Name: target, dtype: int64"
      ]
     },
     "execution_count": 233,
     "metadata": {},
     "output_type": "execute_result"
    }
   ],
   "source": [
    "target.value_counts()"
   ]
  },
  {
   "cell_type": "markdown",
   "metadata": {},
   "source": [
    "### Pre-processing"
   ]
  },
  {
   "cell_type": "code",
   "execution_count": 234,
   "metadata": {
    "collapsed": true
   },
   "outputs": [],
   "source": [
    "from sklearn_pandas import DataFrameMapper\n",
    "from sklearn.preprocessing import LabelBinarizer\n",
    "from sklearn.preprocessing import StandardScaler"
   ]
  },
  {
   "cell_type": "code",
   "execution_count": 235,
   "metadata": {
    "collapsed": false
   },
   "outputs": [
    {
     "data": {
      "text/plain": [
       "Index([u'buyer_accepts_marketing', u'payment_details.credit_card_company',\n",
       "       u'referring_domain', u'total_price', u'total_weight', u'discount_type',\n",
       "       u'device', u'shipping_meth', u'seconds_to_purchase',\n",
       "       u'month_of_purchase', u'days_till_signup'],\n",
       "      dtype='object')"
      ]
     },
     "execution_count": 235,
     "metadata": {},
     "output_type": "execute_result"
    }
   ],
   "source": [
    "features.columns"
   ]
  },
  {
   "cell_type": "code",
   "execution_count": 25,
   "metadata": {
    "collapsed": true
   },
   "outputs": [],
   "source": [
    "mapper = DataFrameMapper([\n",
    "        ('payment_details.credit_card_company', LabelBinarizer()),\n",
    "        ('buyer_accepts_marketing', LabelBinarizer()),\n",
    "        ('referring_domain', LabelBinarizer()),\n",
    "        ('discount_type', LabelBinarizer()),\n",
    "        ('device', LabelBinarizer()),\n",
    "        ('shipping_meth', LabelBinarizer()),\n",
    "        ('days_user', StandardScaler()),\n",
    "        ('total_price', StandardScaler()),\n",
    "        ('total_weight', StandardScaler()),\n",
    "        ('seconds_to_purchase', StandardScaler()),\n",
    "        ('month_of_')\n",
    "    ])"
   ]
  },
  {
   "cell_type": "code",
   "execution_count": 28,
   "metadata": {
    "collapsed": true
   },
   "outputs": [],
   "source": [
    "mapper2 = DataFrameMapper([\n",
    "        ('payment_details.credit_card_company', LabelBinarizer()),\n",
    "        ('buyer_accepts_marketing', LabelBinarizer()),\n",
    "        ('referring_domain', LabelBinarizer()),\n",
    "        ('discount_type', LabelBinarizer()),\n",
    "        ('device', LabelBinarizer()),\n",
    "        ('shipping_meth', LabelBinarizer()),\n",
    "        ('days_user', StandardScaler()),\n",
    "        ('total_price', None),\n",
    "        ('total_weight', None)\n",
    "    ], df_out=True)"
   ]
  },
  {
   "cell_type": "code",
   "execution_count": 29,
   "metadata": {
    "collapsed": false
   },
   "outputs": [
    {
     "name": "stderr",
     "output_type": "stream",
     "text": [
      "/Users/zober/anaconda2/lib/python2.7/site-packages/sklearn/utils/validation.py:420: DataConversionWarning: Data with input dtype int64 was converted to float64 by StandardScaler.\n",
      "  warnings.warn(msg, DataConversionWarning)\n",
      "/Users/zober/anaconda2/lib/python2.7/site-packages/sklearn/preprocessing/data.py:583: DeprecationWarning: Passing 1d arrays as data is deprecated in 0.17 and will raise ValueError in 0.19. Reshape your data either using X.reshape(-1, 1) if your data has a single feature or X.reshape(1, -1) if it contains a single sample.\n",
      "  warnings.warn(DEPRECATION_MSG_1D, DeprecationWarning)\n",
      "/Users/zober/anaconda2/lib/python2.7/site-packages/sklearn/utils/validation.py:420: DataConversionWarning: Data with input dtype int64 was converted to float64 by StandardScaler.\n",
      "  warnings.warn(msg, DataConversionWarning)\n",
      "/Users/zober/anaconda2/lib/python2.7/site-packages/sklearn/preprocessing/data.py:646: DeprecationWarning: Passing 1d arrays as data is deprecated in 0.17 and will raise ValueError in 0.19. Reshape your data either using X.reshape(-1, 1) if your data has a single feature or X.reshape(1, -1) if it contains a single sample.\n",
      "  warnings.warn(DEPRECATION_MSG_1D, DeprecationWarning)\n"
     ]
    },
    {
     "data": {
      "text/html": [
       "<div>\n",
       "<table border=\"1\" class=\"dataframe\">\n",
       "  <thead>\n",
       "    <tr style=\"text-align: right;\">\n",
       "      <th></th>\n",
       "      <th>payment_details.credit_card_company_American Express</th>\n",
       "      <th>payment_details.credit_card_company_Discover</th>\n",
       "      <th>payment_details.credit_card_company_Mastercard</th>\n",
       "      <th>payment_details.credit_card_company_None</th>\n",
       "      <th>payment_details.credit_card_company_Visa</th>\n",
       "      <th>buyer_accepts_marketing</th>\n",
       "      <th>referring_domain_Bing</th>\n",
       "      <th>referring_domain_BoxFox</th>\n",
       "      <th>referring_domain_Facebook</th>\n",
       "      <th>referring_domain_Glitter Guide</th>\n",
       "      <th>...</th>\n",
       "      <th>shipping_meth_FedEx</th>\n",
       "      <th>shipping_meth_Free</th>\n",
       "      <th>shipping_meth_Local Pick-up</th>\n",
       "      <th>shipping_meth_Other</th>\n",
       "      <th>shipping_meth_Postmates</th>\n",
       "      <th>shipping_meth_UPS</th>\n",
       "      <th>shipping_meth_USPS</th>\n",
       "      <th>days_user</th>\n",
       "      <th>total_price</th>\n",
       "      <th>total_weight</th>\n",
       "    </tr>\n",
       "  </thead>\n",
       "  <tbody>\n",
       "    <tr>\n",
       "      <th>0</th>\n",
       "      <td>0.0</td>\n",
       "      <td>0.0</td>\n",
       "      <td>0.0</td>\n",
       "      <td>0.0</td>\n",
       "      <td>1.0</td>\n",
       "      <td>0.0</td>\n",
       "      <td>0.0</td>\n",
       "      <td>0.0</td>\n",
       "      <td>0.0</td>\n",
       "      <td>0.0</td>\n",
       "      <td>...</td>\n",
       "      <td>0.0</td>\n",
       "      <td>0.0</td>\n",
       "      <td>0.0</td>\n",
       "      <td>0.0</td>\n",
       "      <td>1.0</td>\n",
       "      <td>0.0</td>\n",
       "      <td>0.0</td>\n",
       "      <td>-1.375446</td>\n",
       "      <td>117.93</td>\n",
       "      <td>2268.0</td>\n",
       "    </tr>\n",
       "    <tr>\n",
       "      <th>1</th>\n",
       "      <td>0.0</td>\n",
       "      <td>0.0</td>\n",
       "      <td>0.0</td>\n",
       "      <td>0.0</td>\n",
       "      <td>1.0</td>\n",
       "      <td>0.0</td>\n",
       "      <td>0.0</td>\n",
       "      <td>0.0</td>\n",
       "      <td>0.0</td>\n",
       "      <td>0.0</td>\n",
       "      <td>...</td>\n",
       "      <td>0.0</td>\n",
       "      <td>0.0</td>\n",
       "      <td>0.0</td>\n",
       "      <td>0.0</td>\n",
       "      <td>1.0</td>\n",
       "      <td>0.0</td>\n",
       "      <td>0.0</td>\n",
       "      <td>-1.375446</td>\n",
       "      <td>117.93</td>\n",
       "      <td>2268.0</td>\n",
       "    </tr>\n",
       "    <tr>\n",
       "      <th>2</th>\n",
       "      <td>0.0</td>\n",
       "      <td>0.0</td>\n",
       "      <td>0.0</td>\n",
       "      <td>0.0</td>\n",
       "      <td>1.0</td>\n",
       "      <td>0.0</td>\n",
       "      <td>0.0</td>\n",
       "      <td>0.0</td>\n",
       "      <td>0.0</td>\n",
       "      <td>0.0</td>\n",
       "      <td>...</td>\n",
       "      <td>0.0</td>\n",
       "      <td>0.0</td>\n",
       "      <td>0.0</td>\n",
       "      <td>0.0</td>\n",
       "      <td>1.0</td>\n",
       "      <td>0.0</td>\n",
       "      <td>0.0</td>\n",
       "      <td>-1.375446</td>\n",
       "      <td>96.73</td>\n",
       "      <td>2268.0</td>\n",
       "    </tr>\n",
       "    <tr>\n",
       "      <th>3</th>\n",
       "      <td>0.0</td>\n",
       "      <td>0.0</td>\n",
       "      <td>0.0</td>\n",
       "      <td>0.0</td>\n",
       "      <td>1.0</td>\n",
       "      <td>0.0</td>\n",
       "      <td>0.0</td>\n",
       "      <td>0.0</td>\n",
       "      <td>0.0</td>\n",
       "      <td>0.0</td>\n",
       "      <td>...</td>\n",
       "      <td>0.0</td>\n",
       "      <td>0.0</td>\n",
       "      <td>0.0</td>\n",
       "      <td>0.0</td>\n",
       "      <td>1.0</td>\n",
       "      <td>0.0</td>\n",
       "      <td>0.0</td>\n",
       "      <td>-1.375446</td>\n",
       "      <td>96.73</td>\n",
       "      <td>2268.0</td>\n",
       "    </tr>\n",
       "    <tr>\n",
       "      <th>4</th>\n",
       "      <td>0.0</td>\n",
       "      <td>0.0</td>\n",
       "      <td>0.0</td>\n",
       "      <td>0.0</td>\n",
       "      <td>1.0</td>\n",
       "      <td>1.0</td>\n",
       "      <td>0.0</td>\n",
       "      <td>0.0</td>\n",
       "      <td>0.0</td>\n",
       "      <td>0.0</td>\n",
       "      <td>...</td>\n",
       "      <td>0.0</td>\n",
       "      <td>0.0</td>\n",
       "      <td>0.0</td>\n",
       "      <td>0.0</td>\n",
       "      <td>0.0</td>\n",
       "      <td>0.0</td>\n",
       "      <td>1.0</td>\n",
       "      <td>-1.375446</td>\n",
       "      <td>76.50</td>\n",
       "      <td>2268.0</td>\n",
       "    </tr>\n",
       "  </tbody>\n",
       "</table>\n",
       "<p>5 rows × 36 columns</p>\n",
       "</div>"
      ],
      "text/plain": [
       "   payment_details.credit_card_company_American Express  \\\n",
       "0                                                0.0      \n",
       "1                                                0.0      \n",
       "2                                                0.0      \n",
       "3                                                0.0      \n",
       "4                                                0.0      \n",
       "\n",
       "   payment_details.credit_card_company_Discover  \\\n",
       "0                                           0.0   \n",
       "1                                           0.0   \n",
       "2                                           0.0   \n",
       "3                                           0.0   \n",
       "4                                           0.0   \n",
       "\n",
       "   payment_details.credit_card_company_Mastercard  \\\n",
       "0                                             0.0   \n",
       "1                                             0.0   \n",
       "2                                             0.0   \n",
       "3                                             0.0   \n",
       "4                                             0.0   \n",
       "\n",
       "   payment_details.credit_card_company_None  \\\n",
       "0                                       0.0   \n",
       "1                                       0.0   \n",
       "2                                       0.0   \n",
       "3                                       0.0   \n",
       "4                                       0.0   \n",
       "\n",
       "   payment_details.credit_card_company_Visa  buyer_accepts_marketing  \\\n",
       "0                                       1.0                      0.0   \n",
       "1                                       1.0                      0.0   \n",
       "2                                       1.0                      0.0   \n",
       "3                                       1.0                      0.0   \n",
       "4                                       1.0                      1.0   \n",
       "\n",
       "   referring_domain_Bing  referring_domain_BoxFox  referring_domain_Facebook  \\\n",
       "0                    0.0                      0.0                        0.0   \n",
       "1                    0.0                      0.0                        0.0   \n",
       "2                    0.0                      0.0                        0.0   \n",
       "3                    0.0                      0.0                        0.0   \n",
       "4                    0.0                      0.0                        0.0   \n",
       "\n",
       "   referring_domain_Glitter Guide      ...       shipping_meth_FedEx  \\\n",
       "0                             0.0      ...                       0.0   \n",
       "1                             0.0      ...                       0.0   \n",
       "2                             0.0      ...                       0.0   \n",
       "3                             0.0      ...                       0.0   \n",
       "4                             0.0      ...                       0.0   \n",
       "\n",
       "   shipping_meth_Free  shipping_meth_Local Pick-up  shipping_meth_Other  \\\n",
       "0                 0.0                          0.0                  0.0   \n",
       "1                 0.0                          0.0                  0.0   \n",
       "2                 0.0                          0.0                  0.0   \n",
       "3                 0.0                          0.0                  0.0   \n",
       "4                 0.0                          0.0                  0.0   \n",
       "\n",
       "   shipping_meth_Postmates  shipping_meth_UPS  shipping_meth_USPS  days_user  \\\n",
       "0                      1.0                0.0                 0.0  -1.375446   \n",
       "1                      1.0                0.0                 0.0  -1.375446   \n",
       "2                      1.0                0.0                 0.0  -1.375446   \n",
       "3                      1.0                0.0                 0.0  -1.375446   \n",
       "4                      0.0                0.0                 1.0  -1.375446   \n",
       "\n",
       "   total_price  total_weight  \n",
       "0       117.93        2268.0  \n",
       "1       117.93        2268.0  \n",
       "2        96.73        2268.0  \n",
       "3        96.73        2268.0  \n",
       "4        76.50        2268.0  \n",
       "\n",
       "[5 rows x 36 columns]"
      ]
     },
     "execution_count": 29,
     "metadata": {},
     "output_type": "execute_result"
    }
   ],
   "source": [
    "mapper_df = mapper2.fit_transform(features)\n",
    "mapper_df.head()"
   ]
  },
  {
   "cell_type": "markdown",
   "metadata": {},
   "source": [
    "### Build out Model Pipeline"
   ]
  },
  {
   "cell_type": "code",
   "execution_count": 30,
   "metadata": {
    "collapsed": true
   },
   "outputs": [],
   "source": [
    "from sklearn.pipeline import Pipeline\n",
    "from sklearn.linear_model import LogisticRegression\n",
    "from sklearn.ensemble import GradientBoostingClassifier\n",
    "from sklearn.cross_validation import train_test_split"
   ]
  },
  {
   "cell_type": "code",
   "execution_count": 31,
   "metadata": {
    "collapsed": false
   },
   "outputs": [],
   "source": [
    "pipe = Pipeline([\n",
    "    ('featurize', mapper),\n",
    "    ('gb', GradientBoostingClassifier())]\n",
    "    )"
   ]
  },
  {
   "cell_type": "code",
   "execution_count": 32,
   "metadata": {
    "collapsed": true
   },
   "outputs": [],
   "source": [
    "X_train, X_Holdout, y_train, y_Holdout = train_test_split(features, target, test_size = .3)"
   ]
  },
  {
   "cell_type": "code",
   "execution_count": 33,
   "metadata": {
    "collapsed": false
   },
   "outputs": [
    {
     "name": "stderr",
     "output_type": "stream",
     "text": [
      "/Users/zober/anaconda2/lib/python2.7/site-packages/sklearn/utils/validation.py:420: DataConversionWarning: Data with input dtype int64 was converted to float64 by StandardScaler.\n",
      "  warnings.warn(msg, DataConversionWarning)\n",
      "/Users/zober/anaconda2/lib/python2.7/site-packages/sklearn/preprocessing/data.py:583: DeprecationWarning: Passing 1d arrays as data is deprecated in 0.17 and will raise ValueError in 0.19. Reshape your data either using X.reshape(-1, 1) if your data has a single feature or X.reshape(1, -1) if it contains a single sample.\n",
      "  warnings.warn(DEPRECATION_MSG_1D, DeprecationWarning)\n",
      "/Users/zober/anaconda2/lib/python2.7/site-packages/sklearn/utils/validation.py:420: DataConversionWarning: Data with input dtype int64 was converted to float64 by StandardScaler.\n",
      "  warnings.warn(msg, DataConversionWarning)\n",
      "/Users/zober/anaconda2/lib/python2.7/site-packages/sklearn/preprocessing/data.py:646: DeprecationWarning: Passing 1d arrays as data is deprecated in 0.17 and will raise ValueError in 0.19. Reshape your data either using X.reshape(-1, 1) if your data has a single feature or X.reshape(1, -1) if it contains a single sample.\n",
      "  warnings.warn(DEPRECATION_MSG_1D, DeprecationWarning)\n"
     ]
    },
    {
     "data": {
      "text/plain": [
       "Pipeline(steps=[('featurize', DataFrameMapper(default=False, df_out=False,\n",
       "        features=[('payment_details.credit_card_company', LabelBinarizer(neg_label=0, pos_label=1, sparse_output=False)), ('buyer_accepts_marketing', LabelBinarizer(neg_label=0, pos_label=1, sparse_output=False)), ('referring_domain',...      presort='auto', random_state=None, subsample=1.0, verbose=0,\n",
       "              warm_start=False))])"
      ]
     },
     "execution_count": 33,
     "metadata": {},
     "output_type": "execute_result"
    }
   ],
   "source": [
    "pipe.fit(X_train, y=y_train)"
   ]
  },
  {
   "cell_type": "code",
   "execution_count": 120,
   "metadata": {
    "collapsed": false
   },
   "outputs": [
    {
     "data": {
      "text/plain": [
       "[('payment_details.credit_card_company_American Express',\n",
       "  0.017833300278671783),\n",
       " ('payment_details.credit_card_company_Discover', 0.0082381136002368776),\n",
       " ('payment_details.credit_card_company_Mastercard', 0.0),\n",
       " ('payment_details.credit_card_company_None', 0.005900267904757955),\n",
       " ('payment_details.credit_card_company_Visa', 0.011097314101788189),\n",
       " ('buyer_accepts_marketing', 0.028110416750908186),\n",
       " ('referring_domain_Bing', 0.0021548144826678988),\n",
       " ('referring_domain_BoxFox', 0.020418275756081176),\n",
       " ('referring_domain_Facebook', 0.0095319749930972975),\n",
       " ('referring_domain_Glitter Guide', 0.0018629707520125556),\n",
       " ('referring_domain_Google', 0.022914101673837707),\n",
       " ('referring_domain_Other', 0.0022169304282874656),\n",
       " ('referring_domain_Pinterest', 0.0),\n",
       " ('referring_domain_Refinery 29', 0.0068805515954424301),\n",
       " ('referring_domain_Yahoo', 0.0),\n",
       " ('referring_domain_instagram', 0.010870715968537019),\n",
       " ('referring_domain_mydomaine', 0.0080648601294177318),\n",
       " ('discount_type_', 0.00080660956102986212),\n",
       " ('discount_type_None', 0.014334618822166982),\n",
       " ('discount_type_fixed_amount', 0.01364358389478269),\n",
       " ('discount_type_percentage', 0.013029622510239236),\n",
       " ('discount_type_shipping', 0.033264290286656666),\n",
       " ('device_Android', 0.0083013540586817768),\n",
       " ('device_Mac', 0.0015724008065588976),\n",
       " ('device_Other', 0.00059428774717268211),\n",
       " ('device_PC', 0.0044673631476878327),\n",
       " ('shipping_meth_FedEx', 0.0044611633259564656),\n",
       " ('shipping_meth_Free', 0.0),\n",
       " ('shipping_meth_Local Pick-up', 0.012852996940140395),\n",
       " ('shipping_meth_Other', 0.0078470663641029836),\n",
       " ('shipping_meth_Postmates', 0.0030022713921168953),\n",
       " ('shipping_meth_UPS', 0.001039006425667942),\n",
       " ('shipping_meth_USPS', 0.0048566759911322062),\n",
       " ('days_user', 0.38049840400104856),\n",
       " ('total_price', 0.28808470154152321),\n",
       " ('total_weight', 0.051248974767590383)]"
      ]
     },
     "execution_count": 120,
     "metadata": {},
     "output_type": "execute_result"
    }
   ],
   "source": [
    "zip(mapper_df.columns, pipe.steps[-1][1].feature_importances_)"
   ]
  },
  {
   "cell_type": "code",
   "execution_count": 35,
   "metadata": {
    "collapsed": false
   },
   "outputs": [
    {
     "name": "stderr",
     "output_type": "stream",
     "text": [
      "/Users/zober/anaconda2/lib/python2.7/site-packages/sklearn/utils/validation.py:420: DataConversionWarning: Data with input dtype int64 was converted to float64 by StandardScaler.\n",
      "  warnings.warn(msg, DataConversionWarning)\n",
      "/Users/zober/anaconda2/lib/python2.7/site-packages/sklearn/preprocessing/data.py:646: DeprecationWarning: Passing 1d arrays as data is deprecated in 0.17 and will raise ValueError in 0.19. Reshape your data either using X.reshape(-1, 1) if your data has a single feature or X.reshape(1, -1) if it contains a single sample.\n",
      "  warnings.warn(DEPRECATION_MSG_1D, DeprecationWarning)\n"
     ]
    }
   ],
   "source": [
    "pred_prob = pipe.predict_proba(X_Holdout)"
   ]
  },
  {
   "cell_type": "code",
   "execution_count": 36,
   "metadata": {
    "collapsed": true
   },
   "outputs": [],
   "source": [
    "from sklearn.metrics import accuracy_score, precision_recall_curve, recall_score, precision_score, confusion_matrix"
   ]
  },
  {
   "cell_type": "code",
   "execution_count": 37,
   "metadata": {
    "collapsed": false
   },
   "outputs": [],
   "source": [
    "prec, recall, thresh = precision_recall_curve(y_Holdout, pred_prob[:,1])"
   ]
  },
  {
   "cell_type": "code",
   "execution_count": 38,
   "metadata": {
    "collapsed": false
   },
   "outputs": [
    {
     "data": {
      "text/plain": [
       "[<matplotlib.lines.Line2D at 0x120bccb50>]"
      ]
     },
     "execution_count": 38,
     "metadata": {},
     "output_type": "execute_result"
    },
    {
     "data": {
      "image/png": "[encoded data removed]",
      "text/plain": [
       "<matplotlib.figure.Figure at 0x1208dbed0>"
      ]
     },
     "metadata": {},
     "output_type": "display_data"
    }
   ],
   "source": [
    "plt.plot(prec[0:-1], recall[0:-1])"
   ]
  },
  {
   "cell_type": "code",
   "execution_count": 44,
   "metadata": {
    "collapsed": false
   },
   "outputs": [
    {
     "name": "stdout",
     "output_type": "stream",
     "text": [
      "0.0612244897959\n",
      "0.702127659574\n",
      "0.744847890088\n"
     ]
    }
   ],
   "source": [
    "pred = np.greater( pred_prob[:,1],.6)\n",
    "\n",
    "print(recall_score(y_Holdout, pred))\n",
    "print(precision_score(y_Holdout, pred))\n",
    "print(accuracy_score(y_Holdout, pred))"
   ]
  },
  {
   "cell_type": "code",
   "execution_count": 45,
   "metadata": {
    "collapsed": false
   },
   "outputs": [
    {
     "name": "stdout",
     "output_type": "stream",
     "text": [
      "0.990660440294\n",
      "0.745856353591\n"
     ]
    }
   ],
   "source": [
    "pred_o =1-pred\n",
    "\n",
    "print(recall_score(1-y_Holdout, pred_o))\n",
    "print(precision_score(1-y_Holdout, pred_o))"
   ]
  },
  {
   "cell_type": "code",
   "execution_count": 46,
   "metadata": {
    "collapsed": false
   },
   "outputs": [
    {
     "data": {
      "text/plain": [
       "array([[1485,   14],\n",
       "       [ 506,   33]])"
      ]
     },
     "execution_count": 46,
     "metadata": {},
     "output_type": "execute_result"
    }
   ],
   "source": [
    "confusion_matrix(y_Holdout, pred)"
   ]
  },
  {
   "cell_type": "markdown",
   "metadata": {},
   "source": []
  },
  {
   "cell_type": "markdown",
   "metadata": {},
   "source": [
    "### Cross Val Score to Check Balance of Target"
   ]
  },
  {
   "cell_type": "code",
   "execution_count": 47,
   "metadata": {
    "collapsed": true
   },
   "outputs": [],
   "source": [
    "from sklearn.cross_validation import cross_val_score"
   ]
  },
  {
   "cell_type": "code",
   "execution_count": 47,
   "metadata": {
    "collapsed": false
   },
   "outputs": [
    {
     "name": "stderr",
     "output_type": "stream",
     "text": [
      "/Users/zober/anaconda2/lib/python2.7/site-packages/sklearn/utils/validation.py:420: DataConversionWarning: Data with input dtype int64 was converted to float64 by StandardScaler.\n",
      "  warnings.warn(msg, DataConversionWarning)\n",
      "/Users/zober/anaconda2/lib/python2.7/site-packages/sklearn/preprocessing/data.py:583: DeprecationWarning: Passing 1d arrays as data is deprecated in 0.17 and will raise ValueError in 0.19. Reshape your data either using X.reshape(-1, 1) if your data has a single feature or X.reshape(1, -1) if it contains a single sample.\n",
      "  warnings.warn(DEPRECATION_MSG_1D, DeprecationWarning)\n",
      "/Users/zober/anaconda2/lib/python2.7/site-packages/sklearn/utils/validation.py:420: DataConversionWarning: Data with input dtype int64 was converted to float64 by StandardScaler.\n",
      "  warnings.warn(msg, DataConversionWarning)\n",
      "/Users/zober/anaconda2/lib/python2.7/site-packages/sklearn/preprocessing/data.py:646: DeprecationWarning: Passing 1d arrays as data is deprecated in 0.17 and will raise ValueError in 0.19. Reshape your data either using X.reshape(-1, 1) if your data has a single feature or X.reshape(1, -1) if it contains a single sample.\n",
      "  warnings.warn(DEPRECATION_MSG_1D, DeprecationWarning)\n",
      "/Users/zober/anaconda2/lib/python2.7/site-packages/sklearn/utils/validation.py:420: DataConversionWarning: Data with input dtype int64 was converted to float64 by StandardScaler.\n",
      "  warnings.warn(msg, DataConversionWarning)\n",
      "/Users/zober/anaconda2/lib/python2.7/site-packages/sklearn/preprocessing/data.py:646: DeprecationWarning: Passing 1d arrays as data is deprecated in 0.17 and will raise ValueError in 0.19. Reshape your data either using X.reshape(-1, 1) if your data has a single feature or X.reshape(1, -1) if it contains a single sample.\n",
      "  warnings.warn(DEPRECATION_MSG_1D, DeprecationWarning)\n",
      "/Users/zober/anaconda2/lib/python2.7/site-packages/sklearn/utils/validation.py:420: DataConversionWarning: Data with input dtype int64 was converted to float64 by StandardScaler.\n",
      "  warnings.warn(msg, DataConversionWarning)\n",
      "/Users/zober/anaconda2/lib/python2.7/site-packages/sklearn/preprocessing/data.py:583: DeprecationWarning: Passing 1d arrays as data is deprecated in 0.17 and will raise ValueError in 0.19. Reshape your data either using X.reshape(-1, 1) if your data has a single feature or X.reshape(1, -1) if it contains a single sample.\n",
      "  warnings.warn(DEPRECATION_MSG_1D, DeprecationWarning)\n",
      "/Users/zober/anaconda2/lib/python2.7/site-packages/sklearn/utils/validation.py:420: DataConversionWarning: Data with input dtype int64 was converted to float64 by StandardScaler.\n",
      "  warnings.warn(msg, DataConversionWarning)\n",
      "/Users/zober/anaconda2/lib/python2.7/site-packages/sklearn/preprocessing/data.py:646: DeprecationWarning: Passing 1d arrays as data is deprecated in 0.17 and will raise ValueError in 0.19. Reshape your data either using X.reshape(-1, 1) if your data has a single feature or X.reshape(1, -1) if it contains a single sample.\n",
      "  warnings.warn(DEPRECATION_MSG_1D, DeprecationWarning)\n",
      "/Users/zober/anaconda2/lib/python2.7/site-packages/sklearn/utils/validation.py:420: DataConversionWarning: Data with input dtype int64 was converted to float64 by StandardScaler.\n",
      "  warnings.warn(msg, DataConversionWarning)\n",
      "/Users/zober/anaconda2/lib/python2.7/site-packages/sklearn/preprocessing/data.py:646: DeprecationWarning: Passing 1d arrays as data is deprecated in 0.17 and will raise ValueError in 0.19. Reshape your data either using X.reshape(-1, 1) if your data has a single feature or X.reshape(1, -1) if it contains a single sample.\n",
      "  warnings.warn(DEPRECATION_MSG_1D, DeprecationWarning)\n",
      "/Users/zober/anaconda2/lib/python2.7/site-packages/sklearn/utils/validation.py:420: DataConversionWarning: Data with input dtype int64 was converted to float64 by StandardScaler.\n",
      "  warnings.warn(msg, DataConversionWarning)\n",
      "/Users/zober/anaconda2/lib/python2.7/site-packages/sklearn/preprocessing/data.py:583: DeprecationWarning: Passing 1d arrays as data is deprecated in 0.17 and will raise ValueError in 0.19. Reshape your data either using X.reshape(-1, 1) if your data has a single feature or X.reshape(1, -1) if it contains a single sample.\n",
      "  warnings.warn(DEPRECATION_MSG_1D, DeprecationWarning)\n",
      "/Users/zober/anaconda2/lib/python2.7/site-packages/sklearn/utils/validation.py:420: DataConversionWarning: Data with input dtype int64 was converted to float64 by StandardScaler.\n",
      "  warnings.warn(msg, DataConversionWarning)\n",
      "/Users/zober/anaconda2/lib/python2.7/site-packages/sklearn/preprocessing/data.py:646: DeprecationWarning: Passing 1d arrays as data is deprecated in 0.17 and will raise ValueError in 0.19. Reshape your data either using X.reshape(-1, 1) if your data has a single feature or X.reshape(1, -1) if it contains a single sample.\n",
      "  warnings.warn(DEPRECATION_MSG_1D, DeprecationWarning)\n",
      "/Users/zober/anaconda2/lib/python2.7/site-packages/sklearn/utils/validation.py:420: DataConversionWarning: Data with input dtype int64 was converted to float64 by StandardScaler.\n",
      "  warnings.warn(msg, DataConversionWarning)\n",
      "/Users/zober/anaconda2/lib/python2.7/site-packages/sklearn/preprocessing/data.py:646: DeprecationWarning: Passing 1d arrays as data is deprecated in 0.17 and will raise ValueError in 0.19. Reshape your data either using X.reshape(-1, 1) if your data has a single feature or X.reshape(1, -1) if it contains a single sample.\n",
      "  warnings.warn(DEPRECATION_MSG_1D, DeprecationWarning)\n",
      "/Users/zober/anaconda2/lib/python2.7/site-packages/sklearn/utils/validation.py:420: DataConversionWarning: Data with input dtype int64 was converted to float64 by StandardScaler.\n",
      "  warnings.warn(msg, DataConversionWarning)\n",
      "/Users/zober/anaconda2/lib/python2.7/site-packages/sklearn/preprocessing/data.py:583: DeprecationWarning: Passing 1d arrays as data is deprecated in 0.17 and will raise ValueError in 0.19. Reshape your data either using X.reshape(-1, 1) if your data has a single feature or X.reshape(1, -1) if it contains a single sample.\n",
      "  warnings.warn(DEPRECATION_MSG_1D, DeprecationWarning)\n",
      "/Users/zober/anaconda2/lib/python2.7/site-packages/sklearn/utils/validation.py:420: DataConversionWarning: Data with input dtype int64 was converted to float64 by StandardScaler.\n",
      "  warnings.warn(msg, DataConversionWarning)\n",
      "/Users/zober/anaconda2/lib/python2.7/site-packages/sklearn/preprocessing/data.py:646: DeprecationWarning: Passing 1d arrays as data is deprecated in 0.17 and will raise ValueError in 0.19. Reshape your data either using X.reshape(-1, 1) if your data has a single feature or X.reshape(1, -1) if it contains a single sample.\n",
      "  warnings.warn(DEPRECATION_MSG_1D, DeprecationWarning)\n",
      "/Users/zober/anaconda2/lib/python2.7/site-packages/sklearn/utils/validation.py:420: DataConversionWarning: Data with input dtype int64 was converted to float64 by StandardScaler.\n",
      "  warnings.warn(msg, DataConversionWarning)\n",
      "/Users/zober/anaconda2/lib/python2.7/site-packages/sklearn/preprocessing/data.py:646: DeprecationWarning: Passing 1d arrays as data is deprecated in 0.17 and will raise ValueError in 0.19. Reshape your data either using X.reshape(-1, 1) if your data has a single feature or X.reshape(1, -1) if it contains a single sample.\n",
      "  warnings.warn(DEPRECATION_MSG_1D, DeprecationWarning)\n",
      "/Users/zober/anaconda2/lib/python2.7/site-packages/sklearn/utils/validation.py:420: DataConversionWarning: Data with input dtype int64 was converted to float64 by StandardScaler.\n",
      "  warnings.warn(msg, DataConversionWarning)\n",
      "/Users/zober/anaconda2/lib/python2.7/site-packages/sklearn/preprocessing/data.py:583: DeprecationWarning: Passing 1d arrays as data is deprecated in 0.17 and will raise ValueError in 0.19. Reshape your data either using X.reshape(-1, 1) if your data has a single feature or X.reshape(1, -1) if it contains a single sample.\n",
      "  warnings.warn(DEPRECATION_MSG_1D, DeprecationWarning)\n",
      "/Users/zober/anaconda2/lib/python2.7/site-packages/sklearn/utils/validation.py:420: DataConversionWarning: Data with input dtype int64 was converted to float64 by StandardScaler.\n",
      "  warnings.warn(msg, DataConversionWarning)\n",
      "/Users/zober/anaconda2/lib/python2.7/site-packages/sklearn/preprocessing/data.py:646: DeprecationWarning: Passing 1d arrays as data is deprecated in 0.17 and will raise ValueError in 0.19. Reshape your data either using X.reshape(-1, 1) if your data has a single feature or X.reshape(1, -1) if it contains a single sample.\n",
      "  warnings.warn(DEPRECATION_MSG_1D, DeprecationWarning)\n",
      "/Users/zober/anaconda2/lib/python2.7/site-packages/sklearn/utils/validation.py:420: DataConversionWarning: Data with input dtype int64 was converted to float64 by StandardScaler.\n",
      "  warnings.warn(msg, DataConversionWarning)\n",
      "/Users/zober/anaconda2/lib/python2.7/site-packages/sklearn/preprocessing/data.py:646: DeprecationWarning: Passing 1d arrays as data is deprecated in 0.17 and will raise ValueError in 0.19. Reshape your data either using X.reshape(-1, 1) if your data has a single feature or X.reshape(1, -1) if it contains a single sample.\n",
      "  warnings.warn(DEPRECATION_MSG_1D, DeprecationWarning)\n"
     ]
    }
   ],
   "source": [
    "cv_score = cross_val_score(pipe ,X_train, y_train, cv=5)"
   ]
  },
  {
   "cell_type": "code",
   "execution_count": 48,
   "metadata": {
    "collapsed": false
   },
   "outputs": [
    {
     "name": "stdout",
     "output_type": "stream",
     "text": [
      "0.741693393346 0.00560487092356\n"
     ]
    }
   ],
   "source": [
    "print(str(cv_score.mean()) + ' ' + str(cv_score.std()))"
   ]
  },
  {
   "cell_type": "markdown",
   "metadata": {},
   "source": [
    "### Get Product Data\n",
    "\n",
    "- 'requires_shipping',\n",
    "- 'variant_id',\n",
    "- 'id',\n",
    "- 'product_exists',\n",
    "- 'sku',\n",
    "- 'title',\n",
    "- 'origin_location',\n",
    "- 'fulfillment_service',\n",
    "- 'total_discount',\n",
    "- 'variant_title',\n",
    "- 'vendor',\n",
    "- 'tax_lines',\n",
    "- 'price',\n",
    "- 'taxable',\n",
    "- 'properties',\n",
    "- 'name',\n",
    "- 'fulfillable_quantity',\n",
    "- 'grams',\n",
    "- 'gift_card',\n",
    "- 'fulfillment_status',\n",
    "- 'product_id',\n",
    "- 'variant_inventory_management',\n",
    "- 'destination_location',\n",
    "- 'quantity'"
   ]
  },
  {
   "cell_type": "code",
   "execution_count": 48,
   "metadata": {
    "collapsed": false
   },
   "outputs": [],
   "source": [
    "prod = orders['fulfillments']"
   ]
  },
  {
   "cell_type": "code",
   "execution_count": 122,
   "metadata": {
    "collapsed": false
   },
   "outputs": [],
   "source": [
    "order_ids = list(orders['id'])"
   ]
  },
  {
   "cell_type": "code",
   "execution_count": 123,
   "metadata": {
    "collapsed": false
   },
   "outputs": [],
   "source": [
    "def get_message(prop):\n",
    "    #Gets message on card in box\n",
    "    for item in prop:\n",
    "        if item['name'] == 'Message on Card':\n",
    "            return item['value']\n",
    "        else:\n",
    "            continue\n",
    "\n",
    "order_id = []\n",
    "prod_title = []\n",
    "prod_id = []\n",
    "name = []\n",
    "message = []\n",
    "\n",
    "for id_ in order_ids:\n",
    "    fulfillments = orders[orders['id']==id_]['fulfillments']\n",
    "    for f in fulfillments:\n",
    "        f_dict = ast.literal_eval(f)\n",
    "        for i in f_dict:\n",
    "            item = i['line_items']\n",
    "            for x in item:\n",
    "                order_id.append(id_)\n",
    "                prod_title.append(x['title'])\n",
    "                prod_id.append(x['product_id'])\n",
    "                name.append(x['name'])\n",
    "                message.append(get_message(x['properties']))\n",
    "        "
   ]
  },
  {
   "cell_type": "code",
   "execution_count": 124,
   "metadata": {
    "collapsed": false
   },
   "outputs": [],
   "source": [
    "orders_products = pd.DataFrame({'order_id': order_id,\n",
    "             'prod_title': prod_title,\n",
    "             'prod_id': prod_id,\n",
    "             'name': name,\n",
    "             'message': message})\n",
    "\n",
    "orders_products.drop_duplicates(inplace=True)"
   ]
  },
  {
   "cell_type": "code",
   "execution_count": 54,
   "metadata": {
    "collapsed": false
   },
   "outputs": [],
   "source": [
    "from bs4 import BeautifulSoup\n",
    "import re"
   ]
  },
  {
   "cell_type": "code",
   "execution_count": 125,
   "metadata": {
    "collapsed": false,
    "scrolled": false
   },
   "outputs": [
    {
     "name": "stderr",
     "output_type": "stream",
     "text": [
      "/Users/zober/anaconda2/lib/python2.7/site-packages/ipykernel/__main__.py:29: SettingWithCopyWarning: \n",
      "A value is trying to be set on a copy of a slice from a DataFrame.\n",
      "Try using .loc[row_indexer,col_indexer] = value instead\n",
      "\n",
      "See the caveats in the documentation: http://pandas.pydata.org/pandas-docs/stable/indexing.html#indexing-view-versus-copy\n",
      "/Users/zober/anaconda2/lib/python2.7/site-packages/ipykernel/__main__.py:30: SettingWithCopyWarning: \n",
      "A value is trying to be set on a copy of a slice from a DataFrame.\n",
      "Try using .loc[row_indexer,col_indexer] = value instead\n",
      "\n",
      "See the caveats in the documentation: http://pandas.pydata.org/pandas-docs/stable/indexing.html#indexing-view-versus-copy\n"
     ]
    }
   ],
   "source": [
    "products['desc'].fillna('None', inplace = True)\n",
    "\n",
    "def get_parent(x):\n",
    "    if x is None:\n",
    "        return None\n",
    "    else:\n",
    "        spl = x.split('/')[0]\n",
    "        return spl.split(u'×')[1]\n",
    "\n",
    "def get_items_custom(row):\n",
    "    soup = BeautifulSoup(row)\n",
    "    items = [p.text for p in soup.findAll('p')[1:]]\n",
    "    return ', '.join([get_parent(i) for i in items])\n",
    "\n",
    "def get_items_curated(row):\n",
    "    if 'includes:' in row.lower():\n",
    "        try:\n",
    "            soup = BeautifulSoup(row)\n",
    "            items = str(soup.findAll('p')[1]).split('<br/>')[1:]\n",
    "            return ', '.join([get_parent(i) for i in items])\n",
    "        except:\n",
    "            return None\n",
    "    else:\n",
    "        return None\n",
    "\n",
    "custom = products[products['title'] == 'Custom BOXFOX']\n",
    "curated = products[products['title'] != 'Custom BOXFOX']\n",
    "\n",
    "custom['items'] = custom['desc'].apply(get_items_custom)\n",
    "curated['items'] = curated['desc'].apply(get_items_curated)"
   ]
  },
  {
   "cell_type": "code",
   "execution_count": 126,
   "metadata": {
    "collapsed": true
   },
   "outputs": [],
   "source": [
    "products = pd.concat([curated, custom])"
   ]
  },
  {
   "cell_type": "code",
   "execution_count": 127,
   "metadata": {
    "collapsed": false
   },
   "outputs": [
    {
     "data": {
      "text/html": [
       "<div>\n",
       "<table border=\"1\" class=\"dataframe\">\n",
       "  <thead>\n",
       "    <tr style=\"text-align: right;\">\n",
       "      <th></th>\n",
       "      <th>date_created</th>\n",
       "      <th>desc</th>\n",
       "      <th>fulfillment</th>\n",
       "      <th>inv_qty</th>\n",
       "      <th>old_inv_qty</th>\n",
       "      <th>price</th>\n",
       "      <th>prod_id</th>\n",
       "      <th>prod_type</th>\n",
       "      <th>title</th>\n",
       "      <th>vendor</th>\n",
       "      <th>items</th>\n",
       "    </tr>\n",
       "  </thead>\n",
       "  <tbody>\n",
       "    <tr>\n",
       "      <th>0</th>\n",
       "      <td>2016-12-16T09:58:46-08:00</td>\n",
       "      <td>&lt;meta charset=\"utf-8\"&gt;The City of Angels is fl...</td>\n",
       "      <td>manual</td>\n",
       "      <td>0</td>\n",
       "      <td>0</td>\n",
       "      <td>18.0</td>\n",
       "      <td>9211737484</td>\n",
       "      <td>Book</td>\n",
       "      <td>36 Hours in Los Angeles and Beyond // Taschen</td>\n",
       "      <td>The Library</td>\n",
       "      <td>None</td>\n",
       "    </tr>\n",
       "    <tr>\n",
       "      <th>1</th>\n",
       "      <td>2016-12-16T09:56:05-08:00</td>\n",
       "      <td>&lt;meta charset=\"utf-8\"&gt;\\n&lt;p&gt;\"New York remains o...</td>\n",
       "      <td>manual</td>\n",
       "      <td>0</td>\n",
       "      <td>0</td>\n",
       "      <td>18.0</td>\n",
       "      <td>9211725708</td>\n",
       "      <td>Book</td>\n",
       "      <td>36 Hours In New York and Beyond // Taschen</td>\n",
       "      <td>The Library</td>\n",
       "      <td>None</td>\n",
       "    </tr>\n",
       "    <tr>\n",
       "      <th>2</th>\n",
       "      <td>2017-01-24T16:28:51-08:00</td>\n",
       "      <td>&lt;meta charset=\"utf-8\"&gt;\\n&lt;p&gt;Dona Chai 8oz mini ...</td>\n",
       "      <td>manual</td>\n",
       "      <td>18</td>\n",
       "      <td>18</td>\n",
       "      <td>8.0</td>\n",
       "      <td>9498705420</td>\n",
       "      <td>Chai Concentrate</td>\n",
       "      <td>8oz Chai Concentrate</td>\n",
       "      <td>Dona Chai</td>\n",
       "      <td>None</td>\n",
       "    </tr>\n",
       "    <tr>\n",
       "      <th>3</th>\n",
       "      <td>2016-07-28T15:58:49-07:00</td>\n",
       "      <td>&lt;p&gt;A hand wrapped, custom built gift box that ...</td>\n",
       "      <td>manual</td>\n",
       "      <td>1</td>\n",
       "      <td>1</td>\n",
       "      <td>27.0</td>\n",
       "      <td>7810617606</td>\n",
       "      <td>Custom Box</td>\n",
       "      <td>A SIMPLE THANK YOU</td>\n",
       "      <td>BOXFOX</td>\n",
       "      <td>None</td>\n",
       "    </tr>\n",
       "    <tr>\n",
       "      <th>4</th>\n",
       "      <td>2015-05-18T18:57:12-07:00</td>\n",
       "      <td>&lt;meta charset=\"utf-8\"&gt;\\n&lt;p&gt;The Social Type's \"...</td>\n",
       "      <td>manual</td>\n",
       "      <td>1</td>\n",
       "      <td>1</td>\n",
       "      <td>10.0</td>\n",
       "      <td>565214915</td>\n",
       "      <td>Matchbox</td>\n",
       "      <td>Ahoy Matchbox</td>\n",
       "      <td>The Social Type</td>\n",
       "      <td>None</td>\n",
       "    </tr>\n",
       "  </tbody>\n",
       "</table>\n",
       "</div>"
      ],
      "text/plain": [
       "                date_created  \\\n",
       "0  2016-12-16T09:58:46-08:00   \n",
       "1  2016-12-16T09:56:05-08:00   \n",
       "2  2017-01-24T16:28:51-08:00   \n",
       "3  2016-07-28T15:58:49-07:00   \n",
       "4  2015-05-18T18:57:12-07:00   \n",
       "\n",
       "                                                desc fulfillment  inv_qty  \\\n",
       "0  <meta charset=\"utf-8\">The City of Angels is fl...      manual        0   \n",
       "1  <meta charset=\"utf-8\">\\n<p>\"New York remains o...      manual        0   \n",
       "2  <meta charset=\"utf-8\">\\n<p>Dona Chai 8oz mini ...      manual       18   \n",
       "3  <p>A hand wrapped, custom built gift box that ...      manual        1   \n",
       "4  <meta charset=\"utf-8\">\\n<p>The Social Type's \"...      manual        1   \n",
       "\n",
       "   old_inv_qty  price     prod_id         prod_type  \\\n",
       "0            0   18.0  9211737484              Book   \n",
       "1            0   18.0  9211725708              Book   \n",
       "2           18    8.0  9498705420  Chai Concentrate   \n",
       "3            1   27.0  7810617606        Custom Box   \n",
       "4            1   10.0   565214915          Matchbox   \n",
       "\n",
       "                                           title           vendor items  \n",
       "0  36 Hours in Los Angeles and Beyond // Taschen      The Library  None  \n",
       "1     36 Hours In New York and Beyond // Taschen      The Library  None  \n",
       "2                           8oz Chai Concentrate        Dona Chai  None  \n",
       "3                             A SIMPLE THANK YOU           BOXFOX  None  \n",
       "4                                  Ahoy Matchbox  The Social Type  None  "
      ]
     },
     "execution_count": 127,
     "metadata": {},
     "output_type": "execute_result"
    }
   ],
   "source": [
    "products.head()"
   ]
  },
  {
   "cell_type": "code",
   "execution_count": 128,
   "metadata": {
    "collapsed": false
   },
   "outputs": [],
   "source": [
    "orders_products['prod_id'].fillna(0, inplace=True)\n",
    "orders_products['prod_id'] = orders_products['prod_id'].apply(int)"
   ]
  },
  {
   "cell_type": "code",
   "execution_count": null,
   "metadata": {
    "collapsed": true
   },
   "outputs": [],
   "source": [
    "cols_to_use = products.columns.difference(orders_products.columns).tolist()\n",
    "cols_to_use.append('prod_id')\n",
    "cols_to_use2 = orders.columns.difference(orders_products_products.columns).tolist()"
   ]
  },
  {
   "cell_type": "code",
   "execution_count": 149,
   "metadata": {
    "collapsed": false
   },
   "outputs": [],
   "source": [
    "orders_products_products = pd.merge(products[cols_to_use], orders_products, on ='prod_id')\n",
    "orders_products_final = pd.merge(orders[cols_to_use2], orders_products_products, left_on='id', right_on='order_id')\n",
    "\n",
    "orders_products.drop_duplicates(inplace=True)"
   ]
  },
  {
   "cell_type": "code",
   "execution_count": 150,
   "metadata": {
    "collapsed": false
   },
   "outputs": [],
   "source": [
    "orders_products_final.to_csv('orders_products.csv', encoding='UTF8')"
   ]
  },
  {
   "cell_type": "code",
   "execution_count": 154,
   "metadata": {
    "collapsed": true
   },
   "outputs": [],
   "source": [
    "API_KEY = \"f4678273f6be2f7ce7d4e67b8173ce5b\"\n",
    "PASSWORD = \"471d7b85e1ef2153d0892f934340fb6e\"\n",
    "shop_url = \"https://%s:%s@boxfox.myshopify.com/admin/\" % (API_KEY, PASSWORD)\n",
    "shopify.ShopifyResource.set_site(shop_url)"
   ]
  },
  {
   "cell_type": "code",
   "execution_count": 155,
   "metadata": {
    "collapsed": false
   },
   "outputs": [
    {
     "data": {
      "text/plain": [
       "{u'accepts_marketing': True,\n",
       " u'addresses': [],\n",
       " u'created_at': u'2017-03-20T14:40:55-07:00',\n",
       " u'email': u'leahaber@umich.edu',\n",
       " u'first_name': u'Lauren',\n",
       " u'id': 5944578828,\n",
       " u'last_name': u'Haber',\n",
       " u'last_order_id': None,\n",
       " u'last_order_name': None,\n",
       " u'multipass_identifier': None,\n",
       " u'note': None,\n",
       " u'orders_count': 0,\n",
       " u'phone': None,\n",
       " u'state': u'enabled',\n",
       " u'tags': u'',\n",
       " u'tax_exempt': False,\n",
       " u'total_spent': u'0.00',\n",
       " u'updated_at': u'2017-03-20T14:40:55-07:00',\n",
       " u'verified_email': True}"
      ]
     },
     "execution_count": 155,
     "metadata": {},
     "output_type": "execute_result"
    }
   ],
   "source": [
    "shopify.Customer.get('5944578828')"
   ]
  },
  {
   "cell_type": "code",
   "execution_count": 184,
   "metadata": {
    "collapsed": false
   },
   "outputs": [
    {
     "data": {
      "text/html": [
       "<div>\n",
       "<table border=\"1\" class=\"dataframe\">\n",
       "  <thead>\n",
       "    <tr style=\"text-align: right;\">\n",
       "      <th></th>\n",
       "      <th>customer.created_at</th>\n",
       "      <th>processed_at</th>\n",
       "    </tr>\n",
       "  </thead>\n",
       "  <tbody>\n",
       "    <tr>\n",
       "      <th>0</th>\n",
       "      <td>2017-03-21T10:48:09-07:00</td>\n",
       "      <td>2017-03-21T10:53:59-07:00</td>\n",
       "    </tr>\n",
       "    <tr>\n",
       "      <th>0</th>\n",
       "      <td>2017-03-21T10:48:09-07:00</td>\n",
       "      <td>2017-03-21T10:53:59-07:00</td>\n",
       "    </tr>\n",
       "  </tbody>\n",
       "</table>\n",
       "</div>"
      ],
      "text/plain": [
       "         customer.created_at               processed_at\n",
       "0  2017-03-21T10:48:09-07:00  2017-03-21T10:53:59-07:00\n",
       "0  2017-03-21T10:48:09-07:00  2017-03-21T10:53:59-07:00"
      ]
     },
     "execution_count": 184,
     "metadata": {},
     "output_type": "execute_result"
    }
   ],
   "source": [
    "orders[orders['customer.id']==5954703820][['customer.created_at','processed_at']]"
   ]
  },
  {
   "cell_type": "code",
   "execution_count": null,
   "metadata": {
    "collapsed": true
   },
   "outputs": [],
   "source": []
  }
 ],
 "metadata": {
  "anaconda-cloud": {},
  "kernelspec": {
   "display_name": "Python [default]",
   "language": "python",
   "name": "python2"
  },
  "language_info": {
   "codemirror_mode": {
    "name": "ipython",
    "version": 2
   },
   "file_extension": ".py",
   "mimetype": "text/x-python",
   "name": "python",
   "nbconvert_exporter": "python",
   "pygments_lexer": "ipython2",
   "version": "2.7.12"
  }
 },
 "nbformat": 4,
 "nbformat_minor": 1
}
