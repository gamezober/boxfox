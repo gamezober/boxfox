{
 "cells": [
  {
   "cell_type": "code",
   "execution_count": 2,
   "metadata": {
    "collapsed": false
   },
   "outputs": [],
   "source": [
    "#!pip install ShopifyAPI"
   ]
  },
  {
   "cell_type": "markdown",
   "metadata": {},
   "source": [
    "## Acquiring Data From Shopify API\n",
    "\n",
    "This Notebook contains all the code I used to get all the data for Analysis of BoxFox's customers and orders. "
   ]
  },
  {
   "cell_type": "code",
   "execution_count": 3,
   "metadata": {
    "collapsed": false
   },
   "outputs": [],
   "source": [
    "import shopify\n",
    "import requests\n",
    "import re\n",
    "import json\n",
    "import pandas as pd\n",
    "from pandas.io.json import json_normalize\n",
    "import time\n",
    "import numpy as np\n",
    "import matplotlib.pyplot as plt\n",
    "import seaborn as sns\n",
    "import ast\n",
    "from ConfigParser import SafeConfigParser\n",
    "\n",
    "%matplotlib inline"
   ]
  },
  {
   "cell_type": "code",
   "execution_count": 10,
   "metadata": {
    "collapsed": false
   },
   "outputs": [],
   "source": [
    "parser = SafeConfigParser()\n",
    "parser.read('config.ini')\n",
    "\n",
    "\n",
    "API_KEY = parser.get('API_config', 'api_key')\n",
    "PASSWORD = parser.get('API_config', 'api_password')\n",
    "shop_url = \"https://%s:%s@boxfox.myshopify.com/admin/\" % (API_KEY, PASSWORD)\n",
    "shopify.ShopifyResource.set_site(shop_url)"
   ]
  },
  {
   "cell_type": "markdown",
   "metadata": {},
   "source": [
    "### Create Products Table"
   ]
  },
  {
   "cell_type": "code",
   "execution_count": 7,
   "metadata": {
    "collapsed": false
   },
   "outputs": [],
   "source": [
    "#functions to return list of ids for each page in API response\n",
    "\n",
    "def get_product_ids(page):\n",
    "    product_ids = []\n",
    "    for p in shopify.Product.find(page=page):\n",
    "        product_ids.append(p.get_id())\n",
    "    return product_ids\n",
    "\n",
    "def get_customer_ids(page):\n",
    "    customer_ids = []\n",
    "    for c in shopify.Customer.find(page=page):\n",
    "        customer_ids.append(c.get_id())\n",
    "    return customer_ids\n",
    "\n",
    "def get_order_ids(page):\n",
    "    order_ids = []\n",
    "    for o in shopify.Order.find(page=page):\n",
    "        order_ids.append(o.get_id())\n",
    "    return order_ids"
   ]
  },
  {
   "cell_type": "code",
   "execution_count": 12,
   "metadata": {
    "collapsed": false
   },
   "outputs": [],
   "source": [
    "\n",
    "###Shopify API Pagination at 50 per request\n",
    "pages = shopify.Product.count() // 50\n",
    "\n",
    "# lists contain values of DataFrame\n",
    "\n",
    "prod_id = []\n",
    "desc = []\n",
    "title = []\n",
    "date_created = []\n",
    "vendor = []\n",
    "price = []\n",
    "prod_type = []\n",
    "inv_qty = []\n",
    "old_inv_qty = []\n",
    "fulfillment = []\n",
    "\n",
    "\n",
    "for page in range(87, pages + 1):\n",
    "    product_ids = get_product_ids(page)\n",
    "    for id_ in product_ids:\n",
    "        time.sleep(1)\n",
    "        prod = shopify.Product.get(id_)\n",
    "        prod_id.append(id_)\n",
    "        desc.append(prod['body_html'])\n",
    "        vendor.append(prod['vendor'])\n",
    "        price.append(prod['variants'][0]['price'])\n",
    "        inv_qty.append(prod['variants'][0]['inventory_quantity'])\n",
    "        old_inv_qty.append(prod['variants'][0]['old_inventory_quantity'])\n",
    "        fulfillment.append(prod['variants'][0]['fulfillment_service'])\n",
    "        date_created.append(prod['created_at'])\n",
    "        title.append(prod['title'])\n",
    "        prod_type.append(prod['product_type'])"
   ]
  },
  {
   "cell_type": "code",
   "execution_count": 40,
   "metadata": {
    "collapsed": false
   },
   "outputs": [],
   "source": [
    "products = pd.DataFrame({'prod_id': prod_id,\n",
    "             'desc': desc,\n",
    "             'title': title,\n",
    "             'date_created': date_created,\n",
    "             'vendor': vendor,\n",
    "             'price': price,\n",
    "             'prod_type': prod_type,\n",
    "             'inv_qty': inv_qty,\n",
    "             'old_inv_qty': old_inv_qty,\n",
    "             'fulfillment': fulfillment}\n",
    "            )\n",
    "\n",
    "products.head(3)\n",
    "products.to_csv('products.csv', encoding = 'utf-8')"
   ]
  },
  {
   "cell_type": "markdown",
   "metadata": {},
   "source": [
    "### Create Customers Table"
   ]
  },
  {
   "cell_type": "code",
   "execution_count": 14,
   "metadata": {
    "collapsed": false
   },
   "outputs": [],
   "source": [
    "pages = shopify.Customer.count() // 50\n",
    "\n",
    "# cust_id = []\n",
    "# accepts_marketing = []\n",
    "# user_since = []\n",
    "# zip_code = []\n",
    "# state = []\n",
    "# total_orders = []\n",
    "# total_spent = []\n",
    "# state = []\n",
    "\n",
    "for page in range(87, pages + 1):\n",
    "    customer_ids = get_customer_ids(page)\n",
    "    for id_ in customer_ids:\n",
    "        cust = cust_id.append(id_)\n",
    "        time.sleep(.5)\n",
    "        cust = shopify.Customer.get(id_)\n",
    "        accepts_marketing.append(cust['accepts_marketing'])\n",
    "        user_since.append(cust['created_at'])\n",
    "        total_orders.append(cust['orders_count'])\n",
    "        total_spent.append(cust['total_spent'])\n",
    "        if 'default_address' in cust.keys():\n",
    "            address = cust['default_address']\n",
    "            zip_code.append(address['zip'])\n",
    "            state.append(address['province_code'])\n",
    "        else:\n",
    "            zip_code.append(np.nan)\n",
    "            state.append(np.nan)"
   ]
  },
  {
   "cell_type": "code",
   "execution_count": 13,
   "metadata": {
    "collapsed": false
   },
   "outputs": [],
   "source": [
    "customers = pd.DataFrame({'cust_id': cust_id,\n",
    "                        'accepts_marketing': accepts_marketing,\n",
    "                        'user_since': user_since,\n",
    "                         'zip': zip_code,\n",
    "                         'state': state,\n",
    "                         'total_orders': total_orders,\n",
    "                         'total_spent': total_spent}\n",
    "                        )\n",
    "\n",
    "customers.head(3)"
   ]
  },
  {
   "cell_type": "code",
   "execution_count": 74,
   "metadata": {
    "collapsed": false
   },
   "outputs": [
    {
     "data": {
      "text/plain": [
       "9650"
      ]
     },
     "execution_count": 74,
     "metadata": {},
     "output_type": "execute_result"
    }
   ],
   "source": [
    "customers.to_csv('customers.csv', encoding = 'utf-8')"
   ]
  },
  {
   "cell_type": "markdown",
   "metadata": {},
   "source": [
    "### Create Orders"
   ]
  },
  {
   "cell_type": "code",
   "execution_count": 125,
   "metadata": {
    "collapsed": false
   },
   "outputs": [],
   "source": [
    "pages = shopify.Order.count() // 50\n",
    "\n",
    "for page in range(1, pages + 1):\n",
    "    order_ids = get_order_ids(page)\n",
    "    for id_ in order_ids:\n",
    "        time.sleep(.5)\n",
    "        order = shopify.Order.get(id_)\n",
    "        order_df = json_normalize(order)\n",
    "        orders = pd.concat([orders, order_df])"
   ]
  },
  {
   "cell_type": "code",
   "execution_count": 126,
   "metadata": {
    "collapsed": false
   },
   "outputs": [
    {
     "data": {
      "text/html": [
       "<div>\n",
       "<table border=\"1\" class=\"dataframe\">\n",
       "  <thead>\n",
       "    <tr style=\"text-align: right;\">\n",
       "      <th></th>\n",
       "      <th>billing_address.address1</th>\n",
       "      <th>billing_address.address2</th>\n",
       "      <th>billing_address.city</th>\n",
       "      <th>billing_address.company</th>\n",
       "      <th>billing_address.country</th>\n",
       "      <th>billing_address.country_code</th>\n",
       "      <th>billing_address.first_name</th>\n",
       "      <th>billing_address.last_name</th>\n",
       "      <th>billing_address.latitude</th>\n",
       "      <th>billing_address.longitude</th>\n",
       "      <th>...</th>\n",
       "      <th>test</th>\n",
       "      <th>token</th>\n",
       "      <th>total_discounts</th>\n",
       "      <th>total_line_items_price</th>\n",
       "      <th>total_price</th>\n",
       "      <th>total_price_usd</th>\n",
       "      <th>total_tax</th>\n",
       "      <th>total_weight</th>\n",
       "      <th>updated_at</th>\n",
       "      <th>user_id</th>\n",
       "    </tr>\n",
       "  </thead>\n",
       "  <tbody>\n",
       "    <tr>\n",
       "      <th>0</th>\n",
       "      <td>620 Magnolia Ave.</td>\n",
       "      <td></td>\n",
       "      <td>Pasadena</td>\n",
       "      <td>Chateau de Pilmer</td>\n",
       "      <td>United States</td>\n",
       "      <td>US</td>\n",
       "      <td>Susie</td>\n",
       "      <td>Pilmer</td>\n",
       "      <td>34.1352</td>\n",
       "      <td>-118.144</td>\n",
       "      <td>...</td>\n",
       "      <td>False</td>\n",
       "      <td>af8a143ff88c77a90a58b447d4f62429</td>\n",
       "      <td>0.00</td>\n",
       "      <td>89.50</td>\n",
       "      <td>117.93</td>\n",
       "      <td>117.93</td>\n",
       "      <td>7.83</td>\n",
       "      <td>2268</td>\n",
       "      <td>2017-03-21T11:20:07-07:00</td>\n",
       "      <td>None</td>\n",
       "    </tr>\n",
       "    <tr>\n",
       "      <th>0</th>\n",
       "      <td>2580 Armacost Ave</td>\n",
       "      <td></td>\n",
       "      <td>Los Angeles</td>\n",
       "      <td></td>\n",
       "      <td>United States</td>\n",
       "      <td>US</td>\n",
       "      <td>Gina</td>\n",
       "      <td>Binder</td>\n",
       "      <td>34.0257</td>\n",
       "      <td>-118.446</td>\n",
       "      <td>...</td>\n",
       "      <td>False</td>\n",
       "      <td>00bd07f118aa4dc8b26544e1e88fe6de</td>\n",
       "      <td>0.00</td>\n",
       "      <td>70.00</td>\n",
       "      <td>96.73</td>\n",
       "      <td>96.73</td>\n",
       "      <td>6.13</td>\n",
       "      <td>2268</td>\n",
       "      <td>2017-03-21T11:17:44-07:00</td>\n",
       "      <td>None</td>\n",
       "    </tr>\n",
       "    <tr>\n",
       "      <th>0</th>\n",
       "      <td>15905 28th Drive SE</td>\n",
       "      <td></td>\n",
       "      <td>Mill Creek</td>\n",
       "      <td></td>\n",
       "      <td>United States</td>\n",
       "      <td>US</td>\n",
       "      <td>Ashley</td>\n",
       "      <td>Walton</td>\n",
       "      <td>47.8538</td>\n",
       "      <td>-122.194</td>\n",
       "      <td>...</td>\n",
       "      <td>False</td>\n",
       "      <td>1400bc73f57db029b0d4f95e789de7f7</td>\n",
       "      <td>0.00</td>\n",
       "      <td>65.00</td>\n",
       "      <td>76.00</td>\n",
       "      <td>76.00</td>\n",
       "      <td>0.00</td>\n",
       "      <td>2268</td>\n",
       "      <td>2017-03-21T10:22:49-07:00</td>\n",
       "      <td>None</td>\n",
       "    </tr>\n",
       "    <tr>\n",
       "      <th>0</th>\n",
       "      <td>702 harrison st, suite a</td>\n",
       "      <td></td>\n",
       "      <td>berkeley</td>\n",
       "      <td></td>\n",
       "      <td>United States</td>\n",
       "      <td>US</td>\n",
       "      <td>rhiannon</td>\n",
       "      <td>smith</td>\n",
       "      <td>37.8803</td>\n",
       "      <td>-122.305</td>\n",
       "      <td>...</td>\n",
       "      <td>False</td>\n",
       "      <td>2c76bb7f669eed92af8c37e9831236a4</td>\n",
       "      <td>0.00</td>\n",
       "      <td>56.00</td>\n",
       "      <td>71.06</td>\n",
       "      <td>71.06</td>\n",
       "      <td>4.06</td>\n",
       "      <td>2268</td>\n",
       "      <td>2017-03-21T10:10:26-07:00</td>\n",
       "      <td>None</td>\n",
       "    </tr>\n",
       "    <tr>\n",
       "      <th>0</th>\n",
       "      <td>4 Smoky Lane</td>\n",
       "      <td></td>\n",
       "      <td>Westport</td>\n",
       "      <td></td>\n",
       "      <td>United States</td>\n",
       "      <td>US</td>\n",
       "      <td>Samantha</td>\n",
       "      <td>Smolka</td>\n",
       "      <td>41.1298</td>\n",
       "      <td>-73.3439</td>\n",
       "      <td>...</td>\n",
       "      <td>False</td>\n",
       "      <td>cbb50d0d631a8225f366e62296483613</td>\n",
       "      <td>0.00</td>\n",
       "      <td>65.50</td>\n",
       "      <td>76.50</td>\n",
       "      <td>76.50</td>\n",
       "      <td>0.00</td>\n",
       "      <td>2268</td>\n",
       "      <td>2017-03-21T09:18:44-07:00</td>\n",
       "      <td>None</td>\n",
       "    </tr>\n",
       "  </tbody>\n",
       "</table>\n",
       "<p>5 rows × 129 columns</p>\n",
       "</div>"
      ],
      "text/plain": [
       "   billing_address.address1 billing_address.address2 billing_address.city  \\\n",
       "0        620 Magnolia Ave.                                      Pasadena    \n",
       "0         2580 Armacost Ave                                   Los Angeles   \n",
       "0       15905 28th Drive SE                                    Mill Creek   \n",
       "0  702 harrison st, suite a                                      berkeley   \n",
       "0              4 Smoky Lane                                      Westport   \n",
       "\n",
       "  billing_address.company billing_address.country  \\\n",
       "0       Chateau de Pilmer           United States   \n",
       "0                                   United States   \n",
       "0                                   United States   \n",
       "0                                   United States   \n",
       "0                                   United States   \n",
       "\n",
       "  billing_address.country_code billing_address.first_name  \\\n",
       "0                           US                     Susie    \n",
       "0                           US                       Gina   \n",
       "0                           US                     Ashley   \n",
       "0                           US                   rhiannon   \n",
       "0                           US                   Samantha   \n",
       "\n",
       "  billing_address.last_name billing_address.latitude  \\\n",
       "0                    Pilmer                  34.1352   \n",
       "0                    Binder                  34.0257   \n",
       "0                    Walton                  47.8538   \n",
       "0                     smith                  37.8803   \n",
       "0                    Smolka                  41.1298   \n",
       "\n",
       "  billing_address.longitude   ...     test                             token  \\\n",
       "0                  -118.144   ...    False  af8a143ff88c77a90a58b447d4f62429   \n",
       "0                  -118.446   ...    False  00bd07f118aa4dc8b26544e1e88fe6de   \n",
       "0                  -122.194   ...    False  1400bc73f57db029b0d4f95e789de7f7   \n",
       "0                  -122.305   ...    False  2c76bb7f669eed92af8c37e9831236a4   \n",
       "0                  -73.3439   ...    False  cbb50d0d631a8225f366e62296483613   \n",
       "\n",
       "  total_discounts total_line_items_price total_price total_price_usd  \\\n",
       "0            0.00                  89.50      117.93          117.93   \n",
       "0            0.00                  70.00       96.73           96.73   \n",
       "0            0.00                  65.00       76.00           76.00   \n",
       "0            0.00                  56.00       71.06           71.06   \n",
       "0            0.00                  65.50       76.50           76.50   \n",
       "\n",
       "  total_tax total_weight                 updated_at user_id  \n",
       "0      7.83         2268  2017-03-21T11:20:07-07:00    None  \n",
       "0      6.13         2268  2017-03-21T11:17:44-07:00    None  \n",
       "0      0.00         2268  2017-03-21T10:22:49-07:00    None  \n",
       "0      4.06         2268  2017-03-21T10:10:26-07:00    None  \n",
       "0      0.00         2268  2017-03-21T09:18:44-07:00    None  \n",
       "\n",
       "[5 rows x 129 columns]"
      ]
     },
     "execution_count": 126,
     "metadata": {},
     "output_type": "execute_result"
    }
   ],
   "source": [
    "orders.head()"
   ]
  },
  {
   "cell_type": "code",
   "execution_count": 128,
   "metadata": {
    "collapsed": false
   },
   "outputs": [],
   "source": [
    "orders.to_csv('orders.csv', encoding= 'utf-8')"
   ]
  },
  {
   "cell_type": "code",
   "execution_count": 129,
   "metadata": {
    "collapsed": false,
    "scrolled": false
   },
   "outputs": [
    {
     "name": "stdout",
     "output_type": "stream",
     "text": [
      "billing_address.address1\n",
      "billing_address.address2\n",
      "billing_address.city\n",
      "billing_address.company\n",
      "billing_address.country\n",
      "billing_address.country_code\n",
      "billing_address.first_name\n",
      "billing_address.last_name\n",
      "billing_address.latitude\n",
      "billing_address.longitude\n",
      "billing_address.name\n",
      "billing_address.phone\n",
      "billing_address.province\n",
      "billing_address.province_code\n",
      "billing_address.zip\n",
      "browser_ip\n",
      "buyer_accepts_marketing\n",
      "cancel_reason\n",
      "cancelled_at\n",
      "cart_token\n",
      "checkout_id\n",
      "checkout_token\n",
      "client_details.accept_language\n",
      "client_details.browser_height\n",
      "client_details.browser_ip\n",
      "client_details.browser_width\n",
      "client_details.session_hash\n",
      "client_details.user_agent\n",
      "closed_at\n",
      "confirmed\n",
      "contact_email\n",
      "created_at\n",
      "currency\n",
      "customer.accepts_marketing\n",
      "customer.created_at\n",
      "customer.default_address.address1\n",
      "customer.default_address.address2\n",
      "customer.default_address.city\n",
      "customer.default_address.company\n",
      "customer.default_address.country\n",
      "customer.default_address.country_code\n",
      "customer.default_address.country_name\n",
      "customer.default_address.default\n",
      "customer.default_address.first_name\n",
      "customer.default_address.id\n",
      "customer.default_address.last_name\n",
      "customer.default_address.name\n",
      "customer.default_address.phone\n",
      "customer.default_address.province\n",
      "customer.default_address.province_code\n",
      "customer.default_address.zip\n",
      "customer.email\n",
      "customer.first_name\n",
      "customer.id\n",
      "customer.last_name\n",
      "customer.last_order_id\n",
      "customer.last_order_name\n",
      "customer.multipass_identifier\n",
      "customer.note\n",
      "customer.orders_count\n",
      "customer.phone\n",
      "customer.state\n",
      "customer.tags\n",
      "customer.tax_exempt\n",
      "customer.total_spent\n",
      "customer.updated_at\n",
      "customer.verified_email\n",
      "device_id\n",
      "discount_codes\n",
      "email\n",
      "financial_status\n",
      "fulfillment_status\n",
      "fulfillments\n",
      "gateway\n",
      "id\n",
      "landing_site\n",
      "landing_site_ref\n",
      "line_items\n",
      "location_id\n",
      "name\n",
      "note\n",
      "note_attributes\n",
      "number\n",
      "order_number\n",
      "order_status_url\n",
      "payment_details.avs_result_code\n",
      "payment_details.credit_card_bin\n",
      "payment_details.credit_card_company\n",
      "payment_details.credit_card_number\n",
      "payment_details.cvv_result_code\n",
      "payment_gateway_names\n",
      "processed_at\n",
      "processing_method\n",
      "reference\n",
      "referring_site\n",
      "refunds\n",
      "shipping_address.address1\n",
      "shipping_address.address2\n",
      "shipping_address.city\n",
      "shipping_address.company\n",
      "shipping_address.country\n",
      "shipping_address.country_code\n",
      "shipping_address.first_name\n",
      "shipping_address.last_name\n",
      "shipping_address.latitude\n",
      "shipping_address.longitude\n",
      "shipping_address.name\n",
      "shipping_address.phone\n",
      "shipping_address.province\n",
      "shipping_address.province_code\n",
      "shipping_address.zip\n",
      "shipping_lines\n",
      "source_identifier\n",
      "source_name\n",
      "source_url\n",
      "subtotal_price\n",
      "tags\n",
      "tax_lines\n",
      "taxes_included\n",
      "test\n",
      "token\n",
      "total_discounts\n",
      "total_line_items_price\n",
      "total_price\n",
      "total_price_usd\n",
      "total_tax\n",
      "total_weight\n",
      "updated_at\n",
      "user_id\n"
     ]
    }
   ],
   "source": [
    "for c in orders.columns:\n",
    "    print(c)"
   ]
  },
  {
   "cell_type": "code",
   "execution_count": 173,
   "metadata": {
    "collapsed": false
   },
   "outputs": [
    {
     "data": {
      "image/png": "[encoded data removed]",
      "text/plain": [
       "<matplotlib.figure.Figure at 0x12e7fa510>"
      ]
     },
     "metadata": {},
     "output_type": "display_data"
    }
   ],
   "source": [
    "plt.hist(orders.fillna(0)['customer.orders_count'].astype('int'), bins=29);"
   ]
  }
 ],
 "metadata": {
  "anaconda-cloud": {},
  "kernelspec": {
   "display_name": "Python [conda root]",
   "language": "python",
   "name": "conda-root-py"
  },
  "language_info": {
   "codemirror_mode": {
    "name": "ipython",
    "version": 2
   },
   "file_extension": ".py",
   "mimetype": "text/x-python",
   "name": "python",
   "nbconvert_exporter": "python",
   "pygments_lexer": "ipython2",
   "version": "2.7.12"
  }
 },
 "nbformat": 4,
 "nbformat_minor": 1
}
