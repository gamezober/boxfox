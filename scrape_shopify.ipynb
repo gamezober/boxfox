{
 "cells": [
  {
   "cell_type": "code",
   "execution_count": 1,
   "metadata": {
    "collapsed": false
   },
   "outputs": [
    {
     "name": "stdout",
     "output_type": "stream",
     "text": [
      "Collecting ShopifyAPI\n",
      "  Downloading ShopifyAPI-2.2.0.tar.gz\n",
      "Collecting pyactiveresource>=2.1.2 (from ShopifyAPI)\n",
      "  Downloading pyactiveresource-2.1.2.tar.gz\n",
      "Requirement already satisfied: PyYAML in /Users/zober/anaconda2/lib/python2.7/site-packages (from ShopifyAPI)\n",
      "Requirement already satisfied: six in /Users/zober/anaconda2/lib/python2.7/site-packages (from ShopifyAPI)\n",
      "Building wheels for collected packages: ShopifyAPI, pyactiveresource\n",
      "  Running setup.py bdist_wheel for ShopifyAPI ... \u001b[?25l-\b \b\\\b \bdone\n",
      "\u001b[?25h  Stored in directory: /Users/zober/Library/Caches/pip/wheels/3c/e1/69/12fc8c525f6ef43ccff7a83ee55329a7fafcc634043d2e1603\n",
      "  Running setup.py bdist_wheel for pyactiveresource ... \u001b[?25l-\b \bdone\n",
      "\u001b[?25h  Stored in directory: /Users/zober/Library/Caches/pip/wheels/bf/a9/f1/01e06e128c15ec328b6d583c8ee74557eb045b0998bec4fc79\n",
      "Successfully built ShopifyAPI pyactiveresource\n",
      "Installing collected packages: pyactiveresource, ShopifyAPI\n",
      "Successfully installed ShopifyAPI-2.2.0 pyactiveresource-2.1.2\n"
     ]
    }
   ],
   "source": [
    "#!pip install ShopifyAPI"
   ]
  },
  {
   "cell_type": "code",
   "execution_count": 2,
   "metadata": {
    "collapsed": false
   },
   "outputs": [],
   "source": [
    "import shopify\n",
    "import requests\n",
    "import re\n",
    "import json\n",
    "import pandas as pd\n",
    "from pandas.io.json import json_normalize\n",
    "import time\n",
    "import numpy as np\n",
    "import matplotlib.pyplot as plt\n",
    "import seaborn as sns\n",
    "import ast\n",
    "\n",
    "%matplotlib inline"
   ]
  },
  {
   "cell_type": "code",
   "execution_count": 3,
   "metadata": {
    "collapsed": false
   },
   "outputs": [],
   "source": [
    "API_KEY = \"f4678273f6be2f7ce7d4e67b8173ce5b\"\n",
    "PASSWORD = \"471d7b85e1ef2153d0892f934340fb6e\"\n",
    "shop_url = \"https://%s:%s@boxfox.myshopify.com/admin/\" % (API_KEY, PASSWORD)\n",
    "shopify.ShopifyResource.set_site(shop_url)"
   ]
  },
  {
   "cell_type": "markdown",
   "metadata": {},
   "source": [
    "### Create Products Table"
   ]
  },
  {
   "cell_type": "code",
   "execution_count": 7,
   "metadata": {
    "collapsed": false
   },
   "outputs": [],
   "source": [
    "#functions to return list of ids for each page in API response\n",
    "\n",
    "def get_product_ids(page):\n",
    "    product_ids = []\n",
    "    for p in shopify.Product.find(page=page):\n",
    "        product_ids.append(p.get_id())\n",
    "    return product_ids\n",
    "\n",
    "def get_customer_ids(page):\n",
    "    customer_ids = []\n",
    "    for c in shopify.Customer.find(page=page):\n",
    "        customer_ids.append(c.get_id())\n",
    "    return customer_ids\n",
    "\n",
    "def get_order_ids(page):\n",
    "    order_ids = []\n",
    "    for o in shopify.Order.find(page=page):\n",
    "        order_ids.append(o.get_id())\n",
    "    return order_ids"
   ]
  },
  {
   "cell_type": "code",
   "execution_count": 8,
   "metadata": {
    "collapsed": false
   },
   "outputs": [
    {
     "ename": "KeyboardInterrupt",
     "evalue": "",
     "output_type": "error",
     "traceback": [
      "\u001b[0;31m---------------------------------------------------------------------------\u001b[0m",
      "\u001b[0;31mKeyboardInterrupt\u001b[0m                         Traceback (most recent call last)",
      "\u001b[0;32m<ipython-input-8-86a22880b997>\u001b[0m in \u001b[0;36m<module>\u001b[0;34m()\u001b[0m\n\u001b[1;32m     17\u001b[0m     \u001b[0mproduct_ids\u001b[0m \u001b[0;34m=\u001b[0m \u001b[0mget_product_ids\u001b[0m\u001b[0;34m(\u001b[0m\u001b[0mpage\u001b[0m\u001b[0;34m)\u001b[0m\u001b[0;34m\u001b[0m\u001b[0m\n\u001b[1;32m     18\u001b[0m     \u001b[0;32mfor\u001b[0m \u001b[0mid_\u001b[0m \u001b[0;32min\u001b[0m \u001b[0mproduct_ids\u001b[0m\u001b[0;34m:\u001b[0m\u001b[0;34m\u001b[0m\u001b[0m\n\u001b[0;32m---> 19\u001b[0;31m         \u001b[0mtime\u001b[0m\u001b[0;34m.\u001b[0m\u001b[0msleep\u001b[0m\u001b[0;34m(\u001b[0m\u001b[0;36m1\u001b[0m\u001b[0;34m)\u001b[0m\u001b[0;34m\u001b[0m\u001b[0m\n\u001b[0m\u001b[1;32m     20\u001b[0m         \u001b[0mprod\u001b[0m \u001b[0;34m=\u001b[0m \u001b[0mshopify\u001b[0m\u001b[0;34m.\u001b[0m\u001b[0mProduct\u001b[0m\u001b[0;34m.\u001b[0m\u001b[0mget\u001b[0m\u001b[0;34m(\u001b[0m\u001b[0mid_\u001b[0m\u001b[0;34m)\u001b[0m\u001b[0;34m\u001b[0m\u001b[0m\n\u001b[1;32m     21\u001b[0m         \u001b[0mprod_id\u001b[0m\u001b[0;34m.\u001b[0m\u001b[0mappend\u001b[0m\u001b[0;34m(\u001b[0m\u001b[0mid_\u001b[0m\u001b[0;34m)\u001b[0m\u001b[0;34m\u001b[0m\u001b[0m\n",
      "\u001b[0;31mKeyboardInterrupt\u001b[0m: "
     ]
    }
   ],
   "source": [
    "\n",
    "###Shopify API Pagination at 50 per request\n",
    "pages = shopify.Product.count() // 50\n",
    "\n",
    "prod_id = []\n",
    "desc = []\n",
    "title = []\n",
    "date_created = []\n",
    "vendor = []\n",
    "price = []\n",
    "prod_type = []\n",
    "inv_qty = []\n",
    "old_inv_qty = []\n",
    "fulfillment = []\n",
    "\n",
    "for page in range(87, pages + 1):\n",
    "    product_ids = get_product_ids(page)\n",
    "    for id_ in product_ids:\n",
    "        time.sleep(1)\n",
    "        prod = shopify.Product.get(id_)\n",
    "        prod_id.append(id_)\n",
    "        desc.append(prod['body_html'])\n",
    "        vendor.append(prod['vendor'])\n",
    "        price.append(prod['variants'][0]['price'])\n",
    "        inv_qty.append(prod['variants'][0]['inventory_quantity'])\n",
    "        old_inv_qty.append(prod['variants'][0]['old_inventory_quantity'])\n",
    "        fulfillment.append(prod['variants'][0]['fulfillment_service'])\n",
    "        date_created.append(prod['created_at'])\n",
    "        title.append(prod['title'])\n",
    "        prod_type.append(prod['product_type'])"
   ]
  },
  {
   "cell_type": "code",
   "execution_count": 40,
   "metadata": {
    "collapsed": false
   },
   "outputs": [],
   "source": [
    "products = pd.DataFrame({'prod_id': prod_id,\n",
    "             'desc': desc,\n",
    "             'title': title,\n",
    "             'date_created': date_created,\n",
    "             'vendor': vendor,\n",
    "             'price': price,\n",
    "             'prod_type': prod_type,\n",
    "             'inv_qty': inv_qty,\n",
    "             'old_inv_qty': old_inv_qty,\n",
    "             'fulfillment': fulfillment}\n",
    "            )\n",
    "\n",
    "products.head(3)\n",
    "products.to_csv('products.csv', encoding = 'utf-8')"
   ]
  },
  {
   "cell_type": "markdown",
   "metadata": {},
   "source": [
    "### Create Customers Table"
   ]
  },
  {
   "cell_type": "code",
   "execution_count": 5,
   "metadata": {
    "collapsed": false,
    "scrolled": true
   },
   "outputs": [
    {
     "data": {
      "text/plain": [
       "u'2017-03-20T15:37:09-07:00'"
      ]
     },
     "execution_count": 5,
     "metadata": {},
     "output_type": "execute_result"
    }
   ],
   "source": [
    "shopify.Customer.get('5944854220')['created_at']"
   ]
  },
  {
   "cell_type": "code",
   "execution_count": 13,
   "metadata": {
    "collapsed": false
   },
   "outputs": [
    {
     "data": {
      "text/plain": [
       "87"
      ]
     },
     "execution_count": 13,
     "metadata": {},
     "output_type": "execute_result"
    }
   ],
   "source": [
    "page"
   ]
  },
  {
   "cell_type": "code",
   "execution_count": 14,
   "metadata": {
    "collapsed": false
   },
   "outputs": [],
   "source": [
    "pages = shopify.Customer.count() // 50\n",
    "\n",
    "# cust_id = []\n",
    "# accepts_marketing = []\n",
    "# user_since = []\n",
    "# zip_code = []\n",
    "# state = []\n",
    "# total_orders = []\n",
    "# total_spent = []\n",
    "# state = []\n",
    "\n",
    "for page in range(87, pages + 1):\n",
    "    customer_ids = get_customer_ids(page)\n",
    "    for id_ in customer_ids:\n",
    "        cust = cust_id.append(id_)\n",
    "        time.sleep(.5)\n",
    "        cust = shopify.Customer.get(id_)\n",
    "        accepts_marketing.append(cust['accepts_marketing'])\n",
    "        user_since.append(cust['created_at'])\n",
    "        total_orders.append(cust['orders_count'])\n",
    "        total_spent.append(cust['total_spent'])\n",
    "        if 'default_address' in cust.keys():\n",
    "            address = cust['default_address']\n",
    "            zip_code.append(address['zip'])\n",
    "            state.append(address['province_code'])\n",
    "        else:\n",
    "            zip_code.append(np.nan)\n",
    "            state.append(np.nan)"
   ]
  },
  {
   "cell_type": "code",
   "execution_count": 47,
   "metadata": {
    "collapsed": false
   },
   "outputs": [
    {
     "data": {
      "text/plain": [
       "u'2017-03-30T11:30:35-07:00'"
      ]
     },
     "execution_count": 47,
     "metadata": {},
     "output_type": "execute_result"
    }
   ],
   "source": [
    "cust_id[0]\n",
    "user_since[0]"
   ]
  },
  {
   "cell_type": "code",
   "execution_count": 48,
   "metadata": {
    "collapsed": false
   },
   "outputs": [
    {
     "data": {
      "text/plain": [
       "{u'accepts_marketing': False,\n",
       " u'addresses': [{u'address1': u'620 Magnolia Ave. ',\n",
       "   u'address2': u'',\n",
       "   u'city': u'Pasadena ',\n",
       "   u'company': u'Chateau de Pilmer',\n",
       "   u'country': u'United States',\n",
       "   u'country_code': u'US',\n",
       "   u'country_name': u'United States',\n",
       "   u'default': True,\n",
       "   u'first_name': u'Susie ',\n",
       "   u'id': 6259481804,\n",
       "   u'last_name': u'Pilmer',\n",
       "   u'name': u'Susie  Pilmer',\n",
       "   u'phone': u'',\n",
       "   u'province': u'California',\n",
       "   u'province_code': u'CA',\n",
       "   u'zip': u'91106'}],\n",
       " u'created_at': u'2017-03-21T10:48:09-07:00',\n",
       " u'default_address': {u'address1': u'620 Magnolia Ave. ',\n",
       "  u'address2': u'',\n",
       "  u'city': u'Pasadena ',\n",
       "  u'company': u'Chateau de Pilmer',\n",
       "  u'country': u'United States',\n",
       "  u'country_code': u'US',\n",
       "  u'country_name': u'United States',\n",
       "  u'default': True,\n",
       "  u'first_name': u'Susie ',\n",
       "  u'id': 6259481804,\n",
       "  u'last_name': u'Pilmer',\n",
       "  u'name': u'Susie  Pilmer',\n",
       "  u'phone': u'',\n",
       "  u'province': u'California',\n",
       "  u'province_code': u'CA',\n",
       "  u'zip': u'91106'},\n",
       " u'email': u'apilmer101@gmail.com',\n",
       " u'first_name': u'Susie',\n",
       " u'id': 5954703820,\n",
       " u'last_name': u'Pilmer',\n",
       " u'last_order_id': 5389692236,\n",
       " u'last_order_name': u'#11309',\n",
       " u'multipass_identifier': None,\n",
       " u'note': None,\n",
       " u'orders_count': 1,\n",
       " u'phone': None,\n",
       " u'state': u'disabled',\n",
       " u'tags': u'',\n",
       " u'tax_exempt': False,\n",
       " u'total_spent': u'117.93',\n",
       " u'updated_at': u'2017-03-21T10:53:59-07:00',\n",
       " u'verified_email': True}"
      ]
     },
     "execution_count": 48,
     "metadata": {},
     "output_type": "execute_result"
    }
   ],
   "source": [
    "shopify.Customer.get('5954703820')"
   ]
  },
  {
   "cell_type": "code",
   "execution_count": 15,
   "metadata": {
    "collapsed": false
   },
   "outputs": [
    {
     "ename": "ValueError",
     "evalue": "arrays must all be same length",
     "output_type": "error",
     "traceback": [
      "\u001b[0;31m---------------------------------------------------------------------------\u001b[0m",
      "\u001b[0;31mValueError\u001b[0m                                Traceback (most recent call last)",
      "\u001b[0;32m<ipython-input-15-4eccce344864>\u001b[0m in \u001b[0;36m<module>\u001b[0;34m()\u001b[0m\n\u001b[1;32m      5\u001b[0m                          \u001b[0;34m'state'\u001b[0m\u001b[0;34m:\u001b[0m \u001b[0mstate\u001b[0m\u001b[0;34m,\u001b[0m\u001b[0;34m\u001b[0m\u001b[0m\n\u001b[1;32m      6\u001b[0m                          \u001b[0;34m'total_orders'\u001b[0m\u001b[0;34m:\u001b[0m \u001b[0mtotal_orders\u001b[0m\u001b[0;34m,\u001b[0m\u001b[0;34m\u001b[0m\u001b[0m\n\u001b[0;32m----> 7\u001b[0;31m                          'total_spent': total_spent}\n\u001b[0m\u001b[1;32m      8\u001b[0m                         )\n\u001b[1;32m      9\u001b[0m \u001b[0;34m\u001b[0m\u001b[0m\n",
      "\u001b[0;32m/Users/zober/anaconda2/lib/python2.7/site-packages/pandas/core/frame.pyc\u001b[0m in \u001b[0;36m__init__\u001b[0;34m(self, data, index, columns, dtype, copy)\u001b[0m\n\u001b[1;32m    222\u001b[0m                                  dtype=dtype, copy=copy)\n\u001b[1;32m    223\u001b[0m         \u001b[0;32melif\u001b[0m \u001b[0misinstance\u001b[0m\u001b[0;34m(\u001b[0m\u001b[0mdata\u001b[0m\u001b[0;34m,\u001b[0m \u001b[0mdict\u001b[0m\u001b[0;34m)\u001b[0m\u001b[0;34m:\u001b[0m\u001b[0;34m\u001b[0m\u001b[0m\n\u001b[0;32m--> 224\u001b[0;31m             \u001b[0mmgr\u001b[0m \u001b[0;34m=\u001b[0m \u001b[0mself\u001b[0m\u001b[0;34m.\u001b[0m\u001b[0m_init_dict\u001b[0m\u001b[0;34m(\u001b[0m\u001b[0mdata\u001b[0m\u001b[0;34m,\u001b[0m \u001b[0mindex\u001b[0m\u001b[0;34m,\u001b[0m \u001b[0mcolumns\u001b[0m\u001b[0;34m,\u001b[0m \u001b[0mdtype\u001b[0m\u001b[0;34m=\u001b[0m\u001b[0mdtype\u001b[0m\u001b[0;34m)\u001b[0m\u001b[0;34m\u001b[0m\u001b[0m\n\u001b[0m\u001b[1;32m    225\u001b[0m         \u001b[0;32melif\u001b[0m \u001b[0misinstance\u001b[0m\u001b[0;34m(\u001b[0m\u001b[0mdata\u001b[0m\u001b[0;34m,\u001b[0m \u001b[0mma\u001b[0m\u001b[0;34m.\u001b[0m\u001b[0mMaskedArray\u001b[0m\u001b[0;34m)\u001b[0m\u001b[0;34m:\u001b[0m\u001b[0;34m\u001b[0m\u001b[0m\n\u001b[1;32m    226\u001b[0m             \u001b[0;32mimport\u001b[0m \u001b[0mnumpy\u001b[0m\u001b[0;34m.\u001b[0m\u001b[0mma\u001b[0m\u001b[0;34m.\u001b[0m\u001b[0mmrecords\u001b[0m \u001b[0;32mas\u001b[0m \u001b[0mmrecords\u001b[0m\u001b[0;34m\u001b[0m\u001b[0m\n",
      "\u001b[0;32m/Users/zober/anaconda2/lib/python2.7/site-packages/pandas/core/frame.pyc\u001b[0m in \u001b[0;36m_init_dict\u001b[0;34m(self, data, index, columns, dtype)\u001b[0m\n\u001b[1;32m    358\u001b[0m             \u001b[0marrays\u001b[0m \u001b[0;34m=\u001b[0m \u001b[0;34m[\u001b[0m\u001b[0mdata\u001b[0m\u001b[0;34m[\u001b[0m\u001b[0mk\u001b[0m\u001b[0;34m]\u001b[0m \u001b[0;32mfor\u001b[0m \u001b[0mk\u001b[0m \u001b[0;32min\u001b[0m \u001b[0mkeys\u001b[0m\u001b[0;34m]\u001b[0m\u001b[0;34m\u001b[0m\u001b[0m\n\u001b[1;32m    359\u001b[0m \u001b[0;34m\u001b[0m\u001b[0m\n\u001b[0;32m--> 360\u001b[0;31m         \u001b[0;32mreturn\u001b[0m \u001b[0m_arrays_to_mgr\u001b[0m\u001b[0;34m(\u001b[0m\u001b[0marrays\u001b[0m\u001b[0;34m,\u001b[0m \u001b[0mdata_names\u001b[0m\u001b[0;34m,\u001b[0m \u001b[0mindex\u001b[0m\u001b[0;34m,\u001b[0m \u001b[0mcolumns\u001b[0m\u001b[0;34m,\u001b[0m \u001b[0mdtype\u001b[0m\u001b[0;34m=\u001b[0m\u001b[0mdtype\u001b[0m\u001b[0;34m)\u001b[0m\u001b[0;34m\u001b[0m\u001b[0m\n\u001b[0m\u001b[1;32m    361\u001b[0m \u001b[0;34m\u001b[0m\u001b[0m\n\u001b[1;32m    362\u001b[0m     \u001b[0;32mdef\u001b[0m \u001b[0m_init_ndarray\u001b[0m\u001b[0;34m(\u001b[0m\u001b[0mself\u001b[0m\u001b[0;34m,\u001b[0m \u001b[0mvalues\u001b[0m\u001b[0;34m,\u001b[0m \u001b[0mindex\u001b[0m\u001b[0;34m,\u001b[0m \u001b[0mcolumns\u001b[0m\u001b[0;34m,\u001b[0m \u001b[0mdtype\u001b[0m\u001b[0;34m=\u001b[0m\u001b[0mNone\u001b[0m\u001b[0;34m,\u001b[0m \u001b[0mcopy\u001b[0m\u001b[0;34m=\u001b[0m\u001b[0mFalse\u001b[0m\u001b[0;34m)\u001b[0m\u001b[0;34m:\u001b[0m\u001b[0;34m\u001b[0m\u001b[0m\n",
      "\u001b[0;32m/Users/zober/anaconda2/lib/python2.7/site-packages/pandas/core/frame.pyc\u001b[0m in \u001b[0;36m_arrays_to_mgr\u001b[0;34m(arrays, arr_names, index, columns, dtype)\u001b[0m\n\u001b[1;32m   5229\u001b[0m     \u001b[0;31m# figure out the index, if necessary\u001b[0m\u001b[0;34m\u001b[0m\u001b[0;34m\u001b[0m\u001b[0m\n\u001b[1;32m   5230\u001b[0m     \u001b[0;32mif\u001b[0m \u001b[0mindex\u001b[0m \u001b[0;32mis\u001b[0m \u001b[0mNone\u001b[0m\u001b[0;34m:\u001b[0m\u001b[0;34m\u001b[0m\u001b[0m\n\u001b[0;32m-> 5231\u001b[0;31m         \u001b[0mindex\u001b[0m \u001b[0;34m=\u001b[0m \u001b[0mextract_index\u001b[0m\u001b[0;34m(\u001b[0m\u001b[0marrays\u001b[0m\u001b[0;34m)\u001b[0m\u001b[0;34m\u001b[0m\u001b[0m\n\u001b[0m\u001b[1;32m   5232\u001b[0m     \u001b[0;32melse\u001b[0m\u001b[0;34m:\u001b[0m\u001b[0;34m\u001b[0m\u001b[0m\n\u001b[1;32m   5233\u001b[0m         \u001b[0mindex\u001b[0m \u001b[0;34m=\u001b[0m \u001b[0m_ensure_index\u001b[0m\u001b[0;34m(\u001b[0m\u001b[0mindex\u001b[0m\u001b[0;34m)\u001b[0m\u001b[0;34m\u001b[0m\u001b[0m\n",
      "\u001b[0;32m/Users/zober/anaconda2/lib/python2.7/site-packages/pandas/core/frame.pyc\u001b[0m in \u001b[0;36mextract_index\u001b[0;34m(data)\u001b[0m\n\u001b[1;32m   5277\u001b[0m             \u001b[0mlengths\u001b[0m \u001b[0;34m=\u001b[0m \u001b[0mlist\u001b[0m\u001b[0;34m(\u001b[0m\u001b[0mset\u001b[0m\u001b[0;34m(\u001b[0m\u001b[0mraw_lengths\u001b[0m\u001b[0;34m)\u001b[0m\u001b[0;34m)\u001b[0m\u001b[0;34m\u001b[0m\u001b[0m\n\u001b[1;32m   5278\u001b[0m             \u001b[0;32mif\u001b[0m \u001b[0mlen\u001b[0m\u001b[0;34m(\u001b[0m\u001b[0mlengths\u001b[0m\u001b[0;34m)\u001b[0m \u001b[0;34m>\u001b[0m \u001b[0;36m1\u001b[0m\u001b[0;34m:\u001b[0m\u001b[0;34m\u001b[0m\u001b[0m\n\u001b[0;32m-> 5279\u001b[0;31m                 \u001b[0;32mraise\u001b[0m \u001b[0mValueError\u001b[0m\u001b[0;34m(\u001b[0m\u001b[0;34m'arrays must all be same length'\u001b[0m\u001b[0;34m)\u001b[0m\u001b[0;34m\u001b[0m\u001b[0m\n\u001b[0m\u001b[1;32m   5280\u001b[0m \u001b[0;34m\u001b[0m\u001b[0m\n\u001b[1;32m   5281\u001b[0m             \u001b[0;32mif\u001b[0m \u001b[0mhave_dicts\u001b[0m\u001b[0;34m:\u001b[0m\u001b[0;34m\u001b[0m\u001b[0m\n",
      "\u001b[0;31mValueError\u001b[0m: arrays must all be same length"
     ]
    }
   ],
   "source": [
    "customers = pd.DataFrame({'cust_id': cust_id,\n",
    "                        'accepts_marketing': accepts_marketing,\n",
    "                        'user_since': user_since,\n",
    "                         'zip': zip_code,\n",
    "                         'state': state,\n",
    "                         'total_orders': total_orders,\n",
    "                         'total_spent': total_spent}\n",
    "                        )\n",
    "\n",
    "customers.head(3)"
   ]
  },
  {
   "cell_type": "code",
   "execution_count": 74,
   "metadata": {
    "collapsed": false
   },
   "outputs": [
    {
     "data": {
      "text/plain": [
       "9650"
      ]
     },
     "execution_count": 74,
     "metadata": {},
     "output_type": "execute_result"
    }
   ],
   "source": [
    "#customers.to_csv('customers.csv', encoding = 'utf-8')"
   ]
  },
  {
   "cell_type": "code",
   "execution_count": 16,
   "metadata": {
    "collapsed": false
   },
   "outputs": [
    {
     "ename": "NameError",
     "evalue": "name 'customers' is not defined",
     "output_type": "error",
     "traceback": [
      "\u001b[0;31m---------------------------------------------------------------------------\u001b[0m",
      "\u001b[0;31mNameError\u001b[0m                                 Traceback (most recent call last)",
      "\u001b[0;32m<ipython-input-16-74162884a12e>\u001b[0m in \u001b[0;36m<module>\u001b[0;34m()\u001b[0m\n\u001b[0;32m----> 1\u001b[0;31m \u001b[0mcustomers\u001b[0m\u001b[0;34m.\u001b[0m\u001b[0minfo\u001b[0m\u001b[0;34m(\u001b[0m\u001b[0;34m)\u001b[0m\u001b[0;34m\u001b[0m\u001b[0m\n\u001b[0m",
      "\u001b[0;31mNameError\u001b[0m: name 'customers' is not defined"
     ]
    }
   ],
   "source": [
    "customers.info()"
   ]
  },
  {
   "cell_type": "markdown",
   "metadata": {},
   "source": [
    "### Create Orders"
   ]
  },
  {
   "cell_type": "code",
   "execution_count": 49,
   "metadata": {
    "collapsed": false
   },
   "outputs": [],
   "source": [
    "#shopify.Checkout('13907384204')"
   ]
  },
  {
   "cell_type": "code",
   "execution_count": 99,
   "metadata": {
    "collapsed": true
   },
   "outputs": [],
   "source": [
    "pages = shopify.Order.count() // 50\n",
    "\n",
    "accepts_marketing = []\n"
   ]
  },
  {
   "cell_type": "code",
   "execution_count": 125,
   "metadata": {
    "collapsed": false
   },
   "outputs": [],
   "source": [
    "for page in range(1, pages + 1):\n",
    "    order_ids = get_order_ids(page)\n",
    "    for id_ in order_ids:\n",
    "        time.sleep(.5)\n",
    "        order = shopify.Order.get(id_)\n",
    "        order_df = json_normalize(order)\n",
    "        orders = pd.concat([orders, order_df])"
   ]
  },
  {
   "cell_type": "code",
   "execution_count": 126,
   "metadata": {
    "collapsed": false
   },
   "outputs": [
    {
     "data": {
      "text/html": [
       "<div>\n",
       "<table border=\"1\" class=\"dataframe\">\n",
       "  <thead>\n",
       "    <tr style=\"text-align: right;\">\n",
       "      <th></th>\n",
       "      <th>billing_address.address1</th>\n",
       "      <th>billing_address.address2</th>\n",
       "      <th>billing_address.city</th>\n",
       "      <th>billing_address.company</th>\n",
       "      <th>billing_address.country</th>\n",
       "      <th>billing_address.country_code</th>\n",
       "      <th>billing_address.first_name</th>\n",
       "      <th>billing_address.last_name</th>\n",
       "      <th>billing_address.latitude</th>\n",
       "      <th>billing_address.longitude</th>\n",
       "      <th>...</th>\n",
       "      <th>test</th>\n",
       "      <th>token</th>\n",
       "      <th>total_discounts</th>\n",
       "      <th>total_line_items_price</th>\n",
       "      <th>total_price</th>\n",
       "      <th>total_price_usd</th>\n",
       "      <th>total_tax</th>\n",
       "      <th>total_weight</th>\n",
       "      <th>updated_at</th>\n",
       "      <th>user_id</th>\n",
       "    </tr>\n",
       "  </thead>\n",
       "  <tbody>\n",
       "    <tr>\n",
       "      <th>0</th>\n",
       "      <td>620 Magnolia Ave.</td>\n",
       "      <td></td>\n",
       "      <td>Pasadena</td>\n",
       "      <td>Chateau de Pilmer</td>\n",
       "      <td>United States</td>\n",
       "      <td>US</td>\n",
       "      <td>Susie</td>\n",
       "      <td>Pilmer</td>\n",
       "      <td>34.1352</td>\n",
       "      <td>-118.144</td>\n",
       "      <td>...</td>\n",
       "      <td>False</td>\n",
       "      <td>af8a143ff88c77a90a58b447d4f62429</td>\n",
       "      <td>0.00</td>\n",
       "      <td>89.50</td>\n",
       "      <td>117.93</td>\n",
       "      <td>117.93</td>\n",
       "      <td>7.83</td>\n",
       "      <td>2268</td>\n",
       "      <td>2017-03-21T11:20:07-07:00</td>\n",
       "      <td>None</td>\n",
       "    </tr>\n",
       "    <tr>\n",
       "      <th>0</th>\n",
       "      <td>2580 Armacost Ave</td>\n",
       "      <td></td>\n",
       "      <td>Los Angeles</td>\n",
       "      <td></td>\n",
       "      <td>United States</td>\n",
       "      <td>US</td>\n",
       "      <td>Gina</td>\n",
       "      <td>Binder</td>\n",
       "      <td>34.0257</td>\n",
       "      <td>-118.446</td>\n",
       "      <td>...</td>\n",
       "      <td>False</td>\n",
       "      <td>00bd07f118aa4dc8b26544e1e88fe6de</td>\n",
       "      <td>0.00</td>\n",
       "      <td>70.00</td>\n",
       "      <td>96.73</td>\n",
       "      <td>96.73</td>\n",
       "      <td>6.13</td>\n",
       "      <td>2268</td>\n",
       "      <td>2017-03-21T11:17:44-07:00</td>\n",
       "      <td>None</td>\n",
       "    </tr>\n",
       "    <tr>\n",
       "      <th>0</th>\n",
       "      <td>15905 28th Drive SE</td>\n",
       "      <td></td>\n",
       "      <td>Mill Creek</td>\n",
       "      <td></td>\n",
       "      <td>United States</td>\n",
       "      <td>US</td>\n",
       "      <td>Ashley</td>\n",
       "      <td>Walton</td>\n",
       "      <td>47.8538</td>\n",
       "      <td>-122.194</td>\n",
       "      <td>...</td>\n",
       "      <td>False</td>\n",
       "      <td>1400bc73f57db029b0d4f95e789de7f7</td>\n",
       "      <td>0.00</td>\n",
       "      <td>65.00</td>\n",
       "      <td>76.00</td>\n",
       "      <td>76.00</td>\n",
       "      <td>0.00</td>\n",
       "      <td>2268</td>\n",
       "      <td>2017-03-21T10:22:49-07:00</td>\n",
       "      <td>None</td>\n",
       "    </tr>\n",
       "    <tr>\n",
       "      <th>0</th>\n",
       "      <td>702 harrison st, suite a</td>\n",
       "      <td></td>\n",
       "      <td>berkeley</td>\n",
       "      <td></td>\n",
       "      <td>United States</td>\n",
       "      <td>US</td>\n",
       "      <td>rhiannon</td>\n",
       "      <td>smith</td>\n",
       "      <td>37.8803</td>\n",
       "      <td>-122.305</td>\n",
       "      <td>...</td>\n",
       "      <td>False</td>\n",
       "      <td>2c76bb7f669eed92af8c37e9831236a4</td>\n",
       "      <td>0.00</td>\n",
       "      <td>56.00</td>\n",
       "      <td>71.06</td>\n",
       "      <td>71.06</td>\n",
       "      <td>4.06</td>\n",
       "      <td>2268</td>\n",
       "      <td>2017-03-21T10:10:26-07:00</td>\n",
       "      <td>None</td>\n",
       "    </tr>\n",
       "    <tr>\n",
       "      <th>0</th>\n",
       "      <td>4 Smoky Lane</td>\n",
       "      <td></td>\n",
       "      <td>Westport</td>\n",
       "      <td></td>\n",
       "      <td>United States</td>\n",
       "      <td>US</td>\n",
       "      <td>Samantha</td>\n",
       "      <td>Smolka</td>\n",
       "      <td>41.1298</td>\n",
       "      <td>-73.3439</td>\n",
       "      <td>...</td>\n",
       "      <td>False</td>\n",
       "      <td>cbb50d0d631a8225f366e62296483613</td>\n",
       "      <td>0.00</td>\n",
       "      <td>65.50</td>\n",
       "      <td>76.50</td>\n",
       "      <td>76.50</td>\n",
       "      <td>0.00</td>\n",
       "      <td>2268</td>\n",
       "      <td>2017-03-21T09:18:44-07:00</td>\n",
       "      <td>None</td>\n",
       "    </tr>\n",
       "  </tbody>\n",
       "</table>\n",
       "<p>5 rows × 129 columns</p>\n",
       "</div>"
      ],
      "text/plain": [
       "   billing_address.address1 billing_address.address2 billing_address.city  \\\n",
       "0        620 Magnolia Ave.                                      Pasadena    \n",
       "0         2580 Armacost Ave                                   Los Angeles   \n",
       "0       15905 28th Drive SE                                    Mill Creek   \n",
       "0  702 harrison st, suite a                                      berkeley   \n",
       "0              4 Smoky Lane                                      Westport   \n",
       "\n",
       "  billing_address.company billing_address.country  \\\n",
       "0       Chateau de Pilmer           United States   \n",
       "0                                   United States   \n",
       "0                                   United States   \n",
       "0                                   United States   \n",
       "0                                   United States   \n",
       "\n",
       "  billing_address.country_code billing_address.first_name  \\\n",
       "0                           US                     Susie    \n",
       "0                           US                       Gina   \n",
       "0                           US                     Ashley   \n",
       "0                           US                   rhiannon   \n",
       "0                           US                   Samantha   \n",
       "\n",
       "  billing_address.last_name billing_address.latitude  \\\n",
       "0                    Pilmer                  34.1352   \n",
       "0                    Binder                  34.0257   \n",
       "0                    Walton                  47.8538   \n",
       "0                     smith                  37.8803   \n",
       "0                    Smolka                  41.1298   \n",
       "\n",
       "  billing_address.longitude   ...     test                             token  \\\n",
       "0                  -118.144   ...    False  af8a143ff88c77a90a58b447d4f62429   \n",
       "0                  -118.446   ...    False  00bd07f118aa4dc8b26544e1e88fe6de   \n",
       "0                  -122.194   ...    False  1400bc73f57db029b0d4f95e789de7f7   \n",
       "0                  -122.305   ...    False  2c76bb7f669eed92af8c37e9831236a4   \n",
       "0                  -73.3439   ...    False  cbb50d0d631a8225f366e62296483613   \n",
       "\n",
       "  total_discounts total_line_items_price total_price total_price_usd  \\\n",
       "0            0.00                  89.50      117.93          117.93   \n",
       "0            0.00                  70.00       96.73           96.73   \n",
       "0            0.00                  65.00       76.00           76.00   \n",
       "0            0.00                  56.00       71.06           71.06   \n",
       "0            0.00                  65.50       76.50           76.50   \n",
       "\n",
       "  total_tax total_weight                 updated_at user_id  \n",
       "0      7.83         2268  2017-03-21T11:20:07-07:00    None  \n",
       "0      6.13         2268  2017-03-21T11:17:44-07:00    None  \n",
       "0      0.00         2268  2017-03-21T10:22:49-07:00    None  \n",
       "0      4.06         2268  2017-03-21T10:10:26-07:00    None  \n",
       "0      0.00         2268  2017-03-21T09:18:44-07:00    None  \n",
       "\n",
       "[5 rows x 129 columns]"
      ]
     },
     "execution_count": 126,
     "metadata": {},
     "output_type": "execute_result"
    }
   ],
   "source": [
    "orders.head()"
   ]
  },
  {
   "cell_type": "code",
   "execution_count": 128,
   "metadata": {
    "collapsed": false
   },
   "outputs": [],
   "source": [
    "#orders.to_csv('orders.csv', encoding= 'utf-8')"
   ]
  },
  {
   "cell_type": "code",
   "execution_count": 129,
   "metadata": {
    "collapsed": false,
    "scrolled": false
   },
   "outputs": [
    {
     "name": "stdout",
     "output_type": "stream",
     "text": [
      "billing_address.address1\n",
      "billing_address.address2\n",
      "billing_address.city\n",
      "billing_address.company\n",
      "billing_address.country\n",
      "billing_address.country_code\n",
      "billing_address.first_name\n",
      "billing_address.last_name\n",
      "billing_address.latitude\n",
      "billing_address.longitude\n",
      "billing_address.name\n",
      "billing_address.phone\n",
      "billing_address.province\n",
      "billing_address.province_code\n",
      "billing_address.zip\n",
      "browser_ip\n",
      "buyer_accepts_marketing\n",
      "cancel_reason\n",
      "cancelled_at\n",
      "cart_token\n",
      "checkout_id\n",
      "checkout_token\n",
      "client_details.accept_language\n",
      "client_details.browser_height\n",
      "client_details.browser_ip\n",
      "client_details.browser_width\n",
      "client_details.session_hash\n",
      "client_details.user_agent\n",
      "closed_at\n",
      "confirmed\n",
      "contact_email\n",
      "created_at\n",
      "currency\n",
      "customer.accepts_marketing\n",
      "customer.created_at\n",
      "customer.default_address.address1\n",
      "customer.default_address.address2\n",
      "customer.default_address.city\n",
      "customer.default_address.company\n",
      "customer.default_address.country\n",
      "customer.default_address.country_code\n",
      "customer.default_address.country_name\n",
      "customer.default_address.default\n",
      "customer.default_address.first_name\n",
      "customer.default_address.id\n",
      "customer.default_address.last_name\n",
      "customer.default_address.name\n",
      "customer.default_address.phone\n",
      "customer.default_address.province\n",
      "customer.default_address.province_code\n",
      "customer.default_address.zip\n",
      "customer.email\n",
      "customer.first_name\n",
      "customer.id\n",
      "customer.last_name\n",
      "customer.last_order_id\n",
      "customer.last_order_name\n",
      "customer.multipass_identifier\n",
      "customer.note\n",
      "customer.orders_count\n",
      "customer.phone\n",
      "customer.state\n",
      "customer.tags\n",
      "customer.tax_exempt\n",
      "customer.total_spent\n",
      "customer.updated_at\n",
      "customer.verified_email\n",
      "device_id\n",
      "discount_codes\n",
      "email\n",
      "financial_status\n",
      "fulfillment_status\n",
      "fulfillments\n",
      "gateway\n",
      "id\n",
      "landing_site\n",
      "landing_site_ref\n",
      "line_items\n",
      "location_id\n",
      "name\n",
      "note\n",
      "note_attributes\n",
      "number\n",
      "order_number\n",
      "order_status_url\n",
      "payment_details.avs_result_code\n",
      "payment_details.credit_card_bin\n",
      "payment_details.credit_card_company\n",
      "payment_details.credit_card_number\n",
      "payment_details.cvv_result_code\n",
      "payment_gateway_names\n",
      "processed_at\n",
      "processing_method\n",
      "reference\n",
      "referring_site\n",
      "refunds\n",
      "shipping_address.address1\n",
      "shipping_address.address2\n",
      "shipping_address.city\n",
      "shipping_address.company\n",
      "shipping_address.country\n",
      "shipping_address.country_code\n",
      "shipping_address.first_name\n",
      "shipping_address.last_name\n",
      "shipping_address.latitude\n",
      "shipping_address.longitude\n",
      "shipping_address.name\n",
      "shipping_address.phone\n",
      "shipping_address.province\n",
      "shipping_address.province_code\n",
      "shipping_address.zip\n",
      "shipping_lines\n",
      "source_identifier\n",
      "source_name\n",
      "source_url\n",
      "subtotal_price\n",
      "tags\n",
      "tax_lines\n",
      "taxes_included\n",
      "test\n",
      "token\n",
      "total_discounts\n",
      "total_line_items_price\n",
      "total_price\n",
      "total_price_usd\n",
      "total_tax\n",
      "total_weight\n",
      "updated_at\n",
      "user_id\n"
     ]
    }
   ],
   "source": [
    "for c in orders.columns:\n",
    "    print(c)"
   ]
  },
  {
   "cell_type": "code",
   "execution_count": 173,
   "metadata": {
    "collapsed": false
   },
   "outputs": [
    {
     "data": {
      "image/png": "[encoded data removed]",
      "text/plain": [
       "<matplotlib.figure.Figure at 0x12e7fa510>"
      ]
     },
     "metadata": {},
     "output_type": "display_data"
    }
   ],
   "source": [
    "\n",
    "plt.hist(orders.fillna(0)['customer.orders_count'].astype('int'), bins=29);erika618\n",
    "\n",
    "#orders['customer.orders_count'].value_counts()"
   ]
  },
  {
   "cell_type": "code",
   "execution_count": 200,
   "metadata": {
    "collapsed": false
   },
   "outputs": [
    {
     "data": {
      "text/plain": [
       "[u'requires_shipping',\n",
       " u'variant_id',\n",
       " u'id',\n",
       " u'product_exists',\n",
       " u'sku',\n",
       " u'title',\n",
       " u'origin_location',\n",
       " u'fulfillment_service',\n",
       " u'total_discount',\n",
       " u'variant_title',\n",
       " u'vendor',\n",
       " u'tax_lines',\n",
       " u'price',\n",
       " u'taxable',\n",
       " u'properties',\n",
       " u'name',\n",
       " u'fulfillable_quantity',\n",
       " u'grams',\n",
       " u'gift_card',\n",
       " u'fulfillment_status',\n",
       " u'product_id',\n",
       " u'variant_inventory_management',\n",
       " u'destination_location',\n",
       " u'quantity']"
      ]
     },
     "execution_count": 200,
     "metadata": {},
     "output_type": "execute_result"
    }
   ],
   "source": [
    "shopify.Order.get('5399964044')['line_items'][0].keys()"
   ]
  },
  {
   "cell_type": "code",
   "execution_count": 13,
   "metadata": {
    "collapsed": false
   },
   "outputs": [
    {
     "data": {
      "text/plain": [
       "{u'body_html': u\"<p>A hand wrapped, custom built gift box that includes a personalized card and the following contents:</p><p>\\xa0\\xa0<strong>1</strong> \\xd7 AEnon's // Black Lava Bath Salt</p><p>\\xa0\\xa0<strong>1</strong> \\xd7 Black Pashmina</p><p>\\xa0\\xa0<strong>1</strong> \\xd7 Le Pens // Hot Pink</p><p>\\xa0\\xa0<strong>1</strong> \\xd7 Voluspa // Prosecco Rose 2 Wick Tin</p>\",\n",
       " u'created_at': u'2017-03-01T07:32:42-08:00',\n",
       " u'handle': u'custom-boxfox-17841',\n",
       " u'id': 9809658508,\n",
       " u'image': {u'created_at': u'2017-03-01T07:32:44-08:00',\n",
       "  u'id': 22716529228,\n",
       "  u'position': 1,\n",
       "  u'product_id': 9809658508,\n",
       "  u'src': u'https://cdn.shopify.com/s/files/1/0558/2845/products/IMG_0460_Cropped_89931371-81a5-4cad-95ab-e3c7fea235e5.jpg?v=1488382364',\n",
       "  u'updated_at': u'2017-03-01T07:32:44-08:00',\n",
       "  u'variant_ids': []},\n",
       " u'images': [{u'created_at': u'2017-03-01T07:32:44-08:00',\n",
       "   u'id': 22716529228,\n",
       "   u'position': 1,\n",
       "   u'product_id': 9809658508,\n",
       "   u'src': u'https://cdn.shopify.com/s/files/1/0558/2845/products/IMG_0460_Cropped_89931371-81a5-4cad-95ab-e3c7fea235e5.jpg?v=1488382364',\n",
       "   u'updated_at': u'2017-03-01T07:32:44-08:00',\n",
       "   u'variant_ids': []}],\n",
       " u'options': [{u'id': 11874980492,\n",
       "   u'name': u'Card',\n",
       "   u'position': 1,\n",
       "   u'product_id': 9809658508,\n",
       "   u'values': [u\"You're a Fox\",\n",
       "    u'Merci',\n",
       "    u'Like You Love You',\n",
       "    u'Over the Moon',\n",
       "    u'LOVE YOU, MEAN IT',\n",
       "    u'DUDE',\n",
       "    u'Celebrate',\n",
       "    u'Hustle',\n",
       "    u'Let the Adventure Begin',\n",
       "    u'Blank',\n",
       "    u'Thinking Of You']}],\n",
       " u'product_type': u'Custom Box',\n",
       " u'published_at': u'2017-03-01T07:32:41-08:00',\n",
       " u'published_scope': u'global',\n",
       " u'tags': u'custom-box',\n",
       " u'template_suffix': None,\n",
       " u'title': u'Custom BOXFOX',\n",
       " u'updated_at': u'2017-03-01T07:32:45-08:00',\n",
       " u'variants': [{u'barcode': None,\n",
       "   u'compare_at_price': None,\n",
       "   u'created_at': u'2017-03-01T07:32:44-08:00',\n",
       "   u'fulfillment_service': u'manual',\n",
       "   u'grams': 454,\n",
       "   u'id': 35070376780,\n",
       "   u'image_id': None,\n",
       "   u'inventory_management': None,\n",
       "   u'inventory_policy': u'deny',\n",
       "   u'inventory_quantity': 1,\n",
       "   u'old_inventory_quantity': 1,\n",
       "   u'option1': u\"You're a Fox\",\n",
       "   u'option2': None,\n",
       "   u'option3': None,\n",
       "   u'position': 1,\n",
       "   u'price': u'65.00',\n",
       "   u'product_id': 9809658508,\n",
       "   u'requires_shipping': True,\n",
       "   u'sku': u'',\n",
       "   u'taxable': True,\n",
       "   u'title': u\"You're a Fox\",\n",
       "   u'updated_at': u'2017-03-01T07:32:44-08:00',\n",
       "   u'weight': 1.0,\n",
       "   u'weight_unit': u'lb'},\n",
       "  {u'barcode': None,\n",
       "   u'compare_at_price': None,\n",
       "   u'created_at': u'2017-03-01T07:32:44-08:00',\n",
       "   u'fulfillment_service': u'manual',\n",
       "   u'grams': 454,\n",
       "   u'id': 35070376908,\n",
       "   u'image_id': None,\n",
       "   u'inventory_management': None,\n",
       "   u'inventory_policy': u'deny',\n",
       "   u'inventory_quantity': 0,\n",
       "   u'old_inventory_quantity': 0,\n",
       "   u'option1': u'Merci',\n",
       "   u'option2': None,\n",
       "   u'option3': None,\n",
       "   u'position': 2,\n",
       "   u'price': u'65.00',\n",
       "   u'product_id': 9809658508,\n",
       "   u'requires_shipping': True,\n",
       "   u'sku': u'',\n",
       "   u'taxable': True,\n",
       "   u'title': u'Merci',\n",
       "   u'updated_at': u'2017-03-01T07:40:05-08:00',\n",
       "   u'weight': 1.0,\n",
       "   u'weight_unit': u'lb'},\n",
       "  {u'barcode': None,\n",
       "   u'compare_at_price': None,\n",
       "   u'created_at': u'2017-03-01T07:32:44-08:00',\n",
       "   u'fulfillment_service': u'manual',\n",
       "   u'grams': 454,\n",
       "   u'id': 35070377100,\n",
       "   u'image_id': None,\n",
       "   u'inventory_management': None,\n",
       "   u'inventory_policy': u'deny',\n",
       "   u'inventory_quantity': 1,\n",
       "   u'old_inventory_quantity': 1,\n",
       "   u'option1': u'Like You Love You',\n",
       "   u'option2': None,\n",
       "   u'option3': None,\n",
       "   u'position': 3,\n",
       "   u'price': u'65.00',\n",
       "   u'product_id': 9809658508,\n",
       "   u'requires_shipping': True,\n",
       "   u'sku': u'',\n",
       "   u'taxable': True,\n",
       "   u'title': u'Like You Love You',\n",
       "   u'updated_at': u'2017-03-01T07:32:44-08:00',\n",
       "   u'weight': 1.0,\n",
       "   u'weight_unit': u'lb'},\n",
       "  {u'barcode': None,\n",
       "   u'compare_at_price': None,\n",
       "   u'created_at': u'2017-03-01T07:32:44-08:00',\n",
       "   u'fulfillment_service': u'manual',\n",
       "   u'grams': 454,\n",
       "   u'id': 35070377228,\n",
       "   u'image_id': None,\n",
       "   u'inventory_management': None,\n",
       "   u'inventory_policy': u'deny',\n",
       "   u'inventory_quantity': 1,\n",
       "   u'old_inventory_quantity': 1,\n",
       "   u'option1': u'Over the Moon',\n",
       "   u'option2': None,\n",
       "   u'option3': None,\n",
       "   u'position': 4,\n",
       "   u'price': u'65.00',\n",
       "   u'product_id': 9809658508,\n",
       "   u'requires_shipping': True,\n",
       "   u'sku': u'',\n",
       "   u'taxable': True,\n",
       "   u'title': u'Over the Moon',\n",
       "   u'updated_at': u'2017-03-01T07:32:44-08:00',\n",
       "   u'weight': 1.0,\n",
       "   u'weight_unit': u'lb'},\n",
       "  {u'barcode': None,\n",
       "   u'compare_at_price': None,\n",
       "   u'created_at': u'2017-03-01T07:32:44-08:00',\n",
       "   u'fulfillment_service': u'manual',\n",
       "   u'grams': 454,\n",
       "   u'id': 35070377420,\n",
       "   u'image_id': None,\n",
       "   u'inventory_management': None,\n",
       "   u'inventory_policy': u'deny',\n",
       "   u'inventory_quantity': 1,\n",
       "   u'old_inventory_quantity': 1,\n",
       "   u'option1': u'LOVE YOU, MEAN IT',\n",
       "   u'option2': None,\n",
       "   u'option3': None,\n",
       "   u'position': 5,\n",
       "   u'price': u'65.00',\n",
       "   u'product_id': 9809658508,\n",
       "   u'requires_shipping': True,\n",
       "   u'sku': u'',\n",
       "   u'taxable': True,\n",
       "   u'title': u'LOVE YOU, MEAN IT',\n",
       "   u'updated_at': u'2017-03-01T07:32:44-08:00',\n",
       "   u'weight': 1.0,\n",
       "   u'weight_unit': u'lb'},\n",
       "  {u'barcode': None,\n",
       "   u'compare_at_price': None,\n",
       "   u'created_at': u'2017-03-01T07:32:44-08:00',\n",
       "   u'fulfillment_service': u'manual',\n",
       "   u'grams': 454,\n",
       "   u'id': 35070377548,\n",
       "   u'image_id': None,\n",
       "   u'inventory_management': None,\n",
       "   u'inventory_policy': u'deny',\n",
       "   u'inventory_quantity': 1,\n",
       "   u'old_inventory_quantity': 1,\n",
       "   u'option1': u'DUDE',\n",
       "   u'option2': None,\n",
       "   u'option3': None,\n",
       "   u'position': 6,\n",
       "   u'price': u'65.00',\n",
       "   u'product_id': 9809658508,\n",
       "   u'requires_shipping': True,\n",
       "   u'sku': u'',\n",
       "   u'taxable': True,\n",
       "   u'title': u'DUDE',\n",
       "   u'updated_at': u'2017-03-01T07:32:44-08:00',\n",
       "   u'weight': 1.0,\n",
       "   u'weight_unit': u'lb'},\n",
       "  {u'barcode': None,\n",
       "   u'compare_at_price': None,\n",
       "   u'created_at': u'2017-03-01T07:32:44-08:00',\n",
       "   u'fulfillment_service': u'manual',\n",
       "   u'grams': 454,\n",
       "   u'id': 35070377740,\n",
       "   u'image_id': None,\n",
       "   u'inventory_management': None,\n",
       "   u'inventory_policy': u'deny',\n",
       "   u'inventory_quantity': 1,\n",
       "   u'old_inventory_quantity': 1,\n",
       "   u'option1': u'Celebrate',\n",
       "   u'option2': None,\n",
       "   u'option3': None,\n",
       "   u'position': 7,\n",
       "   u'price': u'65.00',\n",
       "   u'product_id': 9809658508,\n",
       "   u'requires_shipping': True,\n",
       "   u'sku': u'',\n",
       "   u'taxable': True,\n",
       "   u'title': u'Celebrate',\n",
       "   u'updated_at': u'2017-03-01T07:32:44-08:00',\n",
       "   u'weight': 1.0,\n",
       "   u'weight_unit': u'lb'},\n",
       "  {u'barcode': None,\n",
       "   u'compare_at_price': None,\n",
       "   u'created_at': u'2017-03-01T07:32:44-08:00',\n",
       "   u'fulfillment_service': u'manual',\n",
       "   u'grams': 454,\n",
       "   u'id': 35070377868,\n",
       "   u'image_id': None,\n",
       "   u'inventory_management': None,\n",
       "   u'inventory_policy': u'deny',\n",
       "   u'inventory_quantity': 1,\n",
       "   u'old_inventory_quantity': 1,\n",
       "   u'option1': u'Hustle',\n",
       "   u'option2': None,\n",
       "   u'option3': None,\n",
       "   u'position': 8,\n",
       "   u'price': u'65.00',\n",
       "   u'product_id': 9809658508,\n",
       "   u'requires_shipping': True,\n",
       "   u'sku': u'',\n",
       "   u'taxable': True,\n",
       "   u'title': u'Hustle',\n",
       "   u'updated_at': u'2017-03-01T07:32:44-08:00',\n",
       "   u'weight': 1.0,\n",
       "   u'weight_unit': u'lb'},\n",
       "  {u'barcode': None,\n",
       "   u'compare_at_price': None,\n",
       "   u'created_at': u'2017-03-01T07:32:44-08:00',\n",
       "   u'fulfillment_service': u'manual',\n",
       "   u'grams': 454,\n",
       "   u'id': 35070377996,\n",
       "   u'image_id': None,\n",
       "   u'inventory_management': None,\n",
       "   u'inventory_policy': u'deny',\n",
       "   u'inventory_quantity': 1,\n",
       "   u'old_inventory_quantity': 1,\n",
       "   u'option1': u'Let the Adventure Begin',\n",
       "   u'option2': None,\n",
       "   u'option3': None,\n",
       "   u'position': 9,\n",
       "   u'price': u'65.00',\n",
       "   u'product_id': 9809658508,\n",
       "   u'requires_shipping': True,\n",
       "   u'sku': u'',\n",
       "   u'taxable': True,\n",
       "   u'title': u'Let the Adventure Begin',\n",
       "   u'updated_at': u'2017-03-01T07:32:44-08:00',\n",
       "   u'weight': 1.0,\n",
       "   u'weight_unit': u'lb'},\n",
       "  {u'barcode': None,\n",
       "   u'compare_at_price': None,\n",
       "   u'created_at': u'2017-03-01T07:32:44-08:00',\n",
       "   u'fulfillment_service': u'manual',\n",
       "   u'grams': 454,\n",
       "   u'id': 35070378124,\n",
       "   u'image_id': None,\n",
       "   u'inventory_management': None,\n",
       "   u'inventory_policy': u'deny',\n",
       "   u'inventory_quantity': 1,\n",
       "   u'old_inventory_quantity': 1,\n",
       "   u'option1': u'Blank',\n",
       "   u'option2': None,\n",
       "   u'option3': None,\n",
       "   u'position': 10,\n",
       "   u'price': u'65.00',\n",
       "   u'product_id': 9809658508,\n",
       "   u'requires_shipping': True,\n",
       "   u'sku': u'',\n",
       "   u'taxable': True,\n",
       "   u'title': u'Blank',\n",
       "   u'updated_at': u'2017-03-01T07:32:44-08:00',\n",
       "   u'weight': 1.0,\n",
       "   u'weight_unit': u'lb'},\n",
       "  {u'barcode': None,\n",
       "   u'compare_at_price': None,\n",
       "   u'created_at': u'2017-03-01T07:32:44-08:00',\n",
       "   u'fulfillment_service': u'manual',\n",
       "   u'grams': 454,\n",
       "   u'id': 35070378252,\n",
       "   u'image_id': None,\n",
       "   u'inventory_management': None,\n",
       "   u'inventory_policy': u'deny',\n",
       "   u'inventory_quantity': 1,\n",
       "   u'old_inventory_quantity': 1,\n",
       "   u'option1': u'Thinking Of You',\n",
       "   u'option2': None,\n",
       "   u'option3': None,\n",
       "   u'position': 11,\n",
       "   u'price': u'65.00',\n",
       "   u'product_id': 9809658508,\n",
       "   u'requires_shipping': True,\n",
       "   u'sku': u'',\n",
       "   u'taxable': True,\n",
       "   u'title': u'Thinking Of You',\n",
       "   u'updated_at': u'2017-03-01T07:32:44-08:00',\n",
       "   u'weight': 1.0,\n",
       "   u'weight_unit': u'lb'}],\n",
       " u'vendor': u'BOXFOX'}"
      ]
     },
     "execution_count": 13,
     "metadata": {},
     "output_type": "execute_result"
    }
   ],
   "source": [
    "item = shopify.Product.get('9809658508')\n",
    "item"
   ]
  },
  {
   "cell_type": "code",
   "execution_count": 16,
   "metadata": {
    "collapsed": false
   },
   "outputs": [
    {
     "data": {
      "text/plain": [
       "{u'barcode': None,\n",
       " u'compare_at_price': None,\n",
       " u'created_at': u'2017-03-01T07:32:44-08:00',\n",
       " u'fulfillment_service': u'manual',\n",
       " u'grams': 454,\n",
       " u'id': 35070376780,\n",
       " u'image_id': None,\n",
       " u'inventory_management': None,\n",
       " u'inventory_policy': u'deny',\n",
       " u'inventory_quantity': 1,\n",
       " u'old_inventory_quantity': 1,\n",
       " u'option1': u\"You're a Fox\",\n",
       " u'option2': None,\n",
       " u'option3': None,\n",
       " u'position': 1,\n",
       " u'price': u'65.00',\n",
       " u'product_id': 9809658508,\n",
       " u'requires_shipping': True,\n",
       " u'sku': u'',\n",
       " u'taxable': True,\n",
       " u'title': u\"You're a Fox\",\n",
       " u'updated_at': u'2017-03-01T07:32:44-08:00',\n",
       " u'weight': 1.0,\n",
       " u'weight_unit': u'lb'}"
      ]
     },
     "execution_count": 16,
     "metadata": {},
     "output_type": "execute_result"
    }
   ],
   "source": [
    "item['variants'][0]"
   ]
  },
  {
   "cell_type": "code",
   "execution_count": 17,
   "metadata": {
    "collapsed": false
   },
   "outputs": [
    {
     "data": {
      "text/plain": [
       "{u'barcode': None,\n",
       " u'compare_at_price': None,\n",
       " u'created_at': u'2017-03-01T07:32:44-08:00',\n",
       " u'fulfillment_service': u'manual',\n",
       " u'grams': 454,\n",
       " u'id': 35070378252,\n",
       " u'image_id': None,\n",
       " u'inventory_management': None,\n",
       " u'inventory_policy': u'deny',\n",
       " u'inventory_quantity': 1,\n",
       " u'old_inventory_quantity': 1,\n",
       " u'option1': u'Thinking Of You',\n",
       " u'option2': None,\n",
       " u'option3': None,\n",
       " u'position': 11,\n",
       " u'price': u'65.00',\n",
       " u'product_id': 9809658508,\n",
       " u'requires_shipping': True,\n",
       " u'sku': u'',\n",
       " u'taxable': True,\n",
       " u'title': u'Thinking Of You',\n",
       " u'updated_at': u'2017-03-01T07:32:44-08:00',\n",
       " u'weight': 1.0,\n",
       " u'weight_unit': u'lb'}"
      ]
     },
     "execution_count": 17,
     "metadata": {},
     "output_type": "execute_result"
    }
   ],
   "source": [
    "item['variants'][10]"
   ]
  },
  {
   "cell_type": "code",
   "execution_count": null,
   "metadata": {
    "collapsed": true
   },
   "outputs": [],
   "source": []
  }
 ],
 "metadata": {
  "anaconda-cloud": {},
  "kernelspec": {
   "display_name": "Python [conda root]",
   "language": "python",
   "name": "conda-root-py"
  },
  "language_info": {
   "codemirror_mode": {
    "name": "ipython",
    "version": 2
   },
   "file_extension": ".py",
   "mimetype": "text/x-python",
   "name": "python",
   "nbconvert_exporter": "python",
   "pygments_lexer": "ipython2",
   "version": "2.7.12"
  }
 },
 "nbformat": 4,
 "nbformat_minor": 1
}
